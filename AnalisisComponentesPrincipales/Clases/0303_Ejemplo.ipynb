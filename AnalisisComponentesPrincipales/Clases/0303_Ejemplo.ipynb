{
 "cells": [
  {
   "cell_type": "code",
   "execution_count": 17,
   "id": "7e77316c",
   "metadata": {
    "vscode": {
     "languageId": "r"
    }
   },
   "outputs": [
    {
     "name": "stderr",
     "output_type": "stream",
     "text": [
      "Warning message:\n",
      "\"package 'corrplot' was built under R version 4.4.3\"\n",
      "corrplot 0.95 loaded\n",
      "\n"
     ]
    }
   ],
   "source": [
    "library(factoextra)\n",
    "library(readxl)\n",
    "library(corrplot)"
   ]
  },
  {
   "cell_type": "markdown",
   "id": "7128669d",
   "metadata": {},
   "source": [
    "### Carga de Datos y Visualización"
   ]
  },
  {
   "cell_type": "code",
   "execution_count": 11,
   "id": "4d3c8bbb",
   "metadata": {
    "vscode": {
     "languageId": "r"
    }
   },
   "outputs": [
    {
     "name": "stderr",
     "output_type": "stream",
     "text": [
      "\u001b[1m\u001b[22mNew names:\n",
      "\u001b[36m•\u001b[39m `` -> `...1`\n"
     ]
    },
    {
     "data": {
      "text/html": [
       "<table class=\"dataframe\">\n",
       "<caption>A tibble: 6 × 8</caption>\n",
       "<thead>\n",
       "\t<tr><th scope=col>...1</th><th scope=col>100m</th><th scope=col>200m</th><th scope=col>400m</th><th scope=col>800m</th><th scope=col>1500m</th><th scope=col>3000m</th><th scope=col>Marathon</th></tr>\n",
       "\t<tr><th scope=col>&lt;chr&gt;</th><th scope=col>&lt;dbl&gt;</th><th scope=col>&lt;dbl&gt;</th><th scope=col>&lt;dbl&gt;</th><th scope=col>&lt;dbl&gt;</th><th scope=col>&lt;dbl&gt;</th><th scope=col>&lt;dbl&gt;</th><th scope=col>&lt;dbl&gt;</th></tr>\n",
       "</thead>\n",
       "<tbody>\n",
       "\t<tr><td>argentin</td><td>11.61</td><td>22.94</td><td>54.50</td><td>2.15</td><td>4.43</td><td>9.79</td><td>178.52</td></tr>\n",
       "\t<tr><td>australi</td><td>11.20</td><td>22.35</td><td>51.08</td><td>1.98</td><td>4.13</td><td>9.08</td><td>152.37</td></tr>\n",
       "\t<tr><td>austria </td><td>11.43</td><td>23.09</td><td>50.62</td><td>1.99</td><td>4.22</td><td>9.34</td><td>159.37</td></tr>\n",
       "\t<tr><td>belgium </td><td>11.41</td><td>23.04</td><td>52.00</td><td>2.00</td><td>4.14</td><td>8.88</td><td>157.85</td></tr>\n",
       "\t<tr><td>bermuda </td><td>11.46</td><td>23.05</td><td>53.30</td><td>2.16</td><td>4.58</td><td>9.81</td><td>169.98</td></tr>\n",
       "\t<tr><td>brazil  </td><td>11.31</td><td>23.17</td><td>52.80</td><td>2.10</td><td>4.49</td><td>9.77</td><td>168.75</td></tr>\n",
       "</tbody>\n",
       "</table>\n"
      ],
      "text/latex": [
       "A tibble: 6 × 8\n",
       "\\begin{tabular}{llllllll}\n",
       " ...1 & 100m & 200m & 400m & 800m & 1500m & 3000m & Marathon\\\\\n",
       " <chr> & <dbl> & <dbl> & <dbl> & <dbl> & <dbl> & <dbl> & <dbl>\\\\\n",
       "\\hline\n",
       "\t argentin & 11.61 & 22.94 & 54.50 & 2.15 & 4.43 & 9.79 & 178.52\\\\\n",
       "\t australi & 11.20 & 22.35 & 51.08 & 1.98 & 4.13 & 9.08 & 152.37\\\\\n",
       "\t austria  & 11.43 & 23.09 & 50.62 & 1.99 & 4.22 & 9.34 & 159.37\\\\\n",
       "\t belgium  & 11.41 & 23.04 & 52.00 & 2.00 & 4.14 & 8.88 & 157.85\\\\\n",
       "\t bermuda  & 11.46 & 23.05 & 53.30 & 2.16 & 4.58 & 9.81 & 169.98\\\\\n",
       "\t brazil   & 11.31 & 23.17 & 52.80 & 2.10 & 4.49 & 9.77 & 168.75\\\\\n",
       "\\end{tabular}\n"
      ],
      "text/markdown": [
       "\n",
       "A tibble: 6 × 8\n",
       "\n",
       "| ...1 &lt;chr&gt; | 100m &lt;dbl&gt; | 200m &lt;dbl&gt; | 400m &lt;dbl&gt; | 800m &lt;dbl&gt; | 1500m &lt;dbl&gt; | 3000m &lt;dbl&gt; | Marathon &lt;dbl&gt; |\n",
       "|---|---|---|---|---|---|---|---|\n",
       "| argentin | 11.61 | 22.94 | 54.50 | 2.15 | 4.43 | 9.79 | 178.52 |\n",
       "| australi | 11.20 | 22.35 | 51.08 | 1.98 | 4.13 | 9.08 | 152.37 |\n",
       "| austria  | 11.43 | 23.09 | 50.62 | 1.99 | 4.22 | 9.34 | 159.37 |\n",
       "| belgium  | 11.41 | 23.04 | 52.00 | 2.00 | 4.14 | 8.88 | 157.85 |\n",
       "| bermuda  | 11.46 | 23.05 | 53.30 | 2.16 | 4.58 | 9.81 | 169.98 |\n",
       "| brazil   | 11.31 | 23.17 | 52.80 | 2.10 | 4.49 | 9.77 | 168.75 |\n",
       "\n"
      ],
      "text/plain": [
       "  ...1     100m  200m  400m  800m 1500m 3000m Marathon\n",
       "1 argentin 11.61 22.94 54.50 2.15 4.43  9.79  178.52  \n",
       "2 australi 11.20 22.35 51.08 1.98 4.13  9.08  152.37  \n",
       "3 austria  11.43 23.09 50.62 1.99 4.22  9.34  159.37  \n",
       "4 belgium  11.41 23.04 52.00 2.00 4.14  8.88  157.85  \n",
       "5 bermuda  11.46 23.05 53.30 2.16 4.58  9.81  169.98  \n",
       "6 brazil   11.31 23.17 52.80 2.10 4.49  9.77  168.75  "
      ]
     },
     "metadata": {},
     "output_type": "display_data"
    }
   ],
   "source": [
    "records <- read_excel(\"../Datasets/NationalTrackRecords2.xlsx\")\n",
    "head(records)"
   ]
  },
  {
   "cell_type": "markdown",
   "id": "1970ba76",
   "metadata": {},
   "source": [
    "Se cuenta cuenta con diferentes escalas (segundos, minutos y metros), por lo que conviene estandarizar los datos"
   ]
  },
  {
   "cell_type": "code",
   "execution_count": 13,
   "id": "d237aaa4",
   "metadata": {
    "vscode": {
     "languageId": "r"
    }
   },
   "outputs": [],
   "source": [
    "dataset <- records[,2:8]"
   ]
  },
  {
   "cell_type": "code",
   "execution_count": 15,
   "id": "4592e4e3",
   "metadata": {
    "vscode": {
     "languageId": "r"
    }
   },
   "outputs": [
    {
     "data": {
      "text/html": [
       "<table class=\"dataframe\">\n",
       "<caption>A matrix: 7 × 7 of type dbl</caption>\n",
       "<thead>\n",
       "\t<tr><th></th><th scope=col>100m</th><th scope=col>200m</th><th scope=col>400m</th><th scope=col>800m</th><th scope=col>1500m</th><th scope=col>3000m</th><th scope=col>Marathon</th></tr>\n",
       "</thead>\n",
       "<tbody>\n",
       "\t<tr><th scope=row>100m</th><td>0.20449414</td><td> 0.47871354</td><td> 1.0109549</td><td>0.03561313</td><td>0.10949327</td><td> 0.27648539</td><td>  9.444360</td></tr>\n",
       "\t<tr><th scope=row>200m</th><td>0.47871354</td><td> 1.23445468</td><td> 2.5501422</td><td>0.08706347</td><td>0.25793721</td><td> 0.65016135</td><td> 23.178626</td></tr>\n",
       "\t<tr><th scope=row>400m</th><td>1.01095492</td><td> 2.55014215</td><td> 7.1734877</td><td>0.26041229</td><td>0.70145286</td><td> 1.71690475</td><td> 57.492462</td></tr>\n",
       "\t<tr><th scope=row>800m</th><td>0.03561313</td><td> 0.08706347</td><td> 0.2604123</td><td>0.01171246</td><td>0.03243687</td><td> 0.07704125</td><td>  2.566373</td></tr>\n",
       "\t<tr><th scope=row>1500m</th><td>0.10949327</td><td> 0.25793721</td><td> 0.7014529</td><td>0.03243687</td><td>0.11050673</td><td> 0.26558165</td><td>  8.880786</td></tr>\n",
       "\t<tr><th scope=row>3000m</th><td>0.27648539</td><td> 0.65016135</td><td> 1.7169047</td><td>0.07704125</td><td>0.26558165</td><td> 0.67952949</td><td> 22.571667</td></tr>\n",
       "\t<tr><th scope=row>Marathon</th><td>9.44436040</td><td>23.17862603</td><td>57.4924621</td><td>2.56637323</td><td>8.88078552</td><td>22.57166714</td><td>925.957204</td></tr>\n",
       "</tbody>\n",
       "</table>\n"
      ],
      "text/latex": [
       "A matrix: 7 × 7 of type dbl\n",
       "\\begin{tabular}{r|lllllll}\n",
       "  & 100m & 200m & 400m & 800m & 1500m & 3000m & Marathon\\\\\n",
       "\\hline\n",
       "\t100m & 0.20449414 &  0.47871354 &  1.0109549 & 0.03561313 & 0.10949327 &  0.27648539 &   9.444360\\\\\n",
       "\t200m & 0.47871354 &  1.23445468 &  2.5501422 & 0.08706347 & 0.25793721 &  0.65016135 &  23.178626\\\\\n",
       "\t400m & 1.01095492 &  2.55014215 &  7.1734877 & 0.26041229 & 0.70145286 &  1.71690475 &  57.492462\\\\\n",
       "\t800m & 0.03561313 &  0.08706347 &  0.2604123 & 0.01171246 & 0.03243687 &  0.07704125 &   2.566373\\\\\n",
       "\t1500m & 0.10949327 &  0.25793721 &  0.7014529 & 0.03243687 & 0.11050673 &  0.26558165 &   8.880786\\\\\n",
       "\t3000m & 0.27648539 &  0.65016135 &  1.7169047 & 0.07704125 & 0.26558165 &  0.67952949 &  22.571667\\\\\n",
       "\tMarathon & 9.44436040 & 23.17862603 & 57.4924621 & 2.56637323 & 8.88078552 & 22.57166714 & 925.957204\\\\\n",
       "\\end{tabular}\n"
      ],
      "text/markdown": [
       "\n",
       "A matrix: 7 × 7 of type dbl\n",
       "\n",
       "| <!--/--> | 100m | 200m | 400m | 800m | 1500m | 3000m | Marathon |\n",
       "|---|---|---|---|---|---|---|---|\n",
       "| 100m | 0.20449414 |  0.47871354 |  1.0109549 | 0.03561313 | 0.10949327 |  0.27648539 |   9.444360 |\n",
       "| 200m | 0.47871354 |  1.23445468 |  2.5501422 | 0.08706347 | 0.25793721 |  0.65016135 |  23.178626 |\n",
       "| 400m | 1.01095492 |  2.55014215 |  7.1734877 | 0.26041229 | 0.70145286 |  1.71690475 |  57.492462 |\n",
       "| 800m | 0.03561313 |  0.08706347 |  0.2604123 | 0.01171246 | 0.03243687 |  0.07704125 |   2.566373 |\n",
       "| 1500m | 0.10949327 |  0.25793721 |  0.7014529 | 0.03243687 | 0.11050673 |  0.26558165 |   8.880786 |\n",
       "| 3000m | 0.27648539 |  0.65016135 |  1.7169047 | 0.07704125 | 0.26558165 |  0.67952949 |  22.571667 |\n",
       "| Marathon | 9.44436040 | 23.17862603 | 57.4924621 | 2.56637323 | 8.88078552 | 22.57166714 | 925.957204 |\n",
       "\n"
      ],
      "text/plain": [
       "         100m       200m        400m       800m       1500m      3000m      \n",
       "100m     0.20449414  0.47871354  1.0109549 0.03561313 0.10949327  0.27648539\n",
       "200m     0.47871354  1.23445468  2.5501422 0.08706347 0.25793721  0.65016135\n",
       "400m     1.01095492  2.55014215  7.1734877 0.26041229 0.70145286  1.71690475\n",
       "800m     0.03561313  0.08706347  0.2604123 0.01171246 0.03243687  0.07704125\n",
       "1500m    0.10949327  0.25793721  0.7014529 0.03243687 0.11050673  0.26558165\n",
       "3000m    0.27648539  0.65016135  1.7169047 0.07704125 0.26558165  0.67952949\n",
       "Marathon 9.44436040 23.17862603 57.4924621 2.56637323 8.88078552 22.57166714\n",
       "         Marathon  \n",
       "100m       9.444360\n",
       "200m      23.178626\n",
       "400m      57.492462\n",
       "800m       2.566373\n",
       "1500m      8.880786\n",
       "3000m     22.571667\n",
       "Marathon 925.957204"
      ]
     },
     "metadata": {},
     "output_type": "display_data"
    }
   ],
   "source": [
    "var(dataset)"
   ]
  },
  {
   "cell_type": "code",
   "execution_count": 16,
   "id": "7066c7d1",
   "metadata": {
    "vscode": {
     "languageId": "r"
    }
   },
   "outputs": [
    {
     "data": {
      "text/html": [
       "<table class=\"dataframe\">\n",
       "<caption>A matrix: 7 × 7 of type dbl</caption>\n",
       "<thead>\n",
       "\t<tr><th></th><th scope=col>100m</th><th scope=col>200m</th><th scope=col>400m</th><th scope=col>800m</th><th scope=col>1500m</th><th scope=col>3000m</th><th scope=col>Marathon</th></tr>\n",
       "</thead>\n",
       "<tbody>\n",
       "\t<tr><th scope=row>100m</th><td>1.0000000</td><td>0.9527911</td><td>0.8346918</td><td>0.7276888</td><td>0.7283709</td><td>0.7416988</td><td>0.6863358</td></tr>\n",
       "\t<tr><th scope=row>200m</th><td>0.9527911</td><td>1.0000000</td><td>0.8569621</td><td>0.7240597</td><td>0.6983643</td><td>0.7098710</td><td>0.6855745</td></tr>\n",
       "\t<tr><th scope=row>400m</th><td>0.8346918</td><td>0.8569621</td><td>1.0000000</td><td>0.8984052</td><td>0.7878417</td><td>0.7776369</td><td>0.7054241</td></tr>\n",
       "\t<tr><th scope=row>800m</th><td>0.7276888</td><td>0.7240597</td><td>0.8984052</td><td>1.0000000</td><td>0.9016138</td><td>0.8635652</td><td>0.7792922</td></tr>\n",
       "\t<tr><th scope=row>1500m</th><td>0.7283709</td><td>0.6983643</td><td>0.7878417</td><td>0.9016138</td><td>1.0000000</td><td>0.9691690</td><td>0.8779334</td></tr>\n",
       "\t<tr><th scope=row>3000m</th><td>0.7416988</td><td>0.7098710</td><td>0.7776369</td><td>0.8635652</td><td>0.9691690</td><td>1.0000000</td><td>0.8998374</td></tr>\n",
       "\t<tr><th scope=row>Marathon</th><td>0.6863358</td><td>0.6855745</td><td>0.7054241</td><td>0.7792922</td><td>0.8779334</td><td>0.8998374</td><td>1.0000000</td></tr>\n",
       "</tbody>\n",
       "</table>\n"
      ],
      "text/latex": [
       "A matrix: 7 × 7 of type dbl\n",
       "\\begin{tabular}{r|lllllll}\n",
       "  & 100m & 200m & 400m & 800m & 1500m & 3000m & Marathon\\\\\n",
       "\\hline\n",
       "\t100m & 1.0000000 & 0.9527911 & 0.8346918 & 0.7276888 & 0.7283709 & 0.7416988 & 0.6863358\\\\\n",
       "\t200m & 0.9527911 & 1.0000000 & 0.8569621 & 0.7240597 & 0.6983643 & 0.7098710 & 0.6855745\\\\\n",
       "\t400m & 0.8346918 & 0.8569621 & 1.0000000 & 0.8984052 & 0.7878417 & 0.7776369 & 0.7054241\\\\\n",
       "\t800m & 0.7276888 & 0.7240597 & 0.8984052 & 1.0000000 & 0.9016138 & 0.8635652 & 0.7792922\\\\\n",
       "\t1500m & 0.7283709 & 0.6983643 & 0.7878417 & 0.9016138 & 1.0000000 & 0.9691690 & 0.8779334\\\\\n",
       "\t3000m & 0.7416988 & 0.7098710 & 0.7776369 & 0.8635652 & 0.9691690 & 1.0000000 & 0.8998374\\\\\n",
       "\tMarathon & 0.6863358 & 0.6855745 & 0.7054241 & 0.7792922 & 0.8779334 & 0.8998374 & 1.0000000\\\\\n",
       "\\end{tabular}\n"
      ],
      "text/markdown": [
       "\n",
       "A matrix: 7 × 7 of type dbl\n",
       "\n",
       "| <!--/--> | 100m | 200m | 400m | 800m | 1500m | 3000m | Marathon |\n",
       "|---|---|---|---|---|---|---|---|\n",
       "| 100m | 1.0000000 | 0.9527911 | 0.8346918 | 0.7276888 | 0.7283709 | 0.7416988 | 0.6863358 |\n",
       "| 200m | 0.9527911 | 1.0000000 | 0.8569621 | 0.7240597 | 0.6983643 | 0.7098710 | 0.6855745 |\n",
       "| 400m | 0.8346918 | 0.8569621 | 1.0000000 | 0.8984052 | 0.7878417 | 0.7776369 | 0.7054241 |\n",
       "| 800m | 0.7276888 | 0.7240597 | 0.8984052 | 1.0000000 | 0.9016138 | 0.8635652 | 0.7792922 |\n",
       "| 1500m | 0.7283709 | 0.6983643 | 0.7878417 | 0.9016138 | 1.0000000 | 0.9691690 | 0.8779334 |\n",
       "| 3000m | 0.7416988 | 0.7098710 | 0.7776369 | 0.8635652 | 0.9691690 | 1.0000000 | 0.8998374 |\n",
       "| Marathon | 0.6863358 | 0.6855745 | 0.7054241 | 0.7792922 | 0.8779334 | 0.8998374 | 1.0000000 |\n",
       "\n"
      ],
      "text/plain": [
       "         100m      200m      400m      800m      1500m     3000m     Marathon \n",
       "100m     1.0000000 0.9527911 0.8346918 0.7276888 0.7283709 0.7416988 0.6863358\n",
       "200m     0.9527911 1.0000000 0.8569621 0.7240597 0.6983643 0.7098710 0.6855745\n",
       "400m     0.8346918 0.8569621 1.0000000 0.8984052 0.7878417 0.7776369 0.7054241\n",
       "800m     0.7276888 0.7240597 0.8984052 1.0000000 0.9016138 0.8635652 0.7792922\n",
       "1500m    0.7283709 0.6983643 0.7878417 0.9016138 1.0000000 0.9691690 0.8779334\n",
       "3000m    0.7416988 0.7098710 0.7776369 0.8635652 0.9691690 1.0000000 0.8998374\n",
       "Marathon 0.6863358 0.6855745 0.7054241 0.7792922 0.8779334 0.8998374 1.0000000"
      ]
     },
     "metadata": {},
     "output_type": "display_data"
    }
   ],
   "source": [
    "cor(dataset)"
   ]
  },
  {
   "cell_type": "code",
   "execution_count": null,
   "id": "5d7ca4b9",
   "metadata": {
    "vscode": {
     "languageId": "r"
    }
   },
   "outputs": [
    {
     "data": {
      "image/png": "[encoded data removed]",
      "text/plain": [
       "Plot with title \"\""
      ]
     },
     "metadata": {
      "image/png": {
       "height": 420,
       "width": 420
      }
     },
     "output_type": "display_data"
    }
   ],
   "source": [
    "cor.mat <- cor(\n",
    "    dataset,\n",
    "    use=\"complete.obs\",\n",
    ")\n",
    "corrplot(cor.mat)"
   ]
  },
  {
   "cell_type": "markdown",
   "id": "acd61ad1",
   "metadata": {},
   "source": [
    "### PCA Función"
   ]
  },
  {
   "cell_type": "code",
   "execution_count": 22,
   "id": "51c2537e",
   "metadata": {
    "vscode": {
     "languageId": "r"
    }
   },
   "outputs": [
    {
     "data": {
      "text/plain": [
       "Importance of components:\n",
       "                          Comp.1     Comp.2     Comp.3     Comp.4      Comp.5\n",
       "Standard deviation     2.4094991 0.80848347 0.54761522 0.35422802 0.231984732\n",
       "Proportion of Variance 0.8293837 0.09337793 0.04284035 0.01792536 0.007688131\n",
       "Cumulative Proportion  0.8293837 0.92276161 0.96560196 0.98352731 0.991215445\n",
       "                            Comp.6      Comp.7\n",
       "Standard deviation     0.197608919 0.149808546\n",
       "Proportion of Variance 0.005578469 0.003206086\n",
       "Cumulative Proportion  0.996793914 1.000000000"
      ]
     },
     "metadata": {},
     "output_type": "display_data"
    }
   ],
   "source": [
    "PCA_corr <- princomp(\n",
    "    dataset,\n",
    "    cor = TRUE,\n",
    ")\n",
    "summary(PCA_corr)"
   ]
  },
  {
   "cell_type": "code",
   "execution_count": 23,
   "id": "05819dae",
   "metadata": {
    "vscode": {
     "languageId": "r"
    }
   },
   "outputs": [
    {
     "data": {
      "text/plain": [
       "\n",
       "Loadings:\n",
       "         Comp.1 Comp.2 Comp.3 Comp.4 Comp.5 Comp.6 Comp.7\n",
       "100m      0.368  0.490  0.286  0.319  0.231  0.620       \n",
       "200m      0.365  0.537  0.230               -0.711 -0.109\n",
       "400m      0.382  0.247 -0.515 -0.347 -0.572  0.191  0.208\n",
       "800m      0.385 -0.155 -0.585         0.620        -0.315\n",
       "1500m     0.389 -0.360         0.430        -0.231  0.693\n",
       "3000m     0.389 -0.348  0.153  0.363 -0.463        -0.598\n",
       "Marathon  0.367 -0.369  0.484 -0.672  0.131  0.142       \n",
       "\n",
       "               Comp.1 Comp.2 Comp.3 Comp.4 Comp.5 Comp.6 Comp.7\n",
       "SS loadings     1.000  1.000  1.000  1.000  1.000  1.000  1.000\n",
       "Proportion Var  0.143  0.143  0.143  0.143  0.143  0.143  0.143\n",
       "Cumulative Var  0.143  0.286  0.429  0.571  0.714  0.857  1.000"
      ]
     },
     "metadata": {},
     "output_type": "display_data"
    }
   ],
   "source": [
    "PCA_corr$loadings"
   ]
  },
  {
   "cell_type": "code",
   "execution_count": 27,
   "id": "d22d5ce3",
   "metadata": {
    "vscode": {
     "languageId": "r"
    }
   },
   "outputs": [
    {
     "data": {
      "text/plain": [
       "eigen() decomposition\n",
       "$values\n",
       "[1] 5.80568576 0.65364552 0.29988243 0.12547749 0.05381692 0.03904928 0.02244260\n",
       "\n",
       "$vectors\n",
       "           [,1]       [,2]        [,3]        [,4]        [,5]         [,6]\n",
       "[1,] -0.3683561  0.4900597  0.28601157 -0.31938631 -0.23116950 -0.619825234\n",
       "[2,] -0.3653642  0.5365800  0.22981913  0.08330196 -0.04145457  0.710764580\n",
       "[3,] -0.3816103  0.2465377 -0.51536655  0.34737748  0.57217791 -0.190945970\n",
       "[4,] -0.3845592 -0.1554023 -0.58452608  0.04207636 -0.62032379  0.019089032\n",
       "[5,] -0.3891040 -0.3604093 -0.01291198 -0.42953873 -0.03026144  0.231248381\n",
       "[6,] -0.3888661 -0.3475394  0.15272772 -0.36311995  0.46335476 -0.009277159\n",
       "[7,] -0.3670038 -0.3692076  0.48437037  0.67249685 -0.13053590 -0.142280558\n",
       "            [,7]\n",
       "[1,]  0.05217655\n",
       "[2,] -0.10922503\n",
       "[3,]  0.20849691\n",
       "[4,] -0.31520972\n",
       "[5,]  0.69256151\n",
       "[6,] -0.59835943\n",
       "[7,]  0.06959828\n"
      ]
     },
     "metadata": {},
     "output_type": "display_data"
    }
   ],
   "source": [
    "eigen(cor.mat)"
   ]
  },
  {
   "cell_type": "code",
   "execution_count": 33,
   "id": "5073cba1",
   "metadata": {
    "vscode": {
     "languageId": "r"
    }
   },
   "outputs": [
    {
     "data": {
      "text/html": [
       "<style>\n",
       ".dl-inline {width: auto; margin:0; padding: 0}\n",
       ".dl-inline>dt, .dl-inline>dd {float: none; width: auto; display: inline-block}\n",
       ".dl-inline>dt::after {content: \":\\0020\"; padding-right: .5ex}\n",
       ".dl-inline>dt:not(:first-of-type) {padding-left: .5ex}\n",
       "</style><dl class=dl-inline><dt>Comp.1</dt><dd>0.829383679567245</dd><dt>Comp.2</dt><dd>0.0933779311349663</dd><dt>Comp.3</dt><dd>0.0428403474892398</dd><dt>Comp.4</dt><dd>0.0179253559061332</dd><dt>Comp.5</dt><dd>0.00768813084105793</dd><dt>Comp.6</dt><dd>0.00557846927756154</dd><dt>Comp.7</dt><dd>0.00320608578379617</dd></dl>\n"
      ],
      "text/latex": [
       "\\begin{description*}\n",
       "\\item[Comp.1] 0.829383679567245\n",
       "\\item[Comp.2] 0.0933779311349663\n",
       "\\item[Comp.3] 0.0428403474892398\n",
       "\\item[Comp.4] 0.0179253559061332\n",
       "\\item[Comp.5] 0.00768813084105793\n",
       "\\item[Comp.6] 0.00557846927756154\n",
       "\\item[Comp.7] 0.00320608578379617\n",
       "\\end{description*}\n"
      ],
      "text/markdown": [
       "Comp.1\n",
       ":   0.829383679567245Comp.2\n",
       ":   0.0933779311349663Comp.3\n",
       ":   0.0428403474892398Comp.4\n",
       ":   0.0179253559061332Comp.5\n",
       ":   0.00768813084105793Comp.6\n",
       ":   0.00557846927756154Comp.7\n",
       ":   0.00320608578379617\n",
       "\n"
      ],
      "text/plain": [
       "     Comp.1      Comp.2      Comp.3      Comp.4      Comp.5      Comp.6 \n",
       "0.829383680 0.093377931 0.042840347 0.017925356 0.007688131 0.005578469 \n",
       "     Comp.7 \n",
       "0.003206086 "
      ]
     },
     "metadata": {},
     "output_type": "display_data"
    }
   ],
   "source": [
    "(PCA_corr$sdev)^2 / sum((PCA_corr$sdev)^2)"
   ]
  }
 ],
 "metadata": {
  "kernelspec": {
   "display_name": "R",
   "language": "R",
   "name": "ir"
  },
  "language_info": {
   "codemirror_mode": "r",
   "file_extension": ".r",
   "mimetype": "text/x-r-source",
   "name": "R",
   "pygments_lexer": "r",
   "version": "4.4.2"
  }
 },
 "nbformat": 4,
 "nbformat_minor": 5
}

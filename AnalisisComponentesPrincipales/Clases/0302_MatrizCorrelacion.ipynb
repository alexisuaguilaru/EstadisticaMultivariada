{
 "cells": [
  {
   "cell_type": "markdown",
   "id": "66706556",
   "metadata": {
    "vscode": {
     "languageId": "r"
    }
   },
   "source": [
    "### Comparativa entre PCA por Matriz de Covarianza y Correlación"
   ]
  },
  {
   "cell_type": "code",
   "execution_count": 3,
   "id": "d551152a",
   "metadata": {
    "vscode": {
     "languageId": "r"
    }
   },
   "outputs": [],
   "source": [
    "Sigma <- matrix(c(1, 4,\n",
    "                  4, 100), nrow = 2, byrow = TRUE)"
   ]
  },
  {
   "cell_type": "code",
   "execution_count": 4,
   "id": "b20f97f4",
   "metadata": {
    "vscode": {
     "languageId": "r"
    }
   },
   "outputs": [
    {
     "data": {
      "text/html": [
       "<table class=\"dataframe\">\n",
       "<caption>A matrix: 2 × 2 of type dbl</caption>\n",
       "<tbody>\n",
       "\t<tr><td>1.0</td><td>0.4</td></tr>\n",
       "\t<tr><td>0.4</td><td>1.0</td></tr>\n",
       "</tbody>\n",
       "</table>\n"
      ],
      "text/latex": [
       "A matrix: 2 × 2 of type dbl\n",
       "\\begin{tabular}{ll}\n",
       "\t 1.0 & 0.4\\\\\n",
       "\t 0.4 & 1.0\\\\\n",
       "\\end{tabular}\n"
      ],
      "text/markdown": [
       "\n",
       "A matrix: 2 × 2 of type dbl\n",
       "\n",
       "| 1.0 | 0.4 |\n",
       "| 0.4 | 1.0 |\n",
       "\n"
      ],
      "text/plain": [
       "     [,1] [,2]\n",
       "[1,] 1.0  0.4 \n",
       "[2,] 0.4  1.0 "
      ]
     },
     "metadata": {},
     "output_type": "display_data"
    }
   ],
   "source": [
    "sd_vec <- sqrt(diag(Sigma))\n",
    "R_mat <- diag(1/ sd_vec) %*% Sigma %*% diag(1/ sd_vec)\n",
    "round(R_mat, 6)"
   ]
  },
  {
   "cell_type": "code",
   "execution_count": 5,
   "id": "5c2aa28a",
   "metadata": {
    "vscode": {
     "languageId": "r"
    }
   },
   "outputs": [
    {
     "data": {
      "text/plain": [
       "eigen() decomposition\n",
       "$values\n",
       "[1] 100.1613532   0.8386468\n",
       "\n",
       "$vectors\n",
       "           [,1]        [,2]\n",
       "[1,] 0.04030552 -0.99918740\n",
       "[2,] 0.99918740  0.04030552\n"
      ]
     },
     "metadata": {},
     "output_type": "display_data"
    }
   ],
   "source": [
    "eig_sigma <- eigen(Sigma)\n",
    "eig_sigma"
   ]
  },
  {
   "cell_type": "code",
   "execution_count": 6,
   "id": "c7d092bf",
   "metadata": {
    "vscode": {
     "languageId": "r"
    }
   },
   "outputs": [
    {
     "data": {
      "text/plain": [
       "eigen() decomposition\n",
       "$values\n",
       "[1] 1.4 0.6\n",
       "\n",
       "$vectors\n",
       "          [,1]       [,2]\n",
       "[1,] 0.7071068 -0.7071068\n",
       "[2,] 0.7071068  0.7071068\n"
      ]
     },
     "metadata": {},
     "output_type": "display_data"
    }
   ],
   "source": [
    "eig_corr <- eigen(R_mat)\n",
    "eig_corr"
   ]
  },
  {
   "cell_type": "markdown",
   "id": "f532f337",
   "metadata": {
    "vscode": {
     "languageId": "r"
    }
   },
   "source": [
    "Las componentes principales de la matriz de correlación son:\n",
    "* $y_1 = 0.7071*z_1 + 0.7071*z_2$\n",
    "* $y_2 = -0.7071*z_1 + 0.7071*z_2$\n",
    "\n",
    "Mientras que los componentes principales de la matriz de covarianza son:\n",
    "* $y_1 = 0.0403*x_1 + 0.9991*x_2$\n",
    "* $y_1 = - 0.9991*x_1 + 0.0403*x_2$\n",
    "\n",
    "Notando que $z_i$ son las variables estandarizadas y $x_i$ las variables originales "
   ]
  },
  {
   "cell_type": "markdown",
   "id": "d7fcdea4",
   "metadata": {
    "vscode": {
     "languageId": "r"
    }
   },
   "source": [
    "### Comparativa en las Varianzas Explicadas"
   ]
  },
  {
   "cell_type": "code",
   "execution_count": null,
   "id": "d5234b32",
   "metadata": {
    "vscode": {
     "languageId": "r"
    }
   },
   "outputs": [
    {
     "data": {
      "text/html": [
       "<style>\n",
       ".list-inline {list-style: none; margin:0; padding: 0}\n",
       ".list-inline>li {display: inline-block}\n",
       ".list-inline>li:not(:last-child)::after {content: \"\\00b7\"; padding: 0 .5ex}\n",
       "</style>\n",
       "<ol class=list-inline><li>0.99169656617164</li><li>0.00830343382836009</li></ol>\n"
      ],
      "text/latex": [
       "\\begin{enumerate*}\n",
       "\\item 0.99169656617164\n",
       "\\item 0.00830343382836009\n",
       "\\end{enumerate*}\n"
      ],
      "text/markdown": [
       "1. 0.99169656617164\n",
       "2. 0.00830343382836009\n",
       "\n",
       "\n"
      ],
      "text/plain": [
       "[1] 0.991696566 0.008303434"
      ]
     },
     "metadata": {},
     "output_type": "display_data"
    }
   ],
   "source": [
    "# Varianza explicada por Matriz de Covarianza\n",
    "eig_sigma$values / sum(eig_sigma$values)"
   ]
  },
  {
   "cell_type": "code",
   "execution_count": 8,
   "id": "04624459",
   "metadata": {
    "vscode": {
     "languageId": "r"
    }
   },
   "outputs": [
    {
     "data": {
      "text/html": [
       "<style>\n",
       ".list-inline {list-style: none; margin:0; padding: 0}\n",
       ".list-inline>li {display: inline-block}\n",
       ".list-inline>li:not(:last-child)::after {content: \"\\00b7\"; padding: 0 .5ex}\n",
       "</style>\n",
       "<ol class=list-inline><li>0.7</li><li>0.3</li></ol>\n"
      ],
      "text/latex": [
       "\\begin{enumerate*}\n",
       "\\item 0.7\n",
       "\\item 0.3\n",
       "\\end{enumerate*}\n"
      ],
      "text/markdown": [
       "1. 0.7\n",
       "2. 0.3\n",
       "\n",
       "\n"
      ],
      "text/plain": [
       "[1] 0.7 0.3"
      ]
     },
     "metadata": {},
     "output_type": "display_data"
    }
   ],
   "source": [
    "# Varianza explicada por Matriz de Correlación\n",
    "eig_corr$values / sum(eig_corr$values)"
   ]
  },
  {
   "cell_type": "markdown",
   "id": "62b5b223",
   "metadata": {},
   "source": [
    "Usando la matriz de covarianza se tiene que solo se requiere de un componente para explicar los datos. Mientras que de la de correlación se requiere de ambos componentes para interpretar y explicar los datos"
   ]
  },
  {
   "cell_type": "markdown",
   "id": "b02d5c36",
   "metadata": {},
   "source": [
    "### Correlaciones entre Componentes y Variables"
   ]
  },
  {
   "cell_type": "code",
   "execution_count": 14,
   "id": "54143116",
   "metadata": {
    "vscode": {
     "languageId": "r"
    }
   },
   "outputs": [
    {
     "data": {
      "text/html": [
       "<table class=\"dataframe\">\n",
       "<caption>A matrix: 2 × 2 of type dbl</caption>\n",
       "<thead>\n",
       "\t<tr><th></th><th scope=col>X1</th><th scope=col>X2</th></tr>\n",
       "</thead>\n",
       "<tbody>\n",
       "\t<tr><th scope=row>Y1</th><td> 0.4033802</td><td>0.999993188</td></tr>\n",
       "\t<tr><th scope=row>Y2</th><td>-0.9150325</td><td>0.003691085</td></tr>\n",
       "</tbody>\n",
       "</table>\n"
      ],
      "text/latex": [
       "A matrix: 2 × 2 of type dbl\n",
       "\\begin{tabular}{r|ll}\n",
       "  & X1 & X2\\\\\n",
       "\\hline\n",
       "\tY1 &  0.4033802 & 0.999993188\\\\\n",
       "\tY2 & -0.9150325 & 0.003691085\\\\\n",
       "\\end{tabular}\n"
      ],
      "text/markdown": [
       "\n",
       "A matrix: 2 × 2 of type dbl\n",
       "\n",
       "| <!--/--> | X1 | X2 |\n",
       "|---|---|---|\n",
       "| Y1 |  0.4033802 | 0.999993188 |\n",
       "| Y2 | -0.9150325 | 0.003691085 |\n",
       "\n"
      ],
      "text/plain": [
       "   X1         X2         \n",
       "Y1  0.4033802 0.999993188\n",
       "Y2 -0.9150325 0.003691085"
      ]
     },
     "metadata": {},
     "output_type": "display_data"
    }
   ],
   "source": [
    "# Correlaciones en Matriz de Covarianza y_i , x_k\n",
    "\n",
    "rho_YX <- matrix(NA,2,2,\n",
    "dimnames = list(paste0(\"Y\",1:2),paste0(\"X\",1:2)))\n",
    "\n",
    "for (i in 1:2) \n",
    "{\n",
    "    for (j in 1:2)\n",
    "    {\n",
    "        rho_YX[i,j] <- eig_sigma$vectors[j,i] * sqrt(eig_sigma$values[i]/Sigma[j,j])\n",
    "    }\n",
    "}\n",
    "\n",
    "rho_YX"
   ]
  },
  {
   "cell_type": "code",
   "execution_count": 17,
   "id": "94edb0ce",
   "metadata": {
    "vscode": {
     "languageId": "r"
    }
   },
   "outputs": [
    {
     "data": {
      "text/html": [
       "<table class=\"dataframe\">\n",
       "<caption>A matrix: 2 × 2 of type dbl</caption>\n",
       "<thead>\n",
       "\t<tr><th></th><th scope=col>Z1</th><th scope=col>Z2</th></tr>\n",
       "</thead>\n",
       "<tbody>\n",
       "\t<tr><th scope=row>Y1</th><td> 0.8366600</td><td>0.8366600</td></tr>\n",
       "\t<tr><th scope=row>Y2</th><td>-0.5477226</td><td>0.5477226</td></tr>\n",
       "</tbody>\n",
       "</table>\n"
      ],
      "text/latex": [
       "A matrix: 2 × 2 of type dbl\n",
       "\\begin{tabular}{r|ll}\n",
       "  & Z1 & Z2\\\\\n",
       "\\hline\n",
       "\tY1 &  0.8366600 & 0.8366600\\\\\n",
       "\tY2 & -0.5477226 & 0.5477226\\\\\n",
       "\\end{tabular}\n"
      ],
      "text/markdown": [
       "\n",
       "A matrix: 2 × 2 of type dbl\n",
       "\n",
       "| <!--/--> | Z1 | Z2 |\n",
       "|---|---|---|\n",
       "| Y1 |  0.8366600 | 0.8366600 |\n",
       "| Y2 | -0.5477226 | 0.5477226 |\n",
       "\n"
      ],
      "text/plain": [
       "   Z1         Z2       \n",
       "Y1  0.8366600 0.8366600\n",
       "Y2 -0.5477226 0.5477226"
      ]
     },
     "metadata": {},
     "output_type": "display_data"
    }
   ],
   "source": [
    "# Correlaciones en Matriz de Correlación y_i , z_k\n",
    "\n",
    "rho_YZ <- matrix(NA,2,2,\n",
    "dimnames = list(paste0(\"Y\",1:2),paste0(\"Z\",1:2)))\n",
    "\n",
    "for (i in 1:2) \n",
    "{\n",
    "    for (j in 1:2)\n",
    "    {\n",
    "        rho_YZ[i,j] <- eig_corr$vectors[j,i] * sqrt(eig_corr$values[i])\n",
    "    }\n",
    "}\n",
    "\n",
    "rho_YZ"
   ]
  },
  {
   "cell_type": "code",
   "execution_count": 21,
   "id": "d80813d8",
   "metadata": {
    "vscode": {
     "languageId": "r"
    }
   },
   "outputs": [
    {
     "data": {
      "text/html": [
       "<table class=\"dataframe\">\n",
       "<caption>A matrix: 2 × 2 of type dbl</caption>\n",
       "<tbody>\n",
       "\t<tr><td>1.4</td><td>0.0</td></tr>\n",
       "\t<tr><td>0.0</td><td>0.6</td></tr>\n",
       "</tbody>\n",
       "</table>\n"
      ],
      "text/latex": [
       "A matrix: 2 × 2 of type dbl\n",
       "\\begin{tabular}{ll}\n",
       "\t 1.4 & 0.0\\\\\n",
       "\t 0.0 & 0.6\\\\\n",
       "\\end{tabular}\n"
      ],
      "text/markdown": [
       "\n",
       "A matrix: 2 × 2 of type dbl\n",
       "\n",
       "| 1.4 | 0.0 |\n",
       "| 0.0 | 0.6 |\n",
       "\n"
      ],
      "text/plain": [
       "     [,1] [,2]\n",
       "[1,] 1.4  0.0 \n",
       "[2,] 0.0  0.6 "
      ]
     },
     "metadata": {},
     "output_type": "display_data"
    }
   ],
   "source": [
    "round(t(eig_corr$vectors) %*% R_mat %*% eig_corr$vectors,2)"
   ]
  },
  {
   "cell_type": "code",
   "execution_count": 22,
   "id": "b6d27567",
   "metadata": {
    "vscode": {
     "languageId": "r"
    }
   },
   "outputs": [
    {
     "data": {
      "text/html": [
       "<style>\n",
       ".list-inline {list-style: none; margin:0; padding: 0}\n",
       ".list-inline>li {display: inline-block}\n",
       ".list-inline>li:not(:last-child)::after {content: \"\\00b7\"; padding: 0 .5ex}\n",
       "</style>\n",
       "<ol class=list-inline><li>1.4</li><li>0.6</li></ol>\n"
      ],
      "text/latex": [
       "\\begin{enumerate*}\n",
       "\\item 1.4\n",
       "\\item 0.6\n",
       "\\end{enumerate*}\n"
      ],
      "text/markdown": [
       "1. 1.4\n",
       "2. 0.6\n",
       "\n",
       "\n"
      ],
      "text/plain": [
       "[1] 1.4 0.6"
      ]
     },
     "metadata": {},
     "output_type": "display_data"
    }
   ],
   "source": [
    "eig_corr$values"
   ]
  }
 ],
 "metadata": {
  "kernelspec": {
   "display_name": "R",
   "language": "R",
   "name": "ir"
  },
  "language_info": {
   "codemirror_mode": "r",
   "file_extension": ".r",
   "mimetype": "text/x-r-source",
   "name": "R",
   "pygments_lexer": "r",
   "version": "4.4.2"
  }
 },
 "nbformat": 4,
 "nbformat_minor": 5
}

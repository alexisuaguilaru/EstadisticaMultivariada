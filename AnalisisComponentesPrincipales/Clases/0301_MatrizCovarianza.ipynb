{
 "cells": [
  {
   "cell_type": "markdown",
   "id": "be9397c4",
   "metadata": {},
   "source": [
    "### Modelo PCA desde una Matriz de Covarianza"
   ]
  },
  {
   "cell_type": "code",
   "execution_count": null,
   "id": "2d48cdc9",
   "metadata": {
    "vscode": {
     "languageId": "r"
    }
   },
   "outputs": [],
   "source": [
    "Sigma <- matrix(c(1, -2, 0,\n",
    "                  -2, 5, 0,\n",
    "                  0,  0, 2),\n",
    "                nrow = 3, byrow = TRUE)"
   ]
  },
  {
   "cell_type": "markdown",
   "id": "f59766c4",
   "metadata": {},
   "source": [
    "¿A qué elementos de Sigma están asociadas las CP?\n",
    "\n",
    "    A los vectores y valores propios de la matriz"
   ]
  },
  {
   "cell_type": "code",
   "execution_count": 14,
   "id": "4dfd16d4",
   "metadata": {
    "vscode": {
     "languageId": "r"
    }
   },
   "outputs": [],
   "source": [
    "eig <- eigen(Sigma)\n",
    "# Autovectores ordenados en base a los autovalores \n",
    "lambda <- eig$values\n",
    "p_vectors <- eig$vectors"
   ]
  },
  {
   "cell_type": "markdown",
   "id": "5875224d",
   "metadata": {},
   "source": [
    "Por las propiedades de la descomposición en valores propios se tiene que\n",
    "\n",
    "$ P^T \\Sigma P = \\Lambda$ \n",
    "\n",
    "Siendo esto una transformación de semejanza"
   ]
  },
  {
   "cell_type": "code",
   "execution_count": 15,
   "id": "4c9b17df",
   "metadata": {
    "vscode": {
     "languageId": "r"
    }
   },
   "outputs": [
    {
     "name": "stdout",
     "output_type": "stream",
     "text": [
      "      [,1] [,2]  [,3]\n",
      "[1,] 5.828    0 0.000\n",
      "[2,] 0.000    2 0.000\n",
      "[3,] 0.000    0 0.172\n"
     ]
    }
   ],
   "source": [
    "DiagLambda <- t(p_vectors) %*% Sigma %*% p_vectors\n",
    "print(round(DiagLambda,3))"
   ]
  },
  {
   "cell_type": "markdown",
   "id": "0aa02aab",
   "metadata": {},
   "source": [
    "### Comprobación de la Varianza de las Nuevas Variables $y_i$ "
   ]
  },
  {
   "cell_type": "code",
   "execution_count": 16,
   "id": "8856df12",
   "metadata": {
    "vscode": {
     "languageId": "r"
    }
   },
   "outputs": [
    {
     "data": {
      "text/html": [
       "<style>\n",
       ".list-inline {list-style: none; margin:0; padding: 0}\n",
       ".list-inline>li {display: inline-block}\n",
       ".list-inline>li:not(:last-child)::after {content: \"\\00b7\"; padding: 0 .5ex}\n",
       "</style>\n",
       "<ol class=list-inline><li>5.82842712474619</li><li>2</li><li>0.17157287525381</li></ol>\n"
      ],
      "text/latex": [
       "\\begin{enumerate*}\n",
       "\\item 5.82842712474619\n",
       "\\item 2\n",
       "\\item 0.17157287525381\n",
       "\\end{enumerate*}\n"
      ],
      "text/markdown": [
       "1. 5.82842712474619\n",
       "2. 2\n",
       "3. 0.17157287525381\n",
       "\n",
       "\n"
      ],
      "text/plain": [
       "[1] 5.8284271 2.0000000 0.1715729"
      ]
     },
     "metadata": {},
     "output_type": "display_data"
    }
   ],
   "source": [
    "vars_pc <- sapply(1:3,function(i) as.numeric(t(p_vectors[,i])) %*% Sigma %*% p_vectors[,i])\n",
    "vars_pc"
   ]
  },
  {
   "cell_type": "markdown",
   "id": "a0f335a8",
   "metadata": {},
   "source": [
    "### Comprobación de la Covarianza de las Nuevas Variables $y_i$"
   ]
  },
  {
   "cell_type": "code",
   "execution_count": 19,
   "id": "88750c91",
   "metadata": {
    "vscode": {
     "languageId": "r"
    }
   },
   "outputs": [
    {
     "data": {
      "text/html": [
       "<table class=\"dataframe\">\n",
       "<caption>A matrix: 3 × 3 of type dbl</caption>\n",
       "<tbody>\n",
       "\t<tr><td>5.828</td><td>0</td><td>0.000</td></tr>\n",
       "\t<tr><td>0.000</td><td>2</td><td>0.000</td></tr>\n",
       "\t<tr><td>0.000</td><td>0</td><td>0.172</td></tr>\n",
       "</tbody>\n",
       "</table>\n"
      ],
      "text/latex": [
       "A matrix: 3 × 3 of type dbl\n",
       "\\begin{tabular}{lll}\n",
       "\t 5.828 & 0 & 0.000\\\\\n",
       "\t 0.000 & 2 & 0.000\\\\\n",
       "\t 0.000 & 0 & 0.172\\\\\n",
       "\\end{tabular}\n"
      ],
      "text/markdown": [
       "\n",
       "A matrix: 3 × 3 of type dbl\n",
       "\n",
       "| 5.828 | 0 | 0.000 |\n",
       "| 0.000 | 2 | 0.000 |\n",
       "| 0.000 | 0 | 0.172 |\n",
       "\n"
      ],
      "text/plain": [
       "     [,1]  [,2] [,3] \n",
       "[1,] 5.828 0    0.000\n",
       "[2,] 0.000 2    0.000\n",
       "[3,] 0.000 0    0.172"
      ]
     },
     "metadata": {},
     "output_type": "display_data"
    }
   ],
   "source": [
    "covs_pc <- matrix(0,3,3)\n",
    "for(i in 1:3) for(j in 1:3) covs_pc[i,j] <- as.numeric(t(p_vectors[,i])) %*% Sigma %*% p_vectors[,j]\n",
    "\n",
    "round(covs_pc,3)"
   ]
  },
  {
   "cell_type": "markdown",
   "id": "de7baaf8",
   "metadata": {},
   "source": [
    "### Proposición: \n",
    "$$\\text{sum}_{i}\\ \\text{Var}(X_i) = Tr(\\Sigma) = Tr(\\Lambda) = \\text{sum}_{i}\\ \\text{Var}(y_i)$$"
   ]
  },
  {
   "cell_type": "code",
   "execution_count": 21,
   "id": "ad2fc34f",
   "metadata": {
    "vscode": {
     "languageId": "r"
    }
   },
   "outputs": [
    {
     "data": {
      "text/html": [
       "<style>\n",
       ".list-inline {list-style: none; margin:0; padding: 0}\n",
       ".list-inline>li {display: inline-block}\n",
       ".list-inline>li:not(:last-child)::after {content: \"\\00b7\"; padding: 0 .5ex}\n",
       "</style>\n",
       "<ol class=list-inline><li>8</li><li>8</li></ol>\n"
      ],
      "text/latex": [
       "\\begin{enumerate*}\n",
       "\\item 8\n",
       "\\item 8\n",
       "\\end{enumerate*}\n"
      ],
      "text/markdown": [
       "1. 8\n",
       "2. 8\n",
       "\n",
       "\n"
      ],
      "text/plain": [
       "[1] 8 8"
      ]
     },
     "metadata": {},
     "output_type": "display_data"
    }
   ],
   "source": [
    "c(sum(lambda) , sum(diag(Sigma)))"
   ]
  },
  {
   "cell_type": "markdown",
   "id": "9b2e5b07",
   "metadata": {},
   "source": [
    "Los componentes principales son de la siguiente manera:\n",
    "\n",
    "$ y_1 = a_1^TX = a_{11}X_1 + a_{12}X_2 + a_{13}X_3 = -0.3826*X_1 + 0.9238X_2$ \n",
    "\n",
    "$ y_2 = a_2^TX = a_{21}X_1 + a_{22}X_2 + a_{33}X_3 = X_3$ \n",
    "\n",
    "$ y_3 = a_3^TX = a_{31}X_1 + a_{32}X_2 + a_{33}X_3 =  0.9238X_1 + 0.3826*X_2$ \n",
    "\n",
    "Donde $X$ es la matriz de las variables originales (es de $p \\times n$ ) y las $a_{ik}$ es la entrada $k$ del autovector $i$"
   ]
  },
  {
   "cell_type": "markdown",
   "id": "a2d57523",
   "metadata": {},
   "source": [
    "### Proporción de la Varianza Explicada"
   ]
  },
  {
   "cell_type": "code",
   "execution_count": null,
   "id": "1fbdda19",
   "metadata": {
    "vscode": {
     "languageId": "r"
    }
   },
   "outputs": [
    {
     "data": {
      "text/html": [
       "<style>\n",
       ".list-inline {list-style: none; margin:0; padding: 0}\n",
       ".list-inline>li {display: inline-block}\n",
       ".list-inline>li:not(:last-child)::after {content: \"\\00b7\"; padding: 0 .5ex}\n",
       "</style>\n",
       "<ol class=list-inline><li>72.8553390593274</li><li>25</li><li>2.14466094067263</li></ol>\n"
      ],
      "text/latex": [
       "\\begin{enumerate*}\n",
       "\\item 72.8553390593274\n",
       "\\item 25\n",
       "\\item 2.14466094067263\n",
       "\\end{enumerate*}\n"
      ],
      "text/markdown": [
       "1. 72.8553390593274\n",
       "2. 25\n",
       "3. 2.14466094067263\n",
       "\n",
       "\n"
      ],
      "text/plain": [
       "[1] 72.855339 25.000000  2.144661"
      ]
     },
     "metadata": {},
     "output_type": "display_data"
    }
   ],
   "source": [
    "# Varianza explicada por cada componente\n",
    "lambda / sum(lambda)"
   ]
  },
  {
   "cell_type": "code",
   "execution_count": 39,
   "id": "253f62b4",
   "metadata": {
    "vscode": {
     "languageId": "r"
    }
   },
   "outputs": [
    {
     "data": {
      "text/html": [
       "<style>\n",
       ".list-inline {list-style: none; margin:0; padding: 0}\n",
       ".list-inline>li {display: inline-block}\n",
       ".list-inline>li:not(:last-child)::after {content: \"\\00b7\"; padding: 0 .5ex}\n",
       "</style>\n",
       "<ol class=list-inline><li>0.728553390593274</li><li>0.978553390593274</li><li>1</li></ol>\n"
      ],
      "text/latex": [
       "\\begin{enumerate*}\n",
       "\\item 0.728553390593274\n",
       "\\item 0.978553390593274\n",
       "\\item 1\n",
       "\\end{enumerate*}\n"
      ],
      "text/markdown": [
       "1. 0.728553390593274\n",
       "2. 0.978553390593274\n",
       "3. 1\n",
       "\n",
       "\n"
      ],
      "text/plain": [
       "[1] 0.7285534 0.9785534 1.0000000"
      ]
     },
     "metadata": {},
     "output_type": "display_data"
    }
   ],
   "source": [
    "# Varianza explicada acumulada\n",
    "cumsum(lambda / sum(lambda))"
   ]
  },
  {
   "cell_type": "markdown",
   "id": "bf437747",
   "metadata": {},
   "source": [
    "### Correlaciones entre Componentes y Variables \n",
    "\n",
    "$$ \\rho_{y_i,X_k} = \\frac{e_{ik}\\sqrt{\\lambda_i}}{\\sqrt{\\sigma_{kk}}} $$"
   ]
  },
  {
   "cell_type": "code",
   "execution_count": 58,
   "id": "8d37a978",
   "metadata": {
    "vscode": {
     "languageId": "r"
    }
   },
   "outputs": [
    {
     "data": {
      "text/html": [
       "<table class=\"dataframe\">\n",
       "<caption>A matrix: 3 × 3 of type dbl</caption>\n",
       "<thead>\n",
       "\t<tr><th></th><th scope=col>X1</th><th scope=col>X2</th><th scope=col>X3</th></tr>\n",
       "</thead>\n",
       "<tbody>\n",
       "\t<tr><th scope=row>Y1</th><td>-0.9238795</td><td>0.99748421</td><td>0</td></tr>\n",
       "\t<tr><th scope=row>Y2</th><td> 0.0000000</td><td>0.00000000</td><td>1</td></tr>\n",
       "\t<tr><th scope=row>Y3</th><td> 0.3826834</td><td>0.07088902</td><td>0</td></tr>\n",
       "</tbody>\n",
       "</table>\n"
      ],
      "text/latex": [
       "A matrix: 3 × 3 of type dbl\n",
       "\\begin{tabular}{r|lll}\n",
       "  & X1 & X2 & X3\\\\\n",
       "\\hline\n",
       "\tY1 & -0.9238795 & 0.99748421 & 0\\\\\n",
       "\tY2 &  0.0000000 & 0.00000000 & 1\\\\\n",
       "\tY3 &  0.3826834 & 0.07088902 & 0\\\\\n",
       "\\end{tabular}\n"
      ],
      "text/markdown": [
       "\n",
       "A matrix: 3 × 3 of type dbl\n",
       "\n",
       "| <!--/--> | X1 | X2 | X3 |\n",
       "|---|---|---|---|\n",
       "| Y1 | -0.9238795 | 0.99748421 | 0 |\n",
       "| Y2 |  0.0000000 | 0.00000000 | 1 |\n",
       "| Y3 |  0.3826834 | 0.07088902 | 0 |\n",
       "\n"
      ],
      "text/plain": [
       "   X1         X2         X3\n",
       "Y1 -0.9238795 0.99748421 0 \n",
       "Y2  0.0000000 0.00000000 1 \n",
       "Y3  0.3826834 0.07088902 0 "
      ]
     },
     "metadata": {},
     "output_type": "display_data"
    }
   ],
   "source": [
    "rho <- matrix(NA,3,3,\n",
    "dimnames = list(paste0(\"Y\",1:3),paste0(\"X\",1:3)))\n",
    "\n",
    "for (i in 1:3) \n",
    "{\n",
    "    for (j in 1:3)\n",
    "    {\n",
    "        rho[i,j] <- p_vectors[j,i] * sqrt(lambda[i]/Sigma[j,j])\n",
    "    }\n",
    "}\n",
    "\n",
    "rho"
   ]
  }
 ],
 "metadata": {
  "kernelspec": {
   "display_name": "R",
   "language": "R",
   "name": "ir"
  },
  "language_info": {
   "codemirror_mode": "r",
   "file_extension": ".r",
   "mimetype": "text/x-r-source",
   "name": "R",
   "pygments_lexer": "r",
   "version": "4.4.2"
  }
 },
 "nbformat": 4,
 "nbformat_minor": 5
}

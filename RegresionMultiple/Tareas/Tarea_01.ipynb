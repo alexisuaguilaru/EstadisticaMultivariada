{
 "cells": [
  {
   "cell_type": "markdown",
   "id": "075b2a9b",
   "metadata": {},
   "source": [
    "## Ejerccio de Tarea 01\n",
    "Para los datos de la [Liga Nacional de Fútbol](https://github.com/HaydeePeruyero/MultivariateStatisticalAnalysis/blob/main/data/Liga_nacional_de_futbol.csv)\n",
    "\n",
    "**a**. Ajustar un modelo de regresión lineal múltiple que relacione la cantidad de juegos ganados con las yardas por aire del equipo ($x_2$), el porcentaje de jugadas por tierra ($x_7$) y las yardas por tierra del contrario ($x_8$).  \n",
    "\n",
    "**b**. Formar la tabla de análisis de varianza y probar la significancia de la regresión.  \n",
    "\n",
    "**c**. Calcular el estadístico *t* para probar las hipótesis $H_0 : \\beta_2 = 0$, $H_0 : \\beta_7 = 0$ y $H_0 : \\beta_8 = 0$. ¿Qué conclusiones se pueden sacar acerca del papel de las variables $x_2$, $x_7$ y $x_8$ en el modelo?  \n",
    "\n",
    "**d**. Calcular $R^2$ y $R^2_{adj}$ para este modelo.  \n",
    "\n",
    "**e**. Trazar una gráfica de probabilidad normal de los residuales. ¿Parece haber algún problema con la hipótesis de normalidad?  \n",
    "\n",
    "**f**. Trazar e interpretar una gráfica de los residuales en función de la respuesta predicha.  \n",
    "\n",
    "**g**. Trazar las gráficas de los residuales en función de cada una de las variables regresoras. ¿Implican esas gráficas que se especificó en forma correcta el regresor?  \n",
    "\n",
    "**h**. Calcular un intervalo de confianza de $95\\%$ para $\\beta_7$ y un intervalo de confianza de $95\\%$ para la cantidad media de juegos ganados por un equipo cuando $x_2 = 2300$, $x_7 = 56$ y $x_8 = 2100$.  \n",
    "\n",
    "**i**. Ajustar un modelo a esos datos, usando solo $x_7$ y $x_8$ como regresores y probar la significancia de la regresión.  \n",
    "\n",
    "**j**. Calcular $R^2$ y $R^2_{adj}$. Compararlos con los resultados del modelo anterior.  \n",
    "\n",
    "**k**. Calcular un intervalo de confianza de $95\\%$ para $\\beta_7$. También, un intervalo de confianza de $95\\%$ para la cantidad media de juegos ganados por un equipo cuando $x_7 = 56$ y $x_8 = 2100$. Comparar las longitudes de esos intervalos de confianza con las longitudes de los correspondientes al modelo anterior.  \n",
    "\n",
    "**l**. ¿Qué conclusiones se pueden sacar de este problema, acerca de las consecuencias de omitir un regresor importante de un modelo?"
   ]
  },
  {
   "cell_type": "markdown",
   "id": "1fbe2b12",
   "metadata": {},
   "source": [
    "## 0. Importar "
   ]
  },
  {
   "cell_type": "markdown",
   "id": "301934dd",
   "metadata": {},
   "source": [
    "### 0.1. Importar Librerías"
   ]
  },
  {
   "cell_type": "code",
   "execution_count": 14,
   "id": "481ba464",
   "metadata": {},
   "outputs": [],
   "source": [
    "import pandas as pd\n",
    "import numpy as np\n",
    "\n",
    "import matplotlib.pyplot as plt\n",
    "import seaborn as sns\n",
    "\n",
    "import statsmodels.api as sm\n",
    "import statsmodels.formula.api as smf\n",
    "\n",
    "from scipy import stats"
   ]
  },
  {
   "cell_type": "markdown",
   "id": "7dc3403e",
   "metadata": {},
   "source": [
    "### 0.2. Cargar Datos"
   ]
  },
  {
   "cell_type": "code",
   "execution_count": 15,
   "id": "f5f31f3d",
   "metadata": {},
   "outputs": [
    {
     "data": {
      "text/html": [
       "<div>\n",
       "<style scoped>\n",
       "    .dataframe tbody tr th:only-of-type {\n",
       "        vertical-align: middle;\n",
       "    }\n",
       "\n",
       "    .dataframe tbody tr th {\n",
       "        vertical-align: top;\n",
       "    }\n",
       "\n",
       "    .dataframe thead th {\n",
       "        text-align: right;\n",
       "    }\n",
       "</style>\n",
       "<table border=\"1\" class=\"dataframe\">\n",
       "  <thead>\n",
       "    <tr style=\"text-align: right;\">\n",
       "      <th></th>\n",
       "      <th>y</th>\n",
       "      <th>x1</th>\n",
       "      <th>x2</th>\n",
       "      <th>x3</th>\n",
       "      <th>x4</th>\n",
       "      <th>x5</th>\n",
       "      <th>x6</th>\n",
       "      <th>x7</th>\n",
       "      <th>x8</th>\n",
       "      <th>x9</th>\n",
       "    </tr>\n",
       "  </thead>\n",
       "  <tbody>\n",
       "    <tr>\n",
       "      <th>0</th>\n",
       "      <td>10</td>\n",
       "      <td>2113</td>\n",
       "      <td>1985</td>\n",
       "      <td>38.9</td>\n",
       "      <td>64.7</td>\n",
       "      <td>4</td>\n",
       "      <td>868</td>\n",
       "      <td>59.7</td>\n",
       "      <td>2205</td>\n",
       "      <td>1917</td>\n",
       "    </tr>\n",
       "    <tr>\n",
       "      <th>1</th>\n",
       "      <td>11</td>\n",
       "      <td>2003</td>\n",
       "      <td>2855</td>\n",
       "      <td>38.8</td>\n",
       "      <td>61.3</td>\n",
       "      <td>3</td>\n",
       "      <td>615</td>\n",
       "      <td>55.0</td>\n",
       "      <td>2096</td>\n",
       "      <td>1575</td>\n",
       "    </tr>\n",
       "    <tr>\n",
       "      <th>2</th>\n",
       "      <td>11</td>\n",
       "      <td>2957</td>\n",
       "      <td>1737</td>\n",
       "      <td>40.1</td>\n",
       "      <td>60.0</td>\n",
       "      <td>14</td>\n",
       "      <td>914</td>\n",
       "      <td>65.6</td>\n",
       "      <td>1847</td>\n",
       "      <td>2175</td>\n",
       "    </tr>\n",
       "    <tr>\n",
       "      <th>3</th>\n",
       "      <td>13</td>\n",
       "      <td>2285</td>\n",
       "      <td>2905</td>\n",
       "      <td>41.6</td>\n",
       "      <td>45.3</td>\n",
       "      <td>-4</td>\n",
       "      <td>957</td>\n",
       "      <td>61.4</td>\n",
       "      <td>1903</td>\n",
       "      <td>2476</td>\n",
       "    </tr>\n",
       "    <tr>\n",
       "      <th>4</th>\n",
       "      <td>10</td>\n",
       "      <td>2971</td>\n",
       "      <td>1666</td>\n",
       "      <td>39.2</td>\n",
       "      <td>53.8</td>\n",
       "      <td>15</td>\n",
       "      <td>836</td>\n",
       "      <td>66.1</td>\n",
       "      <td>1457</td>\n",
       "      <td>1866</td>\n",
       "    </tr>\n",
       "  </tbody>\n",
       "</table>\n",
       "</div>"
      ],
      "text/plain": [
       "    y    x1    x2    x3    x4  x5   x6    x7    x8    x9\n",
       "0  10  2113  1985  38.9  64.7   4  868  59.7  2205  1917\n",
       "1  11  2003  2855  38.8  61.3   3  615  55.0  2096  1575\n",
       "2  11  2957  1737  40.1  60.0  14  914  65.6  1847  2175\n",
       "3  13  2285  2905  41.6  45.3  -4  957  61.4  1903  2476\n",
       "4  10  2971  1666  39.2  53.8  15  836  66.1  1457  1866"
      ]
     },
     "execution_count": 15,
     "metadata": {},
     "output_type": "execute_result"
    }
   ],
   "source": [
    "DatasetFutbol = pd.read_csv(\n",
    "    './Liga_nacional_de_futbol.csv',\n",
    ")\n",
    "\n",
    "TargetLabel , *FeatureLabels = DatasetFutbol.columns\n",
    "\n",
    "DatasetFutbol.head()"
   ]
  },
  {
   "cell_type": "markdown",
   "id": "aef6b0a5",
   "metadata": {},
   "source": [
    "## **a**. Modelo de Regresión"
   ]
  },
  {
   "cell_type": "markdown",
   "id": "d92ab2f9",
   "metadata": {},
   "source": [
    "Por medio del plot generado, se puede apreciar que algunos de los atributos (variables de regresión) consideradas capturan una tendendecia o relación con la variable de respuesta. Esta variables son $x_7$ (porcentaje de jugadas por tierra) y $x_8$ (yardas por tierra del contrario), mientras que la variable $x_2$ (yardas por aire del equipo) tiene un comportamiento más aleatorio (o su tendencia no sea tan pronunciada)."
   ]
  },
  {
   "cell_type": "code",
   "execution_count": 212,
   "id": "c67fd65f",
   "metadata": {},
   "outputs": [],
   "source": [
    "# Ajuste de Modelo usando Funciones de Python \n",
    "\n",
    "FeaturesModel = ['x2','x7','x8']\n",
    "\n",
    "LinearModel = smf.ols(\n",
    "    f\"{TargetLabel} ~ \" + ' + '.join(FeaturesModel),\n",
    "    data = DatasetFutbol,\n",
    ").fit()"
   ]
  },
  {
   "cell_type": "code",
   "execution_count": 213,
   "id": "0aa47917",
   "metadata": {},
   "outputs": [],
   "source": [
    "# Ajuste de Modelo de forma Manual\n",
    "\n",
    "SizeN = DatasetFutbol.shape[0]\n",
    "\n",
    "DataMatrixX = np.concat(\n",
    "        [\n",
    "            np.ones((SizeN,1)),\n",
    "            DatasetFutbol[FeaturesModel].to_numpy()\n",
    "        ],\n",
    "        axis=1,\n",
    "    )\n",
    "RealValuesY = DatasetFutbol[[TargetLabel]].to_numpy()\n",
    "\n",
    "EstimateBetas = np.linalg.inv(DataMatrixX.T@DataMatrixX) @ DataMatrixX.T @ RealValuesY"
   ]
  },
  {
   "cell_type": "code",
   "execution_count": 214,
   "id": "9454648d",
   "metadata": {},
   "outputs": [
    {
     "data": {
      "image/png": "[encoded data removed]",
      "text/plain": [
       "<Figure size 1000x1000 with 20 Axes>"
      ]
     },
     "metadata": {},
     "output_type": "display_data"
    }
   ],
   "source": [
    "plot = sns.pairplot(\n",
    "    DatasetFutbol[[*FeaturesModel,TargetLabel]],\n",
    ")\n",
    "\n",
    "plot.figure.suptitle(\n",
    "    'Relación de Atributos con la\\nCantidad de Juegos Ganados', \n",
    "    fontsize = 18,\n",
    "    y = 1.05,\n",
    ")\n",
    "\n",
    "for ax in plot.axes.flat:\n",
    "    ax.set_xlabel(\n",
    "        ax.get_xlabel(),\n",
    "        fontsize=14,\n",
    "    )\n",
    "    ax.set_ylabel(\n",
    "        ax.get_ylabel(),\n",
    "        fontsize=14,\n",
    "    )\n",
    "    \n",
    "    ax.tick_params(\n",
    "        axis = 'both',\n",
    "        which = 'major',\n",
    "        labelsize = 12,\n",
    "    )"
   ]
  },
  {
   "cell_type": "markdown",
   "id": "7160617e",
   "metadata": {},
   "source": [
    "## **b**. Tabla de Análisis de Varianza"
   ]
  },
  {
   "cell_type": "markdown",
   "id": "5909fe52",
   "metadata": {},
   "source": [
    "Usando los valores que se encuentran en la columna de `Cuadrados Medios`, permiten decir el modelo se ajusta adecuadamente, debido a que el valor en los Cuadrados Medios Residuales es un valor bajo. Aplicando la prueba de la significancia de la regresión, se tiene que el estadistico $F_0$ es mayor que a $F_1$ por lo que la cantidad de juegos ganados depende linealmente de las variables de estudio."
   ]
  },
  {
   "cell_type": "code",
   "execution_count": null,
   "id": "33875cd1",
   "metadata": {},
   "outputs": [],
   "source": [
    "def ANOVATable(\n",
    "        LinearModel,\n",
    "    ) -> pd.DataFrame:\n",
    "    \"\"\"\n",
    "    Función para construir la tabla de ANOVA \n",
    "    en base a un modelo de Regresión Lineal, \n",
    "    se extraen los valores de interés y son \n",
    "    reacomodados en un formato tabular.\n",
    "    \"\"\"\n",
    "    \n",
    "    ColumnsANOVA = [\n",
    "        'Fuente Variación',\n",
    "        'Suma de Cuadrados',\n",
    "        'Grados de Libertad',\n",
    "        'Cuadrados Medios',\n",
    "        'F_0',\n",
    "    ]\n",
    "    Table = pd.DataFrame(columns=ColumnsANOVA)\n",
    "    Table['Fuente Variación'] = ['Regresión','Residuales','Total']\n",
    "\n",
    "    MeanSquares_Reg = LinearModel.mse_model\n",
    "    MeanSquares_Res = LinearModel.mse_resid\n",
    "    MeanSquares_Tot = LinearModel.mse_total\n",
    "    Table['Cuadrados Medios'] = [MeanSquares_Reg,MeanSquares_Res,MeanSquares_Tot]\n",
    "\n",
    "    DegreeFreedom_Reg = LinearModel.df_model\n",
    "    DegreeFreedom_Res = LinearModel.df_resid\n",
    "    DegreeFreedom_Tot = DegreeFreedom_Reg + DegreeFreedom_Res\n",
    "    Table['Grados de Libertad'] = [DegreeFreedom_Reg,DegreeFreedom_Res,DegreeFreedom_Tot]\n",
    "\n",
    "    Table['Suma de Cuadrados'] = Table['Cuadrados Medios']*Table['Grados de Libertad']\n",
    "\n",
    "    Table['F_0'] = [LinearModel.fvalue,np.nan,np.nan]\n",
    "\n",
    "    return Table.set_index('Fuente Variación')"
   ]
  },
  {
   "cell_type": "code",
   "execution_count": null,
   "id": "3f1247b7",
   "metadata": {},
   "outputs": [],
   "source": [
    "def ANOVATable_Manual(\n",
    "        DataMatrixX: np.ndarray,\n",
    "        RealValuesY: np.ndarray,\n",
    "        EstimateBetas: np.ndarray,\n",
    "    ) -> pd.DataFrame:\n",
    "    \"\"\"\n",
    "    Función para construir la tabla de ANOVA \n",
    "    en base a las observaciones (`DataMatrixX` y \n",
    "    `RealValuesY`) y los coeficientes de regresión \n",
    "    (`EstimateBetas`), se hacen uso de las formulas \n",
    "    matriciales para determinar los diferentes \n",
    "    valores de la tabla.\n",
    "    \"\"\"\n",
    "\n",
    "    ColumnsANOVA = [\n",
    "        'Fuente Variación',\n",
    "        'Suma de Cuadrados',\n",
    "        'Grados de Libertad',\n",
    "        'Cuadrados Medios',\n",
    "        'F_0',\n",
    "    ]\n",
    "    Table = pd.DataFrame(columns=ColumnsANOVA)\n",
    "    Table['Fuente Variación'] = ['Regresión','Residuales','Total']\n",
    "\n",
    "    SizeN = DataMatrixX.shape[0]\n",
    "    SumSquares_Tot = (RealValuesY.T@RealValuesY - np.sum(RealValuesY)**2/SizeN)[0,0]\n",
    "    SumSquares_Reg = (EstimateBetas.T@DataMatrixX.T@RealValuesY - np.sum(RealValuesY)**2/SizeN)[0,0]\n",
    "    SumSquares_Res = SumSquares_Tot - SumSquares_Reg\n",
    "    Table['Suma de Cuadrados'] = [SumSquares_Reg,SumSquares_Res,SumSquares_Tot]\n",
    "\n",
    "    DegreeFreedom_Reg = len(EstimateBetas) - 1\n",
    "    DegreeFreedom_Res = SizeN - len(EstimateBetas)\n",
    "    DegreeFreedom_Tot = DegreeFreedom_Reg + DegreeFreedom_Res\n",
    "    Table['Grados de Libertad'] = [DegreeFreedom_Reg,DegreeFreedom_Res,DegreeFreedom_Tot]\n",
    "\n",
    "    Table['Cuadrados Medios'] = Table['Suma de Cuadrados']/Table['Grados de Libertad']\n",
    "\n",
    "    Table['F_0'] = [Table['Cuadrados Medios'].iloc[0]/Table['Cuadrados Medios'].iloc[1],np.nan,np.nan]\n",
    "\n",
    "    return Table.set_index('Fuente Variación')"
   ]
  },
  {
   "cell_type": "code",
   "execution_count": 36,
   "id": "fbb4ddd2",
   "metadata": {},
   "outputs": [
    {
     "data": {
      "text/html": [
       "<div>\n",
       "<style scoped>\n",
       "    .dataframe tbody tr th:only-of-type {\n",
       "        vertical-align: middle;\n",
       "    }\n",
       "\n",
       "    .dataframe tbody tr th {\n",
       "        vertical-align: top;\n",
       "    }\n",
       "\n",
       "    .dataframe thead th {\n",
       "        text-align: right;\n",
       "    }\n",
       "</style>\n",
       "<table border=\"1\" class=\"dataframe\">\n",
       "  <thead>\n",
       "    <tr style=\"text-align: right;\">\n",
       "      <th></th>\n",
       "      <th>Suma de Cuadrados</th>\n",
       "      <th>Grados de Libertad</th>\n",
       "      <th>Cuadrados Medios</th>\n",
       "      <th>F_0</th>\n",
       "    </tr>\n",
       "    <tr>\n",
       "      <th>Fuente Variación</th>\n",
       "      <th></th>\n",
       "      <th></th>\n",
       "      <th></th>\n",
       "      <th></th>\n",
       "    </tr>\n",
       "  </thead>\n",
       "  <tbody>\n",
       "    <tr>\n",
       "      <th>Regresión</th>\n",
       "      <td>257.094282</td>\n",
       "      <td>3.0</td>\n",
       "      <td>85.698094</td>\n",
       "      <td>29.43687</td>\n",
       "    </tr>\n",
       "    <tr>\n",
       "      <th>Residuales</th>\n",
       "      <td>69.870004</td>\n",
       "      <td>24.0</td>\n",
       "      <td>2.911250</td>\n",
       "      <td>NaN</td>\n",
       "    </tr>\n",
       "    <tr>\n",
       "      <th>Total</th>\n",
       "      <td>326.964286</td>\n",
       "      <td>27.0</td>\n",
       "      <td>12.109788</td>\n",
       "      <td>NaN</td>\n",
       "    </tr>\n",
       "  </tbody>\n",
       "</table>\n",
       "</div>"
      ],
      "text/plain": [
       "                  Suma de Cuadrados  Grados de Libertad  Cuadrados Medios  \\\n",
       "Fuente Variación                                                            \n",
       "Regresión                257.094282                 3.0         85.698094   \n",
       "Residuales                69.870004                24.0          2.911250   \n",
       "Total                    326.964286                27.0         12.109788   \n",
       "\n",
       "                       F_0  \n",
       "Fuente Variación            \n",
       "Regresión         29.43687  \n",
       "Residuales             NaN  \n",
       "Total                  NaN  "
      ]
     },
     "execution_count": 36,
     "metadata": {},
     "output_type": "execute_result"
    }
   ],
   "source": [
    "ANOVA = ANOVATable(\n",
    "    LinearModel,\n",
    ")\n",
    "\n",
    "ANOVA"
   ]
  },
  {
   "cell_type": "code",
   "execution_count": 41,
   "id": "f35581fb",
   "metadata": {},
   "outputs": [
    {
     "data": {
      "text/html": [
       "<div>\n",
       "<style scoped>\n",
       "    .dataframe tbody tr th:only-of-type {\n",
       "        vertical-align: middle;\n",
       "    }\n",
       "\n",
       "    .dataframe tbody tr th {\n",
       "        vertical-align: top;\n",
       "    }\n",
       "\n",
       "    .dataframe thead th {\n",
       "        text-align: right;\n",
       "    }\n",
       "</style>\n",
       "<table border=\"1\" class=\"dataframe\">\n",
       "  <thead>\n",
       "    <tr style=\"text-align: right;\">\n",
       "      <th></th>\n",
       "      <th>Suma de Cuadrados</th>\n",
       "      <th>Grados de Libertad</th>\n",
       "      <th>Cuadrados Medios</th>\n",
       "      <th>F_0</th>\n",
       "    </tr>\n",
       "    <tr>\n",
       "      <th>Fuente Variación</th>\n",
       "      <th></th>\n",
       "      <th></th>\n",
       "      <th></th>\n",
       "      <th></th>\n",
       "    </tr>\n",
       "  </thead>\n",
       "  <tbody>\n",
       "    <tr>\n",
       "      <th>Regresión</th>\n",
       "      <td>257.094282</td>\n",
       "      <td>3</td>\n",
       "      <td>85.698094</td>\n",
       "      <td>29.43687</td>\n",
       "    </tr>\n",
       "    <tr>\n",
       "      <th>Residuales</th>\n",
       "      <td>69.870004</td>\n",
       "      <td>24</td>\n",
       "      <td>2.911250</td>\n",
       "      <td>NaN</td>\n",
       "    </tr>\n",
       "    <tr>\n",
       "      <th>Total</th>\n",
       "      <td>326.964286</td>\n",
       "      <td>27</td>\n",
       "      <td>12.109788</td>\n",
       "      <td>NaN</td>\n",
       "    </tr>\n",
       "  </tbody>\n",
       "</table>\n",
       "</div>"
      ],
      "text/plain": [
       "                  Suma de Cuadrados  Grados de Libertad  Cuadrados Medios  \\\n",
       "Fuente Variación                                                            \n",
       "Regresión                257.094282                   3         85.698094   \n",
       "Residuales                69.870004                  24          2.911250   \n",
       "Total                    326.964286                  27         12.109788   \n",
       "\n",
       "                       F_0  \n",
       "Fuente Variación            \n",
       "Regresión         29.43687  \n",
       "Residuales             NaN  \n",
       "Total                  NaN  "
      ]
     },
     "execution_count": 41,
     "metadata": {},
     "output_type": "execute_result"
    }
   ],
   "source": [
    "ANOVA_Manual = ANOVATable_Manual(\n",
    "    DataMatrixX,\n",
    "    RealValuesY,\n",
    "    EstimateBetas,\n",
    ")\n",
    "\n",
    "ANOVA_Manual"
   ]
  },
  {
   "cell_type": "code",
   "execution_count": 56,
   "id": "fc68ab6a",
   "metadata": {},
   "outputs": [
    {
     "name": "stdout",
     "output_type": "stream",
     "text": [
      "F_1 :: 3.0087865704473615\n"
     ]
    }
   ],
   "source": [
    "# Calculo del valor estadístico F_1\n",
    "\n",
    "LevelSignificance = 0.05\n",
    "F_1 = stats.f.ppf(1-LevelSignificance,*ANOVA['Grados de Libertad'].iloc[:2])\n",
    "\n",
    "print(f'F_1 :: {F_1}')"
   ]
  },
  {
   "cell_type": "markdown",
   "id": "07dabd93",
   "metadata": {},
   "source": [
    "## **c**. Prueba sobre los Coeficientes Individuales de Regresión"
   ]
  },
  {
   "cell_type": "markdown",
   "id": "79b94071",
   "metadata": {},
   "source": [
    "Las tres variables tiene un valor en sus respectivos estadísticos $t_0$ mayor, en valor absoluto, a $t_1$, por lo que las tres variables tienen una influencia sobre la variable de respuesta. Aunque la variable $x_7$ tenga una manor influencia o impacto debido a que valor se aproxima o se parece a $t_1$."
   ]
  },
  {
   "cell_type": "code",
   "execution_count": null,
   "id": "75075a48",
   "metadata": {},
   "outputs": [],
   "source": [
    "def TestIndividualCoefficients(\n",
    "        LinearModel,\n",
    "        Dataset: pd.DataFrame,\n",
    "        FeaturesModel: list[str],\n",
    "        LevelSignificance: float = 0.05,\n",
    "    ):\n",
    "    \"\"\"\n",
    "    Función para calcular el estadístico t_0 \n",
    "    para la prueba sobre los coeficientes \n",
    "    individuales de regresión en un Modelo \n",
    "    Lineal; también se muestra el valor de \n",
    "    t_1 (para la prueba alternativa) con \n",
    "    un cierto nivel de significancia.\n",
    "    \"\"\"\n",
    "\n",
    "    CovarianceEstimateBetas = CalculatedCovarianceEstimateBetas(LinearModel,Dataset,FeaturesModel)\n",
    "\n",
    "    t_Value_1 = stats.t.ppf(1-LevelSignificance/2,LinearModel.df_resid)\n",
    "    print(f't_1 :: {t_Value_1}')\n",
    "    print(f'\\nt_0 Values')\n",
    "    for index_feature , (feature,beta_value) in enumerate(LinearModel.params[1:].items(),1):\n",
    "        tValue_0 = beta_value / np.sqrt(CovarianceEstimateBetas[index_feature,index_feature])\n",
    "        print(f'{feature} :: {tValue_0}')\n",
    "\n",
    "def CalculatedCovarianceEstimateBetas(\n",
    "        LinearModel,\n",
    "        Dataset: pd.DataFrame,\n",
    "        FeaturesModel: list[str],\n",
    "    ) -> np.ndarray:\n",
    "    \"\"\"\n",
    "    Función para calcular la matriz \n",
    "    de covarianza de los parámetros \n",
    "    o coeficientes de regresión en \n",
    "    base a las observaciones y modelo \n",
    "    lineal.\n",
    "    \"\"\"\n",
    "\n",
    "    SizeN = Dataset.shape[0]\n",
    "    DataMatrix = np.concat(\n",
    "        [\n",
    "            np.ones((SizeN,1)),\n",
    "            Dataset[FeaturesModel].to_numpy()\n",
    "        ],\n",
    "        axis=1,\n",
    "    )\n",
    "\n",
    "    EstimateSquareSigma = LinearModel.mse_resid # == ANOVA.loc['Residuales','Cuadrados Medios']\n",
    "    return EstimateSquareSigma*np.linalg.inv(DataMatrix.T@DataMatrix)"
   ]
  },
  {
   "cell_type": "code",
   "execution_count": null,
   "id": "3136dc59",
   "metadata": {},
   "outputs": [
    {
     "name": "stdout",
     "output_type": "stream",
     "text": [
      "t_1 :: 2.0638985616280205\n",
      "\n",
      "t_0 Values\n",
      "x2 :: 5.177090239985967\n",
      "x7 :: 2.198261682781837\n",
      "x8 :: -3.7710364517268267\n"
     ]
    }
   ],
   "source": [
    "# Calculo de valores t_0 y t_1\n",
    "\n",
    "LevelSignificance = 0.05\n",
    "\n",
    "TestIndividualCoefficients(\n",
    "    LinearModel,\n",
    "    DatasetFutbol,\n",
    "    FeaturesModel,\n",
    "    LevelSignificance,\n",
    ")"
   ]
  },
  {
   "cell_type": "markdown",
   "id": "4700a897",
   "metadata": {},
   "source": [
    "## **d**. Métricas del Modelo"
   ]
  },
  {
   "cell_type": "markdown",
   "id": "40fafb81",
   "metadata": {},
   "source": [
    "Las métricas del modelo son bajas, esto representa que no se está modelando adecuadamente la variable de respuesta. Al observar el plot, se puede ver que existen observaciones que no se ajustan al modelo propuesto, teniendo que empeore el rendimiento del propio modelo auqnue en algunas instancias tenga un comportamiento esperado."
   ]
  },
  {
   "cell_type": "code",
   "execution_count": null,
   "id": "345f101a",
   "metadata": {},
   "outputs": [
    {
     "name": "stdout",
     "output_type": "stream",
     "text": [
      "R^2 :: 0.7863069233109538\n",
      "R^2 Adjustada:: 0.759595288724823\n"
     ]
    }
   ],
   "source": [
    "# Scores usando el Modelo\n",
    "\n",
    "print(f'R^2 :: {LinearModel.rsquared}')\n",
    "print(f'R^2 Adjustada:: {LinearModel.rsquared_adj}')"
   ]
  },
  {
   "cell_type": "code",
   "execution_count": 77,
   "id": "024f1109",
   "metadata": {},
   "outputs": [
    {
     "name": "stdout",
     "output_type": "stream",
     "text": [
      "R^2 :: 0.7863069233107012\n",
      "R^2 Adjustada:: 0.7595952887245389\n"
     ]
    }
   ],
   "source": [
    "# Scores usando Operaciones Manuales\n",
    "\n",
    "RSquared = float.__truediv__(*ANOVA_Manual['Suma de Cuadrados'][['Regresión','Total']])\n",
    "RSquared_Adj = 1-((1-RSquared)*ANOVA_Manual.loc['Total','Grados de Libertad'])/(ANOVA_Manual.loc['Residuales','Grados de Libertad'])\n",
    "\n",
    "print(f'R^2 :: {RSquared}')\n",
    "print(f'R^2 Adjustada:: {RSquared_Adj}')"
   ]
  },
  {
   "cell_type": "code",
   "execution_count": null,
   "id": "77993a3e",
   "metadata": {},
   "outputs": [
    {
     "data": {
      "image/png": "[encoded data removed]",
      "text/plain": [
       "<Figure size 640x480 with 1 Axes>"
      ]
     },
     "metadata": {},
     "output_type": "display_data"
    }
   ],
   "source": [
    "# Plot de los valores esperados (observados) y estimados\n",
    "\n",
    "fig , axes = plt.subplots()\n",
    "\n",
    "EstimateValuesY = DataMatrixX@EstimateBetas\n",
    "sns.scatterplot(\n",
    "    x = RealValuesY[:,0],\n",
    "    y = EstimateValuesY[:,0],\n",
    "    ax = axes,\n",
    ")\n",
    "\n",
    "axes.axline(\n",
    "    (0,0),\n",
    "    slope = 1,\n",
    "    color = 'gray',\n",
    "    linestyle = ':',\n",
    ")\n",
    "\n",
    "axes.set_title('Ajuste del Modelo')\n",
    "axes.set_xlabel('Valores Observados')\n",
    "axes.set_ylabel('Valores Estimados');"
   ]
  },
  {
   "cell_type": "markdown",
   "id": "11201533",
   "metadata": {},
   "source": [
    "## **e**. Gráfica de Probabilidad Normal de los Residuales"
   ]
  },
  {
   "cell_type": "markdown",
   "id": "798f67d5",
   "metadata": {},
   "source": [
    "Se tiene que la parte central del Q-Q plot tiene una ligera forma de S, esto implica que existe un ligero sesgo en los residuales centrales, por lo que el modelo se podría refinar para mejorar sus predicciones."
   ]
  },
  {
   "cell_type": "code",
   "execution_count": 139,
   "id": "9b349679",
   "metadata": {},
   "outputs": [
    {
     "data": {
      "image/png": "[encoded data removed]",
      "text/plain": [
       "<Figure size 640x480 with 1 Axes>"
      ]
     },
     "metadata": {},
     "output_type": "display_data"
    }
   ],
   "source": [
    "# Plot\n",
    "\n",
    "QuantilesTheoObs , RegressionLineParams = stats.probplot(\n",
    "    LinearModel.resid,\n",
    "    dist = 'norm',\n",
    ")\n",
    "\n",
    "fig , axes = plt.subplots()\n",
    "sns.scatterplot(\n",
    "    x = QuantilesTheoObs[0],\n",
    "    y = QuantilesTheoObs[1],\n",
    "    ax = axes,\n",
    ")\n",
    "\n",
    "axes.axline(\n",
    "    (0,0),\n",
    "    slope=RegressionLineParams[0],\n",
    "    color = 'gray',\n",
    "    linestyle = ':',\n",
    ")\n",
    "\n",
    "axes.set_xlabel('Cuantiles Teóricos')\n",
    "axes.set_ylabel('Cuantiles de Residuales')\n",
    "axes.set_title('Probabilidad Normal de los Residuales',size=13);"
   ]
  },
  {
   "cell_type": "markdown",
   "id": "9bc76519",
   "metadata": {},
   "source": [
    "## **f**. Gráfica de los Residuales en Función de la Respuesta Predicha"
   ]
  },
  {
   "cell_type": "markdown",
   "id": "c98708ef",
   "metadata": {},
   "source": [
    "Como en el plot presentado no figura algún patrón o curva, podría ser indicio de que los residuales represntan la parte aleatoria o ruido propio de cada instancia (observación). Por lo tanto, se tiene un modelo bien ajustado."
   ]
  },
  {
   "cell_type": "code",
   "execution_count": 147,
   "id": "72358b7f",
   "metadata": {},
   "outputs": [
    {
     "data": {
      "image/png": "[encoded data removed]",
      "text/plain": [
       "<Figure size 640x480 with 1 Axes>"
      ]
     },
     "metadata": {},
     "output_type": "display_data"
    }
   ],
   "source": [
    "# Plot\n",
    "\n",
    "fig , axes = plt.subplots()\n",
    "sns.scatterplot(\n",
    "    x = LinearModel.fittedvalues,\n",
    "    y = LinearModel.resid,\n",
    "    ax = axes,\n",
    ")\n",
    "\n",
    "axes.set_xlabel('Juegos Ganados')\n",
    "axes.set_ylabel('Residual')\n",
    "axes.set_title('Residuales en Función de la Respuesta Predicha',size=13);"
   ]
  },
  {
   "cell_type": "markdown",
   "id": "8ca0d5bc",
   "metadata": {},
   "source": [
    "## **g**. Gráficas de los Residuales en Función de las Variables Regresoras"
   ]
  },
  {
   "cell_type": "markdown",
   "id": "d7339e32",
   "metadata": {},
   "source": [
    "En la variable $x_2$ no parece que tengan algún patrón o curva, en cambio, en las variables $x_7$ y $x_8$, se puede apreciar zonas donde incrementan y decrementan, esto significa que posiblemente los datos no siguen un patrón homocedástico."
   ]
  },
  {
   "cell_type": "code",
   "execution_count": 155,
   "id": "4baeec4a",
   "metadata": {},
   "outputs": [
    {
     "data": {
      "image/png": "[encoded data removed]",
      "text/plain": [
       "<Figure size 700x1000 with 3 Axes>"
      ]
     },
     "metadata": {},
     "output_type": "display_data"
    }
   ],
   "source": [
    "fig , axes = plt.subplots(\n",
    "    3,\n",
    "    figsize = (7,10),\n",
    "    layout = 'tight',\n",
    ")\n",
    "\n",
    "for feature , ax in zip(FeaturesModel,axes.ravel()):\n",
    "    sns.scatterplot(\n",
    "        x = DatasetFutbol[feature],\n",
    "        y = LinearModel.resid,\n",
    "        ax = ax,\n",
    "    )\n",
    "    ax.set_ylabel('Residuales')\n",
    "\n",
    "fig.suptitle('Residuales en Función de las Variables Regresoras',size=13);"
   ]
  },
  {
   "cell_type": "markdown",
   "id": "a1771a71",
   "metadata": {},
   "source": [
    "## **h**. Intervalos de Confianza"
   ]
  },
  {
   "cell_type": "markdown",
   "id": "7dd72c76",
   "metadata": {},
   "source": [
    "### 1. Coeficiente de Regresión $\\beta_7$"
   ]
  },
  {
   "cell_type": "markdown",
   "id": "5fa21622",
   "metadata": {},
   "source": [
    "La longitud del intervalo de confianza para $\\beta_7$ es amplio en comparación con el generado para los otros dos coeficientes, esto representa que se tiene una mayor incertidumbre sobre el valor de este coeficiente."
   ]
  },
  {
   "cell_type": "code",
   "execution_count": 184,
   "id": "8975b3a1",
   "metadata": {},
   "outputs": [],
   "source": [
    "def ConfidenceIntervalsCoefficient(\n",
    "        LinearModel,\n",
    "        Dataset: pd.DataFrame,\n",
    "        FeaturesModel: list[str],\n",
    "        IndexFeatures: list[int],\n",
    "        LevelSignificance: float = 0.05,\n",
    "    ) -> None:\n",
    "    \"\"\"\n",
    "    Función para determinar los intervalos de \n",
    "    confianza para los coeficientes de \n",
    "    regresión de un modelo.\n",
    "    \"\"\"\n",
    "\n",
    "    CovarianceEstimateBetas = CalculatedCovarianceEstimateBetas(LinearModel,Dataset,FeaturesModel)\n",
    "    \n",
    "    tValue_1 = stats.t.ppf(1 - LevelSignificance/2,LinearModel.df_resid)\n",
    "    for index_feature in IndexFeatures:\n",
    "        beta_value = LinearModel.params.iloc[index_feature]\n",
    "        interval_borders = tValue_1*np.sqrt(CovarianceEstimateBetas[index_feature+1,index_feature+1])\n",
    "        left_interval = beta_value - interval_borders\n",
    "        right_interval = beta_value + interval_borders\n",
    "        print(f'{FeaturesModel[index_feature]} , {beta_value} :: [{left_interval} , {right_interval}] , Longitud {right_interval-left_interval}')"
   ]
  },
  {
   "cell_type": "code",
   "execution_count": null,
   "id": "66041aa3",
   "metadata": {},
   "outputs": [
    {
     "name": "stdout",
     "output_type": "stream",
     "text": [
      "x2 , -1.808372058704668 :: [-1.8098064652139283 , -1.806937652195408] , Longitud 0.0028688130185203775\n",
      "x7 , 0.003598070213976692 :: [-0.17850681780157873 , 0.1857029582295321] , Longitud 0.3642097760311108\n",
      "x8 , 0.19396020958321789 :: [0.1913246765658257 , 0.19659574260061008] , Longitud 0.0052710660347843885\n"
     ]
    }
   ],
   "source": [
    "# Intervalos de Confianza para Coeficientes\n",
    "\n",
    "ConfidenceIntervalsCoefficient(\n",
    "    LinearModel,\n",
    "    DatasetFutbol,\n",
    "    FeaturesModel,\n",
    "    [0,1,2],\n",
    ")"
   ]
  },
  {
   "cell_type": "markdown",
   "id": "dc5b85ba",
   "metadata": {},
   "source": [
    "### 2. Respuesta Media"
   ]
  },
  {
   "cell_type": "markdown",
   "id": "1a496992",
   "metadata": {},
   "source": [
    "El intervalo de confianza es de un tamaño relativa grande, por lo que se tiene que la respuesta no es concisa. Pero al comparar cómo son los intervalos de confianza para instancias cuya cantidad de juegos ganados sea 6, 7 u 8 se generan intervalos de confianza de este tamaño o mayores, por lo que el modelo podría estar generando predicciones no tan robustas o precisas."
   ]
  },
  {
   "cell_type": "code",
   "execution_count": 190,
   "id": "7f474fdd",
   "metadata": {},
   "outputs": [],
   "source": [
    "def ConfidenceIntervalsMeanResponse(\n",
    "        LinearModel,\n",
    "        Dataset: pd.DataFrame,\n",
    "        FeaturesModel: list[str],\n",
    "        Observations: pd.DataFrame,\n",
    "        LevelSignificance: float = 0.05,\n",
    "    ) -> None:\n",
    "    \"\"\"\n",
    "    Función para determinar los intervalos de \n",
    "    confianza para la respuesta/predicción \n",
    "    media del modelo.\n",
    "    \"\"\"\n",
    "\n",
    "    CovarianceEstimateBetas = CalculatedCovarianceEstimateBetas(LinearModel,Dataset,FeaturesModel)\n",
    "    \n",
    "    tValue_1 = stats.t.ppf(1 - LevelSignificance/2,LinearModel.df_resid)\n",
    "    for index_observation , observation in enumerate(Observations.iloc):\n",
    "        actual_values = observation[FeaturesModel]\n",
    "        values_x = np.concat([[1],actual_values])[:,None]\n",
    "        prediction = LinearModel.predict(observation).iloc[0]\n",
    "\n",
    "        var_prediction = (values_x.T@CovarianceEstimateBetas@values_x)[0,0]\n",
    "        interval_borders = tValue_1*np.sqrt(var_prediction)\n",
    "\n",
    "        left_interval = prediction - interval_borders\n",
    "        right_interval = prediction + interval_borders\n",
    "        print(f'[{index_observation}] :: {left_interval} <= {prediction} <= {right_interval} , Longitud {right_interval-left_interval}')"
   ]
  },
  {
   "cell_type": "code",
   "execution_count": 201,
   "id": "ae3a3f62",
   "metadata": {},
   "outputs": [
    {
     "name": "stdout",
     "output_type": "stream",
     "text": [
      "[0] :: 6.43620277665725 <= 7.216423832995973 <= 7.996644889334696 , Longitud 1.5604421126774461\n"
     ]
    }
   ],
   "source": [
    "# Intervalo de confianza para la Respuesta Media\n",
    "\n",
    "Observations = pd.DataFrame(\n",
    "    [\n",
    "        [2300,56,2100]\n",
    "    ],\n",
    "    columns = FeaturesModel,\n",
    ")\n",
    "\n",
    "ConfidenceIntervalsMeanResponse(\n",
    "    LinearModel,\n",
    "    DatasetFutbol,\n",
    "    FeaturesModel,\n",
    "    Observations,\n",
    ")"
   ]
  },
  {
   "cell_type": "code",
   "execution_count": 205,
   "id": "cda0dd55",
   "metadata": {},
   "outputs": [
    {
     "name": "stdout",
     "output_type": "stream",
     "text": [
      "[0] :: 5.42396531271377 <= 7.055145968267942 <= 8.686326623822113 , Longitud 3.262361311108343\n",
      "[1] :: 7.425049128172527 <= 8.219688569466038 <= 9.01432801075955 , Longitud 1.5892788825870232\n",
      "[2] :: 4.974294566824996 <= 6.127359527337713 <= 7.28042448785043 , Longitud 2.306129921025434\n",
      "[3] :: 6.701774204605457 <= 7.670849433718352 <= 8.639924662831246 , Longitud 1.9381504582257891\n",
      "[4] :: 6.921714728758598 <= 8.15039640706317 <= 9.379078085367741 , Longitud 2.457363356609143\n"
     ]
    }
   ],
   "source": [
    "ConfidenceIntervalsMeanResponse(\n",
    "    LinearModel,\n",
    "    DatasetFutbol,\n",
    "    FeaturesModel,\n",
    "    DatasetFutbol.query(f'{TargetLabel} in [6,7,8]')\n",
    ")"
   ]
  },
  {
   "cell_type": "markdown",
   "id": "bd1c3cce",
   "metadata": {},
   "source": [
    "## **i**. Modelo de Regresión Alternativo"
   ]
  },
  {
   "cell_type": "markdown",
   "id": "ed7e1cce",
   "metadata": {},
   "source": [
    "Como se mencionó en la sección [a. Modelo de Regresión](#a-modelo-de-regresión), la variable $x_2$ no figuraba con una tendencia pronunciada respecto a la variable de respuesta. Al momento de aplicar la prueba sobre la significancia de la regresión, sí es significativa pero igual no se obtuvo un estadístico $F_0$ notariamente mayor que $F_1$, e incluso los cuadrados medios empeoraron respecto al anterior modelo."
   ]
  },
  {
   "cell_type": "code",
   "execution_count": 210,
   "id": "34eae630",
   "metadata": {},
   "outputs": [],
   "source": [
    "# Ajuste de Modelo Alternativo usando Funciones de Python \n",
    "\n",
    "FeaturesModel_Alt = ['x7','x8']\n",
    "\n",
    "LinearModel_Alt = smf.ols(\n",
    "    f\"{TargetLabel} ~ \" + ' + '.join(FeaturesModel_Alt),\n",
    "    data = DatasetFutbol,\n",
    ").fit()"
   ]
  },
  {
   "cell_type": "code",
   "execution_count": 215,
   "id": "082b0e06",
   "metadata": {},
   "outputs": [],
   "source": [
    "# Ajuste de Modelo Alternativo de forma Manual\n",
    "\n",
    "DataMatrixX_Alt = np.concat(\n",
    "        [\n",
    "            np.ones((SizeN,1)),\n",
    "            DatasetFutbol[FeaturesModel_Alt].to_numpy()\n",
    "        ],\n",
    "        axis=1,\n",
    "    )\n",
    "\n",
    "EstimateBetas_Alt = np.linalg.inv(DataMatrixX_Alt.T@DataMatrixX_Alt) @ DataMatrixX_Alt.T @ RealValuesY"
   ]
  },
  {
   "cell_type": "code",
   "execution_count": 221,
   "id": "5d2c3638",
   "metadata": {},
   "outputs": [
    {
     "name": "stdout",
     "output_type": "stream",
     "text": [
      "F_1 :: 3.0087865704473615\n"
     ]
    },
    {
     "data": {
      "text/html": [
       "<div>\n",
       "<style scoped>\n",
       "    .dataframe tbody tr th:only-of-type {\n",
       "        vertical-align: middle;\n",
       "    }\n",
       "\n",
       "    .dataframe tbody tr th {\n",
       "        vertical-align: top;\n",
       "    }\n",
       "\n",
       "    .dataframe thead th {\n",
       "        text-align: right;\n",
       "    }\n",
       "</style>\n",
       "<table border=\"1\" class=\"dataframe\">\n",
       "  <thead>\n",
       "    <tr style=\"text-align: right;\">\n",
       "      <th></th>\n",
       "      <th>Suma de Cuadrados</th>\n",
       "      <th>Grados de Libertad</th>\n",
       "      <th>Cuadrados Medios</th>\n",
       "      <th>F_0</th>\n",
       "    </tr>\n",
       "    <tr>\n",
       "      <th>Fuente Variación</th>\n",
       "      <th></th>\n",
       "      <th></th>\n",
       "      <th></th>\n",
       "      <th></th>\n",
       "    </tr>\n",
       "  </thead>\n",
       "  <tbody>\n",
       "    <tr>\n",
       "      <th>Regresión</th>\n",
       "      <td>179.066188</td>\n",
       "      <td>2.0</td>\n",
       "      <td>89.533094</td>\n",
       "      <td>15.134254</td>\n",
       "    </tr>\n",
       "    <tr>\n",
       "      <th>Residuales</th>\n",
       "      <td>147.898098</td>\n",
       "      <td>25.0</td>\n",
       "      <td>5.915924</td>\n",
       "      <td>NaN</td>\n",
       "    </tr>\n",
       "    <tr>\n",
       "      <th>Total</th>\n",
       "      <td>326.964286</td>\n",
       "      <td>27.0</td>\n",
       "      <td>12.109788</td>\n",
       "      <td>NaN</td>\n",
       "    </tr>\n",
       "  </tbody>\n",
       "</table>\n",
       "</div>"
      ],
      "text/plain": [
       "                  Suma de Cuadrados  Grados de Libertad  Cuadrados Medios  \\\n",
       "Fuente Variación                                                            \n",
       "Regresión                179.066188                 2.0         89.533094   \n",
       "Residuales               147.898098                25.0          5.915924   \n",
       "Total                    326.964286                27.0         12.109788   \n",
       "\n",
       "                        F_0  \n",
       "Fuente Variación             \n",
       "Regresión         15.134254  \n",
       "Residuales              NaN  \n",
       "Total                   NaN  "
      ]
     },
     "execution_count": 221,
     "metadata": {},
     "output_type": "execute_result"
    }
   ],
   "source": [
    "# Tabla de ANOVA con el nuevo modelo\n",
    "\n",
    "print(f'F_1 :: {F_1}')\n",
    "\n",
    "ANOVA_Alt = ANOVATable(LinearModel_Alt)\n",
    "ANOVA_Alt"
   ]
  },
  {
   "cell_type": "markdown",
   "id": "1f27d7f9",
   "metadata": {},
   "source": [
    "## **j**. Métricas del Modelo Alternativo"
   ]
  },
  {
   "cell_type": "markdown",
   "id": "60341c2d",
   "metadata": {},
   "source": [
    "Como se mencionó en la sección anterior, [i. Modelo de Regresión Alternativo](#i-modelo-de-regresión-alternativo), este modelo tiene un peor comportamiento para predecir respecto al anterior, y esto se muestra al considerar las métricas que tiene las cuales decayeron en $0.2$ puntos. Junto con que las predicciones generadas por este nuevo modelo se encuentran más dispersas respecto a los valores reales, no se alinean a la identidad."
   ]
  },
  {
   "cell_type": "code",
   "execution_count": 222,
   "id": "ed3d8a01",
   "metadata": {},
   "outputs": [
    {
     "name": "stdout",
     "output_type": "stream",
     "text": [
      "R^2 :: 0.5476628350557938\n",
      "R^2 Adjustada:: 0.5114758618602573\n"
     ]
    }
   ],
   "source": [
    "# Scores usando el Modelo\n",
    "\n",
    "print(f'R^2 :: {LinearModel_Alt.rsquared}')\n",
    "print(f'R^2 Adjustada:: {LinearModel_Alt.rsquared_adj}')"
   ]
  },
  {
   "cell_type": "code",
   "execution_count": 223,
   "id": "de0d7b46",
   "metadata": {},
   "outputs": [
    {
     "name": "stdout",
     "output_type": "stream",
     "text": [
      "R^2 :: 0.5476628350557938\n",
      "R^2 Adjustada:: 0.5114758618602573\n"
     ]
    }
   ],
   "source": [
    "# Scores usando Operaciones Manuales\n",
    "\n",
    "RSquared = float.__truediv__(*ANOVA_Alt['Suma de Cuadrados'][['Regresión','Total']])\n",
    "RSquared_Adj = 1-((1-RSquared)*ANOVA_Alt.loc['Total','Grados de Libertad'])/(ANOVA_Alt.loc['Residuales','Grados de Libertad'])\n",
    "\n",
    "print(f'R^2 :: {RSquared}')\n",
    "print(f'R^2 Adjustada:: {RSquared_Adj}')"
   ]
  },
  {
   "cell_type": "code",
   "execution_count": 224,
   "id": "12098474",
   "metadata": {},
   "outputs": [
    {
     "data": {
      "image/png": "[encoded data removed]",
      "text/plain": [
       "<Figure size 640x480 with 1 Axes>"
      ]
     },
     "metadata": {},
     "output_type": "display_data"
    }
   ],
   "source": [
    "# Plot de los valores esperados (observados) y estimados\n",
    "\n",
    "fig , axes = plt.subplots()\n",
    "\n",
    "EstimateValuesY_Alt = DataMatrixX_Alt@EstimateBetas_Alt\n",
    "sns.scatterplot(\n",
    "    x = RealValuesY[:,0],\n",
    "    y = EstimateValuesY_Alt[:,0],\n",
    "    ax = axes,\n",
    ")\n",
    "\n",
    "axes.axline(\n",
    "    (0,0),\n",
    "    slope = 1,\n",
    "    color = 'gray',\n",
    "    linestyle = ':',\n",
    ")\n",
    "\n",
    "axes.set_title('Ajuste del Modelo')\n",
    "axes.set_xlabel('Valores Observados')\n",
    "axes.set_ylabel('Valores Estimados');"
   ]
  },
  {
   "cell_type": "markdown",
   "id": "4c1983fd",
   "metadata": {},
   "source": [
    "## **k**. Intervalos de Confianza en el Modelo Alternativo"
   ]
  },
  {
   "cell_type": "markdown",
   "id": "9a33f757",
   "metadata": {},
   "source": [
    "### 1. Coeficiente de Regresión $\\beta_7$"
   ]
  },
  {
   "cell_type": "markdown",
   "id": "905a6be7",
   "metadata": {},
   "source": [
    "Se generó un intervalo de una mayor longitud, esto se relaciona con que existe una mayor incertidumbre sobre el valor real de $\\beta_7$ y sobre su importancia para predecir la variable de respuesta. Todo esto provoca que se incremente la longitud del intervalo y pierda robustez este nuevo modelo."
   ]
  },
  {
   "cell_type": "code",
   "execution_count": 227,
   "id": "c7d53539",
   "metadata": {},
   "outputs": [
    {
     "name": "stdout",
     "output_type": "stream",
     "text": [
      "x7 , 17.94431852007709 :: [17.69878336645282 , 18.18985367370136] , Longitud 0.49107030724854184\n"
     ]
    }
   ],
   "source": [
    "# Intervalos de Confianza para Coeficientes\n",
    "\n",
    "ConfidenceIntervalsCoefficient(\n",
    "    LinearModel_Alt,\n",
    "    DatasetFutbol,\n",
    "    FeaturesModel_Alt,\n",
    "    [0],\n",
    ")"
   ]
  },
  {
   "cell_type": "markdown",
   "id": "10a089b2",
   "metadata": {},
   "source": [
    "### 2. Respuesta Media"
   ]
  },
  {
   "cell_type": "markdown",
   "id": "ec74ee93",
   "metadata": {},
   "source": [
    "Debido al deterioro de este nuevo modelo, los intervalos de confianza incrementaron, haciendo que la respuesta media de las predicciones tengan intervalos de confianza tamaños más grandes; como lo que pasó en este caso, el cual se hizo 0.6 más grande, es decir, una mayor incertidumbre sobre la predicción."
   ]
  },
  {
   "cell_type": "code",
   "execution_count": 228,
   "id": "e2a9ed57",
   "metadata": {},
   "outputs": [
    {
     "name": "stdout",
     "output_type": "stream",
     "text": [
      "[0] :: 5.8286434997258 <= 6.92624256625235 <= 8.0238416327789 , Longitud 2.1951981330531005\n"
     ]
    }
   ],
   "source": [
    "ConfidenceIntervalsMeanResponse(\n",
    "    LinearModel_Alt,\n",
    "    DatasetFutbol,\n",
    "    FeaturesModel_Alt,\n",
    "    Observations,\n",
    ")"
   ]
  }
 ],
 "metadata": {
  "kernelspec": {
   "display_name": "data_science",
   "language": "python",
   "name": "python3"
  },
  "language_info": {
   "codemirror_mode": {
    "name": "ipython",
    "version": 3
   },
   "file_extension": ".py",
   "mimetype": "text/x-python",
   "name": "python",
   "nbconvert_exporter": "python",
   "pygments_lexer": "ipython3",
   "version": "3.13.3"
  }
 },
 "nbformat": 4,
 "nbformat_minor": 5
}

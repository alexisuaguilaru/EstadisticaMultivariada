{
 "cells": [
  {
   "cell_type": "markdown",
   "id": "075b2a9b",
   "metadata": {},
   "source": [
    "# Ejerccio de Tarea 01\n",
    "Para los datos de la [Liga Nacional de Fútbol](https://github.com/HaydeePeruyero/MultivariateStatisticalAnalysis/blob/main/data/Liga_nacional_de_futbol.csv)\n",
    "\n",
    "**a**. Ajustar un modelo de regresión lineal múltiple que relacione la cantidad de juegos ganados con las yardas por aire del equipo ($x_2$), el porcentaje de jugadas por tierra ($x_7$) y las yardas por tierra del contrario ($x_8$).  \n",
    "\n",
    "**b**. Formar la tabla de análisis de varianza y probar la significancia de la regresión.  \n",
    "\n",
    "**c**. Calcular el estadístico *t* para probar las hipótesis $H_0 : \\beta_2 = 0$, $H_0 : \\beta_7 = 0$ y $H_0 : \\beta_8 = 0$. ¿Qué conclusiones se pueden sacar acerca del papel de las variables $x_2$, $x_7$ y $x_8$ en el modelo?  \n",
    "\n",
    "**d**. Calcular $R^2$ y $R^2_{adj}$ para este modelo.  \n",
    "\n",
    "**e**. Trazar una gráfica de probabilidad normal de los residuales. ¿Parece haber algún problema con la hipótesis de normalidad?  \n",
    "\n",
    "**f**. Trazar e interpretar una gráfica de los residuales en función de la respuesta predicha.  \n",
    "\n",
    "**g**. Trazar las gráficas de los residuales en función de cada una de las variables regresoras. ¿Implican esas gráficas que se especificó en forma correcta el regresor?  \n",
    "\n",
    "**h**. Calcular un intervalo de confianza de $95\\%$ para $\\beta_7$ y un intervalo de confianza de $95\\%$ para la cantidad media de juegos ganados por un equipo cuando $x_2 = 2300$, $x_7 = 56$ y $x_8 = 2100$.  \n",
    "\n",
    "**i**. Ajustar un modelo a esos datos, usando solo $x_7$ y $x_8$ como regresores y probar la significancia de la regresión.  \n",
    "\n",
    "**j**. Calcular $R^2$ y $R^2_{adj}$. Compararlos con los resultados del modelo anterior.  \n",
    "\n",
    "**k**. Calcular un intervalo de confianza de $95\\%$ para $\\beta_7$. También, un intervalo de confianza de $95\\%$ para la cantidad media de juegos ganados por un equipo cuando $x_7 = 56$ y $x_8 = 2100$. Comparar las longitudes de esos intervalos de confianza con las longitudes de los correspondientes al modelo anterior.  \n",
    "\n",
    "**l**. ¿Qué conclusiones se pueden sacar de este problema, acerca de las consecuencias de omitir un regresor importante de un modelo?"
   ]
  },
  {
   "cell_type": "markdown",
   "id": "1fbe2b12",
   "metadata": {},
   "source": [
    "## 0. Importar"
   ]
  },
  {
   "cell_type": "markdown",
   "id": "301934dd",
   "metadata": {},
   "source": [
    "### 0.1. Importar Librerías"
   ]
  },
  {
   "cell_type": "code",
   "execution_count": 1,
   "id": "481ba464",
   "metadata": {},
   "outputs": [],
   "source": [
    "import pandas as pd\n",
    "import numpy as np\n",
    "\n",
    "import matplotlib.pyplot as plt\n",
    "import seaborn as sns\n",
    "\n",
    "import statsmodels.api as sm\n",
    "import statsmodels.formula.api as smf\n",
    "\n",
    "from scipy import stats"
   ]
  },
  {
   "cell_type": "markdown",
   "id": "7dc3403e",
   "metadata": {},
   "source": [
    "### 0.2. Cargar Datos"
   ]
  },
  {
   "cell_type": "code",
   "execution_count": null,
   "id": "f5f31f3d",
   "metadata": {},
   "outputs": [
    {
     "data": {
      "text/html": [
       "<div>\n",
       "<style scoped>\n",
       "    .dataframe tbody tr th:only-of-type {\n",
       "        vertical-align: middle;\n",
       "    }\n",
       "\n",
       "    .dataframe tbody tr th {\n",
       "        vertical-align: top;\n",
       "    }\n",
       "\n",
       "    .dataframe thead th {\n",
       "        text-align: right;\n",
       "    }\n",
       "</style>\n",
       "<table border=\"1\" class=\"dataframe\">\n",
       "  <thead>\n",
       "    <tr style=\"text-align: right;\">\n",
       "      <th></th>\n",
       "      <th>y</th>\n",
       "      <th>x1</th>\n",
       "      <th>x2</th>\n",
       "      <th>x3</th>\n",
       "      <th>x4</th>\n",
       "      <th>x5</th>\n",
       "      <th>x6</th>\n",
       "      <th>x7</th>\n",
       "      <th>x8</th>\n",
       "      <th>x9</th>\n",
       "    </tr>\n",
       "  </thead>\n",
       "  <tbody>\n",
       "    <tr>\n",
       "      <th>0</th>\n",
       "      <td>10</td>\n",
       "      <td>2113</td>\n",
       "      <td>1985</td>\n",
       "      <td>38.9</td>\n",
       "      <td>64.7</td>\n",
       "      <td>4</td>\n",
       "      <td>868</td>\n",
       "      <td>59.7</td>\n",
       "      <td>2205</td>\n",
       "      <td>1917</td>\n",
       "    </tr>\n",
       "    <tr>\n",
       "      <th>1</th>\n",
       "      <td>11</td>\n",
       "      <td>2003</td>\n",
       "      <td>2855</td>\n",
       "      <td>38.8</td>\n",
       "      <td>61.3</td>\n",
       "      <td>3</td>\n",
       "      <td>615</td>\n",
       "      <td>55.0</td>\n",
       "      <td>2096</td>\n",
       "      <td>1575</td>\n",
       "    </tr>\n",
       "    <tr>\n",
       "      <th>2</th>\n",
       "      <td>11</td>\n",
       "      <td>2957</td>\n",
       "      <td>1737</td>\n",
       "      <td>40.1</td>\n",
       "      <td>60.0</td>\n",
       "      <td>14</td>\n",
       "      <td>914</td>\n",
       "      <td>65.6</td>\n",
       "      <td>1847</td>\n",
       "      <td>2175</td>\n",
       "    </tr>\n",
       "    <tr>\n",
       "      <th>3</th>\n",
       "      <td>13</td>\n",
       "      <td>2285</td>\n",
       "      <td>2905</td>\n",
       "      <td>41.6</td>\n",
       "      <td>45.3</td>\n",
       "      <td>-4</td>\n",
       "      <td>957</td>\n",
       "      <td>61.4</td>\n",
       "      <td>1903</td>\n",
       "      <td>2476</td>\n",
       "    </tr>\n",
       "    <tr>\n",
       "      <th>4</th>\n",
       "      <td>10</td>\n",
       "      <td>2971</td>\n",
       "      <td>1666</td>\n",
       "      <td>39.2</td>\n",
       "      <td>53.8</td>\n",
       "      <td>15</td>\n",
       "      <td>836</td>\n",
       "      <td>66.1</td>\n",
       "      <td>1457</td>\n",
       "      <td>1866</td>\n",
       "    </tr>\n",
       "  </tbody>\n",
       "</table>\n",
       "</div>"
      ],
      "text/plain": [
       "    y    x1    x2    x3    x4  x5   x6    x7    x8    x9\n",
       "0  10  2113  1985  38.9  64.7   4  868  59.7  2205  1917\n",
       "1  11  2003  2855  38.8  61.3   3  615  55.0  2096  1575\n",
       "2  11  2957  1737  40.1  60.0  14  914  65.6  1847  2175\n",
       "3  13  2285  2905  41.6  45.3  -4  957  61.4  1903  2476\n",
       "4  10  2971  1666  39.2  53.8  15  836  66.1  1457  1866"
      ]
     },
     "execution_count": 4,
     "metadata": {},
     "output_type": "execute_result"
    }
   ],
   "source": [
    "DatasetFutbol = pd.read_csv(\n",
    "    './Liga_nacional_de_futbol.csv',\n",
    ")\n",
    "\n",
    "TargetLabel , *FeatureLabels = DatasetFutbol.columns\n",
    "\n",
    "DatasetFutbol.head()"
   ]
  },
  {
   "cell_type": "markdown",
   "id": "aef6b0a5",
   "metadata": {},
   "source": [
    "## **a**. Modelo de Regresión"
   ]
  },
  {
   "cell_type": "code",
   "execution_count": 36,
   "id": "c67fd65f",
   "metadata": {},
   "outputs": [],
   "source": [
    "FeaturesModel = ['x2','x7','x8']\n",
    "LinearModel = smf.ols(\n",
    "    f\"{TargetLabel} ~ \" + ' + '.join(FeaturesModel),\n",
    "    data = DatasetFutbol\n",
    ").fit()"
   ]
  },
  {
   "cell_type": "code",
   "execution_count": 37,
   "id": "9454648d",
   "metadata": {},
   "outputs": [
    {
     "data": {
      "text/plain": [
       "<seaborn.axisgrid.PairGrid at 0x1687709ac40>"
      ]
     },
     "execution_count": 37,
     "metadata": {},
     "output_type": "execute_result"
    },
    {
     "data": {
      "image/png": "[encoded data removed]",
      "text/plain": [
       "<Figure size 1000x1000 with 20 Axes>"
      ]
     },
     "metadata": {},
     "output_type": "display_data"
    }
   ],
   "source": [
    "sns.pairplot(\n",
    "    DatasetFutbol[[*FeaturesModel,TargetLabel]]\n",
    ")"
   ]
  },
  {
   "cell_type": "markdown",
   "id": "7160617e",
   "metadata": {},
   "source": [
    "## **b**. Tabla de Análisis de Varianza"
   ]
  },
  {
   "cell_type": "code",
   "execution_count": 29,
   "id": "33875cd1",
   "metadata": {},
   "outputs": [],
   "source": [
    "def ANOVATable(\n",
    "        LinearModel,\n",
    "    ) -> pd.DataFrame:\n",
    "    \n",
    "    ColumnsANOVA = [\n",
    "        'Fuente Variación',\n",
    "        'Suma de Cuadrados',\n",
    "        'Grados de Libertad',\n",
    "        'Cuadrados Medios',\n",
    "        'F_0',\n",
    "    ]\n",
    "    Table = pd.DataFrame(columns=ColumnsANOVA)\n",
    "    Table['Fuente Variación'] = ['Regresión','Residuales','Total']\n",
    "\n",
    "    MeanSquares_Reg = LinearModel.mse_model\n",
    "    MeanSquares_Res = LinearModel.mse_resid\n",
    "    MeanSquares_Tot = LinearModel.mse_total\n",
    "    Table['Cuadrados Medios'] = [MeanSquares_Reg,MeanSquares_Res,MeanSquares_Tot]\n",
    "\n",
    "    DegreeFreedom_Reg = LinearModel.df_model\n",
    "    DegreeFreedom_Res = LinearModel.df_resid\n",
    "    DegreeFreedom_Tot = DegreeFreedom_Reg + DegreeFreedom_Res\n",
    "    Table['Grados de Libertad'] = [DegreeFreedom_Reg,DegreeFreedom_Res,DegreeFreedom_Tot]\n",
    "\n",
    "    Table['Suma de Cuadrados'] = Table['Cuadrados Medios']*Table['Grados de Libertad']\n",
    "\n",
    "    Table['F_0'] = [LinearModel.fvalue,np.nan,np.nan]\n",
    "\n",
    "    return Table.set_index('Fuente Variación')"
   ]
  },
  {
   "cell_type": "code",
   "execution_count": null,
   "id": "fbb4ddd2",
   "metadata": {},
   "outputs": [
    {
     "data": {
      "text/html": [
       "<div>\n",
       "<style scoped>\n",
       "    .dataframe tbody tr th:only-of-type {\n",
       "        vertical-align: middle;\n",
       "    }\n",
       "\n",
       "    .dataframe tbody tr th {\n",
       "        vertical-align: top;\n",
       "    }\n",
       "\n",
       "    .dataframe thead th {\n",
       "        text-align: right;\n",
       "    }\n",
       "</style>\n",
       "<table border=\"1\" class=\"dataframe\">\n",
       "  <thead>\n",
       "    <tr style=\"text-align: right;\">\n",
       "      <th></th>\n",
       "      <th>Suma de Cuadrados</th>\n",
       "      <th>Grados de Libertad</th>\n",
       "      <th>Cuadrados Medios</th>\n",
       "      <th>F_0</th>\n",
       "    </tr>\n",
       "    <tr>\n",
       "      <th>Fuente Variación</th>\n",
       "      <th></th>\n",
       "      <th></th>\n",
       "      <th></th>\n",
       "      <th></th>\n",
       "    </tr>\n",
       "  </thead>\n",
       "  <tbody>\n",
       "    <tr>\n",
       "      <th>Regresión</th>\n",
       "      <td>257.094282</td>\n",
       "      <td>3.0</td>\n",
       "      <td>85.698094</td>\n",
       "      <td>29.43687</td>\n",
       "    </tr>\n",
       "    <tr>\n",
       "      <th>Residuales</th>\n",
       "      <td>69.870004</td>\n",
       "      <td>24.0</td>\n",
       "      <td>2.911250</td>\n",
       "      <td>NaN</td>\n",
       "    </tr>\n",
       "    <tr>\n",
       "      <th>Total</th>\n",
       "      <td>326.964286</td>\n",
       "      <td>27.0</td>\n",
       "      <td>12.109788</td>\n",
       "      <td>NaN</td>\n",
       "    </tr>\n",
       "  </tbody>\n",
       "</table>\n",
       "</div>"
      ],
      "text/plain": [
       "                  Suma de Cuadrados  Grados de Libertad  Cuadrados Medios  \\\n",
       "Fuente Variación                                                            \n",
       "Regresión                257.094282                 3.0         85.698094   \n",
       "Residuales                69.870004                24.0          2.911250   \n",
       "Total                    326.964286                27.0         12.109788   \n",
       "\n",
       "                       F_0  \n",
       "Fuente Variación            \n",
       "Regresión         29.43687  \n",
       "Residuales             NaN  \n",
       "Total                  NaN  "
      ]
     },
     "execution_count": 30,
     "metadata": {},
     "output_type": "execute_result"
    }
   ],
   "source": [
    "ANOVATable(LinearModel)"
   ]
  },
  {
   "cell_type": "markdown",
   "id": "07dabd93",
   "metadata": {},
   "source": [
    "## **c**. Prueba sobre los Coeficientes Individuales de Regresión"
   ]
  },
  {
   "cell_type": "code",
   "execution_count": 31,
   "id": "9288d52a",
   "metadata": {},
   "outputs": [],
   "source": [
    "LevelSignificance = 0.05"
   ]
  },
  {
   "cell_type": "code",
   "execution_count": 49,
   "id": "75075a48",
   "metadata": {},
   "outputs": [],
   "source": [
    "def TestIndividualCoefficients(\n",
    "        LinearModel,\n",
    "        Dataset: pd.DataFrame,\n",
    "        FeaturesModel: list[str],\n",
    "        LevelSignificance: float = 0.05,\n",
    "    ):\n",
    "\n",
    "    CovarianceEstimateBetas = CalculatedCovarianceEstimateBetas(LinearModel,Dataset,FeaturesModel)\n",
    "\n",
    "    t_Value_1 = stats.t.ppf(1-LevelSignificance/2,LinearModel.df_resid)\n",
    "    print(f't_1 :: {t_Value_1}')\n",
    "    print(f'\\nt_0 Values')\n",
    "    for index_feature , (feature,beta_value) in enumerate(LinearModel.params[1:].items(),1):\n",
    "        tValue_0 = beta_value / np.sqrt(CovarianceEstimateBetas[index_feature,index_feature])\n",
    "        print(f'{feature} :: {tValue_0}')\n",
    "\n",
    "\n",
    "def CalculatedCovarianceEstimateBetas(\n",
    "        LinearModel,\n",
    "        Dataset: pd.DataFrame,\n",
    "        FeaturesModel: list[str],\n",
    "    ) -> np.ndarray:\n",
    "\n",
    "    SizeN = Dataset.shape[0]\n",
    "    DataMatrix = np.concat(\n",
    "        [\n",
    "            np.ones((SizeN,1)),\n",
    "            Dataset[FeaturesModel].to_numpy()\n",
    "        ],\n",
    "        axis=1,\n",
    "    )\n",
    "\n",
    "    EstimateSquareSigma = LinearModel.mse_resid\n",
    "    return EstimateSquareSigma*np.linalg.inv(DataMatrix.T@DataMatrix)"
   ]
  },
  {
   "cell_type": "code",
   "execution_count": 50,
   "id": "3136dc59",
   "metadata": {},
   "outputs": [
    {
     "name": "stdout",
     "output_type": "stream",
     "text": [
      "t_1 :: 2.0638985616280205\n",
      "\n",
      "t_0 Values\n",
      "x2 :: 5.177090239985967\n",
      "x7 :: 2.198261682781837\n",
      "x8 :: -3.7710364517268267\n"
     ]
    }
   ],
   "source": [
    "TestIndividualCoefficients(LinearModel,DatasetFutbol,FeaturesModel,)"
   ]
  },
  {
   "cell_type": "markdown",
   "id": "4700a897",
   "metadata": {},
   "source": [
    "## **d**. Métricas del Modelo"
   ]
  },
  {
   "cell_type": "code",
   "execution_count": 52,
   "id": "345f101a",
   "metadata": {},
   "outputs": [
    {
     "name": "stdout",
     "output_type": "stream",
     "text": [
      "R^2 :: 0.7863069233109538\n",
      "R^2 Adjustada:: 0.759595288724823\n"
     ]
    }
   ],
   "source": [
    "print(f'R^2 :: {LinearModel.rsquared}')\n",
    "print(f'R^2 Adjustada:: {LinearModel.rsquared_adj}')"
   ]
  }
 ],
 "metadata": {
  "kernelspec": {
   "display_name": "data_science",
   "language": "python",
   "name": "python3"
  },
  "language_info": {
   "codemirror_mode": {
    "name": "ipython",
    "version": 3
   },
   "file_extension": ".py",
   "mimetype": "text/x-python",
   "name": "python",
   "nbconvert_exporter": "python",
   "pygments_lexer": "ipython3",
   "version": "3.13.3"
  }
 },
 "nbformat": 4,
 "nbformat_minor": 5
}

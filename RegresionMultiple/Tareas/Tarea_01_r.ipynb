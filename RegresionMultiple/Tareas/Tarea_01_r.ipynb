{
 "cells": [
  {
   "cell_type": "markdown",
   "id": "1d82b0e7",
   "metadata": {},
   "source": [
    "## Ejercio de Tarea 01\n",
    "Para los datos de la [Liga Nacional de Fútbol](https://github.com/HaydeePeruyero/MultivariateStatisticalAnalysis/blob/main/data/Liga_nacional_de_futbol.csv)\n",
    "\n",
    "**a**. Ajustar un modelo de regresión lineal múltiple que relacione la cantidad de juegos ganados con las yardas por aire del equipo ($x_2$), el porcentaje de jugadas por tierra ($x_7$) y las yardas por tierra del contrario ($x_8$).  \n",
    "\n",
    "**b**. Formar la tabla de análisis de varianza y probar la significancia de la regresión.  \n",
    "\n",
    "**c**. Calcular el estadístico *t* para probar las hipótesis $H_0 : \\beta_2 = 0$, $H_0 : \\beta_7 = 0$ y $H_0 : \\beta_8 = 0$. ¿Qué conclusiones se pueden sacar acerca del papel de las variables $x_2$, $x_7$ y $x_8$ en el modelo?  \n",
    "\n",
    "**d**. Calcular $R^2$ y $R^2_{adj}$ para este modelo.  \n",
    "\n",
    "**e**. Trazar una gráfica de probabilidad normal de los residuales. ¿Parece haber algún problema con la hipótesis de normalidad?  \n",
    "\n",
    "**f**. Trazar e interpretar una gráfica de los residuales en función de la respuesta predicha.  \n",
    "\n",
    "**g**. Trazar las gráficas de los residuales en función de cada una de las variables regresoras. ¿Implican esas gráficas que se especificó en forma correcta el regresor?  \n",
    "\n",
    "**h**. Calcular un intervalo de confianza de $95\\%$ para $\\beta_7$ y un intervalo de confianza de $95\\%$ para la cantidad media de juegos ganados por un equipo cuando $x_2 = 2300$, $x_7 = 56$ y $x_8 = 2100$.  \n",
    "\n",
    "**i**. Ajustar un modelo a esos datos, usando solo $x_7$ y $x_8$ como regresores y probar la significancia de la regresión.  \n",
    "\n",
    "**j**. Calcular $R^2$ y $R^2_{adj}$. Compararlos con los resultados del modelo anterior.  \n",
    "\n",
    "**k**. Calcular un intervalo de confianza de $95\\%$ para $\\beta_7$. También, un intervalo de confianza de $95\\%$ para la cantidad media de juegos ganados por un equipo cuando $x_7 = 56$ y $x_8 = 2100$. Comparar las longitudes de esos intervalos de confianza con las longitudes de los correspondientes al modelo anterior.  \n",
    "\n",
    "**l**. ¿Qué conclusiones se pueden sacar de este problema, acerca de las consecuencias de omitir un regresor importante de un modelo?"
   ]
  },
  {
   "cell_type": "markdown",
   "id": "afc32899",
   "metadata": {},
   "source": [
    "## 0. Importar "
   ]
  },
  {
   "cell_type": "code",
   "execution_count": 20,
   "id": "8d6f3fd7",
   "metadata": {
    "vscode": {
     "languageId": "r"
    }
   },
   "outputs": [],
   "source": [
    "library(GGally)\n",
    "library(ggplot2)"
   ]
  },
  {
   "cell_type": "code",
   "execution_count": 21,
   "id": "ace08179",
   "metadata": {
    "vscode": {
     "languageId": "r"
    }
   },
   "outputs": [
    {
     "data": {
      "text/html": [
       "<table class=\"dataframe\">\n",
       "<caption>A data.frame: 6 × 10</caption>\n",
       "<thead>\n",
       "\t<tr><th></th><th scope=col>y</th><th scope=col>x1</th><th scope=col>x2</th><th scope=col>x3</th><th scope=col>x4</th><th scope=col>x5</th><th scope=col>x6</th><th scope=col>x7</th><th scope=col>x8</th><th scope=col>x9</th></tr>\n",
       "\t<tr><th></th><th scope=col>&lt;int&gt;</th><th scope=col>&lt;int&gt;</th><th scope=col>&lt;int&gt;</th><th scope=col>&lt;dbl&gt;</th><th scope=col>&lt;dbl&gt;</th><th scope=col>&lt;int&gt;</th><th scope=col>&lt;int&gt;</th><th scope=col>&lt;dbl&gt;</th><th scope=col>&lt;int&gt;</th><th scope=col>&lt;int&gt;</th></tr>\n",
       "</thead>\n",
       "<tbody>\n",
       "\t<tr><th scope=row>1</th><td>10</td><td>2113</td><td>1985</td><td>38.9</td><td>64.7</td><td> 4</td><td>868</td><td>59.7</td><td>2205</td><td>1917</td></tr>\n",
       "\t<tr><th scope=row>2</th><td>11</td><td>2003</td><td>2855</td><td>38.8</td><td>61.3</td><td> 3</td><td>615</td><td>55.0</td><td>2096</td><td>1575</td></tr>\n",
       "\t<tr><th scope=row>3</th><td>11</td><td>2957</td><td>1737</td><td>40.1</td><td>60.0</td><td>14</td><td>914</td><td>65.6</td><td>1847</td><td>2175</td></tr>\n",
       "\t<tr><th scope=row>4</th><td>13</td><td>2285</td><td>2905</td><td>41.6</td><td>45.3</td><td>-4</td><td>957</td><td>61.4</td><td>1903</td><td>2476</td></tr>\n",
       "\t<tr><th scope=row>5</th><td>10</td><td>2971</td><td>1666</td><td>39.2</td><td>53.8</td><td>15</td><td>836</td><td>66.1</td><td>1457</td><td>1866</td></tr>\n",
       "\t<tr><th scope=row>6</th><td>11</td><td>2309</td><td>2927</td><td>39.7</td><td>74.1</td><td> 8</td><td>786</td><td>61.0</td><td>1848</td><td>2339</td></tr>\n",
       "</tbody>\n",
       "</table>\n"
      ],
      "text/latex": [
       "A data.frame: 6 × 10\n",
       "\\begin{tabular}{r|llllllllll}\n",
       "  & y & x1 & x2 & x3 & x4 & x5 & x6 & x7 & x8 & x9\\\\\n",
       "  & <int> & <int> & <int> & <dbl> & <dbl> & <int> & <int> & <dbl> & <int> & <int>\\\\\n",
       "\\hline\n",
       "\t1 & 10 & 2113 & 1985 & 38.9 & 64.7 &  4 & 868 & 59.7 & 2205 & 1917\\\\\n",
       "\t2 & 11 & 2003 & 2855 & 38.8 & 61.3 &  3 & 615 & 55.0 & 2096 & 1575\\\\\n",
       "\t3 & 11 & 2957 & 1737 & 40.1 & 60.0 & 14 & 914 & 65.6 & 1847 & 2175\\\\\n",
       "\t4 & 13 & 2285 & 2905 & 41.6 & 45.3 & -4 & 957 & 61.4 & 1903 & 2476\\\\\n",
       "\t5 & 10 & 2971 & 1666 & 39.2 & 53.8 & 15 & 836 & 66.1 & 1457 & 1866\\\\\n",
       "\t6 & 11 & 2309 & 2927 & 39.7 & 74.1 &  8 & 786 & 61.0 & 1848 & 2339\\\\\n",
       "\\end{tabular}\n"
      ],
      "text/markdown": [
       "\n",
       "A data.frame: 6 × 10\n",
       "\n",
       "| <!--/--> | y &lt;int&gt; | x1 &lt;int&gt; | x2 &lt;int&gt; | x3 &lt;dbl&gt; | x4 &lt;dbl&gt; | x5 &lt;int&gt; | x6 &lt;int&gt; | x7 &lt;dbl&gt; | x8 &lt;int&gt; | x9 &lt;int&gt; |\n",
       "|---|---|---|---|---|---|---|---|---|---|---|\n",
       "| 1 | 10 | 2113 | 1985 | 38.9 | 64.7 |  4 | 868 | 59.7 | 2205 | 1917 |\n",
       "| 2 | 11 | 2003 | 2855 | 38.8 | 61.3 |  3 | 615 | 55.0 | 2096 | 1575 |\n",
       "| 3 | 11 | 2957 | 1737 | 40.1 | 60.0 | 14 | 914 | 65.6 | 1847 | 2175 |\n",
       "| 4 | 13 | 2285 | 2905 | 41.6 | 45.3 | -4 | 957 | 61.4 | 1903 | 2476 |\n",
       "| 5 | 10 | 2971 | 1666 | 39.2 | 53.8 | 15 | 836 | 66.1 | 1457 | 1866 |\n",
       "| 6 | 11 | 2309 | 2927 | 39.7 | 74.1 |  8 | 786 | 61.0 | 1848 | 2339 |\n",
       "\n"
      ],
      "text/plain": [
       "  y  x1   x2   x3   x4   x5 x6  x7   x8   x9  \n",
       "1 10 2113 1985 38.9 64.7  4 868 59.7 2205 1917\n",
       "2 11 2003 2855 38.8 61.3  3 615 55.0 2096 1575\n",
       "3 11 2957 1737 40.1 60.0 14 914 65.6 1847 2175\n",
       "4 13 2285 2905 41.6 45.3 -4 957 61.4 1903 2476\n",
       "5 10 2971 1666 39.2 53.8 15 836 66.1 1457 1866\n",
       "6 11 2309 2927 39.7 74.1  8 786 61.0 1848 2339"
      ]
     },
     "metadata": {},
     "output_type": "display_data"
    }
   ],
   "source": [
    "DatasetFutbol <- read.csv('./Liga_nacional_de_futbol.csv')\n",
    "\n",
    "head(DatasetFutbol)"
   ]
  },
  {
   "cell_type": "markdown",
   "id": "f48d92a4",
   "metadata": {},
   "source": [
    "## **a**. Modelo de Regresión"
   ]
  },
  {
   "cell_type": "markdown",
   "id": "56aaac7e",
   "metadata": {},
   "source": [
    "Por medio del plot generado, se puede apreciar que los atributos (variables de regresión) consideradas capturan una tendendecia o relación con la variable de respuesta. Por lo que se tiene un modelo, que a priori, podría generar buenas predicciones (estimaciones)."
   ]
  },
  {
   "cell_type": "code",
   "execution_count": 22,
   "id": "9120448f",
   "metadata": {
    "vscode": {
     "languageId": "r"
    }
   },
   "outputs": [],
   "source": [
    "# Ajuste de Modelo usando Funciones de R \n",
    "\n",
    "LinearModel <- lm('y ~ x2 + x7 + x8',DatasetFutbol)"
   ]
  },
  {
   "cell_type": "code",
   "execution_count": 23,
   "id": "3162a219",
   "metadata": {
    "vscode": {
     "languageId": "r"
    }
   },
   "outputs": [],
   "source": [
    "#' Función para calcular los valores de los parámetro betas para un modelo lineal.\n",
    "ManualLinearModel <- function(\n",
    "    Dataset,\n",
    "    FeaturesModel,\n",
    "    TargetLabel\n",
    ")\n",
    "{\n",
    "    DataMatrixX <- as.matrix(cbind(x0=1,Dataset[FeaturesModel]))\n",
    "    RealValuesY <- as.matrix(Dataset[TargetLabel])\n",
    "    EstimateBetas <- solve(t(DataMatrixX)%*%DataMatrixX) %*% t(DataMatrixX) %*% RealValuesY\n",
    "\n",
    "    return(list(\n",
    "        DataMatrixX = DataMatrixX,\n",
    "        RealValuesY = RealValuesY,\n",
    "        EstimateBetas = EstimateBetas\n",
    "    ))\n",
    "}"
   ]
  },
  {
   "cell_type": "code",
   "execution_count": 24,
   "id": "53752d82",
   "metadata": {
    "vscode": {
     "languageId": "r"
    }
   },
   "outputs": [
    {
     "data": {
      "text/html": [
       "<table class=\"dataframe\">\n",
       "<caption>A matrix: 4 × 1 of type dbl</caption>\n",
       "<thead>\n",
       "\t<tr><th></th><th scope=col>y</th></tr>\n",
       "</thead>\n",
       "<tbody>\n",
       "\t<tr><th scope=row>x0</th><td>-1.808372059</td></tr>\n",
       "\t<tr><th scope=row>x2</th><td> 0.003598070</td></tr>\n",
       "\t<tr><th scope=row>x7</th><td> 0.193960210</td></tr>\n",
       "\t<tr><th scope=row>x8</th><td>-0.004815494</td></tr>\n",
       "</tbody>\n",
       "</table>\n"
      ],
      "text/latex": [
       "A matrix: 4 × 1 of type dbl\n",
       "\\begin{tabular}{r|l}\n",
       "  & y\\\\\n",
       "\\hline\n",
       "\tx0 & -1.808372059\\\\\n",
       "\tx2 &  0.003598070\\\\\n",
       "\tx7 &  0.193960210\\\\\n",
       "\tx8 & -0.004815494\\\\\n",
       "\\end{tabular}\n"
      ],
      "text/markdown": [
       "\n",
       "A matrix: 4 × 1 of type dbl\n",
       "\n",
       "| <!--/--> | y |\n",
       "|---|---|\n",
       "| x0 | -1.808372059 |\n",
       "| x2 |  0.003598070 |\n",
       "| x7 |  0.193960210 |\n",
       "| x8 | -0.004815494 |\n",
       "\n"
      ],
      "text/plain": [
       "   y           \n",
       "x0 -1.808372059\n",
       "x2  0.003598070\n",
       "x7  0.193960210\n",
       "x8 -0.004815494"
      ]
     },
     "metadata": {},
     "output_type": "display_data"
    }
   ],
   "source": [
    "# Ajuste de Modelo de forma Manual\n",
    "\n",
    "FeaturesModel <- c('x2','x7','x8')\n",
    "TargetLabel <- 'y'\n",
    "\n",
    "LinearModelManual <- ManualLinearModel(DatasetFutbol,FeaturesModel,TargetLabel)\n",
    "DataMatrixX <- LinearModelManual$DataMatrixX\n",
    "RealValuesY <- LinearModelManual$RealValuesY\n",
    "EstimateBetas <- LinearModelManual$EstimateBetas\n",
    "\n",
    "EstimateBetas"
   ]
  },
  {
   "cell_type": "code",
   "execution_count": 25,
   "id": "a5b03cb2",
   "metadata": {
    "vscode": {
     "languageId": "r"
    }
   },
   "outputs": [
    {
     "data": {
      "text/plain": [
       "\n",
       "Call:\n",
       "lm(formula = \"y ~ x2 + x7 + x8\", data = DatasetFutbol)\n",
       "\n",
       "Residuals:\n",
       "    Min      1Q  Median      3Q     Max \n",
       "-3.0370 -0.7129 -0.2043  1.1101  3.7049 \n",
       "\n",
       "Coefficients:\n",
       "             Estimate Std. Error t value Pr(>|t|)    \n",
       "(Intercept) -1.808372   7.900859  -0.229 0.820899    \n",
       "x2           0.003598   0.000695   5.177 2.66e-05 ***\n",
       "x7           0.193960   0.088233   2.198 0.037815 *  \n",
       "x8          -0.004816   0.001277  -3.771 0.000938 ***\n",
       "---\n",
       "Signif. codes:  0 '***' 0.001 '**' 0.01 '*' 0.05 '.' 0.1 ' ' 1\n",
       "\n",
       "Residual standard error: 1.706 on 24 degrees of freedom\n",
       "Multiple R-squared:  0.7863,\tAdjusted R-squared:  0.7596 \n",
       "F-statistic: 29.44 on 3 and 24 DF,  p-value: 3.273e-08\n"
      ]
     },
     "metadata": {},
     "output_type": "display_data"
    }
   ],
   "source": [
    "summary(LinearModel)"
   ]
  },
  {
   "cell_type": "code",
   "execution_count": 150,
   "id": "234fad68",
   "metadata": {
    "vscode": {
     "languageId": "r"
    }
   },
   "outputs": [],
   "source": [
    "#' Función para generar el plot de dispersión entre los atributos y la variable de respuesta.\n",
    "PlotScatterReg <- function(\n",
    "    Dataset,\n",
    "    FeaturesModel,\n",
    "    TargetLabel,\n",
    "    TargetName\n",
    ")\n",
    "{\n",
    "    plot <- ggpairs(\n",
    "    Dataset[c(FeaturesModel,TargetLabel)],\n",
    "        title = paste('Relación de Atributos con\\n',TargetName),\n",
    "        lower = list(continuous = wrap('smooth',method='lm',se=FALSE,color='blue')),\n",
    "        upper = list(continuous = wrap('smooth',method='lm',se=FALSE,color='blue')),\n",
    "        diag = list(continuous = wrap('barDiag',bins=6,fill='blue'))\n",
    "    ) + \n",
    "    theme_minimal() + \n",
    "    theme(\n",
    "        plot.title = element_text(hjust=0.5,size=18),\n",
    "        axis.text = element_text(size=10)\n",
    "    )\n",
    "\n",
    "    return(plot)\n",
    "}"
   ]
  },
  {
   "cell_type": "code",
   "execution_count": 151,
   "id": "98f3ae1a",
   "metadata": {
    "vscode": {
     "languageId": "r"
    }
   },
   "outputs": [
    {
     "data": {
      "image/png": "[encoded data removed]",
      "text/plain": [
       "plot without title"
      ]
     },
     "metadata": {
      "image/png": {
       "height": 420,
       "width": 420
      }
     },
     "output_type": "display_data"
    }
   ],
   "source": [
    "PlotScatterReg(\n",
    "    DatasetFutbol,\n",
    "    FeaturesModel,\n",
    "    TargetLabel,\n",
    "    'Cantidad de Juegos Ganados'\n",
    ")"
   ]
  },
  {
   "cell_type": "markdown",
   "id": "df41f5e0",
   "metadata": {},
   "source": [
    "## **b**. Tabla de Análisis de Varianza"
   ]
  },
  {
   "cell_type": "markdown",
   "id": "6ded0519",
   "metadata": {},
   "source": [
    "Usando los valores que se encuentran en la columna de `Cuadrados Medios`, permiten decir que el modelo se ajusta adecuadamente, debido a que el valor en los Cuadrados Medios Residuales es un valor bajo. Aplicando la prueba de significancia de la regresión, se tiene que el estadistico $F_0$ es mayor que a $F_1$ (de manera notoria) por lo que la cantidad de juegos ganados depende linealmente de por al menos un de las variables de estudio."
   ]
  },
  {
   "cell_type": "code",
   "execution_count": 86,
   "id": "45b4a2e9",
   "metadata": {
    "vscode": {
     "languageId": "r"
    }
   },
   "outputs": [],
   "source": [
    "#' Función para construir la tabla de ANOVA en base a un modelo de Regresión Lineal, se extraen los valores de interés y son reacomodados en un formato tabular.\n",
    "ANOVA_Table <- function(\n",
    "    LinearModel\n",
    ") \n",
    "{\n",
    "    PartANOVA <- anova(LinearModel)\n",
    "    Summary <- summary(LinearModel)\n",
    "  \n",
    "    SumSquares_Reg <- sum(PartANOVA$`Sum Sq`[1:(nrow(PartANOVA)-1)])\n",
    "    SumSquares_Res <- PartANOVA$`Sum Sq`[nrow(PartANOVA)]\n",
    "    SumSquares_Tot <- SumSquares_Reg + SumSquares_Res\n",
    "\n",
    "    DegreeFreedom_Reg <- sum(PartANOVA$Df[1:(nrow(PartANOVA)-1)])\n",
    "    DegreeFreedom_Res <- PartANOVA$Df[nrow(PartANOVA)]\n",
    "    DegreeFreedom_Tot <- DegreeFreedom_Reg + DegreeFreedom_Res\n",
    "\n",
    "    ANOVATable <- data.frame(\n",
    "        'Fuente de Variación' = c('Regresión', 'Residuales', 'Total'),\n",
    "        stringsAsFactors = FALSE\n",
    "    )\n",
    "  \n",
    "    ANOVATable$'Suma de Cuadrados' = c(SumSquares_Reg,SumSquares_Res,SumSquares_Tot)\n",
    "    ANOVATable$'Grados de Libertad' = c(DegreeFreedom_Reg,DegreeFreedom_Res,DegreeFreedom_Tot)\n",
    "    ANOVATable$'Cuadrados Medios' <- ANOVATable$`Suma de Cuadrados`/ANOVATable$`Grados de Libertad`\n",
    "    ANOVATable$'F_0' <- c(Summary$fstatistic[1],NA,NA)\n",
    "  \n",
    "    return(ANOVATable)\n",
    "}\n",
    "\n",
    "#' Función para construir la tabla de ANOVA en base a las observaciones (`DataMatrixX` y `RealValuesY`) y los coeficientes de regresión (`EstimateBetas`), se hacen uso de las formulas matriciales para determinar los diferentes valores de la tabla.\n",
    "ANOVA_TableManual <- function(\n",
    "    DataMatrixX,\n",
    "    RealValuesY,\n",
    "    EstimateBetas\n",
    ") \n",
    "{\n",
    "    SizeN <- nrow(DataMatrixX)\n",
    "    Parameters <- length(EstimateBetas)\n",
    "\n",
    "    SumSquares_Tot <- as.numeric(t(RealValuesY) %*% RealValuesY - sum(RealValuesY)^2 / SizeN)\n",
    "    SumSquares_Reg <- as.numeric(t(EstimateBetas) %*% t(DataMatrixX) %*% RealValuesY - sum(RealValuesY)^2 / SizeN)\n",
    "    SumSquares_Res <- SumSquares_Tot - SumSquares_Reg\n",
    "\n",
    "    DegreeFreedom_Reg <- Parameters - 1\n",
    "    DegreeFreedom_Res <- SizeN - Parameters\n",
    "    DegreeFreedom_Tot <- DegreeFreedom_Reg + DegreeFreedom_Res\n",
    "\n",
    "    MeanSquares_Reg <- SumSquares_Reg / DegreeFreedom_Reg\n",
    "    MeanSquares_Res <- SumSquares_Res / DegreeFreedom_Res\n",
    "\n",
    "    ANOVATable <- data.frame(\n",
    "        'Fuente de Variación' = c('Regresión', 'Residuales', 'Total'),\n",
    "        stringsAsFactors = FALSE\n",
    "    )\n",
    "\n",
    "    ANOVATable$'Suma de Cuadrados' = c(SumSquares_Reg,SumSquares_Res,SumSquares_Tot)\n",
    "    ANOVATable$'Grados de Libertad' = c(DegreeFreedom_Reg,DegreeFreedom_Res,DegreeFreedom_Tot)\n",
    "    ANOVATable$'Cuadrados Medios' <- ANOVATable$`Suma de Cuadrados`/ANOVATable$`Grados de Libertad`\n",
    "    ANOVATable$'F_0' <- c(MeanSquares_Reg/MeanSquares_Res,NA,NA)\n",
    "\n",
    "    return(ANOVATable)\n",
    "}"
   ]
  },
  {
   "cell_type": "code",
   "execution_count": 105,
   "id": "a6206a3d",
   "metadata": {
    "vscode": {
     "languageId": "r"
    }
   },
   "outputs": [
    {
     "data": {
      "text/html": [
       "<table class=\"dataframe\">\n",
       "<caption>A data.frame: 3 × 5</caption>\n",
       "<thead>\n",
       "\t<tr><th scope=col>Fuente.de.Variación</th><th scope=col>Suma de Cuadrados</th><th scope=col>Grados de Libertad</th><th scope=col>Cuadrados Medios</th><th scope=col>F_0</th></tr>\n",
       "\t<tr><th scope=col>&lt;chr&gt;</th><th scope=col>&lt;dbl&gt;</th><th scope=col>&lt;int&gt;</th><th scope=col>&lt;dbl&gt;</th><th scope=col>&lt;dbl&gt;</th></tr>\n",
       "</thead>\n",
       "<tbody>\n",
       "\t<tr><td>Regresión </td><td>257.0943</td><td> 3</td><td>85.69809</td><td>29.43687</td></tr>\n",
       "\t<tr><td>Residuales</td><td> 69.8700</td><td>24</td><td> 2.91125</td><td>      NA</td></tr>\n",
       "\t<tr><td>Total     </td><td>326.9643</td><td>27</td><td>12.10979</td><td>      NA</td></tr>\n",
       "</tbody>\n",
       "</table>\n"
      ],
      "text/latex": [
       "A data.frame: 3 × 5\n",
       "\\begin{tabular}{lllll}\n",
       " Fuente.de.Variación & Suma de Cuadrados & Grados de Libertad & Cuadrados Medios & F\\_0\\\\\n",
       " <chr> & <dbl> & <int> & <dbl> & <dbl>\\\\\n",
       "\\hline\n",
       "\t Regresión  & 257.0943 &  3 & 85.69809 & 29.43687\\\\\n",
       "\t Residuales &  69.8700 & 24 &  2.91125 &       NA\\\\\n",
       "\t Total      & 326.9643 & 27 & 12.10979 &       NA\\\\\n",
       "\\end{tabular}\n"
      ],
      "text/markdown": [
       "\n",
       "A data.frame: 3 × 5\n",
       "\n",
       "| Fuente.de.Variación &lt;chr&gt; | Suma de Cuadrados &lt;dbl&gt; | Grados de Libertad &lt;int&gt; | Cuadrados Medios &lt;dbl&gt; | F_0 &lt;dbl&gt; |\n",
       "|---|---|---|---|---|\n",
       "| Regresión  | 257.0943 |  3 | 85.69809 | 29.43687 |\n",
       "| Residuales |  69.8700 | 24 |  2.91125 |       NA |\n",
       "| Total      | 326.9643 | 27 | 12.10979 |       NA |\n",
       "\n"
      ],
      "text/plain": [
       "  Fuente.de.Variación Suma de Cuadrados Grados de Libertad Cuadrados Medios\n",
       "1 Regresión           257.0943           3                 85.69809        \n",
       "2 Residuales           69.8700          24                  2.91125        \n",
       "3 Total               326.9643          27                 12.10979        \n",
       "  F_0     \n",
       "1 29.43687\n",
       "2       NA\n",
       "3       NA"
      ]
     },
     "metadata": {},
     "output_type": "display_data"
    }
   ],
   "source": [
    "ANOVA_Model = ANOVA_Table(LinearModel)\n",
    "ANOVA_Model"
   ]
  },
  {
   "cell_type": "code",
   "execution_count": 87,
   "id": "98f2b4e1",
   "metadata": {
    "vscode": {
     "languageId": "r"
    }
   },
   "outputs": [
    {
     "data": {
      "text/html": [
       "<table class=\"dataframe\">\n",
       "<caption>A data.frame: 3 × 5</caption>\n",
       "<thead>\n",
       "\t<tr><th scope=col>Fuente.de.Variación</th><th scope=col>Suma de Cuadrados</th><th scope=col>Grados de Libertad</th><th scope=col>Cuadrados Medios</th><th scope=col>F_0</th></tr>\n",
       "\t<tr><th scope=col>&lt;chr&gt;</th><th scope=col>&lt;dbl&gt;</th><th scope=col>&lt;dbl&gt;</th><th scope=col>&lt;dbl&gt;</th><th scope=col>&lt;dbl&gt;</th></tr>\n",
       "</thead>\n",
       "<tbody>\n",
       "\t<tr><td>Regresión </td><td>257.0943</td><td> 3</td><td>85.69809</td><td>29.43687</td></tr>\n",
       "\t<tr><td>Residuales</td><td> 69.8700</td><td>24</td><td> 2.91125</td><td>      NA</td></tr>\n",
       "\t<tr><td>Total     </td><td>326.9643</td><td>27</td><td>12.10979</td><td>      NA</td></tr>\n",
       "</tbody>\n",
       "</table>\n"
      ],
      "text/latex": [
       "A data.frame: 3 × 5\n",
       "\\begin{tabular}{lllll}\n",
       " Fuente.de.Variación & Suma de Cuadrados & Grados de Libertad & Cuadrados Medios & F\\_0\\\\\n",
       " <chr> & <dbl> & <dbl> & <dbl> & <dbl>\\\\\n",
       "\\hline\n",
       "\t Regresión  & 257.0943 &  3 & 85.69809 & 29.43687\\\\\n",
       "\t Residuales &  69.8700 & 24 &  2.91125 &       NA\\\\\n",
       "\t Total      & 326.9643 & 27 & 12.10979 &       NA\\\\\n",
       "\\end{tabular}\n"
      ],
      "text/markdown": [
       "\n",
       "A data.frame: 3 × 5\n",
       "\n",
       "| Fuente.de.Variación &lt;chr&gt; | Suma de Cuadrados &lt;dbl&gt; | Grados de Libertad &lt;dbl&gt; | Cuadrados Medios &lt;dbl&gt; | F_0 &lt;dbl&gt; |\n",
       "|---|---|---|---|---|\n",
       "| Regresión  | 257.0943 |  3 | 85.69809 | 29.43687 |\n",
       "| Residuales |  69.8700 | 24 |  2.91125 |       NA |\n",
       "| Total      | 326.9643 | 27 | 12.10979 |       NA |\n",
       "\n"
      ],
      "text/plain": [
       "  Fuente.de.Variación Suma de Cuadrados Grados de Libertad Cuadrados Medios\n",
       "1 Regresión           257.0943           3                 85.69809        \n",
       "2 Residuales           69.8700          24                  2.91125        \n",
       "3 Total               326.9643          27                 12.10979        \n",
       "  F_0     \n",
       "1 29.43687\n",
       "2       NA\n",
       "3       NA"
      ]
     },
     "metadata": {},
     "output_type": "display_data"
    }
   ],
   "source": [
    "ANOVA_TableManual(\n",
    "    DataMatrixX,\n",
    "    RealValuesY,\n",
    "    EstimateBetas\n",
    ")"
   ]
  },
  {
   "cell_type": "markdown",
   "id": "57d6c443",
   "metadata": {},
   "source": [
    "## **c**. Prueba sobre los Coeficientes Individuales de Regresión"
   ]
  },
  {
   "cell_type": "markdown",
   "id": "c4bf68a0",
   "metadata": {},
   "source": [
    "Las tres variables tiene un valor en sus respectivos estadísticos $t_0$ mayor, en valor absoluto, a $t_1$, por lo que las tres variables tienen una influencia sobre la variable de respuesta. Aunque la variable $x_7$ tiene una menor influencia o impacto debido a que su valor se aproxima o se parece a $t_1$, por lo que esta variable no es significativa para el modelo."
   ]
  },
  {
   "cell_type": "code",
   "execution_count": null,
   "id": "733047bb",
   "metadata": {
    "vscode": {
     "languageId": "r"
    }
   },
   "outputs": [],
   "source": [
    "#' Función para calcular la matriz de covarianza de los parámetros o coeficientes de regresión en base a las observaciones y modelo lineal.\n",
    "CalculatedCovarianceEstimateBetas <- function(\n",
    "    LinearModel,\n",
    "    Dataset,\n",
    "    FeaturesModel\n",
    ")\n",
    "{\n",
    "    SizeN <- nrow(Dataset)\n",
    "    DataMatrixX <- as.matrix(cbind(x0=1,Dataset[FeaturesModel]))\n",
    "\n",
    "    PartANOVA <- anova(LinearModel)\n",
    "    EstimateSquareSigma <- PartANOVA$`Sum Sq`[nrow(PartANOVA)]/df.residual(LinearModel)\n",
    "\n",
    "    return(EstimateSquareSigma*solve(t(DataMatrixX)%*%DataMatrixX))\n",
    "}\n",
    "\n",
    "#' Función para calcular el estadístico t_0 para la prueba sobre los coeficientes individuales de regresión en un Modelo Lineal; también se muestra el valor de t_1 (para la prueba alternativa) con un cierto nivel de significancia.\n",
    "TestIndividualCoefficients <- function(\n",
    "    LinearModel,\n",
    "    Dataset,\n",
    "    FeaturesModel,\n",
    "    LevelSignificance = 0.05\n",
    ")\n",
    "{\n",
    "    CovarianceEstimateBetas <- CalculatedCovarianceEstimateBetas(LinearModel,Dataset,FeaturesModel)\n",
    "\n",
    "    tValue_1 <- qt(1-LevelSignificance/2,df=LinearModel$df.residual)\n",
    "    cat(sprintf('t_1 :: %.4f\\n', tValue_1))\n",
    "\n",
    "    Coefficients <- coef(LinearModel)[-1]\n",
    "    FeatureNames <- names(Coefficients)\n",
    "\n",
    "    cat('\\nt_0 Values\\n')\n",
    "    for (index_feature in seq_along(FeatureNames))\n",
    "    {\n",
    "        feature <- FeatureNames[index_feature]\n",
    "        beta_value <- Coefficients[index_feature]\n",
    "    \n",
    "        variance_beta <- CovarianceEstimateBetas[index_feature+1,index_feature+1]\n",
    "    \n",
    "        tValue_0 <- beta_value / sqrt(variance_beta)\n",
    "\n",
    "        cat(sprintf('%s :: %.4f\\n',feature,tValue_0))\n",
    "    }\n",
    "}"
   ]
  },
  {
   "cell_type": "code",
   "execution_count": null,
   "id": "93e66545",
   "metadata": {
    "vscode": {
     "languageId": "r"
    }
   },
   "outputs": [
    {
     "name": "stdout",
     "output_type": "stream",
     "text": [
      "t_1 :: 2.0639\n",
      "\n",
      "t_0 Values\n",
      "x2 :: 5.1771\n",
      "x7 :: 2.1983\n",
      "x8 :: -3.7710\n"
     ]
    }
   ],
   "source": [
    "# Calculo de valores t_0 y t_1\n",
    "\n",
    "TestIndividualCoefficients(LinearModel,DatasetFutbol,FeaturesModel)"
   ]
  },
  {
   "cell_type": "markdown",
   "id": "f31d1d10",
   "metadata": {},
   "source": [
    "## **d**. Métricas del Modelo"
   ]
  },
  {
   "cell_type": "markdown",
   "id": "d7077873",
   "metadata": {},
   "source": [
    "Las métricas del modelo son bajas, esto representa que no se está modelando adecuadamente la variable de respuesta pero que a la vez se tiene oportunidad de mejorar (añadir interacciones o eliminar la variable de intercepción). Al observar el plot, se puede ver que existen observaciones que no se ajustan al modelo propuesto, teniendo que empeore el rendimiento del propio modelo aunque en algunas instancias tenga un comportamiento esperado y bien ajustado."
   ]
  },
  {
   "cell_type": "code",
   "execution_count": 120,
   "id": "f60463af",
   "metadata": {
    "vscode": {
     "languageId": "r"
    }
   },
   "outputs": [
    {
     "name": "stdout",
     "output_type": "stream",
     "text": [
      "R^2 :: 0.7863\n",
      "R^2 Adjustada :: 0.7596\n"
     ]
    }
   ],
   "source": [
    "# Scores usando el Modelo\n",
    "\n",
    "cat(sprintf('R^2 :: %.4f\\n',summary(LinearModel)$r.squared))\n",
    "cat(sprintf('R^2 Adjustada :: %.4f\\n',summary(LinearModel)$adj.r.squared))"
   ]
  },
  {
   "cell_type": "code",
   "execution_count": 116,
   "id": "de1e3524",
   "metadata": {
    "vscode": {
     "languageId": "r"
    }
   },
   "outputs": [],
   "source": [
    "#' Función para calcular el puntaje r^2 de forma manual.\n",
    "ManualRSquared <- function(\n",
    "    ANOVA\n",
    ")\n",
    "{\n",
    "    SumSquares = ANOVA$`Suma de Cuadrados`\n",
    "    return(SumSquares[1]/SumSquares[3])\n",
    "}\n",
    "\n",
    "#' Función para calcular el puntaje r^2 ajustado de forma manual.\n",
    "ManualAdjRSquared <- function(\n",
    "    ANOVA\n",
    ")\n",
    "{\n",
    "    r_squared = ManualRSquared(ANOVA)\n",
    "    df_tot = ANOVA$`Grados de Libertad`[3]\n",
    "    df_red = ANOVA$`Grados de Libertad`[2]\n",
    "\n",
    "    return(1-((1-r_squared)*df_tot)/df_red)\n",
    "}"
   ]
  },
  {
   "cell_type": "code",
   "execution_count": null,
   "id": "37c85bf2",
   "metadata": {
    "vscode": {
     "languageId": "r"
    }
   },
   "outputs": [
    {
     "name": "stdout",
     "output_type": "stream",
     "text": [
      "R^2 :: 0.7863\n",
      "R^2 Adjustada :: 0.7596\n"
     ]
    }
   ],
   "source": [
    "# Scores usando Operaciones Manuales\n",
    "\n",
    "RSquared <- ManualRSquared(ANOVA_Model)\n",
    "RSquared_Adj <- ManualAdjRSquared(ANOVA_Model)\n",
    "\n",
    "cat(sprintf('R^2 :: %.4f\\n',RSquared))\n",
    "cat(sprintf('R^2 Adjustada :: %.4f\\n',RSquared_Adj))"
   ]
  },
  {
   "cell_type": "code",
   "execution_count": 153,
   "id": "d43d9b4c",
   "metadata": {
    "vscode": {
     "languageId": "r"
    }
   },
   "outputs": [],
   "source": [
    "#' Función para plotear los valores esperados y estimados del modelo lineal.\n",
    "PlotExpectedEstimate <- function(\n",
    "    LinearModel,\n",
    "    ExpectedValuesY\n",
    ") \n",
    "{\n",
    "    plot_data <- data.frame(\n",
    "        Observados = ExpectedValuesY,\n",
    "        Estimados = fitted(LinearModel)\n",
    "    )\n",
    "  \n",
    "  # Crear el gráfico con ggplot2\n",
    "  plot <- ggplot(plot_data, aes(x = Observados, y = Estimados)) +\n",
    "    geom_point(alpha=0.7,color=\"blue\",size=4) +\n",
    "    geom_abline(\n",
    "      intercept = 0, \n",
    "      slope = 1, \n",
    "      color = \"gray\", \n",
    "      linetype = \"dotted\",\n",
    "      linewidth = 2\n",
    "    ) +\n",
    "    labs(\n",
    "      title = \"Ajuste del Modelo\",\n",
    "      x = \"Valores Observados\",\n",
    "      y = \"Valores Estimados\"\n",
    "    ) +\n",
    "    theme_minimal() + \n",
    "    theme(\n",
    "        plot.title = element_text(hjust=0.5,size=18),\n",
    "        axis.text = element_text(size=12),\n",
    "        axis.title = element_text(size=14)\n",
    "    )\n",
    "\n",
    "    return(plot)\n",
    "}"
   ]
  },
  {
   "cell_type": "code",
   "execution_count": null,
   "id": "c7f6c5b8",
   "metadata": {
    "vscode": {
     "languageId": "r"
    }
   },
   "outputs": [],
   "source": [
    "# Plot de los valores esperados (observados) y estimados\n",
    "\n",
    "PlotExpectedEstimate(LinearModel,DatasetFutbol$y)"
   ]
  }
 ],
 "metadata": {
  "kernelspec": {
   "display_name": "R",
   "language": "R",
   "name": "ir"
  },
  "language_info": {
   "codemirror_mode": "r",
   "file_extension": ".r",
   "mimetype": "text/x-r-source",
   "name": "R",
   "pygments_lexer": "r",
   "version": "4.4.2"
  }
 },
 "nbformat": 4,
 "nbformat_minor": 5
}

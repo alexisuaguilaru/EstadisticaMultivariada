{
 "cells": [
  {
   "cell_type": "markdown",
   "id": "5b72770a",
   "metadata": {},
   "source": [
    "## Ejercicio de Tarea 05\n",
    "Para los datos del ejercicio 1 de la liga de Futbol\n",
    "\n",
    "**a**. Usar el algoritmo de selección hacia adelante para seleccionar un modelo de regresión.\n",
    "\n",
    "**b**. Usar el algoritmo de selección hacia atrás para seleccionar un modelo de regresión.\n",
    "\n",
    "**c**. Usar el algoritmo de regresión por pasos para seleccionar un modelo de regresión.\n",
    "\n",
    "**d**. Comenta los modelos finales en cada uno de los casos anteriores. ¿Cuál tiene más sentido? ¿Cuál modelo usarían? "
   ]
  },
  {
   "cell_type": "markdown",
   "id": "714b5402",
   "metadata": {},
   "source": [
    "## 0. Importar "
   ]
  },
  {
   "cell_type": "markdown",
   "id": "514ec6f5",
   "metadata": {},
   "source": [
    "### 0.1. Importar Librerías"
   ]
  },
  {
   "cell_type": "code",
   "execution_count": 1,
   "id": "d4a43b9e",
   "metadata": {},
   "outputs": [],
   "source": [
    "import pandas as pd\n",
    "import numpy as np\n",
    "\n",
    "import matplotlib.pyplot as plt\n",
    "import seaborn as sns\n",
    "\n",
    "import statsmodels.api as sm\n",
    "import statsmodels.formula.api as smf\n",
    "\n",
    "from scipy import stats\n",
    "\n",
    "import SourcePython as src"
   ]
  },
  {
   "cell_type": "markdown",
   "id": "465cf346",
   "metadata": {},
   "source": [
    "### 0.2. Cargar Datos"
   ]
  },
  {
   "cell_type": "code",
   "execution_count": 2,
   "id": "ca6f501c",
   "metadata": {},
   "outputs": [],
   "source": [
    "DatasetFutbol = pd.read_csv(\n",
    "    './Liga_nacional_de_futbol.csv',\n",
    ")\n",
    "\n",
    "TargetLabel , *FeatureLabels = DatasetFutbol.columns"
   ]
  },
  {
   "cell_type": "markdown",
   "id": "abef537a",
   "metadata": {},
   "source": [
    "## **a**. Modelo por Selección hacia Adelante"
   ]
  },
  {
   "cell_type": "markdown",
   "id": "26a50ea1",
   "metadata": {},
   "source": []
  },
  {
   "cell_type": "code",
   "execution_count": 34,
   "id": "cde97384",
   "metadata": {},
   "outputs": [],
   "source": [
    "def GenerateModels(\n",
    "        Dataset: pd.DataFrame,\n",
    "        TargetLabel: str,\n",
    "    ):\n",
    "    \"\"\"\n",
    "    \"\"\"\n",
    "\n",
    "    def CreateModelInstance(\n",
    "            FeaturesModel: list[str]\n",
    "        ):\n",
    "        \"\"\"\n",
    "        \"\"\"\n",
    "\n",
    "        LinearModel = smf.ols(\n",
    "            f\"{TargetLabel} ~ \" + ' + '.join(FeaturesModel),\n",
    "            data = Dataset,\n",
    "        ).fit()\n",
    "\n",
    "        return LinearModel\n",
    "    \n",
    "    return CreateModelInstance\n",
    "\n",
    "def EvaluateModel(\n",
    "        LinearModel\n",
    "    ) -> float:\n",
    "    \"\"\"\n",
    "    \"\"\" \n",
    "\n",
    "    return LinearModel.mse_resid\n",
    "\n",
    "CreateModelInstance = GenerateModels(DatasetFutbol,TargetLabel)"
   ]
  },
  {
   "cell_type": "code",
   "execution_count": 54,
   "id": "17a8ca1d",
   "metadata": {},
   "outputs": [],
   "source": [
    "from copy import deepcopy\n",
    "\n",
    "def ForwardSelection(\n",
    "        Dataset: pd.DataFrame,\n",
    "        FeatureLabels: list[str],\n",
    "        TargetLabel: str,\n",
    "    ) -> list[str]: \n",
    "    \"\"\"\n",
    "    \"\"\"\n",
    "\n",
    "    CreateModelInstance = GenerateModels(Dataset,TargetLabel)\n",
    "    BestLinearModel = smf.ols(\n",
    "        f\"{TargetLabel} ~ 1\",\n",
    "        data = Dataset\n",
    "    ).fit()\n",
    "    BestScore = EvaluateModel(BestLinearModel)\n",
    "    BestFeatures = []\n",
    "\n",
    "    AvailableFeatures = deepcopy(FeatureLabels)\n",
    "    while True:\n",
    "        best_score_alt = np.inf\n",
    "        best_feature = ''\n",
    "        for feature in AvailableFeatures:\n",
    "            LinearModel_Alt = CreateModelInstance(BestFeatures+[feature])\n",
    "            score = EvaluateModel(LinearModel_Alt)\n",
    "\n",
    "            if score < best_score_alt:\n",
    "                best_feature = feature\n",
    "                best_score_alt = score\n",
    "\n",
    "        if best_score_alt < BestScore:\n",
    "            BestFeatures.append(best_feature)\n",
    "            BestScore = best_score_alt\n",
    "            AvailableFeatures.remove(best_feature)\n",
    "        else:\n",
    "            return BestFeatures"
   ]
  },
  {
   "cell_type": "code",
   "execution_count": 55,
   "id": "63f1468c",
   "metadata": {},
   "outputs": [
    {
     "data": {
      "text/plain": [
       "(np.float64(2.8262759381660296), ['x8', 'x2', 'x7', 'x9'])"
      ]
     },
     "execution_count": 55,
     "metadata": {},
     "output_type": "execute_result"
    }
   ],
   "source": [
    "best_features_forward = ForwardSelection(DatasetFutbol,FeatureLabels,TargetLabel)\n",
    "EvaluateModel(CreateModelInstance(best_features_forward)) , best_features_forward"
   ]
  },
  {
   "cell_type": "markdown",
   "id": "3712d415",
   "metadata": {},
   "source": [
    "## **b**. Modelo por Selección hacia Atrás"
   ]
  },
  {
   "cell_type": "code",
   "execution_count": 52,
   "id": "43e95818",
   "metadata": {},
   "outputs": [],
   "source": [
    "from copy import deepcopy\n",
    "\n",
    "def BackwardSelection(\n",
    "        Dataset: pd.DataFrame,\n",
    "        FeatureLabels: list[str],\n",
    "        TargetLabel: str,\n",
    "    ) -> list[str]: \n",
    "    \"\"\"\n",
    "    \"\"\"\n",
    "\n",
    "    CreateModelInstance = GenerateModels(Dataset,TargetLabel)\n",
    "    BestLinearModel = CreateModelInstance(FeatureLabels)\n",
    "    BestScore = EvaluateModel(BestLinearModel)\n",
    "    BestFeatures = deepcopy(FeatureLabels)\n",
    "\n",
    "    while True:\n",
    "        best_score_alt = np.inf\n",
    "        worst_feature = ''\n",
    "        for feature in BestFeatures:\n",
    "            LinearModel_Alt = CreateModelInstance([__feature for __feature in BestFeatures if __feature != feature])\n",
    "            score = EvaluateModel(LinearModel_Alt)\n",
    "            \n",
    "            if score < best_score_alt:\n",
    "                worst_feature = feature\n",
    "                best_score_alt = score\n",
    "\n",
    "        if best_score_alt < BestScore:\n",
    "            BestScore = best_score_alt\n",
    "            BestFeatures.remove(worst_feature)\n",
    "        else:\n",
    "            return BestFeatures"
   ]
  },
  {
   "cell_type": "code",
   "execution_count": 53,
   "id": "dc735d8d",
   "metadata": {},
   "outputs": [
    {
     "data": {
      "text/plain": [
       "(np.float64(2.826275938166031), ['x2', 'x7', 'x8', 'x9'])"
      ]
     },
     "execution_count": 53,
     "metadata": {},
     "output_type": "execute_result"
    }
   ],
   "source": [
    "best_features_backward = BackwardSelection(DatasetFutbol,FeatureLabels,TargetLabel)\n",
    "EvaluateModel(CreateModelInstance(best_features_backward)) , best_features_backward"
   ]
  },
  {
   "cell_type": "markdown",
   "id": "570f6a13",
   "metadata": {},
   "source": [
    "## **c**. Modelo por Selección por Pasos"
   ]
  },
  {
   "cell_type": "code",
   "execution_count": 106,
   "id": "1b26b271",
   "metadata": {},
   "outputs": [],
   "source": [
    "from copy import deepcopy\n",
    "\n",
    "def StepwiseSelection(\n",
    "        Dataset: pd.DataFrame,\n",
    "        FeatureLabels: list[str],\n",
    "        TargetLabel: str,\n",
    "    ) -> list[str]: \n",
    "    \"\"\"\n",
    "    \"\"\"\n",
    "    \n",
    "    CreateModelInstance = GenerateModels(Dataset,TargetLabel)\n",
    "    BestLinearModel = smf.ols(\n",
    "        f\"{TargetLabel} ~ 1\",\n",
    "        data = Dataset\n",
    "    ).fit()\n",
    "    BestScore = EvaluateModel(BestLinearModel)\n",
    "    BestFeatures = []\n",
    "\n",
    "    while True:\n",
    "        best_score = BestScore\n",
    "        trial_features = deepcopy(BestFeatures)\n",
    "\n",
    "        best_add_feature = ''\n",
    "        for feature in [_feature for _feature in FeatureLabels if _feature not in trial_features]:\n",
    "            LinearModel_Alt = CreateModelInstance(trial_features+[feature])\n",
    "            score = EvaluateModel(LinearModel_Alt)\n",
    "            \n",
    "            if score < best_score:\n",
    "                best_add_feature = feature\n",
    "                best_score = score\n",
    "\n",
    "        if best_add_feature: trial_features.append(best_add_feature)\n",
    "\n",
    "        worst_remove_feature = ''\n",
    "        for feature in trial_features:\n",
    "            subset_features = [_feature for _feature in trial_features if _feature != feature]\n",
    "            if subset_features:\n",
    "                LinearModel_Alt = CreateModelInstance(subset_features)\n",
    "                score = EvaluateModel(LinearModel_Alt)\n",
    "\n",
    "                if score < best_score:\n",
    "                    worst_remove_feature = feature\n",
    "                    best_score = score\n",
    "\n",
    "        if worst_remove_feature: trial_features.remove(worst_remove_feature)\n",
    "\n",
    "        LinearModel_Alt = CreateModelInstance(trial_features)\n",
    "        best_score = EvaluateModel(LinearModel_Alt)\n",
    "        if best_score < BestScore:\n",
    "            BestFeatures = deepcopy(trial_features)\n",
    "            BestScore = best_score\n",
    "        else:\n",
    "            break\n",
    "    \n",
    "    return BestFeatures"
   ]
  },
  {
   "cell_type": "code",
   "execution_count": 107,
   "id": "44487768",
   "metadata": {},
   "outputs": [
    {
     "data": {
      "text/plain": [
       "(np.float64(2.8262759381660296), ['x8', 'x2', 'x7', 'x9'])"
      ]
     },
     "execution_count": 107,
     "metadata": {},
     "output_type": "execute_result"
    }
   ],
   "source": [
    "best_features_stepwise = StepwiseSelection(DatasetFutbol,FeatureLabels,TargetLabel)\n",
    "EvaluateModel(CreateModelInstance(best_features_stepwise)) , best_features_stepwise "
   ]
  }
 ],
 "metadata": {
  "kernelspec": {
   "display_name": "data_science",
   "language": "python",
   "name": "python3"
  },
  "language_info": {
   "codemirror_mode": {
    "name": "ipython",
    "version": 3
   },
   "file_extension": ".py",
   "mimetype": "text/x-python",
   "name": "python",
   "nbconvert_exporter": "python",
   "pygments_lexer": "ipython3",
   "version": "3.13.3"
  }
 },
 "nbformat": 4,
 "nbformat_minor": 5
}

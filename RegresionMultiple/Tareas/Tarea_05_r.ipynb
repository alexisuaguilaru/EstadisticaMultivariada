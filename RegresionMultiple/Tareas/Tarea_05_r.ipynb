{
 "cells": [
  {
   "cell_type": "markdown",
   "id": "d1ba4148",
   "metadata": {},
   "source": [
    "## Ejercicio de Tarea 05\n",
    "Para los datos del ejercicio 1 de la liga de Futbol\n",
    "\n",
    "**a**. Usar el algoritmo de selección hacia adelante para seleccionar un modelo de regresión.\n",
    "\n",
    "**b**. Usar el algoritmo de selección hacia atrás para seleccionar un modelo de regresión.\n",
    "\n",
    "**c**. Usar el algoritmo de regresión por pasos para seleccionar un modelo de regresión.\n",
    "\n",
    "**d**. Comenta los modelos finales en cada uno de los casos anteriores. ¿Cuál tiene más sentido? ¿Cuál modelo usarían? "
   ]
  },
  {
   "cell_type": "markdown",
   "id": "3833f3ae",
   "metadata": {},
   "source": [
    "## 0. Importar "
   ]
  },
  {
   "cell_type": "code",
   "execution_count": 1,
   "id": "6c4eb4ff",
   "metadata": {
    "vscode": {
     "languageId": "r"
    }
   },
   "outputs": [
    {
     "name": "stderr",
     "output_type": "stream",
     "text": [
      "Warning message:\n",
      "\"package 'GGally' was built under R version 4.4.3\"\n",
      "Loading required package: ggplot2\n",
      "\n",
      "Warning message:\n",
      "\"package 'ggplot2' was built under R version 4.4.3\"\n",
      "Registered S3 method overwritten by 'GGally':\n",
      "  method from   \n",
      "  +.gg   ggplot2\n",
      "\n",
      "Warning message:\n",
      "\"package 'gridExtra' was built under R version 4.4.3\"\n",
      "Warning message:\n",
      "\"package 'lmtest' was built under R version 4.4.3\"\n",
      "Loading required package: zoo\n",
      "\n",
      "Warning message:\n",
      "\"package 'zoo' was built under R version 4.4.3\"\n",
      "\n",
      "Attaching package: 'zoo'\n",
      "\n",
      "\n",
      "The following objects are masked from 'package:base':\n",
      "\n",
      "    as.Date, as.Date.numeric\n",
      "\n",
      "\n"
     ]
    }
   ],
   "source": [
    "library(GGally)\n",
    "library(ggplot2)\n",
    "library(grid)\n",
    "library(gridExtra)\n",
    "library(lmtest)"
   ]
  },
  {
   "cell_type": "code",
   "execution_count": 2,
   "id": "e8771d8b",
   "metadata": {
    "vscode": {
     "languageId": "r"
    }
   },
   "outputs": [
    {
     "data": {
      "text/html": [
       "<table class=\"dataframe\">\n",
       "<caption>A data.frame: 6 × 10</caption>\n",
       "<thead>\n",
       "\t<tr><th></th><th scope=col>y</th><th scope=col>x1</th><th scope=col>x2</th><th scope=col>x3</th><th scope=col>x4</th><th scope=col>x5</th><th scope=col>x6</th><th scope=col>x7</th><th scope=col>x8</th><th scope=col>x9</th></tr>\n",
       "\t<tr><th></th><th scope=col>&lt;int&gt;</th><th scope=col>&lt;int&gt;</th><th scope=col>&lt;int&gt;</th><th scope=col>&lt;dbl&gt;</th><th scope=col>&lt;dbl&gt;</th><th scope=col>&lt;int&gt;</th><th scope=col>&lt;int&gt;</th><th scope=col>&lt;dbl&gt;</th><th scope=col>&lt;int&gt;</th><th scope=col>&lt;int&gt;</th></tr>\n",
       "</thead>\n",
       "<tbody>\n",
       "\t<tr><th scope=row>1</th><td>10</td><td>2113</td><td>1985</td><td>38.9</td><td>64.7</td><td> 4</td><td>868</td><td>59.7</td><td>2205</td><td>1917</td></tr>\n",
       "\t<tr><th scope=row>2</th><td>11</td><td>2003</td><td>2855</td><td>38.8</td><td>61.3</td><td> 3</td><td>615</td><td>55.0</td><td>2096</td><td>1575</td></tr>\n",
       "\t<tr><th scope=row>3</th><td>11</td><td>2957</td><td>1737</td><td>40.1</td><td>60.0</td><td>14</td><td>914</td><td>65.6</td><td>1847</td><td>2175</td></tr>\n",
       "\t<tr><th scope=row>4</th><td>13</td><td>2285</td><td>2905</td><td>41.6</td><td>45.3</td><td>-4</td><td>957</td><td>61.4</td><td>1903</td><td>2476</td></tr>\n",
       "\t<tr><th scope=row>5</th><td>10</td><td>2971</td><td>1666</td><td>39.2</td><td>53.8</td><td>15</td><td>836</td><td>66.1</td><td>1457</td><td>1866</td></tr>\n",
       "\t<tr><th scope=row>6</th><td>11</td><td>2309</td><td>2927</td><td>39.7</td><td>74.1</td><td> 8</td><td>786</td><td>61.0</td><td>1848</td><td>2339</td></tr>\n",
       "</tbody>\n",
       "</table>\n"
      ],
      "text/latex": [
       "A data.frame: 6 × 10\n",
       "\\begin{tabular}{r|llllllllll}\n",
       "  & y & x1 & x2 & x3 & x4 & x5 & x6 & x7 & x8 & x9\\\\\n",
       "  & <int> & <int> & <int> & <dbl> & <dbl> & <int> & <int> & <dbl> & <int> & <int>\\\\\n",
       "\\hline\n",
       "\t1 & 10 & 2113 & 1985 & 38.9 & 64.7 &  4 & 868 & 59.7 & 2205 & 1917\\\\\n",
       "\t2 & 11 & 2003 & 2855 & 38.8 & 61.3 &  3 & 615 & 55.0 & 2096 & 1575\\\\\n",
       "\t3 & 11 & 2957 & 1737 & 40.1 & 60.0 & 14 & 914 & 65.6 & 1847 & 2175\\\\\n",
       "\t4 & 13 & 2285 & 2905 & 41.6 & 45.3 & -4 & 957 & 61.4 & 1903 & 2476\\\\\n",
       "\t5 & 10 & 2971 & 1666 & 39.2 & 53.8 & 15 & 836 & 66.1 & 1457 & 1866\\\\\n",
       "\t6 & 11 & 2309 & 2927 & 39.7 & 74.1 &  8 & 786 & 61.0 & 1848 & 2339\\\\\n",
       "\\end{tabular}\n"
      ],
      "text/markdown": [
       "\n",
       "A data.frame: 6 × 10\n",
       "\n",
       "| <!--/--> | y &lt;int&gt; | x1 &lt;int&gt; | x2 &lt;int&gt; | x3 &lt;dbl&gt; | x4 &lt;dbl&gt; | x5 &lt;int&gt; | x6 &lt;int&gt; | x7 &lt;dbl&gt; | x8 &lt;int&gt; | x9 &lt;int&gt; |\n",
       "|---|---|---|---|---|---|---|---|---|---|---|\n",
       "| 1 | 10 | 2113 | 1985 | 38.9 | 64.7 |  4 | 868 | 59.7 | 2205 | 1917 |\n",
       "| 2 | 11 | 2003 | 2855 | 38.8 | 61.3 |  3 | 615 | 55.0 | 2096 | 1575 |\n",
       "| 3 | 11 | 2957 | 1737 | 40.1 | 60.0 | 14 | 914 | 65.6 | 1847 | 2175 |\n",
       "| 4 | 13 | 2285 | 2905 | 41.6 | 45.3 | -4 | 957 | 61.4 | 1903 | 2476 |\n",
       "| 5 | 10 | 2971 | 1666 | 39.2 | 53.8 | 15 | 836 | 66.1 | 1457 | 1866 |\n",
       "| 6 | 11 | 2309 | 2927 | 39.7 | 74.1 |  8 | 786 | 61.0 | 1848 | 2339 |\n",
       "\n"
      ],
      "text/plain": [
       "  y  x1   x2   x3   x4   x5 x6  x7   x8   x9  \n",
       "1 10 2113 1985 38.9 64.7  4 868 59.7 2205 1917\n",
       "2 11 2003 2855 38.8 61.3  3 615 55.0 2096 1575\n",
       "3 11 2957 1737 40.1 60.0 14 914 65.6 1847 2175\n",
       "4 13 2285 2905 41.6 45.3 -4 957 61.4 1903 2476\n",
       "5 10 2971 1666 39.2 53.8 15 836 66.1 1457 1866\n",
       "6 11 2309 2927 39.7 74.1  8 786 61.0 1848 2339"
      ]
     },
     "metadata": {},
     "output_type": "display_data"
    }
   ],
   "source": [
    "DatasetFutbol <- read.csv('./Liga_nacional_de_futbol.csv')\n",
    "\n",
    "head(DatasetFutbol)"
   ]
  },
  {
   "cell_type": "markdown",
   "id": "07d72c8c",
   "metadata": {},
   "source": [
    "## **a**. Modelo por Selección hacia Adelante"
   ]
  },
  {
   "cell_type": "code",
   "execution_count": 16,
   "id": "c02f42d3",
   "metadata": {
    "vscode": {
     "languageId": "r"
    }
   },
   "outputs": [
    {
     "name": "stdout",
     "output_type": "stream",
     "text": [
      "Start:  AIC=70.81\n",
      "y ~ 1\n",
      "\n",
      "       Df Sum of Sq    RSS    AIC\n",
      "+ x8    1   178.092 148.87 50.785\n",
      "+ x1    1   115.068 211.90 60.669\n",
      "+ x7    1    97.238 229.73 62.931\n",
      "+ x5    1    86.116 240.85 64.255\n",
      "+ x2    1    76.193 250.77 65.385\n",
      "+ x9    1    30.167 296.80 70.104\n",
      "<none>              326.96 70.814\n",
      "+ x4    1    21.844 305.12 70.878\n",
      "+ x6    1    16.411 310.55 71.372\n",
      "+ x3    1     2.135 324.83 72.631\n",
      "\n",
      "Step:  AIC=50.78\n",
      "y ~ x8\n",
      "\n",
      "       Df Sum of Sq     RSS    AIC\n",
      "+ x2    1    64.934  83.938 36.741\n",
      "+ x5    1    11.607 137.265 50.512\n",
      "<none>              148.872 50.785\n",
      "+ x1    1     6.636 142.236 51.508\n",
      "+ x3    1     6.368 142.504 51.561\n",
      "+ x4    1     6.345 142.527 51.565\n",
      "+ x7    1     0.974 147.898 52.601\n",
      "+ x6    1     0.487 148.385 52.693\n",
      "+ x9    1     0.008 148.864 52.783\n",
      "\n",
      "Step:  AIC=36.74\n",
      "y ~ x8 + x2\n",
      "\n",
      "       Df Sum of Sq    RSS    AIC\n",
      "+ x7    1   14.0682 69.870 33.604\n",
      "+ x1    1   11.1905 72.748 34.734\n",
      "+ x3    1    8.9010 75.037 35.602\n",
      "+ x5    1    5.8147 78.124 36.730\n",
      "<none>              83.938 36.741\n",
      "+ x9    1    2.0256 81.913 38.057\n",
      "+ x6    1    1.3216 82.617 38.296\n",
      "+ x4    1    0.0161 83.922 38.735\n",
      "\n",
      "Step:  AIC=33.6\n",
      "y ~ x8 + x2 + x7\n",
      "\n",
      "       Df Sum of Sq    RSS    AIC\n",
      "+ x9    1    4.8657 65.004 33.583\n",
      "<none>              69.870 33.604\n",
      "+ x3    1    1.3873 68.483 35.043\n",
      "+ x4    1    0.9792 68.891 35.209\n",
      "+ x1    1    0.9022 68.968 35.240\n",
      "+ x6    1    0.4879 69.382 35.408\n",
      "+ x5    1    0.2987 69.571 35.484\n",
      "\n",
      "Step:  AIC=33.58\n",
      "y ~ x8 + x2 + x7 + x9\n",
      "\n",
      "       Df Sum of Sq    RSS    AIC\n",
      "<none>              65.004 33.583\n",
      "+ x1    1   1.86452 63.140 34.768\n",
      "+ x4    1   1.74260 63.262 34.822\n",
      "+ x3    1   0.70148 64.303 35.279\n",
      "+ x6    1   0.45071 64.554 35.388\n",
      "+ x5    1   0.32667 64.678 35.442\n"
     ]
    },
    {
     "data": {
      "text/plain": [
       "\n",
       "Call:\n",
       "lm(formula = y ~ x8 + x2 + x7 + x9, data = DatasetFutbol)\n",
       "\n",
       "Coefficients:\n",
       "(Intercept)           x8           x2           x7           x9  \n",
       "  -1.821703    -0.004015     0.003819     0.216894    -0.001635  \n"
      ]
     },
     "metadata": {},
     "output_type": "display_data"
    }
   ],
   "source": [
    "LinearModel_Null <- lm('y ~ 1',DatasetFutbol)\n",
    "LinearModel_Full <- lm('y ~ .',DatasetFutbol)\n",
    "\n",
    "BestLinearModel_Forward <- step(\n",
    "    LinearModel_Null,\n",
    "    scope = list(lower=LinearModel_Null,upper=LinearModel_Full),\n",
    "    direction = 'forward',\n",
    ")\n",
    "\n",
    "BestLinearModel_Forward"
   ]
  },
  {
   "cell_type": "markdown",
   "id": "899a7de1",
   "metadata": {},
   "source": [
    "## **b**. Modelo por Selección hacia Atrás"
   ]
  },
  {
   "cell_type": "code",
   "execution_count": 17,
   "id": "44760210",
   "metadata": {
    "vscode": {
     "languageId": "r"
    }
   },
   "outputs": [
    {
     "name": "stdout",
     "output_type": "stream",
     "text": [
      "Start:  AIC=41.48\n",
      "y ~ x1 + x2 + x3 + x4 + x5 + x6 + x7 + x8 + x9\n",
      "\n",
      "       Df Sum of Sq     RSS    AIC\n",
      "- x5    1     0.000  60.293 39.476\n",
      "- x1    1     0.549  60.842 39.730\n",
      "- x3    1     0.746  61.039 39.821\n",
      "- x6    1     0.803  61.096 39.847\n",
      "- x4    1     1.968  62.261 40.376\n",
      "- x7    1     3.451  63.744 41.035\n",
      "<none>               60.293 41.476\n",
      "- x9    1     5.348  65.642 41.856\n",
      "- x8    1    12.072  72.365 44.587\n",
      "- x2    1    62.448 122.741 59.380\n",
      "\n",
      "Step:  AIC=39.48\n",
      "y ~ x1 + x2 + x3 + x4 + x6 + x7 + x8 + x9\n",
      "\n",
      "       Df Sum of Sq     RSS    AIC\n",
      "- x1    1     0.553  60.846 37.732\n",
      "- x3    1     0.750  61.043 37.822\n",
      "- x6    1     0.818  61.111 37.854\n",
      "- x4    1     2.053  62.346 38.414\n",
      "- x7    1     3.859  64.152 39.213\n",
      "<none>               60.293 39.476\n",
      "- x9    1     5.351  65.644 39.857\n",
      "- x8    1    12.086  72.379 42.592\n",
      "- x2    1    66.979 127.272 58.395\n",
      "\n",
      "Step:  AIC=37.73\n",
      "y ~ x2 + x3 + x4 + x6 + x7 + x8 + x9\n",
      "\n",
      "       Df Sum of Sq     RSS    AIC\n",
      "- x6    1     0.690  61.536 36.048\n",
      "- x3    1     1.715  62.561 36.510\n",
      "- x4    1     3.051  63.897 37.102\n",
      "<none>               60.846 37.732\n",
      "- x9    1     4.852  65.698 37.880\n",
      "- x7    1     8.961  69.807 39.579\n",
      "- x8    1    16.599  77.445 42.486\n",
      "- x2    1    67.010 127.856 56.524\n",
      "\n",
      "Step:  AIC=36.05\n",
      "y ~ x2 + x3 + x4 + x7 + x8 + x9\n",
      "\n",
      "       Df Sum of Sq     RSS    AIC\n",
      "- x3    1     1.726  63.262 34.822\n",
      "- x4    1     2.767  64.303 35.279\n",
      "<none>               61.536 36.048\n",
      "- x9    1     4.831  66.367 36.164\n",
      "- x7    1     9.390  70.926 38.024\n",
      "- x8    1    18.314  79.851 41.343\n",
      "- x2    1    66.447 127.984 54.552\n",
      "\n",
      "Step:  AIC=34.82\n",
      "y ~ x2 + x4 + x7 + x8 + x9\n",
      "\n",
      "       Df Sum of Sq     RSS    AIC\n",
      "- x4    1     1.743  65.004 33.583\n",
      "<none>               63.262 34.822\n",
      "- x9    1     5.629  68.891 35.209\n",
      "- x8    1    17.701  80.962 39.730\n",
      "- x7    1    18.583  81.845 40.033\n",
      "- x2    1    75.598 138.860 54.835\n",
      "\n",
      "Step:  AIC=33.58\n",
      "y ~ x2 + x7 + x8 + x9\n",
      "\n",
      "       Df Sum of Sq     RSS    AIC\n",
      "<none>               65.004 33.583\n",
      "- x9    1     4.866  69.870 33.604\n",
      "- x7    1    16.908  81.913 38.057\n",
      "- x8    1    23.299  88.303 40.160\n",
      "- x2    1    82.892 147.897 54.601\n"
     ]
    },
    {
     "data": {
      "text/plain": [
       "\n",
       "Call:\n",
       "lm(formula = y ~ x2 + x7 + x8 + x9, data = DatasetFutbol)\n",
       "\n",
       "Coefficients:\n",
       "(Intercept)           x2           x7           x8           x9  \n",
       "  -1.821703     0.003819     0.216894    -0.004015    -0.001635  \n"
      ]
     },
     "metadata": {},
     "output_type": "display_data"
    }
   ],
   "source": [
    "BestLinearModel_Backward <- step(\n",
    "    LinearModel_Full,\n",
    "    direction = 'backward',\n",
    ")\n",
    "\n",
    "BestLinearModel_Backward"
   ]
  },
  {
   "cell_type": "markdown",
   "id": "b1adc11a",
   "metadata": {},
   "source": [
    "## **c**. Modelo por Selección por Pasos"
   ]
  },
  {
   "cell_type": "code",
   "execution_count": 18,
   "id": "db544c7d",
   "metadata": {
    "vscode": {
     "languageId": "r"
    }
   },
   "outputs": [
    {
     "name": "stdout",
     "output_type": "stream",
     "text": [
      "Start:  AIC=70.81\n",
      "y ~ 1\n",
      "\n",
      "       Df Sum of Sq    RSS    AIC\n",
      "+ x8    1   178.092 148.87 50.785\n",
      "+ x1    1   115.068 211.90 60.669\n",
      "+ x7    1    97.238 229.73 62.931\n",
      "+ x5    1    86.116 240.85 64.255\n",
      "+ x2    1    76.193 250.77 65.385\n",
      "+ x9    1    30.167 296.80 70.104\n",
      "<none>              326.96 70.814\n",
      "+ x4    1    21.844 305.12 70.878\n",
      "+ x6    1    16.411 310.55 71.372\n",
      "+ x3    1     2.135 324.83 72.631\n",
      "\n",
      "Step:  AIC=50.78\n",
      "y ~ x8\n",
      "\n",
      "       Df Sum of Sq    RSS    AIC\n",
      "+ x2    1    64.934  83.94 36.741\n",
      "+ x5    1    11.607 137.27 50.512\n",
      "<none>              148.87 50.785\n",
      "+ x1    1     6.636 142.24 51.508\n",
      "+ x3    1     6.368 142.50 51.561\n",
      "+ x4    1     6.345 142.53 51.565\n",
      "+ x7    1     0.974 147.90 52.601\n",
      "+ x6    1     0.487 148.39 52.693\n",
      "+ x9    1     0.008 148.86 52.783\n",
      "- x8    1   178.092 326.96 70.814\n",
      "\n",
      "Step:  AIC=36.74\n",
      "y ~ x8 + x2\n",
      "\n",
      "       Df Sum of Sq     RSS    AIC\n",
      "+ x7    1    14.068  69.870 33.604\n",
      "+ x1    1    11.190  72.748 34.734\n",
      "+ x3    1     8.901  75.037 35.602\n",
      "+ x5    1     5.815  78.124 36.730\n",
      "<none>               83.938 36.741\n",
      "+ x9    1     2.026  81.913 38.057\n",
      "+ x6    1     1.322  82.617 38.296\n",
      "+ x4    1     0.016  83.922 38.735\n",
      "- x2    1    64.934 148.872 50.785\n",
      "- x8    1   166.833 250.771 65.385\n",
      "\n",
      "Step:  AIC=33.6\n",
      "y ~ x8 + x2 + x7\n",
      "\n",
      "       Df Sum of Sq     RSS    AIC\n",
      "+ x9    1     4.866  65.004 33.583\n",
      "<none>               69.870 33.604\n",
      "+ x3    1     1.387  68.483 35.043\n",
      "+ x4    1     0.979  68.891 35.209\n",
      "+ x1    1     0.902  68.968 35.240\n",
      "+ x6    1     0.488  69.382 35.408\n",
      "+ x5    1     0.299  69.571 35.484\n",
      "- x7    1    14.068  83.938 36.741\n",
      "- x8    1    41.400 111.270 44.633\n",
      "- x2    1    78.028 147.898 52.601\n",
      "\n",
      "Step:  AIC=33.58\n",
      "y ~ x8 + x2 + x7 + x9\n",
      "\n",
      "       Df Sum of Sq     RSS    AIC\n",
      "<none>               65.004 33.583\n",
      "- x9    1     4.866  69.870 33.604\n",
      "+ x1    1     1.865  63.140 34.768\n",
      "+ x4    1     1.743  63.262 34.822\n",
      "+ x3    1     0.701  64.303 35.279\n",
      "+ x6    1     0.451  64.554 35.388\n",
      "+ x5    1     0.327  64.678 35.442\n",
      "- x7    1    16.908  81.913 38.057\n",
      "- x8    1    23.299  88.303 40.160\n",
      "- x2    1    82.892 147.897 54.601\n"
     ]
    },
    {
     "data": {
      "text/plain": [
       "\n",
       "Call:\n",
       "lm(formula = y ~ x8 + x2 + x7 + x9, data = DatasetFutbol)\n",
       "\n",
       "Coefficients:\n",
       "(Intercept)           x8           x2           x7           x9  \n",
       "  -1.821703    -0.004015     0.003819     0.216894    -0.001635  \n"
      ]
     },
     "metadata": {},
     "output_type": "display_data"
    }
   ],
   "source": [
    "BestLinearModel_Stepwise <- step(\n",
    "    LinearModel_Null,\n",
    "    scope = list(lower=LinearModel_Null,upper=LinearModel_Full),\n",
    "    direction = 'both',\n",
    ")\n",
    "\n",
    "BestLinearModel_Stepwise"
   ]
  },
  {
   "cell_type": "markdown",
   "id": "4168e4f2",
   "metadata": {},
   "source": [
    "## **d**. Comentarios Finales sobre los Modelos Generados"
   ]
  },
  {
   "cell_type": "markdown",
   "id": "bb65bdd1",
   "metadata": {},
   "source": [
    "La parte relevante de estos métodos son tanto las decisiones que toman para llegar a las variables finales y las propias métricas evaluación o criterio para escoger el mejor modelo.\n",
    "\n",
    "Para el modelo de selección hacia adelante, las variables son añadidas en el siguiente orden: $x8$ (Yardas por tierra del contrario), $x2$ (Yardas por aire), $x7$ (Porcentaje de carreras) y $x9$ (Yardas por aire del contrario). Estas variables muestran qué tan agresivo es el equipo contrario y la ofensa del equipo, estos dos aspectos determinan si se gana o no un partido.\n",
    "\n",
    "Para el modelo de selección hacia atrás, las variables son eliminadas en el siguiente orden: $x5$ (Diferencia de pérdidas de balón), $x1$ (Yardas por tierra), $x6$ (Yardas de castigo), $x3$ (Promedio de pateo) y $x4$ (Porcentaje de goles de campo). Estas variables engloban aspectos como la cantidad de intentos de goles, diferencia en los puntajes y otras penalización que pueden verse como aspectos aleatorios si se consideran muchos juegos.\n",
    "\n",
    "Para el modelo de selección por pasos sigue el mismo patrón que el modelo de selección hacia adelante, es decir, no realiza eliminaciones de atributos y los añade en el mismo orden.\n",
    "\n",
    "Para este caso en particular, se llegó al mismo modelo. Pero por cómo se construye, el modelo en selección por pasos se tiene un modelo más robusto que considera el cómo el añadir un nuevo atributo puede alterar al propio modelo; esto hace que tenga más sentido sobre las selecciones que realice, debido a la constante reconsideración que hace. Por ello, me quedaría con los modelos generados a partir de éste método."
   ]
  }
 ],
 "metadata": {
  "kernelspec": {
   "display_name": "R",
   "language": "R",
   "name": "ir"
  },
  "language_info": {
   "codemirror_mode": "r",
   "file_extension": ".r",
   "mimetype": "text/x-r-source",
   "name": "R",
   "pygments_lexer": "r",
   "version": "4.4.2"
  }
 },
 "nbformat": 4,
 "nbformat_minor": 5
}

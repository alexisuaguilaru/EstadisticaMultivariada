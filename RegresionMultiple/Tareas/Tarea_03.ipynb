{
 "cells": [
  {
   "cell_type": "markdown",
   "id": "91c333d7",
   "metadata": {},
   "source": [
    "## Ejercio de Tarea 03\n",
    "Véase los datos sobre [precios de viviendas](https://github.com/HaydeePeruyero/MultivariateStatisticalAnalysis/tree/main/data/Precios_de_viviendas.csv).\n",
    "\n",
    "**a**. Ajustar un modelo de regresión lineal múltiple que relacione el precio de venta con los nueve regresores.\n",
    "\n",
    "**b**. Probar la significancia de la regresión.¿Qué conclusiones se pueden sacar?\n",
    "\n",
    "**c**. Usar pruebas t para evaluar la contribución de cada regresor al modelo.\n",
    "\n",
    "**d**. Calcular $R^2$ y $R^2_{adj}$ para este modelo. \n",
    "\n",
    "**e**. ¿Cuál es la contribución del tamaño del lote y el espacio vital para el modelo, dado que se incluyeron todos los demás regresores?.\n",
    "\n",
    "**f**. En este modelo, ¿la colinealidad es un problema potencial?\n",
    "\n",
    "**g**. Trazar una gráfica de probabilidad normal de los residuales. ¿Parece haber algún problema con la hipótesis de normalidad?\n",
    "\n",
    "**h**. Trazar e interpretar una gráfica de los residuales en función de la respuesta predicha.\n",
    "\n",
    "**i**. Trazar las gráficas de los residuales en función de cada una de las variables regresoras. ¿Implican esas gráficas que se especificó en forma correcta el regresor?.\n"
   ]
  },
  {
   "cell_type": "markdown",
   "id": "600ab1b5",
   "metadata": {},
   "source": [
    "## 0. Importar "
   ]
  },
  {
   "cell_type": "markdown",
   "id": "c76a9c13",
   "metadata": {},
   "source": [
    "### 0.1. Importar Librerías"
   ]
  },
  {
   "cell_type": "code",
   "execution_count": 1,
   "id": "92cc384f",
   "metadata": {},
   "outputs": [],
   "source": [
    "import pandas as pd\n",
    "import numpy as np\n",
    "\n",
    "import matplotlib.pyplot as plt\n",
    "import seaborn as sns\n",
    "\n",
    "import statsmodels.api as sm\n",
    "import statsmodels.formula.api as smf\n",
    "\n",
    "from scipy import stats\n",
    "\n",
    "import SourcePython as src"
   ]
  },
  {
   "cell_type": "markdown",
   "id": "43cbeef3",
   "metadata": {},
   "source": [
    "### 0.2. Cargar Datos"
   ]
  },
  {
   "cell_type": "code",
   "execution_count": 8,
   "id": "82f6cc9d",
   "metadata": {},
   "outputs": [
    {
     "data": {
      "text/html": [
       "<div>\n",
       "<style scoped>\n",
       "    .dataframe tbody tr th:only-of-type {\n",
       "        vertical-align: middle;\n",
       "    }\n",
       "\n",
       "    .dataframe tbody tr th {\n",
       "        vertical-align: top;\n",
       "    }\n",
       "\n",
       "    .dataframe thead th {\n",
       "        text-align: right;\n",
       "    }\n",
       "</style>\n",
       "<table border=\"1\" class=\"dataframe\">\n",
       "  <thead>\n",
       "    <tr style=\"text-align: right;\">\n",
       "      <th></th>\n",
       "      <th>y</th>\n",
       "      <th>x1</th>\n",
       "      <th>x2</th>\n",
       "      <th>x3</th>\n",
       "      <th>x4</th>\n",
       "      <th>x5</th>\n",
       "      <th>x6</th>\n",
       "      <th>x7</th>\n",
       "      <th>x8</th>\n",
       "      <th>x9</th>\n",
       "    </tr>\n",
       "  </thead>\n",
       "  <tbody>\n",
       "    <tr>\n",
       "      <th>0</th>\n",
       "      <td>29.5</td>\n",
       "      <td>5.0208</td>\n",
       "      <td>1.0</td>\n",
       "      <td>3.531</td>\n",
       "      <td>1.500</td>\n",
       "      <td>2.0</td>\n",
       "      <td>7</td>\n",
       "      <td>4</td>\n",
       "      <td>62</td>\n",
       "      <td>0</td>\n",
       "    </tr>\n",
       "    <tr>\n",
       "      <th>1</th>\n",
       "      <td>27.9</td>\n",
       "      <td>4.5429</td>\n",
       "      <td>1.0</td>\n",
       "      <td>2.275</td>\n",
       "      <td>1.175</td>\n",
       "      <td>1.0</td>\n",
       "      <td>6</td>\n",
       "      <td>3</td>\n",
       "      <td>40</td>\n",
       "      <td>0</td>\n",
       "    </tr>\n",
       "    <tr>\n",
       "      <th>2</th>\n",
       "      <td>25.9</td>\n",
       "      <td>4.5573</td>\n",
       "      <td>1.0</td>\n",
       "      <td>4.050</td>\n",
       "      <td>1.232</td>\n",
       "      <td>1.0</td>\n",
       "      <td>6</td>\n",
       "      <td>3</td>\n",
       "      <td>54</td>\n",
       "      <td>0</td>\n",
       "    </tr>\n",
       "    <tr>\n",
       "      <th>3</th>\n",
       "      <td>29.9</td>\n",
       "      <td>5.0597</td>\n",
       "      <td>1.0</td>\n",
       "      <td>4.455</td>\n",
       "      <td>1.121</td>\n",
       "      <td>1.0</td>\n",
       "      <td>6</td>\n",
       "      <td>3</td>\n",
       "      <td>42</td>\n",
       "      <td>0</td>\n",
       "    </tr>\n",
       "    <tr>\n",
       "      <th>4</th>\n",
       "      <td>29.9</td>\n",
       "      <td>3.8910</td>\n",
       "      <td>1.0</td>\n",
       "      <td>4.455</td>\n",
       "      <td>0.988</td>\n",
       "      <td>1.0</td>\n",
       "      <td>6</td>\n",
       "      <td>3</td>\n",
       "      <td>56</td>\n",
       "      <td>0</td>\n",
       "    </tr>\n",
       "  </tbody>\n",
       "</table>\n",
       "</div>"
      ],
      "text/plain": [
       "      y      x1   x2     x3     x4   x5  x6  x7  x8  x9\n",
       "0  29.5  5.0208  1.0  3.531  1.500  2.0   7   4  62   0\n",
       "1  27.9  4.5429  1.0  2.275  1.175  1.0   6   3  40   0\n",
       "2  25.9  4.5573  1.0  4.050  1.232  1.0   6   3  54   0\n",
       "3  29.9  5.0597  1.0  4.455  1.121  1.0   6   3  42   0\n",
       "4  29.9  3.8910  1.0  4.455  0.988  1.0   6   3  56   0"
      ]
     },
     "execution_count": 8,
     "metadata": {},
     "output_type": "execute_result"
    }
   ],
   "source": [
    "DatasetViviendas = pd.read_csv(\n",
    "    './Precios_de_viviendas.csv',\n",
    ")\n",
    "\n",
    "TargetLabel , *FeaturesModel = DatasetViviendas.columns\n",
    "\n",
    "DatasetViviendas.head()"
   ]
  },
  {
   "cell_type": "markdown",
   "id": "ffb293b9",
   "metadata": {},
   "source": [
    "## **a**. Modelo de Regresión"
   ]
  },
  {
   "cell_type": "markdown",
   "id": "8aa890e3",
   "metadata": {},
   "source": [
    "Al usar el plot de los valores observados (esperados) contra los valores predichos se tiene que no se encuentran tan dispersos respecto a la identidad, esto representa el modelo podría estar bien ajustado (sus estimaciones son buenas)."
   ]
  },
  {
   "cell_type": "code",
   "execution_count": 9,
   "id": "e2b06c39",
   "metadata": {},
   "outputs": [
    {
     "data": {
      "text/html": [
       "<table class=\"simpletable\">\n",
       "<caption>OLS Regression Results</caption>\n",
       "<tr>\n",
       "  <th>Dep. Variable:</th>            <td>y</td>        <th>  R-squared:         </th> <td>   0.853</td>\n",
       "</tr>\n",
       "<tr>\n",
       "  <th>Model:</th>                   <td>OLS</td>       <th>  Adj. R-squared:    </th> <td>   0.759</td>\n",
       "</tr>\n",
       "<tr>\n",
       "  <th>Method:</th>             <td>Least Squares</td>  <th>  F-statistic:       </th> <td>   9.037</td>\n",
       "</tr>\n",
       "<tr>\n",
       "  <th>Date:</th>             <td>Tue, 26 Aug 2025</td> <th>  Prob (F-statistic):</th> <td>0.000185</td>\n",
       "</tr>\n",
       "<tr>\n",
       "  <th>Time:</th>                 <td>16:27:44</td>     <th>  Log-Likelihood:    </th> <td> -53.541</td>\n",
       "</tr>\n",
       "<tr>\n",
       "  <th>No. Observations:</th>      <td>    24</td>      <th>  AIC:               </th> <td>   127.1</td>\n",
       "</tr>\n",
       "<tr>\n",
       "  <th>Df Residuals:</th>          <td>    14</td>      <th>  BIC:               </th> <td>   138.9</td>\n",
       "</tr>\n",
       "<tr>\n",
       "  <th>Df Model:</th>              <td>     9</td>      <th>                     </th>     <td> </td>   \n",
       "</tr>\n",
       "<tr>\n",
       "  <th>Covariance Type:</th>      <td>nonrobust</td>    <th>                     </th>     <td> </td>   \n",
       "</tr>\n",
       "</table>\n",
       "<table class=\"simpletable\">\n",
       "<tr>\n",
       "      <td></td>         <th>coef</th>     <th>std err</th>      <th>t</th>      <th>P>|t|</th>  <th>[0.025</th>    <th>0.975]</th>  \n",
       "</tr>\n",
       "<tr>\n",
       "  <th>Intercept</th> <td>   14.9276</td> <td>    5.913</td> <td>    2.525</td> <td> 0.024</td> <td>    2.246</td> <td>   27.609</td>\n",
       "</tr>\n",
       "<tr>\n",
       "  <th>x1</th>        <td>    1.9247</td> <td>    1.030</td> <td>    1.869</td> <td> 0.083</td> <td>   -0.284</td> <td>    4.134</td>\n",
       "</tr>\n",
       "<tr>\n",
       "  <th>x2</th>        <td>    7.0005</td> <td>    4.300</td> <td>    1.628</td> <td> 0.126</td> <td>   -2.223</td> <td>   16.224</td>\n",
       "</tr>\n",
       "<tr>\n",
       "  <th>x3</th>        <td>    0.1492</td> <td>    0.490</td> <td>    0.304</td> <td> 0.765</td> <td>   -0.903</td> <td>    1.201</td>\n",
       "</tr>\n",
       "<tr>\n",
       "  <th>x4</th>        <td>    2.7228</td> <td>    4.360</td> <td>    0.625</td> <td> 0.542</td> <td>   -6.628</td> <td>   12.073</td>\n",
       "</tr>\n",
       "<tr>\n",
       "  <th>x5</th>        <td>    2.0067</td> <td>    1.374</td> <td>    1.461</td> <td> 0.166</td> <td>   -0.939</td> <td>    4.953</td>\n",
       "</tr>\n",
       "<tr>\n",
       "  <th>x6</th>        <td>   -0.4101</td> <td>    2.379</td> <td>   -0.172</td> <td> 0.866</td> <td>   -5.512</td> <td>    4.691</td>\n",
       "</tr>\n",
       "<tr>\n",
       "  <th>x7</th>        <td>   -1.4032</td> <td>    3.396</td> <td>   -0.413</td> <td> 0.686</td> <td>   -8.686</td> <td>    5.879</td>\n",
       "</tr>\n",
       "<tr>\n",
       "  <th>x8</th>        <td>   -0.0371</td> <td>    0.067</td> <td>   -0.557</td> <td> 0.586</td> <td>   -0.180</td> <td>    0.106</td>\n",
       "</tr>\n",
       "<tr>\n",
       "  <th>x9</th>        <td>    1.5594</td> <td>    1.937</td> <td>    0.805</td> <td> 0.434</td> <td>   -2.596</td> <td>    5.715</td>\n",
       "</tr>\n",
       "</table>\n",
       "<table class=\"simpletable\">\n",
       "<tr>\n",
       "  <th>Omnibus:</th>       <td> 1.511</td> <th>  Durbin-Watson:     </th> <td>   2.030</td>\n",
       "</tr>\n",
       "<tr>\n",
       "  <th>Prob(Omnibus):</th> <td> 0.470</td> <th>  Jarque-Bera (JB):  </th> <td>   1.082</td>\n",
       "</tr>\n",
       "<tr>\n",
       "  <th>Skew:</th>          <td> 0.247</td> <th>  Prob(JB):          </th> <td>   0.582</td>\n",
       "</tr>\n",
       "<tr>\n",
       "  <th>Kurtosis:</th>      <td> 2.084</td> <th>  Cond. No.          </th> <td>    470.</td>\n",
       "</tr>\n",
       "</table><br/><br/>Notes:<br/>[1] Standard Errors assume that the covariance matrix of the errors is correctly specified."
      ],
      "text/latex": [
       "\\begin{center}\n",
       "\\begin{tabular}{lclc}\n",
       "\\toprule\n",
       "\\textbf{Dep. Variable:}    &        y         & \\textbf{  R-squared:         } &     0.853   \\\\\n",
       "\\textbf{Model:}            &       OLS        & \\textbf{  Adj. R-squared:    } &     0.759   \\\\\n",
       "\\textbf{Method:}           &  Least Squares   & \\textbf{  F-statistic:       } &     9.037   \\\\\n",
       "\\textbf{Date:}             & Tue, 26 Aug 2025 & \\textbf{  Prob (F-statistic):} &  0.000185   \\\\\n",
       "\\textbf{Time:}             &     16:27:44     & \\textbf{  Log-Likelihood:    } &   -53.541   \\\\\n",
       "\\textbf{No. Observations:} &          24      & \\textbf{  AIC:               } &     127.1   \\\\\n",
       "\\textbf{Df Residuals:}     &          14      & \\textbf{  BIC:               } &     138.9   \\\\\n",
       "\\textbf{Df Model:}         &           9      & \\textbf{                     } &             \\\\\n",
       "\\textbf{Covariance Type:}  &    nonrobust     & \\textbf{                     } &             \\\\\n",
       "\\bottomrule\n",
       "\\end{tabular}\n",
       "\\begin{tabular}{lcccccc}\n",
       "                   & \\textbf{coef} & \\textbf{std err} & \\textbf{t} & \\textbf{P$> |$t$|$} & \\textbf{[0.025} & \\textbf{0.975]}  \\\\\n",
       "\\midrule\n",
       "\\textbf{Intercept} &      14.9276  &        5.913     &     2.525  &         0.024        &        2.246    &       27.609     \\\\\n",
       "\\textbf{x1}        &       1.9247  &        1.030     &     1.869  &         0.083        &       -0.284    &        4.134     \\\\\n",
       "\\textbf{x2}        &       7.0005  &        4.300     &     1.628  &         0.126        &       -2.223    &       16.224     \\\\\n",
       "\\textbf{x3}        &       0.1492  &        0.490     &     0.304  &         0.765        &       -0.903    &        1.201     \\\\\n",
       "\\textbf{x4}        &       2.7228  &        4.360     &     0.625  &         0.542        &       -6.628    &       12.073     \\\\\n",
       "\\textbf{x5}        &       2.0067  &        1.374     &     1.461  &         0.166        &       -0.939    &        4.953     \\\\\n",
       "\\textbf{x6}        &      -0.4101  &        2.379     &    -0.172  &         0.866        &       -5.512    &        4.691     \\\\\n",
       "\\textbf{x7}        &      -1.4032  &        3.396     &    -0.413  &         0.686        &       -8.686    &        5.879     \\\\\n",
       "\\textbf{x8}        &      -0.0371  &        0.067     &    -0.557  &         0.586        &       -0.180    &        0.106     \\\\\n",
       "\\textbf{x9}        &       1.5594  &        1.937     &     0.805  &         0.434        &       -2.596    &        5.715     \\\\\n",
       "\\bottomrule\n",
       "\\end{tabular}\n",
       "\\begin{tabular}{lclc}\n",
       "\\textbf{Omnibus:}       &  1.511 & \\textbf{  Durbin-Watson:     } &    2.030  \\\\\n",
       "\\textbf{Prob(Omnibus):} &  0.470 & \\textbf{  Jarque-Bera (JB):  } &    1.082  \\\\\n",
       "\\textbf{Skew:}          &  0.247 & \\textbf{  Prob(JB):          } &    0.582  \\\\\n",
       "\\textbf{Kurtosis:}      &  2.084 & \\textbf{  Cond. No.          } &     470.  \\\\\n",
       "\\bottomrule\n",
       "\\end{tabular}\n",
       "%\\caption{OLS Regression Results}\n",
       "\\end{center}\n",
       "\n",
       "Notes: \\newline\n",
       " [1] Standard Errors assume that the covariance matrix of the errors is correctly specified."
      ],
      "text/plain": [
       "<class 'statsmodels.iolib.summary.Summary'>\n",
       "\"\"\"\n",
       "                            OLS Regression Results                            \n",
       "==============================================================================\n",
       "Dep. Variable:                      y   R-squared:                       0.853\n",
       "Model:                            OLS   Adj. R-squared:                  0.759\n",
       "Method:                 Least Squares   F-statistic:                     9.037\n",
       "Date:                Tue, 26 Aug 2025   Prob (F-statistic):           0.000185\n",
       "Time:                        16:27:44   Log-Likelihood:                -53.541\n",
       "No. Observations:                  24   AIC:                             127.1\n",
       "Df Residuals:                      14   BIC:                             138.9\n",
       "Df Model:                           9                                         \n",
       "Covariance Type:            nonrobust                                         \n",
       "==============================================================================\n",
       "                 coef    std err          t      P>|t|      [0.025      0.975]\n",
       "------------------------------------------------------------------------------\n",
       "Intercept     14.9276      5.913      2.525      0.024       2.246      27.609\n",
       "x1             1.9247      1.030      1.869      0.083      -0.284       4.134\n",
       "x2             7.0005      4.300      1.628      0.126      -2.223      16.224\n",
       "x3             0.1492      0.490      0.304      0.765      -0.903       1.201\n",
       "x4             2.7228      4.360      0.625      0.542      -6.628      12.073\n",
       "x5             2.0067      1.374      1.461      0.166      -0.939       4.953\n",
       "x6            -0.4101      2.379     -0.172      0.866      -5.512       4.691\n",
       "x7            -1.4032      3.396     -0.413      0.686      -8.686       5.879\n",
       "x8            -0.0371      0.067     -0.557      0.586      -0.180       0.106\n",
       "x9             1.5594      1.937      0.805      0.434      -2.596       5.715\n",
       "==============================================================================\n",
       "Omnibus:                        1.511   Durbin-Watson:                   2.030\n",
       "Prob(Omnibus):                  0.470   Jarque-Bera (JB):                1.082\n",
       "Skew:                           0.247   Prob(JB):                        0.582\n",
       "Kurtosis:                       2.084   Cond. No.                         470.\n",
       "==============================================================================\n",
       "\n",
       "Notes:\n",
       "[1] Standard Errors assume that the covariance matrix of the errors is correctly specified.\n",
       "\"\"\""
      ]
     },
     "execution_count": 9,
     "metadata": {},
     "output_type": "execute_result"
    }
   ],
   "source": [
    "# Ajuste de Modelo\n",
    "\n",
    "LinearModel = smf.ols(\n",
    "    f\"{TargetLabel} ~ \" + ' + '.join(FeaturesModel),\n",
    "    data = DatasetViviendas,\n",
    ").fit()\n",
    "\n",
    "LinearModel.summary()"
   ]
  },
  {
   "cell_type": "code",
   "execution_count": 20,
   "id": "d95051ab",
   "metadata": {},
   "outputs": [
    {
     "data": {
      "image/png": "[encoded data removed]",
      "text/plain": [
       "<Figure size 640x480 with 1 Axes>"
      ]
     },
     "metadata": {},
     "output_type": "display_data"
    }
   ],
   "source": [
    "# Plot de los valores esperados (observados) y estimados\n",
    "\n",
    "fig = src.PlotExpectedEstimate(LinearModel,DatasetViviendas[TargetLabel])\n",
    "fig.axes[0].set_xlim(20,50)\n",
    "fig.axes[0].set_ylim(20,50);"
   ]
  },
  {
   "cell_type": "markdown",
   "id": "fcc21994",
   "metadata": {},
   "source": [
    "## **b**. Prueba de Significancia de la Regresión"
   ]
  },
  {
   "cell_type": "markdown",
   "id": "d48a83fe",
   "metadata": {},
   "source": [
    "Usando la prueba F, se tiene que la regresión es significativa, aunque su estadístico $F_0$ no es notoriamente mayor que $F_1$. Esto significa que aunque el modelo sí genera buena estimaciones, se podría mejorar (eliminando atributos) para que se ajuste de mejor manera a las observaciones."
   ]
  },
  {
   "cell_type": "code",
   "execution_count": 21,
   "id": "68219e48",
   "metadata": {},
   "outputs": [
    {
     "data": {
      "text/html": [
       "<div>\n",
       "<style scoped>\n",
       "    .dataframe tbody tr th:only-of-type {\n",
       "        vertical-align: middle;\n",
       "    }\n",
       "\n",
       "    .dataframe tbody tr th {\n",
       "        vertical-align: top;\n",
       "    }\n",
       "\n",
       "    .dataframe thead th {\n",
       "        text-align: right;\n",
       "    }\n",
       "</style>\n",
       "<table border=\"1\" class=\"dataframe\">\n",
       "  <thead>\n",
       "    <tr style=\"text-align: right;\">\n",
       "      <th></th>\n",
       "      <th>Suma de Cuadrados</th>\n",
       "      <th>Grados de Libertad</th>\n",
       "      <th>Cuadrados Medios</th>\n",
       "      <th>F_0</th>\n",
       "    </tr>\n",
       "    <tr>\n",
       "      <th>Fuente Variación</th>\n",
       "      <th></th>\n",
       "      <th></th>\n",
       "      <th></th>\n",
       "      <th></th>\n",
       "    </tr>\n",
       "  </thead>\n",
       "  <tbody>\n",
       "    <tr>\n",
       "      <th>Regresión</th>\n",
       "      <td>707.298087</td>\n",
       "      <td>9.0</td>\n",
       "      <td>78.588676</td>\n",
       "      <td>9.037027</td>\n",
       "    </tr>\n",
       "    <tr>\n",
       "      <th>Residuales</th>\n",
       "      <td>121.748163</td>\n",
       "      <td>14.0</td>\n",
       "      <td>8.696297</td>\n",
       "      <td>NaN</td>\n",
       "    </tr>\n",
       "    <tr>\n",
       "      <th>Total</th>\n",
       "      <td>829.046250</td>\n",
       "      <td>23.0</td>\n",
       "      <td>36.045489</td>\n",
       "      <td>NaN</td>\n",
       "    </tr>\n",
       "  </tbody>\n",
       "</table>\n",
       "</div>"
      ],
      "text/plain": [
       "                  Suma de Cuadrados  Grados de Libertad  Cuadrados Medios  \\\n",
       "Fuente Variación                                                            \n",
       "Regresión                707.298087                 9.0         78.588676   \n",
       "Residuales               121.748163                14.0          8.696297   \n",
       "Total                    829.046250                23.0         36.045489   \n",
       "\n",
       "                       F_0  \n",
       "Fuente Variación            \n",
       "Regresión         9.037027  \n",
       "Residuales             NaN  \n",
       "Total                  NaN  "
      ]
     },
     "execution_count": 21,
     "metadata": {},
     "output_type": "execute_result"
    }
   ],
   "source": [
    "ANOVA = src.ANOVATable(\n",
    "    LinearModel,\n",
    ")\n",
    "\n",
    "ANOVA"
   ]
  },
  {
   "cell_type": "code",
   "execution_count": 22,
   "id": "12500e66",
   "metadata": {},
   "outputs": [
    {
     "name": "stdout",
     "output_type": "stream",
     "text": [
      "F_1 :: 2.6457907352338195\n"
     ]
    }
   ],
   "source": [
    "# Calculo del valor estadístico F_1\n",
    "\n",
    "LevelSignificance = 0.05\n",
    "F_1 = stats.f.ppf(1-LevelSignificance,*ANOVA['Grados de Libertad'].iloc[:2])\n",
    "\n",
    "print(f'F_1 :: {F_1}')"
   ]
  },
  {
   "cell_type": "markdown",
   "id": "54ddcd81",
   "metadata": {},
   "source": [
    "## **c** y **e**. Prueba sobre los Coeficientes Individuales de Regresión"
   ]
  },
  {
   "cell_type": "markdown",
   "id": "461efe05",
   "metadata": {},
   "source": [
    "Para todos los estadísticos $t_0$ asociados a cada variable regresora se tiene que no tiene una influencia o contribución significativa al modelo. Pero se tiene que es una regresión significativa, entonces se tiene un problema (conflicto) con algunos de los supuestos del modelo lineal."
   ]
  },
  {
   "cell_type": "code",
   "execution_count": 23,
   "id": "c3a260bd",
   "metadata": {},
   "outputs": [
    {
     "name": "stdout",
     "output_type": "stream",
     "text": [
      "t_1 :: 2.1447866879169273\n",
      "\n",
      "t_0 Values\n",
      "x1 :: 1.8688408296655927\n",
      "x2 :: 1.627890479889609\n",
      "x3 :: 0.3042042680251138\n",
      "x4 :: 0.6245611873880467\n",
      "x5 :: 1.460991219797703\n",
      "x6 :: -0.1724263642196211\n",
      "x7 :: -0.4132581286663472\n",
      "x8 :: -0.5567915719754749\n",
      "x9 :: 0.8048774017843509\n"
     ]
    }
   ],
   "source": [
    "# Calculo de valores t_0 y t_1\n",
    "\n",
    "LevelSignificance = 0.05\n",
    "\n",
    "src.TestIndividualCoefficients(\n",
    "    LinearModel,\n",
    "    DatasetViviendas,\n",
    "    FeaturesModel,\n",
    "    LevelSignificance,\n",
    ")"
   ]
  },
  {
   "cell_type": "markdown",
   "id": "36f35981",
   "metadata": {},
   "source": [
    "## **d**. Métricas del Modelo"
   ]
  },
  {
   "cell_type": "markdown",
   "id": "d8c5925a",
   "metadata": {},
   "source": [
    "Se tiene que tiene muy buenas métricas y que se pueden contrastar con el plot en [a. Modelo de Regresión](#a-modelo-de-regresión) en el que no tiene puntos alejados de la recta identidad y la mayoría de ellos están cercas de ésta. Esto explica dos cosas, las métricas alcanzadas y la significancia de la regresión."
   ]
  },
  {
   "cell_type": "code",
   "execution_count": 35,
   "id": "be081764",
   "metadata": {},
   "outputs": [
    {
     "name": "stdout",
     "output_type": "stream",
     "text": [
      "R^2 :: 0.853146717261346\n",
      "R^2 Adjustada:: 0.7587410355007829\n"
     ]
    }
   ],
   "source": [
    "# Scores usando el Modelo\n",
    "\n",
    "print(f'R^2 :: {LinearModel.rsquared}')\n",
    "print(f'R^2 Adjustada:: {LinearModel.rsquared_adj}')"
   ]
  }
 ],
 "metadata": {
  "kernelspec": {
   "display_name": "data_science",
   "language": "python",
   "name": "python3"
  },
  "language_info": {
   "codemirror_mode": {
    "name": "ipython",
    "version": 3
   },
   "file_extension": ".py",
   "mimetype": "text/x-python",
   "name": "python",
   "nbconvert_exporter": "python",
   "pygments_lexer": "ipython3",
   "version": "3.13.3"
  }
 },
 "nbformat": 4,
 "nbformat_minor": 5
}

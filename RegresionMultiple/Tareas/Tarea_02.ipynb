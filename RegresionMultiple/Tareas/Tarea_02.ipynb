{
 "cells": [
  {
   "cell_type": "markdown",
   "id": "11f1ca8c",
   "metadata": {},
   "source": [
    "## Ejercicio de Tarea 02\n",
    "Véase los datos de [rendimiento de gasolina](https://github.com/HaydeePeruyero/MultivariateStatisticalAnalysis/tree/main/data/Rendimiento_de_gasolina.csv).\n",
    "\n",
    "**a**. Ajustar un modelo de regresión lineal múltiple que relacione el rendimiento de la gasolina *y*, en millas por galón, la cilindrada del motor ($x_1$) y la cantidad de gargantas del carburador ($x_6$).  \n",
    "\n",
    "**b**. Formar la tabla de análisis de varianza y probar la significancia de la regresión.  \n",
    "\n",
    "**c**. Calcular $R^2$ y $R^2_{adj}$ para este modelo. Compararlas con las $R^2$ y $R^2_{adj}$ Ajustado para el modelo de regresión lineal simple, que relaciona las millas con la cilindrada.  \n",
    "\n",
    "**d**. Determinar un intervalo de confianza para $\\beta_1$.  \n",
    "\n",
    "**e**. Determinar un intervalo de confianza de $95\\%$ para el rendimiento promedio de la gasolina, cuando $x_1 = 225 pulg^3$ y $x_6 = 2$ gargantas.  \n",
    "\n",
    "**f**. Determinar un intervalo de predicción de $95\\%$ para una nueva observación de rendimiento de gasolina, cuando $x_1 = 225 pulg^3$ y $x_6 = 2$ gargantas.  \n",
    "\n",
    "**g**. Considerar el modelo de regresión lineal simple, que relaciona las millas con la cilindrada. Construir un intervalo de confianza de $95\\%$ para el rendimiento promedio de la gasolina y un intervalo de predicción para el rendimiento, cuando $x_1 = 225 pulg^3$. Comparar las longitudes de estos intervalos con los intervalos obtenidos en los dos incisos anteriores. ¿Tiene ventajas agregar $x_6$ al modelo?  \n",
    "\n",
    "**h**. Trazar una gráfica de probabilidad normal de los residuales. ¿Parece haber algún problema con la hipótesis de normalidad?  \n",
    "\n",
    "**i**. Trazar e interpretar una gráfica de los residuales en función de la respuesta predicha.  \n",
    "\n",
    "**j**. Trazar las gráficas de los residuales en función de cada una de las variables regresoras. ¿Implican esas gráficas que se especificó en forma correcta el regresor?"
   ]
  },
  {
   "cell_type": "markdown",
   "id": "0c4a0e2d",
   "metadata": {},
   "source": [
    "## 0. Importar "
   ]
  },
  {
   "cell_type": "code",
   "execution_count": 59,
   "id": "1bd98805",
   "metadata": {
    "vscode": {
     "languageId": "r"
    }
   },
   "outputs": [
    {
     "name": "stderr",
     "output_type": "stream",
     "text": [
      "Warning message:\n",
      "\"package 'lmtest' was built under R version 4.4.3\"\n",
      "Loading required package: zoo\n",
      "\n",
      "Warning message:\n",
      "\"package 'zoo' was built under R version 4.4.3\"\n",
      "\n",
      "Attaching package: 'zoo'\n",
      "\n",
      "\n",
      "The following objects are masked from 'package:base':\n",
      "\n",
      "    as.Date, as.Date.numeric\n",
      "\n",
      "\n"
     ]
    }
   ],
   "source": [
    "library(GGally)\n",
    "library(ggplot2)\n",
    "library(grid)\n",
    "library(gridExtra)\n",
    "library(lmtest)"
   ]
  },
  {
   "cell_type": "code",
   "execution_count": 2,
   "id": "4e251c76",
   "metadata": {
    "vscode": {
     "languageId": "r"
    }
   },
   "outputs": [
    {
     "data": {
      "text/html": [
       "<table class=\"dataframe\">\n",
       "<caption>A data.frame: 6 × 12</caption>\n",
       "<thead>\n",
       "\t<tr><th></th><th scope=col>y</th><th scope=col>x1</th><th scope=col>x2</th><th scope=col>x3</th><th scope=col>x4</th><th scope=col>x5</th><th scope=col>x6</th><th scope=col>x7</th><th scope=col>x8</th><th scope=col>x9</th><th scope=col>x10</th><th scope=col>x11</th></tr>\n",
       "\t<tr><th></th><th scope=col>&lt;dbl&gt;</th><th scope=col>&lt;dbl&gt;</th><th scope=col>&lt;int&gt;</th><th scope=col>&lt;int&gt;</th><th scope=col>&lt;dbl&gt;</th><th scope=col>&lt;dbl&gt;</th><th scope=col>&lt;int&gt;</th><th scope=col>&lt;int&gt;</th><th scope=col>&lt;dbl&gt;</th><th scope=col>&lt;dbl&gt;</th><th scope=col>&lt;int&gt;</th><th scope=col>&lt;int&gt;</th></tr>\n",
       "</thead>\n",
       "<tbody>\n",
       "\t<tr><th scope=row>1</th><td>18.90</td><td>350</td><td>165</td><td>260</td><td>8.00</td><td>2.56</td><td>4</td><td>3</td><td>200.3</td><td>69.9</td><td>3910</td><td>1</td></tr>\n",
       "\t<tr><th scope=row>2</th><td>17.00</td><td>350</td><td>170</td><td>275</td><td>8.50</td><td>2.56</td><td>4</td><td>3</td><td>199.6</td><td>72.9</td><td>3860</td><td>1</td></tr>\n",
       "\t<tr><th scope=row>3</th><td>20.00</td><td>250</td><td>105</td><td>185</td><td>8.25</td><td>2.73</td><td>1</td><td>3</td><td>196.7</td><td>72.2</td><td>3510</td><td>1</td></tr>\n",
       "\t<tr><th scope=row>4</th><td>18.25</td><td>351</td><td>143</td><td>255</td><td>8.00</td><td>3.00</td><td>2</td><td>3</td><td>199.9</td><td>74.0</td><td>3890</td><td>1</td></tr>\n",
       "\t<tr><th scope=row>5</th><td>20.07</td><td>225</td><td> 95</td><td>170</td><td>8.40</td><td>2.76</td><td>1</td><td>3</td><td>194.1</td><td>71.8</td><td>3365</td><td>0</td></tr>\n",
       "\t<tr><th scope=row>6</th><td>11.20</td><td>440</td><td>215</td><td>330</td><td>8.20</td><td>2.88</td><td>4</td><td>3</td><td>184.5</td><td>69.0</td><td>4215</td><td>1</td></tr>\n",
       "</tbody>\n",
       "</table>\n"
      ],
      "text/latex": [
       "A data.frame: 6 × 12\n",
       "\\begin{tabular}{r|llllllllllll}\n",
       "  & y & x1 & x2 & x3 & x4 & x5 & x6 & x7 & x8 & x9 & x10 & x11\\\\\n",
       "  & <dbl> & <dbl> & <int> & <int> & <dbl> & <dbl> & <int> & <int> & <dbl> & <dbl> & <int> & <int>\\\\\n",
       "\\hline\n",
       "\t1 & 18.90 & 350 & 165 & 260 & 8.00 & 2.56 & 4 & 3 & 200.3 & 69.9 & 3910 & 1\\\\\n",
       "\t2 & 17.00 & 350 & 170 & 275 & 8.50 & 2.56 & 4 & 3 & 199.6 & 72.9 & 3860 & 1\\\\\n",
       "\t3 & 20.00 & 250 & 105 & 185 & 8.25 & 2.73 & 1 & 3 & 196.7 & 72.2 & 3510 & 1\\\\\n",
       "\t4 & 18.25 & 351 & 143 & 255 & 8.00 & 3.00 & 2 & 3 & 199.9 & 74.0 & 3890 & 1\\\\\n",
       "\t5 & 20.07 & 225 &  95 & 170 & 8.40 & 2.76 & 1 & 3 & 194.1 & 71.8 & 3365 & 0\\\\\n",
       "\t6 & 11.20 & 440 & 215 & 330 & 8.20 & 2.88 & 4 & 3 & 184.5 & 69.0 & 4215 & 1\\\\\n",
       "\\end{tabular}\n"
      ],
      "text/markdown": [
       "\n",
       "A data.frame: 6 × 12\n",
       "\n",
       "| <!--/--> | y &lt;dbl&gt; | x1 &lt;dbl&gt; | x2 &lt;int&gt; | x3 &lt;int&gt; | x4 &lt;dbl&gt; | x5 &lt;dbl&gt; | x6 &lt;int&gt; | x7 &lt;int&gt; | x8 &lt;dbl&gt; | x9 &lt;dbl&gt; | x10 &lt;int&gt; | x11 &lt;int&gt; |\n",
       "|---|---|---|---|---|---|---|---|---|---|---|---|---|\n",
       "| 1 | 18.90 | 350 | 165 | 260 | 8.00 | 2.56 | 4 | 3 | 200.3 | 69.9 | 3910 | 1 |\n",
       "| 2 | 17.00 | 350 | 170 | 275 | 8.50 | 2.56 | 4 | 3 | 199.6 | 72.9 | 3860 | 1 |\n",
       "| 3 | 20.00 | 250 | 105 | 185 | 8.25 | 2.73 | 1 | 3 | 196.7 | 72.2 | 3510 | 1 |\n",
       "| 4 | 18.25 | 351 | 143 | 255 | 8.00 | 3.00 | 2 | 3 | 199.9 | 74.0 | 3890 | 1 |\n",
       "| 5 | 20.07 | 225 |  95 | 170 | 8.40 | 2.76 | 1 | 3 | 194.1 | 71.8 | 3365 | 0 |\n",
       "| 6 | 11.20 | 440 | 215 | 330 | 8.20 | 2.88 | 4 | 3 | 184.5 | 69.0 | 4215 | 1 |\n",
       "\n"
      ],
      "text/plain": [
       "  y     x1  x2  x3  x4   x5   x6 x7 x8    x9   x10  x11\n",
       "1 18.90 350 165 260 8.00 2.56 4  3  200.3 69.9 3910 1  \n",
       "2 17.00 350 170 275 8.50 2.56 4  3  199.6 72.9 3860 1  \n",
       "3 20.00 250 105 185 8.25 2.73 1  3  196.7 72.2 3510 1  \n",
       "4 18.25 351 143 255 8.00 3.00 2  3  199.9 74.0 3890 1  \n",
       "5 20.07 225  95 170 8.40 2.76 1  3  194.1 71.8 3365 0  \n",
       "6 11.20 440 215 330 8.20 2.88 4  3  184.5 69.0 4215 1  "
      ]
     },
     "metadata": {},
     "output_type": "display_data"
    }
   ],
   "source": [
    "DatasetGasolina <- read.csv('./Rendimiento_de_gasolina.csv')\n",
    "\n",
    "head(DatasetGasolina)"
   ]
  },
  {
   "cell_type": "markdown",
   "id": "f6a9ccd3",
   "metadata": {},
   "source": [
    "## **a**. Modelo de Regresión"
   ]
  },
  {
   "cell_type": "markdown",
   "id": "c1976fe6",
   "metadata": {},
   "source": [
    "Del plot generado, se puede apreciar que los atributos capturan una tendencia o relación con la variable de respuesta. Es decir, se podría decir que a priori $x_1$ (cilindrada del motor) y $x_6$ (cantidad de gargantas del carburador) tienen un impacto sobre $y$ (rendimiento de gasolina); aunque el atributo $x_6$ no tiene una influencia significativa según su valor $t_0$."
   ]
  },
  {
   "cell_type": "code",
   "execution_count": 3,
   "id": "d7bbfa4f",
   "metadata": {
    "vscode": {
     "languageId": "r"
    }
   },
   "outputs": [
    {
     "data": {
      "text/plain": [
       "\n",
       "Call:\n",
       "lm(formula = \"y ~ x1 + x6\", data = DatasetGasolina)\n",
       "\n",
       "Residuals:\n",
       "    Min      1Q  Median      3Q     Max \n",
       "-7.0623 -1.6687 -0.3628  1.6221  6.2305 \n",
       "\n",
       "Coefficients:\n",
       "             Estimate Std. Error t value Pr(>|t|)    \n",
       "(Intercept) 32.884551   1.535408  21.417  < 2e-16 ***\n",
       "x1          -0.053148   0.006137  -8.660 1.55e-09 ***\n",
       "x6           0.959223   0.670277   1.431    0.163    \n",
       "---\n",
       "Signif. codes:  0 '***' 0.001 '**' 0.01 '*' 0.05 '.' 0.1 ' ' 1\n",
       "\n",
       "Residual standard error: 3.013 on 29 degrees of freedom\n",
       "Multiple R-squared:  0.7873,\tAdjusted R-squared:  0.7726 \n",
       "F-statistic: 53.67 on 2 and 29 DF,  p-value: 1.79e-10\n"
      ]
     },
     "metadata": {},
     "output_type": "display_data"
    }
   ],
   "source": [
    "# Ajuste de Modelo usando Funciones de R \n",
    "\n",
    "LinearModel <- lm('y ~ x1 + x6',DatasetGasolina)\n",
    "\n",
    "summary(LinearModel)"
   ]
  },
  {
   "cell_type": "code",
   "execution_count": 4,
   "id": "aebf6f32",
   "metadata": {
    "vscode": {
     "languageId": "r"
    }
   },
   "outputs": [],
   "source": [
    "#' Función para calcular los valores de los parámetro betas para un modelo lineal.\n",
    "ManualLinearModel <- function(\n",
    "    Dataset,\n",
    "    FeaturesModel,\n",
    "    TargetLabel\n",
    ")\n",
    "{\n",
    "    DataMatrixX <- as.matrix(cbind(x0=1,Dataset[FeaturesModel]))\n",
    "    RealValuesY <- as.matrix(Dataset[TargetLabel])\n",
    "    EstimateBetas <- solve(t(DataMatrixX)%*%DataMatrixX) %*% t(DataMatrixX) %*% RealValuesY\n",
    "\n",
    "    return(list(\n",
    "        DataMatrixX = DataMatrixX,\n",
    "        RealValuesY = RealValuesY,\n",
    "        EstimateBetas = EstimateBetas\n",
    "    ))\n",
    "}"
   ]
  },
  {
   "cell_type": "code",
   "execution_count": 5,
   "id": "c349c54d",
   "metadata": {
    "vscode": {
     "languageId": "r"
    }
   },
   "outputs": [
    {
     "data": {
      "text/html": [
       "<table class=\"dataframe\">\n",
       "<caption>A matrix: 3 × 1 of type dbl</caption>\n",
       "<thead>\n",
       "\t<tr><th></th><th scope=col>y</th></tr>\n",
       "</thead>\n",
       "<tbody>\n",
       "\t<tr><th scope=row>x0</th><td>32.88455083</td></tr>\n",
       "\t<tr><th scope=row>x1</th><td>-0.05314767</td></tr>\n",
       "\t<tr><th scope=row>x6</th><td> 0.95922305</td></tr>\n",
       "</tbody>\n",
       "</table>\n"
      ],
      "text/latex": [
       "A matrix: 3 × 1 of type dbl\n",
       "\\begin{tabular}{r|l}\n",
       "  & y\\\\\n",
       "\\hline\n",
       "\tx0 & 32.88455083\\\\\n",
       "\tx1 & -0.05314767\\\\\n",
       "\tx6 &  0.95922305\\\\\n",
       "\\end{tabular}\n"
      ],
      "text/markdown": [
       "\n",
       "A matrix: 3 × 1 of type dbl\n",
       "\n",
       "| <!--/--> | y |\n",
       "|---|---|\n",
       "| x0 | 32.88455083 |\n",
       "| x1 | -0.05314767 |\n",
       "| x6 |  0.95922305 |\n",
       "\n"
      ],
      "text/plain": [
       "   y          \n",
       "x0 32.88455083\n",
       "x1 -0.05314767\n",
       "x6  0.95922305"
      ]
     },
     "metadata": {},
     "output_type": "display_data"
    }
   ],
   "source": [
    "# Ajuste de Modelo de forma Manual\n",
    "\n",
    "FeaturesModel <- c('x1','x6')\n",
    "TargetLabel <- 'y'\n",
    "\n",
    "LinearModelManual <- ManualLinearModel(DatasetGasolina,FeaturesModel,TargetLabel)\n",
    "DataMatrixX <- LinearModelManual$DataMatrixX\n",
    "RealValuesY <- LinearModelManual$RealValuesY\n",
    "EstimateBetas <- LinearModelManual$EstimateBetas\n",
    "\n",
    "EstimateBetas"
   ]
  },
  {
   "cell_type": "code",
   "execution_count": 6,
   "id": "abfed903",
   "metadata": {
    "vscode": {
     "languageId": "r"
    }
   },
   "outputs": [],
   "source": [
    "#' Función para generar el plot de dispersión entre los atributos y la variable de respuesta.\n",
    "PlotScatterReg <- function(\n",
    "    Dataset,\n",
    "    FeaturesModel,\n",
    "    TargetLabel,\n",
    "    TargetName\n",
    ")\n",
    "{\n",
    "    plot <- ggpairs(\n",
    "    Dataset[c(FeaturesModel,TargetLabel)],\n",
    "        title = paste('Relación de Atributos con\\n',TargetName),\n",
    "        lower = list(continuous = wrap('smooth',method='lm',se=FALSE,color='blue')),\n",
    "        upper = list(continuous = wrap('smooth',method='lm',se=FALSE,color='blue')),\n",
    "        diag = list(continuous = wrap('barDiag',bins=6,fill='blue'))\n",
    "    ) + \n",
    "    theme_minimal() + \n",
    "    theme(\n",
    "        plot.title = element_text(hjust=0.5,size=18),\n",
    "        axis.text = element_text(size=10)\n",
    "    )\n",
    "\n",
    "    return(plot)\n",
    "}"
   ]
  },
  {
   "cell_type": "code",
   "execution_count": 7,
   "id": "5858682f",
   "metadata": {
    "vscode": {
     "languageId": "r"
    }
   },
   "outputs": [
    {
     "data": {
      "image/png": "[encoded data removed]",
      "text/plain": [
       "plot without title"
      ]
     },
     "metadata": {
      "image/png": {
       "height": 420,
       "width": 420
      }
     },
     "output_type": "display_data"
    }
   ],
   "source": [
    "PlotScatterReg(\n",
    "    DatasetGasolina,\n",
    "    FeaturesModel,\n",
    "    TargetLabel,\n",
    "    'Rendimiento de la Gasolina'\n",
    ")"
   ]
  },
  {
   "cell_type": "markdown",
   "id": "e19df227",
   "metadata": {},
   "source": [
    "## **b**. Tabla de Análisis de Varianza"
   ]
  },
  {
   "cell_type": "markdown",
   "id": "60c7bfc4",
   "metadata": {},
   "source": [
    "Considerando los valores obtenidos de la prueba F, se tiene que el valor de $F_0$ es significativamente mayor que el $F_1$, por lo tanto se tiene que el ajuste de regresión es significativa, haciendo que el modulo sea robusto."
   ]
  },
  {
   "cell_type": "code",
   "execution_count": 8,
   "id": "dba9cff6",
   "metadata": {
    "vscode": {
     "languageId": "r"
    }
   },
   "outputs": [],
   "source": [
    "#' Función para construir la tabla de ANOVA en base a un modelo de Regresión Lineal, se extraen los valores de interés y son reacomodados en un formato tabular.\n",
    "ANOVA_Table <- function(\n",
    "    LinearModel\n",
    ") \n",
    "{\n",
    "    PartANOVA <- anova(LinearModel)\n",
    "    Summary <- summary(LinearModel)\n",
    "  \n",
    "    SumSquares_Reg <- sum(PartANOVA$`Sum Sq`[1:(nrow(PartANOVA)-1)])\n",
    "    SumSquares_Res <- PartANOVA$`Sum Sq`[nrow(PartANOVA)]\n",
    "    SumSquares_Tot <- SumSquares_Reg + SumSquares_Res\n",
    "\n",
    "    DegreeFreedom_Reg <- sum(PartANOVA$Df[1:(nrow(PartANOVA)-1)])\n",
    "    DegreeFreedom_Res <- PartANOVA$Df[nrow(PartANOVA)]\n",
    "    DegreeFreedom_Tot <- DegreeFreedom_Reg + DegreeFreedom_Res\n",
    "\n",
    "    ANOVATable <- data.frame(\n",
    "        'Fuente de Variación' = c('Regresión', 'Residuales', 'Total'),\n",
    "        stringsAsFactors = FALSE\n",
    "    )\n",
    "  \n",
    "    ANOVATable$'Suma de Cuadrados' = c(SumSquares_Reg,SumSquares_Res,SumSquares_Tot)\n",
    "    ANOVATable$'Grados de Libertad' = c(DegreeFreedom_Reg,DegreeFreedom_Res,DegreeFreedom_Tot)\n",
    "    ANOVATable$'Cuadrados Medios' <- ANOVATable$`Suma de Cuadrados`/ANOVATable$`Grados de Libertad`\n",
    "    ANOVATable$'F_0' <- c(Summary$fstatistic[1],NA,NA)\n",
    "  \n",
    "    return(ANOVATable)\n",
    "}\n",
    "\n",
    "#' Función para construir la tabla de ANOVA en base a las observaciones (`DataMatrixX` y `RealValuesY`) y los coeficientes de regresión (`EstimateBetas`), se hacen uso de las formulas matriciales para determinar los diferentes valores de la tabla.\n",
    "ANOVA_TableManual <- function(\n",
    "    DataMatrixX,\n",
    "    RealValuesY,\n",
    "    EstimateBetas\n",
    ") \n",
    "{\n",
    "    SizeN <- nrow(DataMatrixX)\n",
    "    Parameters <- length(EstimateBetas)\n",
    "\n",
    "    SumSquares_Tot <- as.numeric(t(RealValuesY) %*% RealValuesY - sum(RealValuesY)^2 / SizeN)\n",
    "    SumSquares_Reg <- as.numeric(t(EstimateBetas) %*% t(DataMatrixX) %*% RealValuesY - sum(RealValuesY)^2 / SizeN)\n",
    "    SumSquares_Res <- SumSquares_Tot - SumSquares_Reg\n",
    "\n",
    "    DegreeFreedom_Reg <- Parameters - 1\n",
    "    DegreeFreedom_Res <- SizeN - Parameters\n",
    "    DegreeFreedom_Tot <- DegreeFreedom_Reg + DegreeFreedom_Res\n",
    "\n",
    "    MeanSquares_Reg <- SumSquares_Reg / DegreeFreedom_Reg\n",
    "    MeanSquares_Res <- SumSquares_Res / DegreeFreedom_Res\n",
    "\n",
    "    ANOVATable <- data.frame(\n",
    "        'Fuente de Variación' = c('Regresión', 'Residuales', 'Total'),\n",
    "        stringsAsFactors = FALSE\n",
    "    )\n",
    "\n",
    "    ANOVATable$'Suma de Cuadrados' = c(SumSquares_Reg,SumSquares_Res,SumSquares_Tot)\n",
    "    ANOVATable$'Grados de Libertad' = c(DegreeFreedom_Reg,DegreeFreedom_Res,DegreeFreedom_Tot)\n",
    "    ANOVATable$'Cuadrados Medios' <- ANOVATable$`Suma de Cuadrados`/ANOVATable$`Grados de Libertad`\n",
    "    ANOVATable$'F_0' <- c(MeanSquares_Reg/MeanSquares_Res,NA,NA)\n",
    "\n",
    "    return(ANOVATable)\n",
    "}"
   ]
  },
  {
   "cell_type": "code",
   "execution_count": 9,
   "id": "d904c500",
   "metadata": {
    "vscode": {
     "languageId": "r"
    }
   },
   "outputs": [
    {
     "data": {
      "text/html": [
       "<table class=\"dataframe\">\n",
       "<caption>A data.frame: 3 × 5</caption>\n",
       "<thead>\n",
       "\t<tr><th scope=col>Fuente.de.Variación</th><th scope=col>Suma de Cuadrados</th><th scope=col>Grados de Libertad</th><th scope=col>Cuadrados Medios</th><th scope=col>F_0</th></tr>\n",
       "\t<tr><th scope=col>&lt;chr&gt;</th><th scope=col>&lt;dbl&gt;</th><th scope=col>&lt;int&gt;</th><th scope=col>&lt;dbl&gt;</th><th scope=col>&lt;dbl&gt;</th></tr>\n",
       "</thead>\n",
       "<tbody>\n",
       "\t<tr><td>Regresión </td><td> 974.3095</td><td> 2</td><td>487.154770</td><td>53.66882</td></tr>\n",
       "\t<tr><td>Residuales</td><td> 263.2345</td><td>29</td><td>  9.077053</td><td>      NA</td></tr>\n",
       "\t<tr><td>Total     </td><td>1237.5441</td><td>31</td><td> 39.920777</td><td>      NA</td></tr>\n",
       "</tbody>\n",
       "</table>\n"
      ],
      "text/latex": [
       "A data.frame: 3 × 5\n",
       "\\begin{tabular}{lllll}\n",
       " Fuente.de.Variación & Suma de Cuadrados & Grados de Libertad & Cuadrados Medios & F\\_0\\\\\n",
       " <chr> & <dbl> & <int> & <dbl> & <dbl>\\\\\n",
       "\\hline\n",
       "\t Regresión  &  974.3095 &  2 & 487.154770 & 53.66882\\\\\n",
       "\t Residuales &  263.2345 & 29 &   9.077053 &       NA\\\\\n",
       "\t Total      & 1237.5441 & 31 &  39.920777 &       NA\\\\\n",
       "\\end{tabular}\n"
      ],
      "text/markdown": [
       "\n",
       "A data.frame: 3 × 5\n",
       "\n",
       "| Fuente.de.Variación &lt;chr&gt; | Suma de Cuadrados &lt;dbl&gt; | Grados de Libertad &lt;int&gt; | Cuadrados Medios &lt;dbl&gt; | F_0 &lt;dbl&gt; |\n",
       "|---|---|---|---|---|\n",
       "| Regresión  |  974.3095 |  2 | 487.154770 | 53.66882 |\n",
       "| Residuales |  263.2345 | 29 |   9.077053 |       NA |\n",
       "| Total      | 1237.5441 | 31 |  39.920777 |       NA |\n",
       "\n"
      ],
      "text/plain": [
       "  Fuente.de.Variación Suma de Cuadrados Grados de Libertad Cuadrados Medios\n",
       "1 Regresión            974.3095          2                 487.154770      \n",
       "2 Residuales           263.2345         29                   9.077053      \n",
       "3 Total               1237.5441         31                  39.920777      \n",
       "  F_0     \n",
       "1 53.66882\n",
       "2       NA\n",
       "3       NA"
      ]
     },
     "metadata": {},
     "output_type": "display_data"
    }
   ],
   "source": [
    "ANOVA_Model = ANOVA_Table(LinearModel)\n",
    "ANOVA_Model"
   ]
  },
  {
   "cell_type": "code",
   "execution_count": 10,
   "id": "4061fdc8",
   "metadata": {
    "vscode": {
     "languageId": "r"
    }
   },
   "outputs": [
    {
     "data": {
      "text/html": [
       "<table class=\"dataframe\">\n",
       "<caption>A data.frame: 3 × 5</caption>\n",
       "<thead>\n",
       "\t<tr><th scope=col>Fuente.de.Variación</th><th scope=col>Suma de Cuadrados</th><th scope=col>Grados de Libertad</th><th scope=col>Cuadrados Medios</th><th scope=col>F_0</th></tr>\n",
       "\t<tr><th scope=col>&lt;chr&gt;</th><th scope=col>&lt;dbl&gt;</th><th scope=col>&lt;dbl&gt;</th><th scope=col>&lt;dbl&gt;</th><th scope=col>&lt;dbl&gt;</th></tr>\n",
       "</thead>\n",
       "<tbody>\n",
       "\t<tr><td>Regresión </td><td> 974.3095</td><td> 2</td><td>487.154770</td><td>53.66882</td></tr>\n",
       "\t<tr><td>Residuales</td><td> 263.2345</td><td>29</td><td>  9.077053</td><td>      NA</td></tr>\n",
       "\t<tr><td>Total     </td><td>1237.5441</td><td>31</td><td> 39.920777</td><td>      NA</td></tr>\n",
       "</tbody>\n",
       "</table>\n"
      ],
      "text/latex": [
       "A data.frame: 3 × 5\n",
       "\\begin{tabular}{lllll}\n",
       " Fuente.de.Variación & Suma de Cuadrados & Grados de Libertad & Cuadrados Medios & F\\_0\\\\\n",
       " <chr> & <dbl> & <dbl> & <dbl> & <dbl>\\\\\n",
       "\\hline\n",
       "\t Regresión  &  974.3095 &  2 & 487.154770 & 53.66882\\\\\n",
       "\t Residuales &  263.2345 & 29 &   9.077053 &       NA\\\\\n",
       "\t Total      & 1237.5441 & 31 &  39.920777 &       NA\\\\\n",
       "\\end{tabular}\n"
      ],
      "text/markdown": [
       "\n",
       "A data.frame: 3 × 5\n",
       "\n",
       "| Fuente.de.Variación &lt;chr&gt; | Suma de Cuadrados &lt;dbl&gt; | Grados de Libertad &lt;dbl&gt; | Cuadrados Medios &lt;dbl&gt; | F_0 &lt;dbl&gt; |\n",
       "|---|---|---|---|---|\n",
       "| Regresión  |  974.3095 |  2 | 487.154770 | 53.66882 |\n",
       "| Residuales |  263.2345 | 29 |   9.077053 |       NA |\n",
       "| Total      | 1237.5441 | 31 |  39.920777 |       NA |\n",
       "\n"
      ],
      "text/plain": [
       "  Fuente.de.Variación Suma de Cuadrados Grados de Libertad Cuadrados Medios\n",
       "1 Regresión            974.3095          2                 487.154770      \n",
       "2 Residuales           263.2345         29                   9.077053      \n",
       "3 Total               1237.5441         31                  39.920777      \n",
       "  F_0     \n",
       "1 53.66882\n",
       "2       NA\n",
       "3       NA"
      ]
     },
     "metadata": {},
     "output_type": "display_data"
    }
   ],
   "source": [
    "ANOVA_TableManual(\n",
    "    DataMatrixX,\n",
    "    RealValuesY,\n",
    "    EstimateBetas\n",
    ")"
   ]
  },
  {
   "cell_type": "code",
   "execution_count": 11,
   "id": "77d8d2a8",
   "metadata": {
    "vscode": {
     "languageId": "r"
    }
   },
   "outputs": [
    {
     "name": "stdout",
     "output_type": "stream",
     "text": [
      "F_1 :: 3.3277"
     ]
    }
   ],
   "source": [
    "# Calculo del valor estadístico F_1\n",
    "\n",
    "LevelSignificance <- 0.05\n",
    "F_1 <- qf(1-LevelSignificance,ANOVA_Model$`Grados de Libertad`[1],ANOVA_Model$`Grados de Libertad`[2])\n",
    "\n",
    "cat(sprintf('F_1 :: %.4f',F_1))"
   ]
  },
  {
   "cell_type": "markdown",
   "id": "e8a76a72",
   "metadata": {},
   "source": [
    "## **c**. Contraste de Métricas en Modelos"
   ]
  },
  {
   "cell_type": "markdown",
   "id": "8cff1d3b",
   "metadata": {},
   "source": [
    "Al momento de que se comparan las métricas se tiene que se parecen, es decir, se podría presuponer de que no existe diferencia significativa entre los modelos. Ésto se confirma al realizar una ANOVA sobre ambos modelos, en donde resulta que la variable $x_6$ no es significativa (esto se puede mostrar al ver el valor $t_0$ del respectivo coeficiente en el Modelo Completo con $x_1$ y $x_6$)."
   ]
  },
  {
   "cell_type": "code",
   "execution_count": null,
   "id": "d52e77e8",
   "metadata": {
    "vscode": {
     "languageId": "r"
    }
   },
   "outputs": [
    {
     "name": "stdout",
     "output_type": "stream",
     "text": [
      "R^2 :: 0.7873\n",
      "R^2 Adjustada :: 0.7726\n"
     ]
    }
   ],
   "source": [
    "# Scores usando el Modelo Completo\n",
    "\n",
    "cat(sprintf('R^2 :: %.4f\\n',summary(LinearModel)$r.squared))\n",
    "cat(sprintf('R^2 Adjustada :: %.4f\\n',summary(LinearModel)$adj.r.squared))"
   ]
  },
  {
   "cell_type": "code",
   "execution_count": 33,
   "id": "097874d8",
   "metadata": {
    "vscode": {
     "languageId": "r"
    }
   },
   "outputs": [],
   "source": [
    "#' Función para plotear los valores esperados y estimados del modelo lineal.\n",
    "PlotExpectedEstimate <- function(\n",
    "    LinearModel,\n",
    "    ExpectedValuesY,\n",
    "    Title = 'Ajuste del Modelo'\n",
    ") \n",
    "{\n",
    "    plot_data <- data.frame(\n",
    "        Observados = ExpectedValuesY,\n",
    "        Estimados = fitted(LinearModel)\n",
    "    )\n",
    "  \n",
    "  # Crear el gráfico con ggplot2\n",
    "  plot <- ggplot(plot_data, aes(x = Observados, y = Estimados)) +\n",
    "    geom_point(alpha=0.7,color='blue',size=3) +\n",
    "    geom_abline(\n",
    "        intercept = 0, \n",
    "        slope = 1, \n",
    "        color = 'gray', \n",
    "        linetype = 'dotted',\n",
    "        linewidth = 2\n",
    "    ) +\n",
    "    labs(\n",
    "        title = Title,\n",
    "        x = 'Valores Observados',\n",
    "        y = 'Valores Estimados'\n",
    "    ) +\n",
    "    theme_minimal() + \n",
    "    theme(\n",
    "        plot.title = element_text(hjust=0.5,size=18),\n",
    "        axis.text = element_text(size=12),\n",
    "        axis.title = element_text(size=14)\n",
    "    )\n",
    "\n",
    "    return(plot)\n",
    "}"
   ]
  },
  {
   "cell_type": "code",
   "execution_count": 35,
   "id": "79d05c19",
   "metadata": {
    "vscode": {
     "languageId": "r"
    }
   },
   "outputs": [
    {
     "data": {
      "image/png": "[encoded data removed]",
      "text/plain": [
       "plot without title"
      ]
     },
     "metadata": {
      "image/png": {
       "height": 420,
       "width": 420
      }
     },
     "output_type": "display_data"
    }
   ],
   "source": [
    "# Plot de los valores esperados (observados) y estimados en el Modelo Completo\n",
    "\n",
    "PlotExpectedEstimate(LinearModel,DatasetGasolina$y,'Ajuste del Modelo Completo')"
   ]
  },
  {
   "cell_type": "code",
   "execution_count": 32,
   "id": "3f86a23c",
   "metadata": {
    "vscode": {
     "languageId": "r"
    }
   },
   "outputs": [
    {
     "data": {
      "text/plain": [
       "\n",
       "Call:\n",
       "lm(formula = \"y ~ x1\", data = DatasetGasolina)\n",
       "\n",
       "Residuals:\n",
       "    Min      1Q  Median      3Q     Max \n",
       "-6.7923 -1.9752  0.0044  1.7677  6.8171 \n",
       "\n",
       "Coefficients:\n",
       "             Estimate Std. Error t value Pr(>|t|)    \n",
       "(Intercept) 33.722677   1.443903   23.36  < 2e-16 ***\n",
       "x1          -0.047360   0.004695  -10.09 3.74e-11 ***\n",
       "---\n",
       "Signif. codes:  0 '***' 0.001 '**' 0.01 '*' 0.05 '.' 0.1 ' ' 1\n",
       "\n",
       "Residual standard error: 3.065 on 30 degrees of freedom\n",
       "Multiple R-squared:  0.7723,\tAdjusted R-squared:  0.7647 \n",
       "F-statistic: 101.7 on 1 and 30 DF,  p-value: 3.743e-11\n"
      ]
     },
     "metadata": {},
     "output_type": "display_data"
    }
   ],
   "source": [
    "# Modelo de Regresión Simple\n",
    "\n",
    "FeaturesModelSimple <- c('x1')\n",
    "LinearModelSimple <- lm('y ~ x1',DatasetGasolina)\n",
    "\n",
    "summary(LinearModelSimple)"
   ]
  },
  {
   "cell_type": "code",
   "execution_count": 36,
   "id": "5ef724b9",
   "metadata": {
    "vscode": {
     "languageId": "r"
    }
   },
   "outputs": [
    {
     "name": "stdout",
     "output_type": "stream",
     "text": [
      "R^2 :: 0.7723\n",
      "R^2 Adjustada :: 0.7647\n"
     ]
    }
   ],
   "source": [
    "# Scores usando el Modelo Simple\n",
    "\n",
    "cat(sprintf('R^2 :: %.4f\\n',summary(LinearModelSimple)$r.squared))\n",
    "cat(sprintf('R^2 Adjustada :: %.4f\\n',summary(LinearModelSimple)$adj.r.squared))"
   ]
  },
  {
   "cell_type": "code",
   "execution_count": 37,
   "id": "1f4a9654",
   "metadata": {
    "vscode": {
     "languageId": "r"
    }
   },
   "outputs": [
    {
     "data": {
      "image/png": "[encoded data removed]",
      "text/plain": [
       "plot without title"
      ]
     },
     "metadata": {
      "image/png": {
       "height": 420,
       "width": 420
      }
     },
     "output_type": "display_data"
    }
   ],
   "source": [
    "# Plot de los valores esperados (observados) y estimados en el Modelo Simple\n",
    "\n",
    "PlotExpectedEstimate(LinearModel,DatasetGasolina$y,'Ajuste del Modelo Simple')"
   ]
  },
  {
   "cell_type": "code",
   "execution_count": null,
   "id": "b089a337",
   "metadata": {
    "vscode": {
     "languageId": "r"
    }
   },
   "outputs": [
    {
     "data": {
      "text/html": [
       "<table class=\"dataframe\">\n",
       "<caption>A anova: 2 × 6</caption>\n",
       "<thead>\n",
       "\t<tr><th></th><th scope=col>Res.Df</th><th scope=col>RSS</th><th scope=col>Df</th><th scope=col>Sum of Sq</th><th scope=col>F</th><th scope=col>Pr(&gt;F)</th></tr>\n",
       "\t<tr><th></th><th scope=col>&lt;dbl&gt;</th><th scope=col>&lt;dbl&gt;</th><th scope=col>&lt;dbl&gt;</th><th scope=col>&lt;dbl&gt;</th><th scope=col>&lt;dbl&gt;</th><th scope=col>&lt;dbl&gt;</th></tr>\n",
       "</thead>\n",
       "<tbody>\n",
       "\t<tr><th scope=row>1</th><td>29</td><td>263.2345</td><td>NA</td><td>       NA</td><td>      NA</td><td>       NA</td></tr>\n",
       "\t<tr><th scope=row>2</th><td>30</td><td>281.8244</td><td>-1</td><td>-18.58983</td><td>2.048003</td><td>0.1630948</td></tr>\n",
       "</tbody>\n",
       "</table>\n"
      ],
      "text/latex": [
       "A anova: 2 × 6\n",
       "\\begin{tabular}{r|llllll}\n",
       "  & Res.Df & RSS & Df & Sum of Sq & F & Pr(>F)\\\\\n",
       "  & <dbl> & <dbl> & <dbl> & <dbl> & <dbl> & <dbl>\\\\\n",
       "\\hline\n",
       "\t1 & 29 & 263.2345 & NA &        NA &       NA &        NA\\\\\n",
       "\t2 & 30 & 281.8244 & -1 & -18.58983 & 2.048003 & 0.1630948\\\\\n",
       "\\end{tabular}\n"
      ],
      "text/markdown": [
       "\n",
       "A anova: 2 × 6\n",
       "\n",
       "| <!--/--> | Res.Df &lt;dbl&gt; | RSS &lt;dbl&gt; | Df &lt;dbl&gt; | Sum of Sq &lt;dbl&gt; | F &lt;dbl&gt; | Pr(&gt;F) &lt;dbl&gt; |\n",
       "|---|---|---|---|---|---|---|\n",
       "| 1 | 29 | 263.2345 | NA |        NA |       NA |        NA |\n",
       "| 2 | 30 | 281.8244 | -1 | -18.58983 | 2.048003 | 0.1630948 |\n",
       "\n"
      ],
      "text/plain": [
       "  Res.Df RSS      Df Sum of Sq F        Pr(>F)   \n",
       "1 29     263.2345 NA        NA       NA        NA\n",
       "2 30     281.8244 -1 -18.58983 2.048003 0.1630948"
      ]
     },
     "metadata": {},
     "output_type": "display_data"
    }
   ],
   "source": [
    "# Comparativa de los modelos\n",
    "\n",
    "anova(LinearModel,LinearModelSimple)"
   ]
  },
  {
   "cell_type": "markdown",
   "id": "d6ad2dc3",
   "metadata": {},
   "source": [
    "## **d**. Intervalo de Confianza para $\\beta_1$"
   ]
  },
  {
   "cell_type": "markdown",
   "id": "ae4d4027",
   "metadata": {},
   "source": [
    "La longitud del interval de confianza para $\\beta_1$ es pequeño, esto implica que la estimación del coeficiente no tiene incertidumbre, por lo que es una estimación fuerte y robusta."
   ]
  },
  {
   "cell_type": "code",
   "execution_count": 17,
   "id": "d5402d08",
   "metadata": {
    "vscode": {
     "languageId": "r"
    }
   },
   "outputs": [],
   "source": [
    "#' Función para calcular la matriz de covarianza de los parámetros o coeficientes de regresión en base a las observaciones y modelo lineal.\n",
    "CalculatedCovarianceEstimateBetas <- function(\n",
    "    LinearModel,\n",
    "    Dataset,\n",
    "    FeaturesModel\n",
    ")\n",
    "{\n",
    "    SizeN <- nrow(Dataset)\n",
    "    DataMatrixX <- as.matrix(cbind(x0=1,Dataset[FeaturesModel]))\n",
    "\n",
    "    PartANOVA <- anova(LinearModel)\n",
    "    EstimateSquareSigma <- PartANOVA$`Sum Sq`[nrow(PartANOVA)]/df.residual(LinearModel)\n",
    "\n",
    "    return(EstimateSquareSigma*solve(t(DataMatrixX)%*%DataMatrixX))\n",
    "}\n",
    "\n",
    "#' Función para determinar los intervalos de confianza para los coeficientes de regresión de un modelo.\n",
    "ConfidenceIntervalsCoefficient <- function(\n",
    "    LinearModel, \n",
    "    Dataset,\n",
    "    FeaturesModel,\n",
    "    IndexFeatures,\n",
    "    LevelSignificance = 0.05\n",
    ") \n",
    "{\n",
    "    CovarianceEstimateBetas <- CalculatedCovarianceEstimateBetas(LinearModel,Dataset,FeaturesModel) # == vcov(LinearModel)\n",
    "    \n",
    "    tValue_1 <- qt(1-LevelSignificance/2,df=LinearModel$df.residual)\n",
    "    \n",
    "    for (index_feature in IndexFeatures)\n",
    "    {\n",
    "        beta_value <- coef(LinearModel)[index_feature]\n",
    "        variance_beta <- CovarianceEstimateBetas[index_feature+1,index_feature+1]\n",
    "        \n",
    "        interval_borders <- tValue_1 * sqrt(variance_beta)\n",
    "        left_interval <- beta_value - interval_borders\n",
    "        right_interval <- beta_value + interval_borders\n",
    "        \n",
    "        interval_length <- right_interval - left_interval\n",
    "        cat(sprintf('%s , %.4f :: [%.4f , %.4f] , Longitud %.4f\\n',FeaturesModel[index_feature],beta_value,left_interval,right_interval,interval_length))\n",
    "    }\n",
    "}"
   ]
  },
  {
   "cell_type": "code",
   "execution_count": 18,
   "id": "b38b9c7b",
   "metadata": {
    "vscode": {
     "languageId": "r"
    }
   },
   "outputs": [
    {
     "name": "stdout",
     "output_type": "stream",
     "text": [
      "x1 , 32.8846 :: [32.8720 , 32.8971] , Longitud 0.0251\n"
     ]
    }
   ],
   "source": [
    "# Intervalos de Confianza para Coeficientes\n",
    "\n",
    "ConfidenceIntervalsCoefficient(\n",
    "    LinearModel,\n",
    "    DatasetGasolina,\n",
    "    FeaturesModel,\n",
    "    c(1)\n",
    ")"
   ]
  },
  {
   "cell_type": "markdown",
   "id": "acdbb540",
   "metadata": {},
   "source": [
    "## **e**. Intervalo de Confianza para Respuesta Media para $x_1 = 225\\ pulg^3$ y $x_6 = 2$ gargantas"
   ]
  },
  {
   "cell_type": "markdown",
   "id": "1eb0dc37",
   "metadata": {},
   "source": [
    "El intervalo generado es amplio, esto implica que se genera una mayor incertidumbre sobre la estimación para esta observación, por lo que para estos casos el modelo genera estimaciones más imprecisas. Por lo tanto, se podría desconfiar del modelo sobre las predicciones que haga sobre puntos cercanos a la observación realizada."
   ]
  },
  {
   "cell_type": "code",
   "execution_count": null,
   "id": "e5d946a0",
   "metadata": {
    "vscode": {
     "languageId": "r"
    }
   },
   "outputs": [],
   "source": [
    "#' Función para determinar los intervalos de confianza para la respuesta media del modelo.\n",
    "ConfidenceIntervalsMeanResponse <- function(\n",
    "    LinearModel,\n",
    "    Observations,\n",
    "    LevelSignificance = 0.05\n",
    ") \n",
    "{   \n",
    "    for (index_observation in 1:nrow(Observations)) {\n",
    "        observation <- Observations[index_observation,]\n",
    "        result_prediction <- predict(LinearModel,observation,interval='confidence',level=1-LevelSignificance)\n",
    "        left_interval <- result_prediction[2]\n",
    "        prediction <- result_prediction[1]\n",
    "        right_interval <- result_prediction[3]\n",
    "\n",
    "        cat(sprintf('[%d] :: %.4f <= %.4f <= %.4f , Longitud %.4f\\n',index_observation - 1, left_interval, prediction, right_interval, right_interval - left_interval))\n",
    "    }\n",
    "}"
   ]
  },
  {
   "cell_type": "code",
   "execution_count": 50,
   "id": "8d723ba5",
   "metadata": {
    "vscode": {
     "languageId": "r"
    }
   },
   "outputs": [
    {
     "name": "stdout",
     "output_type": "stream",
     "text": [
      "[0] :: 21.5765 <= 22.8448 <= 24.1130 , Longitud 2.5365\n"
     ]
    }
   ],
   "source": [
    "# Intervalo de confianza para la Respuesta Media\n",
    "\n",
    "Observations <- data.frame(\n",
    "    t(c(225,2)),\n",
    "    stringsAsFactors = FALSE\n",
    ")\n",
    "colnames(Observations) <- FeaturesModel\n",
    "\n",
    "ConfidenceIntervalsMeanResponse(\n",
    "    LinearModel,\n",
    "    Observations\n",
    ")"
   ]
  },
  {
   "cell_type": "markdown",
   "id": "4e2b41c5",
   "metadata": {},
   "source": [
    "## **f**. Intervalo de Confianza para Predicción en $x_1 = 225\\ pulg^3$ y $x_6 = 2$ gargantas"
   ]
  },
  {
   "cell_type": "markdown",
   "id": "618c275d",
   "metadata": {},
   "source": [
    "En comparación del anterior, se tiene un intervalo de confianza más amplio debido a que captura la varianza del modelo o, dicho así, se está considerando el ruido de las observaciones para generar un mayor margen sobre la predicción realizada."
   ]
  },
  {
   "cell_type": "code",
   "execution_count": 51,
   "id": "64834898",
   "metadata": {
    "vscode": {
     "languageId": "r"
    }
   },
   "outputs": [],
   "source": [
    "#' Función para determinar los intervalos de confianza para la predicción del modelo.\n",
    "ConfidenceIntervalsPrediction <- function(\n",
    "    LinearModel,\n",
    "    Observations,\n",
    "    LevelSignificance = 0.05\n",
    ") \n",
    "{   \n",
    "    for (index_observation in 1:nrow(Observations)) {\n",
    "        observation <- Observations[index_observation,]\n",
    "        result_prediction <- predict(LinearModel,observation,interval='prediction',level=1-LevelSignificance)\n",
    "        left_interval <- result_prediction[2]\n",
    "        prediction <- result_prediction[1]\n",
    "        right_interval <- result_prediction[3]\n",
    "\n",
    "        cat(sprintf('[%d] :: %.4f <= %.4f <= %.4f , Longitud %.4f\\n',index_observation - 1, left_interval, prediction, right_interval, right_interval - left_interval))\n",
    "    }\n",
    "}"
   ]
  },
  {
   "cell_type": "code",
   "execution_count": 52,
   "id": "2723f0ad",
   "metadata": {
    "vscode": {
     "languageId": "r"
    }
   },
   "outputs": [
    {
     "name": "stdout",
     "output_type": "stream",
     "text": [
      "[0] :: 16.5537 <= 22.8448 <= 29.1358 , Longitud 12.5821\n"
     ]
    }
   ],
   "source": [
    "# Intervalo de confianza para la Predicción\n",
    "\n",
    "ConfidenceIntervalsPrediction(\n",
    "    LinearModel,\n",
    "    Observations\n",
    ")"
   ]
  },
  {
   "cell_type": "markdown",
   "id": "0bf58b6a",
   "metadata": {
    "vscode": {
     "languageId": "r"
    }
   },
   "source": [
    "## **g**. Modelo de Regresión Simple"
   ]
  },
  {
   "cell_type": "markdown",
   "id": "546ce004",
   "metadata": {},
   "source": [
    "### 1. Intervalo de Confianza para Respuesta Media"
   ]
  },
  {
   "cell_type": "code",
   "execution_count": null,
   "id": "314d439b",
   "metadata": {
    "vscode": {
     "languageId": "r"
    }
   },
   "outputs": [
    {
     "name": "stdout",
     "output_type": "stream",
     "text": [
      "[0] :: 21.8194 <= 23.0668 <= 24.3141 , Longitud 2.4948\n"
     ]
    }
   ],
   "source": [
    "# Intervalo de confianza para la Respuesta Media\n",
    "\n",
    "ConfidenceIntervalsMeanResponse(\n",
    "    LinearModelSimple,\n",
    "    Observations\n",
    ")"
   ]
  },
  {
   "cell_type": "markdown",
   "id": "95cbc011",
   "metadata": {},
   "source": [
    "### 2. Intervalo de Confianza para Predicción"
   ]
  },
  {
   "cell_type": "code",
   "execution_count": 57,
   "id": "b54c8be1",
   "metadata": {
    "vscode": {
     "languageId": "r"
    }
   },
   "outputs": [
    {
     "name": "stdout",
     "output_type": "stream",
     "text": [
      "[0] :: 16.6842 <= 23.0668 <= 29.4494 , Longitud 12.7652\n"
     ]
    }
   ],
   "source": [
    "# Intervalo de confianza para Predicción\n",
    "\n",
    "ConfidenceIntervalsPrediction(\n",
    "    LinearModelSimple,\n",
    "    Observations\n",
    ")"
   ]
  },
  {
   "cell_type": "markdown",
   "id": "977bd57d",
   "metadata": {},
   "source": [
    "### 3. Conclusión sobre Agregar $x_6$"
   ]
  },
  {
   "cell_type": "markdown",
   "id": "2b1783a8",
   "metadata": {},
   "source": [
    "Por las métricas e intervalo generados se tiene que el agregar la variable $x_6$ no tiene un impacto significativo sobre las estimaciones generadas por el modelo. Por lo que al realizar la comparativa entre los modelos por medio de una ANOVA se tiene que no hay un diferencia significativa en las predicciones generadas por los modelos. Y dicho así, la variable $x_6$ no es relevante para el modelo por lo mencionado."
   ]
  },
  {
   "cell_type": "code",
   "execution_count": 25,
   "id": "44780e0d",
   "metadata": {
    "vscode": {
     "languageId": "r"
    }
   },
   "outputs": [
    {
     "data": {
      "text/html": [
       "<table class=\"dataframe\">\n",
       "<caption>A anova: 2 × 6</caption>\n",
       "<thead>\n",
       "\t<tr><th></th><th scope=col>Res.Df</th><th scope=col>RSS</th><th scope=col>Df</th><th scope=col>Sum of Sq</th><th scope=col>F</th><th scope=col>Pr(&gt;F)</th></tr>\n",
       "\t<tr><th></th><th scope=col>&lt;dbl&gt;</th><th scope=col>&lt;dbl&gt;</th><th scope=col>&lt;dbl&gt;</th><th scope=col>&lt;dbl&gt;</th><th scope=col>&lt;dbl&gt;</th><th scope=col>&lt;dbl&gt;</th></tr>\n",
       "</thead>\n",
       "<tbody>\n",
       "\t<tr><th scope=row>1</th><td>30</td><td>281.8244</td><td>NA</td><td>      NA</td><td>      NA</td><td>       NA</td></tr>\n",
       "\t<tr><th scope=row>2</th><td>29</td><td>263.2345</td><td> 1</td><td>18.58983</td><td>2.048003</td><td>0.1630948</td></tr>\n",
       "</tbody>\n",
       "</table>\n"
      ],
      "text/latex": [
       "A anova: 2 × 6\n",
       "\\begin{tabular}{r|llllll}\n",
       "  & Res.Df & RSS & Df & Sum of Sq & F & Pr(>F)\\\\\n",
       "  & <dbl> & <dbl> & <dbl> & <dbl> & <dbl> & <dbl>\\\\\n",
       "\\hline\n",
       "\t1 & 30 & 281.8244 & NA &       NA &       NA &        NA\\\\\n",
       "\t2 & 29 & 263.2345 &  1 & 18.58983 & 2.048003 & 0.1630948\\\\\n",
       "\\end{tabular}\n"
      ],
      "text/markdown": [
       "\n",
       "A anova: 2 × 6\n",
       "\n",
       "| <!--/--> | Res.Df &lt;dbl&gt; | RSS &lt;dbl&gt; | Df &lt;dbl&gt; | Sum of Sq &lt;dbl&gt; | F &lt;dbl&gt; | Pr(&gt;F) &lt;dbl&gt; |\n",
       "|---|---|---|---|---|---|---|\n",
       "| 1 | 30 | 281.8244 | NA |       NA |       NA |        NA |\n",
       "| 2 | 29 | 263.2345 |  1 | 18.58983 | 2.048003 | 0.1630948 |\n",
       "\n"
      ],
      "text/plain": [
       "  Res.Df RSS      Df Sum of Sq F        Pr(>F)   \n",
       "1 30     281.8244 NA       NA        NA        NA\n",
       "2 29     263.2345  1 18.58983  2.048003 0.1630948"
      ]
     },
     "metadata": {},
     "output_type": "display_data"
    }
   ],
   "source": [
    "anova(LinearModelSimple,LinearModel)"
   ]
  },
  {
   "cell_type": "markdown",
   "id": "f499867b",
   "metadata": {},
   "source": [
    "## **h**. Gráfica de Probabilidad Normal de los Residuales"
   ]
  },
  {
   "cell_type": "markdown",
   "id": "a5d5fa7f",
   "metadata": {},
   "source": [
    "En general, los cuantiles de los residuales se alinean con los cuantiles teóricos, es decir, no parece que exista una forma de S en el plot ni que las colas estén pesadas; por lo tanto, no existe un problema aparente en el supuesto de normalidad. Y al realizar la prueba de Shapiro-Wilk se obtiene un resultado no significativo, es decir, no se rechaza la hipótesis nula sobre normalidad"
   ]
  },
  {
   "cell_type": "code",
   "execution_count": 26,
   "id": "426409d7",
   "metadata": {
    "vscode": {
     "languageId": "r"
    }
   },
   "outputs": [],
   "source": [
    "#' Función para plotear los cuartiles de los valores predichos (observados/esperados contra los obtenidos).\n",
    "PlotQQResiduals <- function(\n",
    "    LinearModel\n",
    ")\n",
    "{\n",
    "    Residuals <- resid(LinearModel)\n",
    "    QQData <- qqnorm(Residuals, plot.it = FALSE)\n",
    "  \n",
    "    LineFit <- lm(QQData$y ~ QQData$x)\n",
    "    Intercept <- coef(LineFit)[1]\n",
    "    Slope <- coef(LineFit)[2]\n",
    "    \n",
    "    PlotData <- data.frame(\n",
    "        Theoretical = QQData$x,\n",
    "        Residuals = QQData$y\n",
    "    )\n",
    "  \n",
    "    plot <- ggplot(PlotData,aes(x=Theoretical,y=Residuals)) +\n",
    "        geom_point(alpha=0.7,color='blue',size=3) +\n",
    "        geom_abline(\n",
    "            intercept = Intercept,\n",
    "            slope = Slope,\n",
    "            color = 'gray',\n",
    "            linetype = 'dotted',\n",
    "            linewidth = 1.2\n",
    "        ) +\n",
    "        labs(\n",
    "            x = 'Cuantiles Teóricos',\n",
    "            y = 'Cuantiles de Residuales',\n",
    "            title = 'Probabilidad Normal de los Residuales'\n",
    "        ) +\n",
    "        theme_minimal() +\n",
    "        theme(\n",
    "            plot.title = element_text(size=18,hjust=0.5),\n",
    "            axis.title = element_text(size=14),\n",
    "            axis.text = element_text(size=12),\n",
    "        )\n",
    "  \n",
    "  return(plot)\n",
    "}"
   ]
  },
  {
   "cell_type": "code",
   "execution_count": 27,
   "id": "27c88c75",
   "metadata": {
    "vscode": {
     "languageId": "r"
    }
   },
   "outputs": [
    {
     "data": {
      "image/png": "[encoded data removed]",
      "text/plain": [
       "plot without title"
      ]
     },
     "metadata": {
      "image/png": {
       "height": 420,
       "width": 420
      }
     },
     "output_type": "display_data"
    }
   ],
   "source": [
    "# Plot\n",
    "\n",
    "PlotQQResiduals(LinearModel)"
   ]
  },
  {
   "cell_type": "code",
   "execution_count": 58,
   "id": "bef391fb",
   "metadata": {
    "vscode": {
     "languageId": "r"
    }
   },
   "outputs": [
    {
     "data": {
      "text/plain": [
       "\n",
       "\tShapiro-Wilk normality test\n",
       "\n",
       "data:  LinearModel$residuals\n",
       "W = 0.98065, p-value = 0.8183\n"
      ]
     },
     "metadata": {},
     "output_type": "display_data"
    }
   ],
   "source": [
    "# Prueba de normalidad\n",
    "\n",
    "shapiro.test(LinearModel$residuals)"
   ]
  },
  {
   "cell_type": "markdown",
   "id": "7393c2b6",
   "metadata": {},
   "source": [
    "## **i**. Gráfica de los Residuales en Función de la Respuesta Predicha"
   ]
  },
  {
   "cell_type": "markdown",
   "id": "f7a46940",
   "metadata": {},
   "source": [
    "Aunque parece que forma un patrón aleatorio los residuales, se tiene que hay valores que se encuentran muy dispersos; esto podría ser indicio de heterocedasticidad. Al momento de que se aplica la prueba de Breusch-Pagan, se tiene que no se rechaza la hipótesis nula, por lo tanto existe homocedasticidad en los residuos."
   ]
  },
  {
   "cell_type": "code",
   "execution_count": 28,
   "id": "87f18400",
   "metadata": {
    "vscode": {
     "languageId": "r"
    }
   },
   "outputs": [],
   "source": [
    "PlotPredictResiduals <- function(\n",
    "    LinearModel,\n",
    "    TargetName\n",
    ")\n",
    "{\n",
    "    PlotData <- data.frame(\n",
    "        Fitted = fitted(LinearModel),\n",
    "        Residuals = residuals(LinearModel)\n",
    "    )\n",
    "  \n",
    "\n",
    "    plot <- ggplot(PlotData,aes(x=Fitted,y=Residuals)) +\n",
    "        geom_point(alpha=0.7,color='blue',size=3) +\n",
    "        labs(\n",
    "            title = 'Residuales en Función de la Respuesta Predicha',\n",
    "            x = TargetName,\n",
    "            y = 'Residual'\n",
    "        ) +\n",
    "        theme_minimal() +\n",
    "        theme(\n",
    "            plot.title = element_text(hjust=0.5,size=18),\n",
    "            axis.text = element_text(size=12),\n",
    "            axis.title = element_text(size=14)\n",
    "        )\n",
    "  \n",
    "    return(plot)\n",
    "}"
   ]
  },
  {
   "cell_type": "code",
   "execution_count": 29,
   "id": "dd162472",
   "metadata": {
    "vscode": {
     "languageId": "r"
    }
   },
   "outputs": [
    {
     "data": {
      "image/png": "[encoded data removed]",
      "text/plain": [
       "plot without title"
      ]
     },
     "metadata": {
      "image/png": {
       "height": 420,
       "width": 420
      }
     },
     "output_type": "display_data"
    }
   ],
   "source": [
    "# Plot\n",
    "\n",
    "PlotPredictResiduals(LinearModel,'Rendimiento de Gasolina')"
   ]
  },
  {
   "cell_type": "code",
   "execution_count": null,
   "id": "d36a7e55",
   "metadata": {
    "vscode": {
     "languageId": "r"
    }
   },
   "outputs": [
    {
     "data": {
      "text/plain": [
       "\n",
       "\tstudentized Breusch-Pagan test\n",
       "\n",
       "data:  LinearModel\n",
       "BP = 3.6593, df = 2, p-value = 0.1605\n"
      ]
     },
     "metadata": {},
     "output_type": "display_data"
    }
   ],
   "source": [
    "# Prueba de Breusch-Pagan \n",
    "bptest(LinearModel)"
   ]
  },
  {
   "cell_type": "markdown",
   "id": "fb80144c",
   "metadata": {},
   "source": [
    "## **j**. Gráficas de los Residuales en Función de las Variables Regresoras"
   ]
  },
  {
   "cell_type": "markdown",
   "id": "434d306a",
   "metadata": {},
   "source": [
    "Los residuales en la variable $x_1$ no parecen seguir un patrón, por lo que se tiene que esta variable no viola el supuesto de especificación en el modelo. En cambio, en la variable $x_6$ se tiene un clara heterocedasticidad (la varianza sobre los valores que toma no es constante), por lo que esta variable hace que no se cumpla el supuesto de especificación en el modelo."
   ]
  },
  {
   "cell_type": "code",
   "execution_count": 30,
   "id": "e7647474",
   "metadata": {
    "vscode": {
     "languageId": "r"
    }
   },
   "outputs": [],
   "source": [
    "#' Función para plotear los residuales en función de las variables del modelo.\n",
    "PlotVariableResiduals <- function(\n",
    "    LinearModel,\n",
    "    Dataset,\n",
    "    FeaturesModel\n",
    ")\n",
    "{\n",
    "    ResidValues <- resid(LinearModel)\n",
    "    \n",
    "    PlotList <- list()\n",
    "    \n",
    "    for (feature in FeaturesModel) \n",
    "    {\n",
    "        PlotData <- data.frame(x=Dataset[[feature]],y=ResidValues)\n",
    "        \n",
    "        plot <- ggplot(PlotData, aes(x=x,y=y)) +\n",
    "            geom_point(alpha=0.6,color='blue',size=2.5) +\n",
    "            labs(x=feature,y='Residuales') +\n",
    "            theme_minimal() +\n",
    "            theme(\n",
    "                plot.margin = unit(c(1, 1, 1, 1),'lines'),\n",
    "                axis.text = element_text(size=10),\n",
    "                axis.title = element_text(size=12),\n",
    "            )\n",
    "        \n",
    "        PlotList[[feature]] <- plot\n",
    "    }\n",
    "    \n",
    "    grid.arrange(\n",
    "        grobs = PlotList,\n",
    "        nrow = 2,\n",
    "        top = textGrob(\n",
    "            'Residuales en Función de las Variables Regresoras',\n",
    "            gp = gpar(fontsize=15)\n",
    "        )\n",
    "    )\n",
    "}"
   ]
  },
  {
   "cell_type": "code",
   "execution_count": 31,
   "id": "b27efc03",
   "metadata": {
    "vscode": {
     "languageId": "r"
    }
   },
   "outputs": [
    {
     "data": {
      "image/png": "[encoded data removed]",
      "text/plain": [
       "plot without title"
      ]
     },
     "metadata": {
      "image/png": {
       "height": 420,
       "width": 420
      }
     },
     "output_type": "display_data"
    }
   ],
   "source": [
    "# Plot\n",
    "\n",
    "PlotVariableResiduals(\n",
    "    LinearModel,\n",
    "    DatasetGasolina,\n",
    "    FeaturesModel\n",
    ")"
   ]
  }
 ],
 "metadata": {
  "kernelspec": {
   "display_name": "R",
   "language": "R",
   "name": "ir"
  },
  "language_info": {
   "codemirror_mode": "r",
   "file_extension": ".r",
   "mimetype": "text/x-r-source",
   "name": "R",
   "pygments_lexer": "r",
   "version": "4.4.2"
  }
 },
 "nbformat": 4,
 "nbformat_minor": 5
}

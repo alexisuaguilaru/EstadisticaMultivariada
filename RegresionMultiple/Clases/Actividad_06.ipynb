{
 "cells": [
  {
   "cell_type": "markdown",
   "id": "ec081b7f",
   "metadata": {},
   "source": [
    "# Ejemplo 1 de Análisis de Varianza"
   ]
  },
  {
   "cell_type": "markdown",
   "id": "8575ee5e",
   "metadata": {},
   "source": [
    "# Modelo Simple "
   ]
  },
  {
   "cell_type": "markdown",
   "id": "cf74882c",
   "metadata": {},
   "source": [
    "Supongamos que un cierto tipo de motor de cohete se fabrica uniendo un propulsor tipo A y un propulsor tipo B. La fuerza del enlace entre los dos propulsores es una característica de importancia y se sospecha que está relacionada con la edad (en semanas) del lote del propulsor tipo B. Se tiene una muestra de tamaño 20 de la fuerza del enlace y la edad del lote del propulsor tipo B que fue utilizado."
   ]
  },
  {
   "cell_type": "code",
   "execution_count": 1,
   "id": "284dacd9",
   "metadata": {
    "vscode": {
     "languageId": "r"
    }
   },
   "outputs": [
    {
     "data": {
      "text/html": [
       "<table class=\"dataframe\">\n",
       "<caption>A data.frame: 20 × 2</caption>\n",
       "<thead>\n",
       "\t<tr><th scope=col>Fuerza_enlace</th><th scope=col>Edad_lote</th></tr>\n",
       "\t<tr><th scope=col>&lt;dbl&gt;</th><th scope=col>&lt;dbl&gt;</th></tr>\n",
       "</thead>\n",
       "<tbody>\n",
       "\t<tr><td>2158.70</td><td>15.50</td></tr>\n",
       "\t<tr><td>1678.15</td><td>23.75</td></tr>\n",
       "\t<tr><td>2316.00</td><td> 8.00</td></tr>\n",
       "\t<tr><td>2061.30</td><td>17.00</td></tr>\n",
       "\t<tr><td>2207.50</td><td> 5.50</td></tr>\n",
       "\t<tr><td>1708.30</td><td>19.00</td></tr>\n",
       "\t<tr><td>1784.70</td><td>24.00</td></tr>\n",
       "\t<tr><td>2575.00</td><td> 2.50</td></tr>\n",
       "\t<tr><td>2357.90</td><td> 7.50</td></tr>\n",
       "\t<tr><td>2256.70</td><td>11.00</td></tr>\n",
       "\t<tr><td>2165.20</td><td>13.00</td></tr>\n",
       "\t<tr><td>2399.55</td><td> 3.75</td></tr>\n",
       "\t<tr><td>1779.80</td><td>25.00</td></tr>\n",
       "\t<tr><td>2336.75</td><td> 9.75</td></tr>\n",
       "\t<tr><td>1765.30</td><td>22.00</td></tr>\n",
       "\t<tr><td>2053.50</td><td>18.00</td></tr>\n",
       "\t<tr><td>2414.40</td><td> 6.00</td></tr>\n",
       "\t<tr><td>2200.50</td><td>12.50</td></tr>\n",
       "\t<tr><td>2654.20</td><td> 2.00</td></tr>\n",
       "\t<tr><td>1753.70</td><td>21.50</td></tr>\n",
       "</tbody>\n",
       "</table>\n"
      ],
      "text/latex": [
       "A data.frame: 20 × 2\n",
       "\\begin{tabular}{ll}\n",
       " Fuerza\\_enlace & Edad\\_lote\\\\\n",
       " <dbl> & <dbl>\\\\\n",
       "\\hline\n",
       "\t 2158.70 & 15.50\\\\\n",
       "\t 1678.15 & 23.75\\\\\n",
       "\t 2316.00 &  8.00\\\\\n",
       "\t 2061.30 & 17.00\\\\\n",
       "\t 2207.50 &  5.50\\\\\n",
       "\t 1708.30 & 19.00\\\\\n",
       "\t 1784.70 & 24.00\\\\\n",
       "\t 2575.00 &  2.50\\\\\n",
       "\t 2357.90 &  7.50\\\\\n",
       "\t 2256.70 & 11.00\\\\\n",
       "\t 2165.20 & 13.00\\\\\n",
       "\t 2399.55 &  3.75\\\\\n",
       "\t 1779.80 & 25.00\\\\\n",
       "\t 2336.75 &  9.75\\\\\n",
       "\t 1765.30 & 22.00\\\\\n",
       "\t 2053.50 & 18.00\\\\\n",
       "\t 2414.40 &  6.00\\\\\n",
       "\t 2200.50 & 12.50\\\\\n",
       "\t 2654.20 &  2.00\\\\\n",
       "\t 1753.70 & 21.50\\\\\n",
       "\\end{tabular}\n"
      ],
      "text/markdown": [
       "\n",
       "A data.frame: 20 × 2\n",
       "\n",
       "| Fuerza_enlace &lt;dbl&gt; | Edad_lote &lt;dbl&gt; |\n",
       "|---|---|\n",
       "| 2158.70 | 15.50 |\n",
       "| 1678.15 | 23.75 |\n",
       "| 2316.00 |  8.00 |\n",
       "| 2061.30 | 17.00 |\n",
       "| 2207.50 |  5.50 |\n",
       "| 1708.30 | 19.00 |\n",
       "| 1784.70 | 24.00 |\n",
       "| 2575.00 |  2.50 |\n",
       "| 2357.90 |  7.50 |\n",
       "| 2256.70 | 11.00 |\n",
       "| 2165.20 | 13.00 |\n",
       "| 2399.55 |  3.75 |\n",
       "| 1779.80 | 25.00 |\n",
       "| 2336.75 |  9.75 |\n",
       "| 1765.30 | 22.00 |\n",
       "| 2053.50 | 18.00 |\n",
       "| 2414.40 |  6.00 |\n",
       "| 2200.50 | 12.50 |\n",
       "| 2654.20 |  2.00 |\n",
       "| 1753.70 | 21.50 |\n",
       "\n"
      ],
      "text/plain": [
       "   Fuerza_enlace Edad_lote\n",
       "1  2158.70       15.50    \n",
       "2  1678.15       23.75    \n",
       "3  2316.00        8.00    \n",
       "4  2061.30       17.00    \n",
       "5  2207.50        5.50    \n",
       "6  1708.30       19.00    \n",
       "7  1784.70       24.00    \n",
       "8  2575.00        2.50    \n",
       "9  2357.90        7.50    \n",
       "10 2256.70       11.00    \n",
       "11 2165.20       13.00    \n",
       "12 2399.55        3.75    \n",
       "13 1779.80       25.00    \n",
       "14 2336.75        9.75    \n",
       "15 1765.30       22.00    \n",
       "16 2053.50       18.00    \n",
       "17 2414.40        6.00    \n",
       "18 2200.50       12.50    \n",
       "19 2654.20        2.00    \n",
       "20 1753.70       21.50    "
      ]
     },
     "metadata": {},
     "output_type": "display_data"
    }
   ],
   "source": [
    "datos <- data.frame(\n",
    "  Fuerza_enlace = c(\n",
    "    2158.70, 1678.15, 2316.00, 2061.30, 2207.50,\n",
    "    1708.30, 1784.70, 2575.00, 2357.90, 2256.70,\n",
    "    2165.20, 2399.55, 1779.80, 2336.75, 1765.30,\n",
    "    2053.50, 2414.40, 2200.50, 2654.20, 1753.70\n",
    "  ),\n",
    "  Edad_lote = c(\n",
    "    15.50, 23.75, 8.00, 17.00, 5.50,\n",
    "    19.00, 24.00, 2.50, 7.50, 11.00,\n",
    "    13.00, 3.75, 25.00, 9.75, 22.00,\n",
    "    18.00, 6.00, 12.50, 2.00, 21.50\n",
    "  )\n",
    ")\n",
    "\n",
    "datos"
   ]
  },
  {
   "cell_type": "markdown",
   "id": "e1715aa8",
   "metadata": {},
   "source": [
    "## Modelos"
   ]
  },
  {
   "cell_type": "code",
   "execution_count": 5,
   "id": "877e5e14",
   "metadata": {
    "vscode": {
     "languageId": "r"
    }
   },
   "outputs": [
    {
     "data": {
      "text/plain": [
       "\n",
       "Call:\n",
       "lm(formula = Fuerza_enlace ~ Edad_lote, data = datos)\n",
       "\n",
       "Residuals:\n",
       "    Min      1Q  Median      3Q     Max \n",
       "-215.98  -50.68   28.74   66.61  106.76 \n",
       "\n",
       "Coefficients:\n",
       "            Estimate Std. Error t value Pr(>|t|)    \n",
       "(Intercept) 2627.822     44.184   59.48  < 2e-16 ***\n",
       "Edad_lote    -37.154      2.889  -12.86 1.64e-10 ***\n",
       "---\n",
       "Signif. codes:  0 '***' 0.001 '**' 0.01 '*' 0.05 '.' 0.1 ' ' 1\n",
       "\n",
       "Residual standard error: 96.11 on 18 degrees of freedom\n",
       "Multiple R-squared:  0.9018,\tAdjusted R-squared:  0.8964 \n",
       "F-statistic: 165.4 on 1 and 18 DF,  p-value: 1.643e-10\n"
      ]
     },
     "metadata": {},
     "output_type": "display_data"
    }
   ],
   "source": [
    "modelo_completo <- lm(Fuerza_enlace ~ Edad_lote,datos)\n",
    "summary(modelo_completo)"
   ]
  },
  {
   "cell_type": "code",
   "execution_count": 4,
   "id": "eba2e49d",
   "metadata": {
    "vscode": {
     "languageId": "r"
    }
   },
   "outputs": [
    {
     "data": {
      "image/png": "[encoded data removed]",
      "text/plain": [
       "plot without title"
      ]
     },
     "metadata": {
      "image/png": {
       "height": 420,
       "width": 420
      }
     },
     "output_type": "display_data"
    }
   ],
   "source": [
    "plot(datos$Edad_lote,modelo_completo$fitted.values)"
   ]
  },
  {
   "cell_type": "code",
   "execution_count": 7,
   "id": "785d0bb8",
   "metadata": {
    "vscode": {
     "languageId": "r"
    }
   },
   "outputs": [
    {
     "data": {
      "text/plain": [
       "\n",
       "Call:\n",
       "lm(formula = Fuerza_enlace ~ 1, data = datos)\n",
       "\n",
       "Residuals:\n",
       "    Min      1Q  Median      3Q     Max \n",
       "-453.21 -347.88   51.49  210.68  522.84 \n",
       "\n",
       "Coefficients:\n",
       "            Estimate Std. Error t value Pr(>|t|)    \n",
       "(Intercept)  2131.36      66.76   31.93   <2e-16 ***\n",
       "---\n",
       "Signif. codes:  0 '***' 0.001 '**' 0.01 '*' 0.05 '.' 0.1 ' ' 1\n",
       "\n",
       "Residual standard error: 298.6 on 19 degrees of freedom\n"
      ]
     },
     "metadata": {},
     "output_type": "display_data"
    }
   ],
   "source": [
    "modelo_reducido <- lm(Fuerza_enlace ~ 1,datos)\n",
    "summary(modelo_reducido)"
   ]
  },
  {
   "cell_type": "code",
   "execution_count": 10,
   "id": "3f9c765d",
   "metadata": {
    "vscode": {
     "languageId": "r"
    }
   },
   "outputs": [
    {
     "data": {
      "image/png": "[encoded data removed]",
      "text/plain": [
       "plot without title"
      ]
     },
     "metadata": {
      "image/png": {
       "height": 420,
       "width": 420
      }
     },
     "output_type": "display_data"
    }
   ],
   "source": [
    "plot(datos$Edad_lote,datos$Fuerza_enlace)\n",
    "abline(modelo_reducido)"
   ]
  },
  {
   "cell_type": "markdown",
   "id": "68d631df",
   "metadata": {},
   "source": [
    "## ANOVAs"
   ]
  },
  {
   "cell_type": "code",
   "execution_count": 11,
   "id": "1132be5b",
   "metadata": {
    "vscode": {
     "languageId": "r"
    }
   },
   "outputs": [
    {
     "data": {
      "text/html": [
       "<table class=\"dataframe\">\n",
       "<caption>A anova: 2 × 5</caption>\n",
       "<thead>\n",
       "\t<tr><th></th><th scope=col>Df</th><th scope=col>Sum Sq</th><th scope=col>Mean Sq</th><th scope=col>F value</th><th scope=col>Pr(&gt;F)</th></tr>\n",
       "\t<tr><th></th><th scope=col>&lt;int&gt;</th><th scope=col>&lt;dbl&gt;</th><th scope=col>&lt;dbl&gt;</th><th scope=col>&lt;dbl&gt;</th><th scope=col>&lt;dbl&gt;</th></tr>\n",
       "</thead>\n",
       "<tbody>\n",
       "\t<tr><th scope=row>Edad_lote</th><td> 1</td><td>1527482.7</td><td>1527482.743</td><td>165.3768</td><td>1.643344e-10</td></tr>\n",
       "\t<tr><th scope=row>Residuals</th><td>18</td><td> 166254.9</td><td>   9236.381</td><td>      NA</td><td>          NA</td></tr>\n",
       "</tbody>\n",
       "</table>\n"
      ],
      "text/latex": [
       "A anova: 2 × 5\n",
       "\\begin{tabular}{r|lllll}\n",
       "  & Df & Sum Sq & Mean Sq & F value & Pr(>F)\\\\\n",
       "  & <int> & <dbl> & <dbl> & <dbl> & <dbl>\\\\\n",
       "\\hline\n",
       "\tEdad\\_lote &  1 & 1527482.7 & 1527482.743 & 165.3768 & 1.643344e-10\\\\\n",
       "\tResiduals & 18 &  166254.9 &    9236.381 &       NA &           NA\\\\\n",
       "\\end{tabular}\n"
      ],
      "text/markdown": [
       "\n",
       "A anova: 2 × 5\n",
       "\n",
       "| <!--/--> | Df &lt;int&gt; | Sum Sq &lt;dbl&gt; | Mean Sq &lt;dbl&gt; | F value &lt;dbl&gt; | Pr(&gt;F) &lt;dbl&gt; |\n",
       "|---|---|---|---|---|---|\n",
       "| Edad_lote |  1 | 1527482.7 | 1527482.743 | 165.3768 | 1.643344e-10 |\n",
       "| Residuals | 18 |  166254.9 |    9236.381 |       NA |           NA |\n",
       "\n"
      ],
      "text/plain": [
       "          Df Sum Sq    Mean Sq     F value  Pr(>F)      \n",
       "Edad_lote  1 1527482.7 1527482.743 165.3768 1.643344e-10\n",
       "Residuals 18  166254.9    9236.381       NA           NA"
      ]
     },
     "metadata": {},
     "output_type": "display_data"
    }
   ],
   "source": [
    "anova(modelo_completo)"
   ]
  },
  {
   "cell_type": "markdown",
   "id": "8b40111c",
   "metadata": {},
   "source": [
    "# Modelo Múltiple"
   ]
  },
  {
   "cell_type": "markdown",
   "id": "0a3d18a5",
   "metadata": {
    "vscode": {
     "languageId": "r"
    }
   },
   "source": [
    " Considere los siguientes datos en los que se tienen mediciones del tamaño de infarto, área de la región en riesgo y dos variables que identifican el tipo de tratamiento utilizado en 32 pacientes. Se busca describir el tamaño del infarto a través de las otras 3-variables. Para este caso, vamos a ajustar un modelo de regresión lineal múltiple completo y después vamos a hacer pruebas sobre quitar algunas variables."
   ]
  },
  {
   "cell_type": "code",
   "execution_count": 16,
   "id": "908976c3",
   "metadata": {
    "vscode": {
     "languageId": "r"
    }
   },
   "outputs": [
    {
     "data": {
      "text/html": [
       "<table class=\"dataframe\">\n",
       "<caption>A data.frame: 6 × 5</caption>\n",
       "<thead>\n",
       "\t<tr><th></th><th scope=col>Paciente</th><th scope=col>Infarc</th><th scope=col>Area</th><th scope=col>X2</th><th scope=col>X3</th></tr>\n",
       "\t<tr><th></th><th scope=col>&lt;int&gt;</th><th scope=col>&lt;dbl&gt;</th><th scope=col>&lt;dbl&gt;</th><th scope=col>&lt;dbl&gt;</th><th scope=col>&lt;dbl&gt;</th></tr>\n",
       "</thead>\n",
       "<tbody>\n",
       "\t<tr><th scope=row>1</th><td>1</td><td>0.119</td><td>0.34</td><td>0</td><td>0</td></tr>\n",
       "\t<tr><th scope=row>2</th><td>2</td><td>0.190</td><td>0.64</td><td>0</td><td>0</td></tr>\n",
       "\t<tr><th scope=row>3</th><td>3</td><td>0.395</td><td>0.76</td><td>0</td><td>0</td></tr>\n",
       "\t<tr><th scope=row>4</th><td>4</td><td>0.469</td><td>0.83</td><td>0</td><td>0</td></tr>\n",
       "\t<tr><th scope=row>5</th><td>5</td><td>0.130</td><td>0.73</td><td>0</td><td>0</td></tr>\n",
       "\t<tr><th scope=row>6</th><td>6</td><td>0.311</td><td>0.82</td><td>0</td><td>0</td></tr>\n",
       "</tbody>\n",
       "</table>\n"
      ],
      "text/latex": [
       "A data.frame: 6 × 5\n",
       "\\begin{tabular}{r|lllll}\n",
       "  & Paciente & Infarc & Area & X2 & X3\\\\\n",
       "  & <int> & <dbl> & <dbl> & <dbl> & <dbl>\\\\\n",
       "\\hline\n",
       "\t1 & 1 & 0.119 & 0.34 & 0 & 0\\\\\n",
       "\t2 & 2 & 0.190 & 0.64 & 0 & 0\\\\\n",
       "\t3 & 3 & 0.395 & 0.76 & 0 & 0\\\\\n",
       "\t4 & 4 & 0.469 & 0.83 & 0 & 0\\\\\n",
       "\t5 & 5 & 0.130 & 0.73 & 0 & 0\\\\\n",
       "\t6 & 6 & 0.311 & 0.82 & 0 & 0\\\\\n",
       "\\end{tabular}\n"
      ],
      "text/markdown": [
       "\n",
       "A data.frame: 6 × 5\n",
       "\n",
       "| <!--/--> | Paciente &lt;int&gt; | Infarc &lt;dbl&gt; | Area &lt;dbl&gt; | X2 &lt;dbl&gt; | X3 &lt;dbl&gt; |\n",
       "|---|---|---|---|---|---|\n",
       "| 1 | 1 | 0.119 | 0.34 | 0 | 0 |\n",
       "| 2 | 2 | 0.190 | 0.64 | 0 | 0 |\n",
       "| 3 | 3 | 0.395 | 0.76 | 0 | 0 |\n",
       "| 4 | 4 | 0.469 | 0.83 | 0 | 0 |\n",
       "| 5 | 5 | 0.130 | 0.73 | 0 | 0 |\n",
       "| 6 | 6 | 0.311 | 0.82 | 0 | 0 |\n",
       "\n"
      ],
      "text/plain": [
       "  Paciente Infarc Area X2 X3\n",
       "1 1        0.119  0.34 0  0 \n",
       "2 2        0.190  0.64 0  0 \n",
       "3 3        0.395  0.76 0  0 \n",
       "4 4        0.469  0.83 0  0 \n",
       "5 5        0.130  0.73 0  0 \n",
       "6 6        0.311  0.82 0  0 "
      ]
     },
     "metadata": {},
     "output_type": "display_data"
    }
   ],
   "source": [
    "datos <- data.frame(\n",
    "  Paciente = 1:32,\n",
    "  Infarc = c(\n",
    "    0.119, 0.190, 0.395, 0.469, 0.130, 0.311, 0.418, 0.480,\n",
    "    0.687, 0.847, 0.062, 0.122, 0.033, 0.102, 0.206, 0.249,\n",
    "    0.220, 0.299, 0.350, 0.350, 0.588, 0.379, 0.149, 0.316,\n",
    "    0.390, 0.429, 0.477, 0.439, 0.446, 0.538, 0.625, 0.974\n",
    "  ),\n",
    "  Area = c(\n",
    "    0.34, 0.64, 0.76, 0.83, 0.73, 0.82, 0.95, 1.06,\n",
    "    1.20, 1.47, 0.44, 0.77, 0.90, 1.07, 1.01, 1.03,\n",
    "    1.16, 1.21, 1.20, 1.22, 0.99, 0.77, 1.05, 1.06,\n",
    "    1.02, 0.99, 0.97, 1.12, 1.23, 1.19, 1.22, 1.40\n",
    "  ),\n",
    "  X2 = c(\n",
    "    0,0,0,0,0,0,0,0,\n",
    "    0,0,1,1,1,1,1,1,\n",
    "    1,1,1,1,1,0,0,0,\n",
    "    0,0,0,0,0,0,0,0\n",
    "  ),\n",
    "  X3 = c(\n",
    "    0,0,0,0,0,0,0,0,\n",
    "    0,0,0,0,0,0,0,0,\n",
    "    0,0,0,0,0,0,1,1,\n",
    "    1,1,1,1,1,1,1,1\n",
    "  )\n",
    ")\n",
    "head(datos)"
   ]
  },
  {
   "cell_type": "code",
   "execution_count": 17,
   "id": "5d062268",
   "metadata": {
    "vscode": {
     "languageId": "r"
    }
   },
   "outputs": [
    {
     "data": {
      "text/plain": [
       "\n",
       "Call:\n",
       "lm(formula = Infarc ~ Area + X2 + X3, data = datos)\n",
       "\n",
       "Residuals:\n",
       "     Min       1Q   Median       3Q      Max \n",
       "-0.28175 -0.06704 -0.01658  0.06294  0.35970 \n",
       "\n",
       "Coefficients:\n",
       "            Estimate Std. Error t value Pr(>|t|)    \n",
       "(Intercept) -0.14927    0.10377  -1.439 0.161376    \n",
       "Area         0.63395    0.10927   5.802 3.12e-06 ***\n",
       "X2          -0.25005    0.06053  -4.131 0.000295 ***\n",
       "X3          -0.08563    0.06641  -1.289 0.207831    \n",
       "---\n",
       "Signif. codes:  0 '***' 0.001 '**' 0.01 '*' 0.05 '.' 0.1 ' ' 1\n",
       "\n",
       "Residual standard error: 0.138 on 28 degrees of freedom\n",
       "Multiple R-squared:  0.6456,\tAdjusted R-squared:  0.6076 \n",
       "F-statistic:    17 on 3 and 28 DF,  p-value: 1.748e-06\n"
      ]
     },
     "metadata": {},
     "output_type": "display_data"
    }
   ],
   "source": [
    "modelo_completo <- lm(Infarc ~ Area + X2 + X3,datos)\n",
    "summary(modelo_completo)"
   ]
  },
  {
   "cell_type": "code",
   "execution_count": 21,
   "id": "3b9f26ba",
   "metadata": {
    "vscode": {
     "languageId": "r"
    }
   },
   "outputs": [],
   "source": [
    "TableAnova <- anova(modelo_completo)"
   ]
  },
  {
   "cell_type": "code",
   "execution_count": 23,
   "id": "38442db1",
   "metadata": {
    "vscode": {
     "languageId": "r"
    }
   },
   "outputs": [
    {
     "data": {
      "text/html": [
       "1.17230249590333"
      ],
      "text/latex": [
       "1.17230249590333"
      ],
      "text/markdown": [
       "1.17230249590333"
      ],
      "text/plain": [
       "[1] 1.172302"
      ]
     },
     "metadata": {},
     "output_type": "display_data"
    }
   ],
   "source": [
    "SCE_X1 <- TableAnova$`Sum Sq`[1]\n",
    "SSE_C <- TableAnova$`Sum Sq`[4]\n",
    "df1 <- TableAnova$Df[4]\n",
    "df2 <- nrow(datos) - 3 - TableAnova$Df[1]\n",
    "\n",
    "F_g <- (SCE_X1/df1) / (SSE_C/df2)\n",
    "F_g"
   ]
  },
  {
   "cell_type": "code",
   "execution_count": 34,
   "id": "1ab07cf5",
   "metadata": {
    "vscode": {
     "languageId": "r"
    }
   },
   "outputs": [
    {
     "data": {
      "text/html": [
       "17.0026338779627"
      ],
      "text/latex": [
       "17.0026338779627"
      ],
      "text/markdown": [
       "17.0026338779627"
      ],
      "text/plain": [
       "[1] 17.00263"
      ]
     },
     "metadata": {},
     "output_type": "display_data"
    }
   ],
   "source": [
    "SCE_X1X2X3 <- sum(TableAnova$`Sum Sq`[1:3])\n",
    "df1 <- nrow(datos) - 1 - df2\n",
    "\n",
    "F_all <- (SCE_X1X2X3/df1) / (SSE_C/df2)\n",
    "F_all"
   ]
  },
  {
   "cell_type": "code",
   "execution_count": 31,
   "id": "f5053803",
   "metadata": {
    "vscode": {
     "languageId": "r"
    }
   },
   "outputs": [
    {
     "data": {
      "text/html": [
       "1.74758261538799e-06"
      ],
      "text/latex": [
       "1.74758261538799e-06"
      ],
      "text/markdown": [
       "1.74758261538799e-06"
      ],
      "text/plain": [
       "[1] 1.747583e-06"
      ]
     },
     "metadata": {},
     "output_type": "display_data"
    }
   ],
   "source": [
    "pf(F_all,3,28,lower.tail = FALSE)"
   ]
  },
  {
   "cell_type": "code",
   "execution_count": 36,
   "id": "237c51da",
   "metadata": {
    "vscode": {
     "languageId": "r"
    }
   },
   "outputs": [
    {
     "data": {
      "text/html": [
       "9.09171587429745"
      ],
      "text/latex": [
       "9.09171587429745"
      ],
      "text/markdown": [
       "9.09171587429745"
      ],
      "text/plain": [
       "[1] 9.091716"
      ]
     },
     "metadata": {},
     "output_type": "display_data"
    }
   ],
   "source": [
    "SCE_X2X3 <- sum(TableAnova$`Sum Sq`[2:3])\n",
    "df1 <- nrow(datos) - 2 - df2\n",
    "\n",
    "F_dos <- (SCE_X2X3/df1) / (SSE_C/df2)\n",
    "F_dos"
   ]
  },
  {
   "cell_type": "code",
   "execution_count": 37,
   "id": "467ed33b",
   "metadata": {
    "vscode": {
     "languageId": "r"
    }
   },
   "outputs": [
    {
     "data": {
      "text/html": [
       "0.000906578941196618"
      ],
      "text/latex": [
       "0.000906578941196618"
      ],
      "text/markdown": [
       "0.000906578941196618"
      ],
      "text/plain": [
       "[1] 0.0009065789"
      ]
     },
     "metadata": {},
     "output_type": "display_data"
    }
   ],
   "source": [
    "pf(F_dos,2,28,lower.tail = FALSE)"
   ]
  }
 ],
 "metadata": {
  "kernelspec": {
   "display_name": "R",
   "language": "R",
   "name": "ir"
  },
  "language_info": {
   "codemirror_mode": "r",
   "file_extension": ".r",
   "mimetype": "text/x-r-source",
   "name": "R",
   "pygments_lexer": "r",
   "version": "4.4.2"
  }
 },
 "nbformat": 4,
 "nbformat_minor": 5
}

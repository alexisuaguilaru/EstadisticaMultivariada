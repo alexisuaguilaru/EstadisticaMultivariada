{
 "cells": [
  {
   "cell_type": "markdown",
   "id": "4e476362",
   "metadata": {},
   "source": [
    "## Datos"
   ]
  },
  {
   "cell_type": "code",
   "execution_count": 7,
   "id": "2b93099c",
   "metadata": {
    "vscode": {
     "languageId": "r"
    }
   },
   "outputs": [
    {
     "data": {
      "text/html": [
       "<table class=\"dataframe\">\n",
       "<caption>A data.frame: 6 × 3</caption>\n",
       "<thead>\n",
       "\t<tr><th></th><th scope=col>yp</th><th scope=col>x1</th><th scope=col>x2</th></tr>\n",
       "\t<tr><th></th><th scope=col>&lt;dbl&gt;</th><th scope=col>&lt;dbl&gt;</th><th scope=col>&lt;dbl&gt;</th></tr>\n",
       "</thead>\n",
       "<tbody>\n",
       "\t<tr><th scope=row>1</th><td> 6.40</td><td>1.32</td><td> 1.15</td></tr>\n",
       "\t<tr><th scope=row>2</th><td>15.05</td><td>2.69</td><td> 3.40</td></tr>\n",
       "\t<tr><th scope=row>3</th><td>18.75</td><td>3.56</td><td> 4.10</td></tr>\n",
       "\t<tr><th scope=row>4</th><td>30.25</td><td>4.41</td><td> 8.75</td></tr>\n",
       "\t<tr><th scope=row>5</th><td>44.85</td><td>5.35</td><td>14.82</td></tr>\n",
       "\t<tr><th scope=row>6</th><td>48.85</td><td>6.20</td><td>15.15</td></tr>\n",
       "</tbody>\n",
       "</table>\n"
      ],
      "text/latex": [
       "A data.frame: 6 × 3\n",
       "\\begin{tabular}{r|lll}\n",
       "  & yp & x1 & x2\\\\\n",
       "  & <dbl> & <dbl> & <dbl>\\\\\n",
       "\\hline\n",
       "\t1 &  6.40 & 1.32 &  1.15\\\\\n",
       "\t2 & 15.05 & 2.69 &  3.40\\\\\n",
       "\t3 & 18.75 & 3.56 &  4.10\\\\\n",
       "\t4 & 30.25 & 4.41 &  8.75\\\\\n",
       "\t5 & 44.85 & 5.35 & 14.82\\\\\n",
       "\t6 & 48.85 & 6.20 & 15.15\\\\\n",
       "\\end{tabular}\n"
      ],
      "text/markdown": [
       "\n",
       "A data.frame: 6 × 3\n",
       "\n",
       "| <!--/--> | yp &lt;dbl&gt; | x1 &lt;dbl&gt; | x2 &lt;dbl&gt; |\n",
       "|---|---|---|---|\n",
       "| 1 |  6.40 | 1.32 |  1.15 |\n",
       "| 2 | 15.05 | 2.69 |  3.40 |\n",
       "| 3 | 18.75 | 3.56 |  4.10 |\n",
       "| 4 | 30.25 | 4.41 |  8.75 |\n",
       "| 5 | 44.85 | 5.35 | 14.82 |\n",
       "| 6 | 48.85 | 6.20 | 15.15 |\n",
       "\n"
      ],
      "text/plain": [
       "  yp    x1   x2   \n",
       "1  6.40 1.32  1.15\n",
       "2 15.05 2.69  3.40\n",
       "3 18.75 3.56  4.10\n",
       "4 30.25 4.41  8.75\n",
       "5 44.85 5.35 14.82\n",
       "6 48.85 6.20 15.15"
      ]
     },
     "metadata": {},
     "output_type": "display_data"
    }
   ],
   "source": [
    "yp <-c(6.40, 15.05, 18.75, 30.25, 44.85, 48.85, 51.55, 61.50, 100.44, 111.42)\n",
    "x1 <-c(1.32, 2.69, 3.56, 4.41, 5.35, 6.20, 7.12, 8.87, 9.80, 10.65)\n",
    "x2 <-c(1.15, 3.40, 4.10, 8.75, 14.82, 15.15, 15.32, 18.18, 35.19, 40.40)\n",
    "datos<-data.frame(yp, x1, x2)\n",
    "# kable(datos, caption = \"Factores que influyen en el tiempo de coccion segun diferentes niveles de ancho del horno y diferentes temperaturas\")\n",
    "\n",
    "head(datos)"
   ]
  },
  {
   "cell_type": "code",
   "execution_count": 5,
   "id": "52e1882d",
   "metadata": {
    "vscode": {
     "languageId": "r"
    }
   },
   "outputs": [
    {
     "data": {
      "image/png": "[encoded data removed]",
      "text/plain": [
       "plot without title"
      ]
     },
     "metadata": {
      "image/png": {
       "height": 420,
       "width": 420
      }
     },
     "output_type": "display_data"
    }
   ],
   "source": [
    "pairs(datos)"
   ]
  },
  {
   "cell_type": "markdown",
   "id": "2575eb07",
   "metadata": {},
   "source": [
    "## Modelos"
   ]
  },
  {
   "cell_type": "code",
   "execution_count": 11,
   "id": "c373cec3",
   "metadata": {
    "vscode": {
     "languageId": "r"
    }
   },
   "outputs": [
    {
     "data": {
      "text/plain": [
       "\n",
       "Call:\n",
       "lm(formula = \"yp ~ x1 + x2\", data = datos)\n",
       "\n",
       "Residuals:\n",
       "    Min      1Q  Median      3Q     Max \n",
       "-0.8475 -0.3438  0.0043  0.2554  1.1578 \n",
       "\n",
       "Coefficients:\n",
       "            Estimate Std. Error t value Pr(>|t|)    \n",
       "(Intercept)  0.57723    0.59865   0.964    0.367    \n",
       "x1           2.70957    0.19935  13.592 2.75e-06 ***\n",
       "x2           2.05033    0.04743  43.227 9.26e-10 ***\n",
       "---\n",
       "Signif. codes:  0 '***' 0.001 '**' 0.01 '*' 0.05 '.' 0.1 ' ' 1\n",
       "\n",
       "Residual standard error: 0.6481 on 7 degrees of freedom\n",
       "Multiple R-squared:  0.9997,\tAdjusted R-squared:  0.9997 \n",
       "F-statistic: 1.304e+04 on 2 and 7 DF,  p-value: 3.166e-13\n"
      ]
     },
     "metadata": {},
     "output_type": "display_data"
    }
   ],
   "source": [
    "LinearModel_1 = lm(\"yp ~ x1 + x2\",datos)\n",
    "summary(LinearModel_1)"
   ]
  },
  {
   "cell_type": "code",
   "execution_count": 12,
   "id": "62ab19e5",
   "metadata": {
    "vscode": {
     "languageId": "r"
    }
   },
   "outputs": [
    {
     "data": {
      "text/plain": [
       "\n",
       "Call:\n",
       "lm(formula = \"yp ~ x1\", data = datos)\n",
       "\n",
       "Residuals:\n",
       "     Min       1Q   Median       3Q      Max \n",
       "-18.4027  -3.4590   0.1446   6.6966  12.3129 \n",
       "\n",
       "Coefficients:\n",
       "            Estimate Std. Error t value Pr(>|t|)    \n",
       "(Intercept)  -15.795      7.098  -2.225   0.0567 .  \n",
       "x1            10.789      1.062  10.162 7.53e-06 ***\n",
       "---\n",
       "Signif. codes:  0 '***' 0.001 '**' 0.01 '*' 0.05 '.' 0.1 ' ' 1\n",
       "\n",
       "Residual standard error: 9.923 on 8 degrees of freedom\n",
       "Multiple R-squared:  0.9281,\tAdjusted R-squared:  0.9191 \n",
       "F-statistic: 103.3 on 1 and 8 DF,  p-value: 7.529e-06\n"
      ]
     },
     "metadata": {},
     "output_type": "display_data"
    }
   ],
   "source": [
    "LinearModel_2 = lm(\"yp ~ x1\",datos)\n",
    "summary(LinearModel_2)"
   ]
  },
  {
   "cell_type": "markdown",
   "id": "295c6df2",
   "metadata": {},
   "source": [
    "Prueba de Significancia en Modelos\n",
    "H_0 : Las variables eliminadas no son significativas\n",
    "H_1 : Las variables eliminadas son significativas"
   ]
  },
  {
   "cell_type": "code",
   "execution_count": 13,
   "id": "e4cc8a5a",
   "metadata": {
    "vscode": {
     "languageId": "r"
    }
   },
   "outputs": [
    {
     "data": {
      "text/html": [
       "<table class=\"dataframe\">\n",
       "<caption>A anova: 2 × 6</caption>\n",
       "<thead>\n",
       "\t<tr><th></th><th scope=col>Res.Df</th><th scope=col>RSS</th><th scope=col>Df</th><th scope=col>Sum of Sq</th><th scope=col>F</th><th scope=col>Pr(&gt;F)</th></tr>\n",
       "\t<tr><th></th><th scope=col>&lt;dbl&gt;</th><th scope=col>&lt;dbl&gt;</th><th scope=col>&lt;dbl&gt;</th><th scope=col>&lt;dbl&gt;</th><th scope=col>&lt;dbl&gt;</th><th scope=col>&lt;dbl&gt;</th></tr>\n",
       "</thead>\n",
       "<tbody>\n",
       "\t<tr><th scope=row>1</th><td>7</td><td>  2.940098</td><td>NA</td><td>       NA</td><td>      NA</td><td>          NA</td></tr>\n",
       "\t<tr><th scope=row>2</th><td>8</td><td>787.776986</td><td>-1</td><td>-784.8369</td><td>1868.597</td><td>9.255893e-10</td></tr>\n",
       "</tbody>\n",
       "</table>\n"
      ],
      "text/latex": [
       "A anova: 2 × 6\n",
       "\\begin{tabular}{r|llllll}\n",
       "  & Res.Df & RSS & Df & Sum of Sq & F & Pr(>F)\\\\\n",
       "  & <dbl> & <dbl> & <dbl> & <dbl> & <dbl> & <dbl>\\\\\n",
       "\\hline\n",
       "\t1 & 7 &   2.940098 & NA &        NA &       NA &           NA\\\\\n",
       "\t2 & 8 & 787.776986 & -1 & -784.8369 & 1868.597 & 9.255893e-10\\\\\n",
       "\\end{tabular}\n"
      ],
      "text/markdown": [
       "\n",
       "A anova: 2 × 6\n",
       "\n",
       "| <!--/--> | Res.Df &lt;dbl&gt; | RSS &lt;dbl&gt; | Df &lt;dbl&gt; | Sum of Sq &lt;dbl&gt; | F &lt;dbl&gt; | Pr(&gt;F) &lt;dbl&gt; |\n",
       "|---|---|---|---|---|---|---|\n",
       "| 1 | 7 |   2.940098 | NA |        NA |       NA |           NA |\n",
       "| 2 | 8 | 787.776986 | -1 | -784.8369 | 1868.597 | 9.255893e-10 |\n",
       "\n"
      ],
      "text/plain": [
       "  Res.Df RSS        Df Sum of Sq F        Pr(>F)      \n",
       "1 7        2.940098 NA        NA       NA           NA\n",
       "2 8      787.776986 -1 -784.8369 1868.597 9.255893e-10"
      ]
     },
     "metadata": {},
     "output_type": "display_data"
    }
   ],
   "source": [
    "anova(LinearModel_1,LinearModel_2)"
   ]
  },
  {
   "cell_type": "code",
   "execution_count": 15,
   "id": "4cf47385",
   "metadata": {
    "vscode": {
     "languageId": "r"
    }
   },
   "outputs": [
    {
     "data": {
      "text/plain": [
       "\n",
       "Call:\n",
       "lm(formula = \"yp ~ x1 + x2 - 1\", data = datos)\n",
       "\n",
       "Residuals:\n",
       "    Min      1Q  Median      3Q     Max \n",
       "-0.8103 -0.3698  0.1963  0.3955  1.1807 \n",
       "\n",
       "Coefficients:\n",
       "   Estimate Std. Error t value Pr(>|t|)    \n",
       "x1  2.87003    0.10927   26.27 4.74e-09 ***\n",
       "x2  2.02140    0.03657   55.28 1.27e-11 ***\n",
       "---\n",
       "Signif. codes:  0 '***' 0.001 '**' 0.01 '*' 0.05 '.' 0.1 ' ' 1\n",
       "\n",
       "Residual standard error: 0.6452 on 8 degrees of freedom\n",
       "Multiple R-squared:  0.9999,\tAdjusted R-squared:  0.9999 \n",
       "F-statistic: 4.188e+04 on 2 and 8 DF,  p-value: < 2.2e-16\n"
      ]
     },
     "metadata": {},
     "output_type": "display_data"
    }
   ],
   "source": [
    "LinearModel_3 = lm(\"yp ~ x1 + x2 - 1\",datos)\n",
    "summary(LinearModel_3)"
   ]
  },
  {
   "cell_type": "markdown",
   "id": "4da6bfa9",
   "metadata": {},
   "source": [
    "## Normalidad"
   ]
  },
  {
   "cell_type": "code",
   "execution_count": 21,
   "id": "17c0302a",
   "metadata": {
    "vscode": {
     "languageId": "r"
    }
   },
   "outputs": [
    {
     "data": {
      "image/png": "[encoded data removed]",
      "text/plain": [
       "Plot with title \"Normal Q-Q Plot\""
      ]
     },
     "metadata": {
      "image/png": {
       "height": 420,
       "width": 420
      }
     },
     "output_type": "display_data"
    }
   ],
   "source": [
    "qqnorm(LinearModel_3$residuals)\n",
    "qqline(LinearModel_3$residuals)"
   ]
  },
  {
   "cell_type": "markdown",
   "id": "b1e00558",
   "metadata": {
    "vscode": {
     "languageId": "r"
    }
   },
   "source": [
    "Prueba de normalidad Shapiro-Wilks\n",
    "H_0: distribución normal\n",
    "H_1: distribución no normal"
   ]
  },
  {
   "cell_type": "code",
   "execution_count": 25,
   "id": "c86118c3",
   "metadata": {
    "vscode": {
     "languageId": "r"
    }
   },
   "outputs": [
    {
     "data": {
      "text/plain": [
       "\n",
       "\tShapiro-Wilk normality test\n",
       "\n",
       "data:  LinearModel_3$residuals\n",
       "W = 0.95058, p-value = 0.6754\n"
      ]
     },
     "metadata": {},
     "output_type": "display_data"
    }
   ],
   "source": [
    "shapiro.test(LinearModel_3$residuals)"
   ]
  },
  {
   "cell_type": "markdown",
   "id": "5165b8cf",
   "metadata": {},
   "source": [
    "## Homocedasticidad"
   ]
  },
  {
   "cell_type": "code",
   "execution_count": 28,
   "id": "8264381f",
   "metadata": {
    "vscode": {
     "languageId": "r"
    }
   },
   "outputs": [
    {
     "data": {
      "image/png": "[encoded data removed]",
      "text/plain": [
       "plot without title"
      ]
     },
     "metadata": {
      "image/png": {
       "height": 420,
       "width": 420
      }
     },
     "output_type": "display_data"
    }
   ],
   "source": [
    "plot(LinearModel_3$fitted.values,LinearModel_3$residuals)"
   ]
  },
  {
   "cell_type": "markdown",
   "id": "45f3f00f",
   "metadata": {},
   "source": [
    "H_0 : Los residuos tienen varianza constante (Homocedasticidad)\n",
    "\n",
    "H_1 : Los residuos son heterocedasticos"
   ]
  },
  {
   "cell_type": "code",
   "execution_count": 31,
   "id": "707adb5a",
   "metadata": {
    "vscode": {
     "languageId": "r"
    }
   },
   "outputs": [
    {
     "data": {
      "text/plain": [
       "\n",
       "\tstudentized Breusch-Pagan test\n",
       "\n",
       "data:  LinearModel_3\n",
       "BP = 5.7517, df = 1, p-value = 0.01647\n"
      ]
     },
     "metadata": {},
     "output_type": "display_data"
    }
   ],
   "source": [
    "library(lmtest)\n",
    "# Breaush-Pagan\n",
    "bptest(LinearModel_3)"
   ]
  },
  {
   "cell_type": "code",
   "execution_count": 32,
   "id": "99c51289",
   "metadata": {
    "vscode": {
     "languageId": "r"
    }
   },
   "outputs": [
    {
     "data": {
      "text/plain": [
       "\n",
       "Call:\n",
       "lm(formula = \"yp ~ log(x1) + x2 - 1\", data = datos)\n",
       "\n",
       "Residuals:\n",
       "    Min      1Q  Median      3Q     Max \n",
       "-2.4546 -0.7961 -0.3458  0.9207  2.5270 \n",
       "\n",
       "Coefficients:\n",
       "        Estimate Std. Error t value Pr(>|t|)    \n",
       "log(x1)  7.52724    0.72213   10.42 6.22e-06 ***\n",
       "x2       2.34013    0.06306   37.11 3.05e-10 ***\n",
       "---\n",
       "Signif. codes:  0 '***' 0.001 '**' 0.01 '*' 0.05 '.' 0.1 ' ' 1\n",
       "\n",
       "Residual standard error: 1.578 on 8 degrees of freedom\n",
       "Multiple R-squared:  0.9994,\tAdjusted R-squared:  0.9993 \n",
       "F-statistic:  6997 on 2 and 8 DF,  p-value: 1.065e-13\n"
      ]
     },
     "metadata": {},
     "output_type": "display_data"
    }
   ],
   "source": [
    "LinearModel_4 <- lm(\"yp ~ log(x1) + x2 - 1\",datos)\n",
    "summary(LinearModel_4)"
   ]
  },
  {
   "cell_type": "code",
   "execution_count": null,
   "id": "d98af5cd",
   "metadata": {
    "vscode": {
     "languageId": "r"
    }
   },
   "outputs": [
    {
     "data": {
      "text/plain": [
       "\n",
       "\tstudentized Breusch-Pagan test\n",
       "\n",
       "data:  LinearModel_4\n",
       "BP = 0.13878, df = 1, p-value = 0.7095\n"
      ]
     },
     "metadata": {},
     "output_type": "display_data"
    }
   ],
   "source": [
    "bptest(LinearModel_4)"
   ]
  },
  {
   "cell_type": "code",
   "execution_count": 43,
   "id": "9b7eb44e",
   "metadata": {
    "vscode": {
     "languageId": "r"
    }
   },
   "outputs": [],
   "source": [
    "# qqplot(LinearModel_4)\n",
    "# qqline(LinearModel_4$residuals)"
   ]
  },
  {
   "cell_type": "markdown",
   "id": "c8f36850",
   "metadata": {},
   "source": [
    "## No Autocorrelación"
   ]
  },
  {
   "cell_type": "markdown",
   "id": "e26c7440",
   "metadata": {},
   "source": [
    "Durbin-Watson\n",
    "\n",
    "H_0 : No hay autocorrelación en los errores \n",
    "\n",
    "H_1 : Hay autocorrelación en los errores "
   ]
  },
  {
   "cell_type": "code",
   "execution_count": 44,
   "id": "799814e2",
   "metadata": {
    "vscode": {
     "languageId": "r"
    }
   },
   "outputs": [
    {
     "data": {
      "text/plain": [
       "\n",
       "\tDurbin-Watson test\n",
       "\n",
       "data:  LinearModel_4\n",
       "DW = 1.036, p-value = 0.02046\n",
       "alternative hypothesis: true autocorrelation is greater than 0\n"
      ]
     },
     "metadata": {},
     "output_type": "display_data"
    }
   ],
   "source": [
    "dwtest(LinearModel_4)"
   ]
  },
  {
   "cell_type": "markdown",
   "id": "0b484c4f",
   "metadata": {},
   "source": [
    "## Predicción"
   ]
  },
  {
   "cell_type": "code",
   "execution_count": 50,
   "id": "b469a727",
   "metadata": {
    "vscode": {
     "languageId": "r"
    }
   },
   "outputs": [
    {
     "data": {
      "text/html": [
       "<style>\n",
       ".dl-inline {width: auto; margin:0; padding: 0}\n",
       ".dl-inline>dt, .dl-inline>dd {float: none; width: auto; display: inline-block}\n",
       ".dl-inline>dt::after {content: \":\\0020\"; padding-right: .5ex}\n",
       ".dl-inline>dt:not(:first-of-type) {padding-left: .5ex}\n",
       "</style><dl class=dl-inline><dt>log(x1)</dt><dd>7.52723613597146</dd><dt>x2</dt><dd>2.34012826553791</dd></dl>\n"
      ],
      "text/latex": [
       "\\begin{description*}\n",
       "\\item[log(x1)] 7.52723613597146\n",
       "\\item[x2] 2.34012826553791\n",
       "\\end{description*}\n"
      ],
      "text/markdown": [
       "log(x1)\n",
       ":   7.52723613597146x2\n",
       ":   2.34012826553791\n",
       "\n"
      ],
      "text/plain": [
       " log(x1)       x2 \n",
       "7.527236 2.340128 "
      ]
     },
     "metadata": {},
     "output_type": "display_data"
    }
   ],
   "source": [
    "NewData = data.frame(x1 = 2.10, x2 = 3.10)\n",
    "\n",
    "LinearModel_4$coefficients"
   ]
  },
  {
   "cell_type": "code",
   "execution_count": 51,
   "id": "9155d886",
   "metadata": {
    "vscode": {
     "languageId": "r"
    }
   },
   "outputs": [
    {
     "data": {
      "text/html": [
       "<strong>1:</strong> 12.8391352150412"
      ],
      "text/latex": [
       "\\textbf{1:} 12.8391352150412"
      ],
      "text/markdown": [
       "**1:** 12.8391352150412"
      ],
      "text/plain": [
       "       1 \n",
       "12.83914 "
      ]
     },
     "metadata": {},
     "output_type": "display_data"
    }
   ],
   "source": [
    "predict(LinearModel_4,NewData)"
   ]
  }
 ],
 "metadata": {
  "kernelspec": {
   "display_name": "R",
   "language": "R",
   "name": "ir"
  },
  "language_info": {
   "codemirror_mode": "r",
   "file_extension": ".r",
   "mimetype": "text/x-r-source",
   "name": "R",
   "pygments_lexer": "r",
   "version": "4.4.2"
  }
 },
 "nbformat": 4,
 "nbformat_minor": 5
}

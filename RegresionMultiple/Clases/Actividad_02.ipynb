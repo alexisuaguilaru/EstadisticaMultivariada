{
 "cells": [
  {
   "cell_type": "markdown",
   "id": "b5fce628",
   "metadata": {},
   "source": [
    "## 0. Cargar Librerías"
   ]
  },
  {
   "cell_type": "code",
   "execution_count": 32,
   "id": "192b3fff",
   "metadata": {},
   "outputs": [],
   "source": [
    "import pandas as pd\n",
    "import numpy as np\n",
    "\n",
    "import seaborn as sns\n",
    "\n",
    "from sklearn.pipeline import Pipeline\n",
    "from sklearn.linear_model import LinearRegression\n",
    "from sklearn.metrics import root_mean_squared_error , r2_score\n",
    "\n",
    "from scipy import stats\n",
    "\n",
    "import statsmodels.formula.api as smf"
   ]
  },
  {
   "cell_type": "markdown",
   "id": "76d62532",
   "metadata": {},
   "source": [
    "## 1. Carga de Datos"
   ]
  },
  {
   "cell_type": "code",
   "execution_count": 2,
   "id": "560c9fe2",
   "metadata": {},
   "outputs": [
    {
     "data": {
      "text/html": [
       "<div>\n",
       "<style scoped>\n",
       "    .dataframe tbody tr th:only-of-type {\n",
       "        vertical-align: middle;\n",
       "    }\n",
       "\n",
       "    .dataframe tbody tr th {\n",
       "        vertical-align: top;\n",
       "    }\n",
       "\n",
       "    .dataframe thead th {\n",
       "        text-align: right;\n",
       "    }\n",
       "</style>\n",
       "<table border=\"1\" class=\"dataframe\">\n",
       "  <thead>\n",
       "    <tr style=\"text-align: right;\">\n",
       "      <th></th>\n",
       "      <th>y</th>\n",
       "      <th>x1</th>\n",
       "      <th>x2</th>\n",
       "    </tr>\n",
       "    <tr>\n",
       "      <th>Observacion</th>\n",
       "      <th></th>\n",
       "      <th></th>\n",
       "      <th></th>\n",
       "    </tr>\n",
       "  </thead>\n",
       "  <tbody>\n",
       "    <tr>\n",
       "      <th>1</th>\n",
       "      <td>16.68</td>\n",
       "      <td>7</td>\n",
       "      <td>560</td>\n",
       "    </tr>\n",
       "    <tr>\n",
       "      <th>2</th>\n",
       "      <td>11.50</td>\n",
       "      <td>3</td>\n",
       "      <td>220</td>\n",
       "    </tr>\n",
       "    <tr>\n",
       "      <th>3</th>\n",
       "      <td>12.03</td>\n",
       "      <td>3</td>\n",
       "      <td>340</td>\n",
       "    </tr>\n",
       "    <tr>\n",
       "      <th>4</th>\n",
       "      <td>14.88</td>\n",
       "      <td>4</td>\n",
       "      <td>80</td>\n",
       "    </tr>\n",
       "    <tr>\n",
       "      <th>5</th>\n",
       "      <td>13.75</td>\n",
       "      <td>6</td>\n",
       "      <td>150</td>\n",
       "    </tr>\n",
       "    <tr>\n",
       "      <th>6</th>\n",
       "      <td>18.11</td>\n",
       "      <td>7</td>\n",
       "      <td>330</td>\n",
       "    </tr>\n",
       "    <tr>\n",
       "      <th>7</th>\n",
       "      <td>8.00</td>\n",
       "      <td>2</td>\n",
       "      <td>110</td>\n",
       "    </tr>\n",
       "    <tr>\n",
       "      <th>8</th>\n",
       "      <td>17.83</td>\n",
       "      <td>7</td>\n",
       "      <td>210</td>\n",
       "    </tr>\n",
       "    <tr>\n",
       "      <th>9</th>\n",
       "      <td>79.24</td>\n",
       "      <td>30</td>\n",
       "      <td>1460</td>\n",
       "    </tr>\n",
       "    <tr>\n",
       "      <th>10</th>\n",
       "      <td>21.50</td>\n",
       "      <td>5</td>\n",
       "      <td>605</td>\n",
       "    </tr>\n",
       "    <tr>\n",
       "      <th>11</th>\n",
       "      <td>40.33</td>\n",
       "      <td>16</td>\n",
       "      <td>688</td>\n",
       "    </tr>\n",
       "    <tr>\n",
       "      <th>12</th>\n",
       "      <td>21.00</td>\n",
       "      <td>10</td>\n",
       "      <td>215</td>\n",
       "    </tr>\n",
       "    <tr>\n",
       "      <th>13</th>\n",
       "      <td>13.50</td>\n",
       "      <td>4</td>\n",
       "      <td>255</td>\n",
       "    </tr>\n",
       "    <tr>\n",
       "      <th>14</th>\n",
       "      <td>19.75</td>\n",
       "      <td>6</td>\n",
       "      <td>462</td>\n",
       "    </tr>\n",
       "    <tr>\n",
       "      <th>15</th>\n",
       "      <td>24.00</td>\n",
       "      <td>9</td>\n",
       "      <td>448</td>\n",
       "    </tr>\n",
       "    <tr>\n",
       "      <th>16</th>\n",
       "      <td>29.00</td>\n",
       "      <td>10</td>\n",
       "      <td>776</td>\n",
       "    </tr>\n",
       "    <tr>\n",
       "      <th>17</th>\n",
       "      <td>15.35</td>\n",
       "      <td>6</td>\n",
       "      <td>200</td>\n",
       "    </tr>\n",
       "    <tr>\n",
       "      <th>18</th>\n",
       "      <td>19.00</td>\n",
       "      <td>7</td>\n",
       "      <td>132</td>\n",
       "    </tr>\n",
       "    <tr>\n",
       "      <th>19</th>\n",
       "      <td>9.50</td>\n",
       "      <td>3</td>\n",
       "      <td>36</td>\n",
       "    </tr>\n",
       "    <tr>\n",
       "      <th>20</th>\n",
       "      <td>35.10</td>\n",
       "      <td>17</td>\n",
       "      <td>770</td>\n",
       "    </tr>\n",
       "    <tr>\n",
       "      <th>21</th>\n",
       "      <td>17.90</td>\n",
       "      <td>10</td>\n",
       "      <td>140</td>\n",
       "    </tr>\n",
       "    <tr>\n",
       "      <th>22</th>\n",
       "      <td>52.32</td>\n",
       "      <td>26</td>\n",
       "      <td>810</td>\n",
       "    </tr>\n",
       "    <tr>\n",
       "      <th>23</th>\n",
       "      <td>18.75</td>\n",
       "      <td>9</td>\n",
       "      <td>450</td>\n",
       "    </tr>\n",
       "    <tr>\n",
       "      <th>24</th>\n",
       "      <td>19.83</td>\n",
       "      <td>8</td>\n",
       "      <td>635</td>\n",
       "    </tr>\n",
       "    <tr>\n",
       "      <th>25</th>\n",
       "      <td>10.75</td>\n",
       "      <td>4</td>\n",
       "      <td>150</td>\n",
       "    </tr>\n",
       "  </tbody>\n",
       "</table>\n",
       "</div>"
      ],
      "text/plain": [
       "                 y  x1    x2\n",
       "Observacion                 \n",
       "1            16.68   7   560\n",
       "2            11.50   3   220\n",
       "3            12.03   3   340\n",
       "4            14.88   4    80\n",
       "5            13.75   6   150\n",
       "6            18.11   7   330\n",
       "7             8.00   2   110\n",
       "8            17.83   7   210\n",
       "9            79.24  30  1460\n",
       "10           21.50   5   605\n",
       "11           40.33  16   688\n",
       "12           21.00  10   215\n",
       "13           13.50   4   255\n",
       "14           19.75   6   462\n",
       "15           24.00   9   448\n",
       "16           29.00  10   776\n",
       "17           15.35   6   200\n",
       "18           19.00   7   132\n",
       "19            9.50   3    36\n",
       "20           35.10  17   770\n",
       "21           17.90  10   140\n",
       "22           52.32  26   810\n",
       "23           18.75   9   450\n",
       "24           19.83   8   635\n",
       "25           10.75   4   150"
      ]
     },
     "execution_count": 2,
     "metadata": {},
     "output_type": "execute_result"
    }
   ],
   "source": [
    "Refrescos = pd.read_csv('./refrescos.csv',index_col=0)\n",
    "\n",
    "Refrescos"
   ]
  },
  {
   "cell_type": "code",
   "execution_count": 3,
   "id": "a8f14d92",
   "metadata": {},
   "outputs": [
    {
     "data": {
      "text/plain": [
       "<seaborn.axisgrid.PairGrid at 0x264dd446a50>"
      ]
     },
     "execution_count": 3,
     "metadata": {},
     "output_type": "execute_result"
    },
    {
     "data": {
      "image/png": "[encoded data removed]",
      "text/plain": [
       "<Figure size 750x750 with 12 Axes>"
      ]
     },
     "metadata": {},
     "output_type": "display_data"
    }
   ],
   "source": [
    "sns.pairplot(Refrescos)"
   ]
  },
  {
   "cell_type": "markdown",
   "id": "b33bd0a9",
   "metadata": {},
   "source": [
    "## 2. Modelo de Regresión Lineal Manual"
   ]
  },
  {
   "cell_type": "code",
   "execution_count": 4,
   "id": "fcb3f876",
   "metadata": {},
   "outputs": [],
   "source": [
    "size_n = Refrescos.shape[0]\n",
    "DataX = Refrescos[['x1','x2']].to_numpy()\n",
    "\n",
    "MatrizX = np.concat([np.ones((size_n,1)),DataX],axis=1)"
   ]
  },
  {
   "cell_type": "code",
   "execution_count": 5,
   "id": "eb14181a",
   "metadata": {},
   "outputs": [],
   "source": [
    "ValuesY = Refrescos[['y']].to_numpy()"
   ]
  },
  {
   "cell_type": "code",
   "execution_count": 6,
   "id": "668d7434",
   "metadata": {},
   "outputs": [
    {
     "data": {
      "text/plain": [
       "array([[2.34123115],\n",
       "       [1.61590721],\n",
       "       [0.01438483]])"
      ]
     },
     "execution_count": 6,
     "metadata": {},
     "output_type": "execute_result"
    }
   ],
   "source": [
    "EstimatorBeta = np.linalg.inv(MatrizX.T@MatrizX) @ MatrizX.T @ ValuesY\n",
    "\n",
    "EstimatorBeta"
   ]
  },
  {
   "cell_type": "code",
   "execution_count": 7,
   "id": "482f86ce",
   "metadata": {},
   "outputs": [],
   "source": [
    "EstimatorY_Manual = MatrizX@EstimatorBeta"
   ]
  },
  {
   "cell_type": "markdown",
   "id": "e8c90b49",
   "metadata": {},
   "source": [
    "## 3. Modelo de Regresión Lineal Modelo"
   ]
  },
  {
   "cell_type": "code",
   "execution_count": 8,
   "id": "18a2d475",
   "metadata": {},
   "outputs": [],
   "source": [
    "Model = LinearRegression()\n",
    "Model.fit(MatrizX,ValuesY)\n",
    "\n",
    "EstimatorY_Model = Model.predict(MatrizX)"
   ]
  },
  {
   "cell_type": "markdown",
   "id": "7c3bc383",
   "metadata": {},
   "source": [
    "## 4. Estimación de $\\sigma^2$"
   ]
  },
  {
   "cell_type": "code",
   "execution_count": 9,
   "id": "4950b9e9",
   "metadata": {},
   "outputs": [
    {
     "data": {
      "text/plain": [
       "np.float64(233.73167742054284)"
      ]
     },
     "execution_count": 9,
     "metadata": {},
     "output_type": "execute_result"
    }
   ],
   "source": [
    "SSE = (ValuesY.T@ValuesY - 2*EstimatorY_Manual.T@ValuesY + EstimatorY_Manual.T@EstimatorY_Manual)[0,0]\n",
    "\n",
    "SSE"
   ]
  },
  {
   "cell_type": "code",
   "execution_count": 10,
   "id": "c0f87107",
   "metadata": {},
   "outputs": [
    {
     "data": {
      "text/plain": [
       "np.float64(10.62416715547922)"
      ]
     },
     "execution_count": 10,
     "metadata": {},
     "output_type": "execute_result"
    }
   ],
   "source": [
    "EstimatorSquareSigma = SSE / (size_n - EstimatorBeta.shape[0])\n",
    "\n",
    "EstimatorSquareSigma"
   ]
  },
  {
   "cell_type": "markdown",
   "id": "ad1c90f9",
   "metadata": {},
   "source": [
    "## 5. Prueba de Hipótesis"
   ]
  },
  {
   "cell_type": "markdown",
   "id": "22718816",
   "metadata": {},
   "source": [
    "### 5.1. Coeficientes de Regresión"
   ]
  },
  {
   "cell_type": "markdown",
   "id": "4fff4c2e",
   "metadata": {},
   "source": [
    "Primero se obtiene la sumas de cuadrados provenientes de cada fuente de variación y se calcula el valor del estadístico de prueba ($F_0$)"
   ]
  },
  {
   "cell_type": "code",
   "execution_count": 11,
   "id": "6eb5c86f",
   "metadata": {},
   "outputs": [
    {
     "data": {
      "text/plain": [
       "(np.float64(5784.542599999992), np.float64(5784.5426))"
      ]
     },
     "execution_count": 11,
     "metadata": {},
     "output_type": "execute_result"
    }
   ],
   "source": [
    "SCT = (ValuesY.T@ValuesY - np.sum(ValuesY)**2/size_n)[0,0]\n",
    "SCT , np.sum((ValuesY - np.mean(ValuesY))**2)"
   ]
  },
  {
   "cell_type": "code",
   "execution_count": 18,
   "id": "973751e1",
   "metadata": {},
   "outputs": [
    {
     "data": {
      "text/plain": [
       "(np.float64(5550.810922579409), np.float64(5550.810922579427))"
      ]
     },
     "execution_count": 18,
     "metadata": {},
     "output_type": "execute_result"
    }
   ],
   "source": [
    "SCE = (EstimatorBeta.T@MatrizX.T@ValuesY - np.sum(ValuesY)**2/size_n)[0,0]\n",
    "SCE , np.sum((EstimatorY_Model - np.mean(ValuesY))**2)"
   ]
  },
  {
   "cell_type": "code",
   "execution_count": 13,
   "id": "69f6c8b7",
   "metadata": {},
   "outputs": [
    {
     "data": {
      "text/plain": [
       "(np.float64(233.73167742058286), np.float64(233.73167742055273))"
      ]
     },
     "execution_count": 13,
     "metadata": {},
     "output_type": "execute_result"
    }
   ],
   "source": [
    "SSE = (SCT - SCE)\n",
    "SSE , np.sum((ValuesY - EstimatorY_Model)**2)"
   ]
  },
  {
   "cell_type": "code",
   "execution_count": 14,
   "id": "105b8880",
   "metadata": {},
   "outputs": [
    {
     "data": {
      "text/plain": [
       "np.float64(261.2351086605282)"
      ]
     },
     "execution_count": 14,
     "metadata": {},
     "output_type": "execute_result"
    }
   ],
   "source": [
    "gl_sce = (len(EstimatorBeta)-1)\n",
    "gl_sse = (size_n-len(EstimatorBeta))\n",
    "\n",
    "F_0 = (SCE/gl_sce) / (SSE/gl_sse)\n",
    "F_0"
   ]
  },
  {
   "cell_type": "code",
   "execution_count": 15,
   "id": "3ab67e0c",
   "metadata": {},
   "outputs": [],
   "source": [
    "significance_level = 0.05\n",
    "F_1 = stats.f.ppf(1-significance_level,gl_sce,gl_sse)"
   ]
  },
  {
   "cell_type": "code",
   "execution_count": 16,
   "id": "992f77b0",
   "metadata": {},
   "outputs": [
    {
     "data": {
      "text/plain": [
       "(np.float64(261.2351086605282), np.float64(3.44335677936672))"
      ]
     },
     "execution_count": 16,
     "metadata": {},
     "output_type": "execute_result"
    }
   ],
   "source": [
    "F_0 , F_1 "
   ]
  },
  {
   "cell_type": "markdown",
   "id": "861c4308",
   "metadata": {},
   "source": [
    "Como $F_0$ es mayor que $F_1$ implica que se rechaza la hipótesis nula, es decir, existen variables de regresión que tiene una influencia (correlación) sobre la variabl de respuesta."
   ]
  },
  {
   "cell_type": "markdown",
   "id": "df5c7610",
   "metadata": {},
   "source": [
    "### 5.2. Coeficientes Individuales de Regresión"
   ]
  },
  {
   "cell_type": "code",
   "execution_count": 23,
   "id": "d1c37535",
   "metadata": {},
   "outputs": [
    {
     "data": {
      "text/plain": [
       "np.float64(1.2287447424397283e-06)"
      ]
     },
     "execution_count": 23,
     "metadata": {},
     "output_type": "execute_result"
    }
   ],
   "source": [
    "c22 = np.linalg.inv(MatrizX.T@MatrizX)[2,2]\n",
    "c22"
   ]
  },
  {
   "cell_type": "code",
   "execution_count": 26,
   "id": "c3ae69ee",
   "metadata": {},
   "outputs": [
    {
     "data": {
      "text/plain": [
       "np.float64(3.9813131367431627)"
      ]
     },
     "execution_count": 26,
     "metadata": {},
     "output_type": "execute_result"
    }
   ],
   "source": [
    "t_0 = (EstimatorBeta[2] / np.sqrt(EstimatorSquareSigma*c22))[0]\n",
    "t_0"
   ]
  },
  {
   "cell_type": "code",
   "execution_count": 30,
   "id": "efdf10f6",
   "metadata": {},
   "outputs": [
    {
     "data": {
      "text/plain": [
       "np.float64(2.0738730679040147)"
      ]
     },
     "execution_count": 30,
     "metadata": {},
     "output_type": "execute_result"
    }
   ],
   "source": [
    "t_1 = stats.t.ppf(1 - significance_level/2 , size_n - len(EstimatorBeta))\n",
    "t_1"
   ]
  },
  {
   "cell_type": "code",
   "execution_count": 33,
   "id": "aa2d520e",
   "metadata": {},
   "outputs": [],
   "source": [
    "LinearModel = smf.ols(\"y ~ x1 + x2\",Refrescos).fit()"
   ]
  },
  {
   "cell_type": "code",
   "execution_count": 35,
   "id": "a3aab91b",
   "metadata": {},
   "outputs": [
    {
     "data": {
      "text/html": [
       "<table class=\"simpletable\">\n",
       "<caption>OLS Regression Results</caption>\n",
       "<tr>\n",
       "  <th>Dep. Variable:</th>            <td>y</td>        <th>  R-squared:         </th> <td>   0.960</td>\n",
       "</tr>\n",
       "<tr>\n",
       "  <th>Model:</th>                   <td>OLS</td>       <th>  Adj. R-squared:    </th> <td>   0.956</td>\n",
       "</tr>\n",
       "<tr>\n",
       "  <th>Method:</th>             <td>Least Squares</td>  <th>  F-statistic:       </th> <td>   261.2</td>\n",
       "</tr>\n",
       "<tr>\n",
       "  <th>Date:</th>             <td>Thu, 21 Aug 2025</td> <th>  Prob (F-statistic):</th> <td>4.69e-16</td>\n",
       "</tr>\n",
       "<tr>\n",
       "  <th>Time:</th>                 <td>08:23:00</td>     <th>  Log-Likelihood:    </th> <td> -63.415</td>\n",
       "</tr>\n",
       "<tr>\n",
       "  <th>No. Observations:</th>      <td>    25</td>      <th>  AIC:               </th> <td>   132.8</td>\n",
       "</tr>\n",
       "<tr>\n",
       "  <th>Df Residuals:</th>          <td>    22</td>      <th>  BIC:               </th> <td>   136.5</td>\n",
       "</tr>\n",
       "<tr>\n",
       "  <th>Df Model:</th>              <td>     2</td>      <th>                     </th>     <td> </td>   \n",
       "</tr>\n",
       "<tr>\n",
       "  <th>Covariance Type:</th>      <td>nonrobust</td>    <th>                     </th>     <td> </td>   \n",
       "</tr>\n",
       "</table>\n",
       "<table class=\"simpletable\">\n",
       "<tr>\n",
       "      <td></td>         <th>coef</th>     <th>std err</th>      <th>t</th>      <th>P>|t|</th>  <th>[0.025</th>    <th>0.975]</th>  \n",
       "</tr>\n",
       "<tr>\n",
       "  <th>Intercept</th> <td>    2.3412</td> <td>    1.097</td> <td>    2.135</td> <td> 0.044</td> <td>    0.067</td> <td>    4.616</td>\n",
       "</tr>\n",
       "<tr>\n",
       "  <th>x1</th>        <td>    1.6159</td> <td>    0.171</td> <td>    9.464</td> <td> 0.000</td> <td>    1.262</td> <td>    1.970</td>\n",
       "</tr>\n",
       "<tr>\n",
       "  <th>x2</th>        <td>    0.0144</td> <td>    0.004</td> <td>    3.981</td> <td> 0.001</td> <td>    0.007</td> <td>    0.022</td>\n",
       "</tr>\n",
       "</table>\n",
       "<table class=\"simpletable\">\n",
       "<tr>\n",
       "  <th>Omnibus:</th>       <td> 0.421</td> <th>  Durbin-Watson:     </th> <td>   1.170</td>\n",
       "</tr>\n",
       "<tr>\n",
       "  <th>Prob(Omnibus):</th> <td> 0.810</td> <th>  Jarque-Bera (JB):  </th> <td>   0.010</td>\n",
       "</tr>\n",
       "<tr>\n",
       "  <th>Skew:</th>          <td> 0.032</td> <th>  Prob(JB):          </th> <td>   0.995</td>\n",
       "</tr>\n",
       "<tr>\n",
       "  <th>Kurtosis:</th>      <td> 3.073</td> <th>  Cond. No.          </th> <td>    873.</td>\n",
       "</tr>\n",
       "</table><br/><br/>Notes:<br/>[1] Standard Errors assume that the covariance matrix of the errors is correctly specified."
      ],
      "text/latex": [
       "\\begin{center}\n",
       "\\begin{tabular}{lclc}\n",
       "\\toprule\n",
       "\\textbf{Dep. Variable:}    &        y         & \\textbf{  R-squared:         } &     0.960   \\\\\n",
       "\\textbf{Model:}            &       OLS        & \\textbf{  Adj. R-squared:    } &     0.956   \\\\\n",
       "\\textbf{Method:}           &  Least Squares   & \\textbf{  F-statistic:       } &     261.2   \\\\\n",
       "\\textbf{Date:}             & Thu, 21 Aug 2025 & \\textbf{  Prob (F-statistic):} &  4.69e-16   \\\\\n",
       "\\textbf{Time:}             &     08:23:00     & \\textbf{  Log-Likelihood:    } &   -63.415   \\\\\n",
       "\\textbf{No. Observations:} &          25      & \\textbf{  AIC:               } &     132.8   \\\\\n",
       "\\textbf{Df Residuals:}     &          22      & \\textbf{  BIC:               } &     136.5   \\\\\n",
       "\\textbf{Df Model:}         &           2      & \\textbf{                     } &             \\\\\n",
       "\\textbf{Covariance Type:}  &    nonrobust     & \\textbf{                     } &             \\\\\n",
       "\\bottomrule\n",
       "\\end{tabular}\n",
       "\\begin{tabular}{lcccccc}\n",
       "                   & \\textbf{coef} & \\textbf{std err} & \\textbf{t} & \\textbf{P$> |$t$|$} & \\textbf{[0.025} & \\textbf{0.975]}  \\\\\n",
       "\\midrule\n",
       "\\textbf{Intercept} &       2.3412  &        1.097     &     2.135  &         0.044        &        0.067    &        4.616     \\\\\n",
       "\\textbf{x1}        &       1.6159  &        0.171     &     9.464  &         0.000        &        1.262    &        1.970     \\\\\n",
       "\\textbf{x2}        &       0.0144  &        0.004     &     3.981  &         0.001        &        0.007    &        0.022     \\\\\n",
       "\\bottomrule\n",
       "\\end{tabular}\n",
       "\\begin{tabular}{lclc}\n",
       "\\textbf{Omnibus:}       &  0.421 & \\textbf{  Durbin-Watson:     } &    1.170  \\\\\n",
       "\\textbf{Prob(Omnibus):} &  0.810 & \\textbf{  Jarque-Bera (JB):  } &    0.010  \\\\\n",
       "\\textbf{Skew:}          &  0.032 & \\textbf{  Prob(JB):          } &    0.995  \\\\\n",
       "\\textbf{Kurtosis:}      &  3.073 & \\textbf{  Cond. No.          } &     873.  \\\\\n",
       "\\bottomrule\n",
       "\\end{tabular}\n",
       "%\\caption{OLS Regression Results}\n",
       "\\end{center}\n",
       "\n",
       "Notes: \\newline\n",
       " [1] Standard Errors assume that the covariance matrix of the errors is correctly specified."
      ],
      "text/plain": [
       "<class 'statsmodels.iolib.summary.Summary'>\n",
       "\"\"\"\n",
       "                            OLS Regression Results                            \n",
       "==============================================================================\n",
       "Dep. Variable:                      y   R-squared:                       0.960\n",
       "Model:                            OLS   Adj. R-squared:                  0.956\n",
       "Method:                 Least Squares   F-statistic:                     261.2\n",
       "Date:                Thu, 21 Aug 2025   Prob (F-statistic):           4.69e-16\n",
       "Time:                        08:23:00   Log-Likelihood:                -63.415\n",
       "No. Observations:                  25   AIC:                             132.8\n",
       "Df Residuals:                      22   BIC:                             136.5\n",
       "Df Model:                           2                                         \n",
       "Covariance Type:            nonrobust                                         \n",
       "==============================================================================\n",
       "                 coef    std err          t      P>|t|      [0.025      0.975]\n",
       "------------------------------------------------------------------------------\n",
       "Intercept      2.3412      1.097      2.135      0.044       0.067       4.616\n",
       "x1             1.6159      0.171      9.464      0.000       1.262       1.970\n",
       "x2             0.0144      0.004      3.981      0.001       0.007       0.022\n",
       "==============================================================================\n",
       "Omnibus:                        0.421   Durbin-Watson:                   1.170\n",
       "Prob(Omnibus):                  0.810   Jarque-Bera (JB):                0.010\n",
       "Skew:                           0.032   Prob(JB):                        0.995\n",
       "Kurtosis:                       3.073   Cond. No.                         873.\n",
       "==============================================================================\n",
       "\n",
       "Notes:\n",
       "[1] Standard Errors assume that the covariance matrix of the errors is correctly specified.\n",
       "\"\"\""
      ]
     },
     "execution_count": 35,
     "metadata": {},
     "output_type": "execute_result"
    }
   ],
   "source": [
    "LinearModel.summary()"
   ]
  },
  {
   "cell_type": "markdown",
   "id": "5dec67a5",
   "metadata": {},
   "source": [
    "Como $t_0$ es mayor que $t_1$ implica que se rechaza la hipótesis nula, es decir, la variable `x2` tiene una influencia sobre el modelo"
   ]
  },
  {
   "cell_type": "markdown",
   "id": "4099c6f8",
   "metadata": {},
   "source": [
    "## 6. Intervalos de Confianza"
   ]
  },
  {
   "cell_type": "markdown",
   "id": "10523362",
   "metadata": {},
   "source": [
    "### 6.1. Coeficientes de Regresión"
   ]
  },
  {
   "cell_type": "code",
   "execution_count": 38,
   "id": "c7b7fcea",
   "metadata": {},
   "outputs": [
    {
     "data": {
      "text/plain": [
       "np.float64(0.002743783290854475)"
      ]
     },
     "execution_count": 38,
     "metadata": {},
     "output_type": "execute_result"
    }
   ],
   "source": [
    "c11 = np.linalg.inv(MatrizX.T@MatrizX)[1,1]\n",
    "c11"
   ]
  },
  {
   "cell_type": "code",
   "execution_count": 47,
   "id": "49c5c80c",
   "metadata": {},
   "outputs": [
    {
     "data": {
      "text/plain": [
       "(np.float64(1.2618246618353162),\n",
       " np.float64(1.6159072106092514),\n",
       " np.float64(1.9699897593831865))"
      ]
     },
     "execution_count": 47,
     "metadata": {},
     "output_type": "execute_result"
    }
   ],
   "source": [
    "Value_t = stats.t.ppf(1 - significance_level/2,size_n-len(EstimatorBeta))\n",
    "\n",
    "Left = (EstimatorBeta[1] - Value_t * np.sqrt(EstimatorSquareSigma*c11))[0]\n",
    "Right = (EstimatorBeta[1] + Value_t * np.sqrt(EstimatorSquareSigma*c11))[0]\n",
    "\n",
    "Left , EstimatorBeta[1][0] , Right"
   ]
  },
  {
   "cell_type": "markdown",
   "id": "1d45a26f",
   "metadata": {},
   "source": [
    "### 6.2. Respuesta Media"
   ]
  },
  {
   "cell_type": "code",
   "execution_count": 61,
   "id": "b35ab983",
   "metadata": {},
   "outputs": [],
   "source": [
    "X_0 = np.array([[1,8,275]]).T\n",
    "\n",
    "y_0 = X_0.T@EstimatorBeta"
   ]
  },
  {
   "cell_type": "code",
   "execution_count": 63,
   "id": "0cdbbde9",
   "metadata": {},
   "outputs": [
    {
     "data": {
      "text/plain": [
       "np.float64(0.5734134120661323)"
      ]
     },
     "execution_count": 63,
     "metadata": {},
     "output_type": "execute_result"
    }
   ],
   "source": [
    "var_y_0 = (EstimatorSquareSigma*X_0.T@np.linalg.inv(MatrizX.T@MatrizX)@X_0)[0,0]\n",
    "var_y_0"
   ]
  },
  {
   "cell_type": "code",
   "execution_count": 64,
   "id": "858481a9",
   "metadata": {},
   "outputs": [
    {
     "data": {
      "text/plain": [
       "(array([[17.65389505]]), array([[19.22431605]]), array([[20.79473705]]))"
      ]
     },
     "execution_count": 64,
     "metadata": {},
     "output_type": "execute_result"
    }
   ],
   "source": [
    "LeftMean = y_0 - Value_t*np.sqrt(var_y_0)\n",
    "RightMean = y_0 + Value_t*np.sqrt(var_y_0)\n",
    "\n",
    "LeftMean , y_0 , RightMean"
   ]
  }
 ],
 "metadata": {
  "kernelspec": {
   "display_name": "data_science",
   "language": "python",
   "name": "python3"
  },
  "language_info": {
   "codemirror_mode": {
    "name": "ipython",
    "version": 3
   },
   "file_extension": ".py",
   "mimetype": "text/x-python",
   "name": "python",
   "nbconvert_exporter": "python",
   "pygments_lexer": "ipython3",
   "version": "3.13.3"
  }
 },
 "nbformat": 4,
 "nbformat_minor": 5
}

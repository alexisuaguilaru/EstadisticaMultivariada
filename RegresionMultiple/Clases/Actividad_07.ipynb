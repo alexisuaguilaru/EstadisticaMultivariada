{
 "cells": [
  {
   "cell_type": "markdown",
   "id": "3e1c7006",
   "metadata": {},
   "source": [
    "# Selección de Modelos"
   ]
  },
  {
   "cell_type": "markdown",
   "id": "72dda71d",
   "metadata": {},
   "source": [
    "## Métricas de Selección"
   ]
  },
  {
   "cell_type": "code",
   "execution_count": 36,
   "id": "3de18944",
   "metadata": {
    "vscode": {
     "languageId": "r"
    }
   },
   "outputs": [
    {
     "name": "stderr",
     "output_type": "stream",
     "text": [
      "Installing package into 'C:/Users/alexi/AppData/Local/R/win-library/4.4'\n",
      "(as 'lib' is unspecified)\n",
      "\n",
      "also installing the dependency 'nortest'\n",
      "\n",
      "\n"
     ]
    },
    {
     "name": "stdout",
     "output_type": "stream",
     "text": [
      "package 'nortest' successfully unpacked and MD5 sums checked\n",
      "package 'olsrr' successfully unpacked and MD5 sums checked\n",
      "\n",
      "The downloaded binary packages are in\n",
      "\tC:\\Users\\alexi\\AppData\\Local\\Temp\\RtmpyWJhJY\\downloaded_packages\n"
     ]
    }
   ],
   "source": [
    "install.packages('olsrr')"
   ]
  },
  {
   "cell_type": "code",
   "execution_count": 37,
   "id": "426ace37",
   "metadata": {
    "vscode": {
     "languageId": "r"
    }
   },
   "outputs": [
    {
     "name": "stderr",
     "output_type": "stream",
     "text": [
      "Warning message:\n",
      "\"package 'olsrr' was built under R version 4.4.3\"\n",
      "\n",
      "Attaching package: 'olsrr'\n",
      "\n",
      "\n",
      "The following object is masked from 'package:datasets':\n",
      "\n",
      "    rivers\n",
      "\n",
      "\n"
     ]
    }
   ],
   "source": [
    "# library(ggplot2)\n",
    "# library(GGally)\n",
    "library(olsrr)\n",
    "library(leaps)"
   ]
  },
  {
   "cell_type": "code",
   "execution_count": 16,
   "id": "0d992b18",
   "metadata": {
    "vscode": {
     "languageId": "r"
    }
   },
   "outputs": [
    {
     "data": {
      "text/html": [
       "<table class=\"dataframe\">\n",
       "<caption>A data.frame: 13 × 5</caption>\n",
       "<thead>\n",
       "\t<tr><th scope=col>y</th><th scope=col>x1</th><th scope=col>x2</th><th scope=col>x3</th><th scope=col>x4</th></tr>\n",
       "\t<tr><th scope=col>&lt;dbl&gt;</th><th scope=col>&lt;int&gt;</th><th scope=col>&lt;int&gt;</th><th scope=col>&lt;int&gt;</th><th scope=col>&lt;int&gt;</th></tr>\n",
       "</thead>\n",
       "<tbody>\n",
       "\t<tr><td> 78.5</td><td> 7</td><td>26</td><td> 6</td><td>60</td></tr>\n",
       "\t<tr><td> 74.3</td><td> 1</td><td>29</td><td>15</td><td>52</td></tr>\n",
       "\t<tr><td>104.3</td><td>11</td><td>56</td><td> 8</td><td>20</td></tr>\n",
       "\t<tr><td> 87.6</td><td>11</td><td>31</td><td> 8</td><td>47</td></tr>\n",
       "\t<tr><td> 95.9</td><td> 7</td><td>52</td><td> 6</td><td>33</td></tr>\n",
       "\t<tr><td>109.2</td><td>11</td><td>55</td><td> 9</td><td>22</td></tr>\n",
       "\t<tr><td>102.7</td><td> 3</td><td>71</td><td>17</td><td> 6</td></tr>\n",
       "\t<tr><td> 72.5</td><td> 1</td><td>31</td><td>22</td><td>44</td></tr>\n",
       "\t<tr><td> 93.1</td><td> 2</td><td>54</td><td>18</td><td>22</td></tr>\n",
       "\t<tr><td>115.9</td><td>21</td><td>47</td><td> 4</td><td>26</td></tr>\n",
       "\t<tr><td> 83.8</td><td> 1</td><td>40</td><td>23</td><td>34</td></tr>\n",
       "\t<tr><td>113.3</td><td>11</td><td>66</td><td> 9</td><td>12</td></tr>\n",
       "\t<tr><td>109.4</td><td>10</td><td>68</td><td> 8</td><td>12</td></tr>\n",
       "</tbody>\n",
       "</table>\n"
      ],
      "text/latex": [
       "A data.frame: 13 × 5\n",
       "\\begin{tabular}{lllll}\n",
       " y & x1 & x2 & x3 & x4\\\\\n",
       " <dbl> & <int> & <int> & <int> & <int>\\\\\n",
       "\\hline\n",
       "\t  78.5 &  7 & 26 &  6 & 60\\\\\n",
       "\t  74.3 &  1 & 29 & 15 & 52\\\\\n",
       "\t 104.3 & 11 & 56 &  8 & 20\\\\\n",
       "\t  87.6 & 11 & 31 &  8 & 47\\\\\n",
       "\t  95.9 &  7 & 52 &  6 & 33\\\\\n",
       "\t 109.2 & 11 & 55 &  9 & 22\\\\\n",
       "\t 102.7 &  3 & 71 & 17 &  6\\\\\n",
       "\t  72.5 &  1 & 31 & 22 & 44\\\\\n",
       "\t  93.1 &  2 & 54 & 18 & 22\\\\\n",
       "\t 115.9 & 21 & 47 &  4 & 26\\\\\n",
       "\t  83.8 &  1 & 40 & 23 & 34\\\\\n",
       "\t 113.3 & 11 & 66 &  9 & 12\\\\\n",
       "\t 109.4 & 10 & 68 &  8 & 12\\\\\n",
       "\\end{tabular}\n"
      ],
      "text/markdown": [
       "\n",
       "A data.frame: 13 × 5\n",
       "\n",
       "| y &lt;dbl&gt; | x1 &lt;int&gt; | x2 &lt;int&gt; | x3 &lt;int&gt; | x4 &lt;int&gt; |\n",
       "|---|---|---|---|---|\n",
       "|  78.5 |  7 | 26 |  6 | 60 |\n",
       "|  74.3 |  1 | 29 | 15 | 52 |\n",
       "| 104.3 | 11 | 56 |  8 | 20 |\n",
       "|  87.6 | 11 | 31 |  8 | 47 |\n",
       "|  95.9 |  7 | 52 |  6 | 33 |\n",
       "| 109.2 | 11 | 55 |  9 | 22 |\n",
       "| 102.7 |  3 | 71 | 17 |  6 |\n",
       "|  72.5 |  1 | 31 | 22 | 44 |\n",
       "|  93.1 |  2 | 54 | 18 | 22 |\n",
       "| 115.9 | 21 | 47 |  4 | 26 |\n",
       "|  83.8 |  1 | 40 | 23 | 34 |\n",
       "| 113.3 | 11 | 66 |  9 | 12 |\n",
       "| 109.4 | 10 | 68 |  8 | 12 |\n",
       "\n"
      ],
      "text/plain": [
       "   y     x1 x2 x3 x4\n",
       "1   78.5  7 26  6 60\n",
       "2   74.3  1 29 15 52\n",
       "3  104.3 11 56  8 20\n",
       "4   87.6 11 31  8 47\n",
       "5   95.9  7 52  6 33\n",
       "6  109.2 11 55  9 22\n",
       "7  102.7  3 71 17  6\n",
       "8   72.5  1 31 22 44\n",
       "9   93.1  2 54 18 22\n",
       "10 115.9 21 47  4 26\n",
       "11  83.8  1 40 23 34\n",
       "12 113.3 11 66  9 12\n",
       "13 109.4 10 68  8 12"
      ]
     },
     "metadata": {},
     "output_type": "display_data"
    }
   ],
   "source": [
    "DatasetCemento <- read.table('./cement.txt',header = T,skip=5)\n",
    "DatasetCemento"
   ]
  },
  {
   "cell_type": "code",
   "execution_count": 20,
   "id": "e435c4ed",
   "metadata": {
    "vscode": {
     "languageId": "r"
    }
   },
   "outputs": [],
   "source": [
    "LinearModel_Completo <- lm(y ~ .,DatasetCemento, x=TRUE,y=TRUE)"
   ]
  },
  {
   "cell_type": "code",
   "execution_count": 23,
   "id": "5d4c1426",
   "metadata": {
    "vscode": {
     "languageId": "r"
    }
   },
   "outputs": [],
   "source": [
    "results <- leaps(LinearModel_Completo$x,DatasetCemento$y,int=FALSE)"
   ]
  },
  {
   "cell_type": "code",
   "execution_count": 28,
   "id": "c932d94b",
   "metadata": {
    "vscode": {
     "languageId": "r"
    }
   },
   "outputs": [
    {
     "data": {
      "image/png": "[encoded data removed]",
      "text/plain": [
       "plot without title"
      ]
     },
     "metadata": {
      "image/png": {
       "height": 420,
       "width": 420
      }
     },
     "output_type": "display_data"
    }
   ],
   "source": [
    "plot(results$size,results$Cp,log='y',cex=0.3)\n",
    "lines(results$size,results$size)\n",
    "text(results$size,results$Cp,cex=0.5,pos=4)"
   ]
  },
  {
   "cell_type": "code",
   "execution_count": 30,
   "id": "36e3e12e",
   "metadata": {
    "vscode": {
     "languageId": "r"
    }
   },
   "outputs": [
    {
     "data": {
      "text/html": [
       "31"
      ],
      "text/latex": [
       "31"
      ],
      "text/markdown": [
       "31"
      ],
      "text/plain": [
       "[1] 31"
      ]
     },
     "metadata": {},
     "output_type": "display_data"
    }
   ],
   "source": [
    "idx_best_rule <- which.min(abs(reults$Cp - reults$size))\n",
    "idx_best_rule"
   ]
  },
  {
   "cell_type": "code",
   "execution_count": 31,
   "id": "55a1e94e",
   "metadata": {
    "vscode": {
     "languageId": "r"
    }
   },
   "outputs": [],
   "source": [
    "noms_x <- colnames(LinearModel_Completo$x)"
   ]
  },
  {
   "cell_type": "code",
   "execution_count": 33,
   "id": "616f20d1",
   "metadata": {
    "vscode": {
     "languageId": "r"
    }
   },
   "outputs": [
    {
     "data": {
      "text/html": [
       "<style>\n",
       ".list-inline {list-style: none; margin:0; padding: 0}\n",
       ".list-inline>li {display: inline-block}\n",
       ".list-inline>li:not(:last-child)::after {content: \"\\00b7\"; padding: 0 .5ex}\n",
       "</style>\n",
       "<ol class=list-inline><li>'(Intercept)'</li><li>'x1'</li><li>'x2'</li><li>'x3'</li><li>'x4'</li></ol>\n"
      ],
      "text/latex": [
       "\\begin{enumerate*}\n",
       "\\item '(Intercept)'\n",
       "\\item 'x1'\n",
       "\\item 'x2'\n",
       "\\item 'x3'\n",
       "\\item 'x4'\n",
       "\\end{enumerate*}\n"
      ],
      "text/markdown": [
       "1. '(Intercept)'\n",
       "2. 'x1'\n",
       "3. 'x2'\n",
       "4. 'x3'\n",
       "5. 'x4'\n",
       "\n",
       "\n"
      ],
      "text/plain": [
       "[1] \"(Intercept)\" \"x1\"          \"x2\"          \"x3\"          \"x4\"         "
      ]
     },
     "metadata": {},
     "output_type": "display_data"
    }
   ],
   "source": [
    "vars_rule <- noms_x[results$which[idx_best_rule,]]\n",
    "vars_rule "
   ]
  },
  {
   "cell_type": "code",
   "execution_count": 40,
   "id": "96eb13ef",
   "metadata": {
    "vscode": {
     "languageId": "r"
    }
   },
   "outputs": [
    {
     "data": {
      "text/plain": [
       "[[1]]\n",
       "NULL\n",
       "\n",
       "[[2]]\n",
       "NULL\n"
      ]
     },
     "metadata": {},
     "output_type": "display_data"
    },
    {
     "data": {
      "image/png": "[encoded data removed]",
      "text/plain": [
       "plot without title"
      ]
     },
     "metadata": {
      "image/png": {
       "height": 420,
       "width": 420
      }
     },
     "output_type": "display_data"
    },
    {
     "data": {
      "image/png": "[encoded data removed]",
      "text/plain": [
       "plot without title"
      ]
     },
     "metadata": {
      "image/png": {
       "height": 420,
       "width": 420
      }
     },
     "output_type": "display_data"
    }
   ],
   "source": [
    "results_2 <- ols_step_all_possible(LinearModel_Completo)\n",
    "plot(results_2)"
   ]
  },
  {
   "cell_type": "code",
   "execution_count": 41,
   "id": "fea717d5",
   "metadata": {
    "vscode": {
     "languageId": "r"
    }
   },
   "outputs": [
    {
     "data": {
      "text/plain": [
       "   Index N  Predictors  R-Square Adj. R-Square Mallow's Cp\n",
       "4      1 1          x4 0.6745420     0.6449549  138.730833\n",
       "2      2 1          x2 0.6662683     0.6359290  142.486407\n",
       "1      3 1          x1 0.5339480     0.4915797  202.548769\n",
       "3      4 1          x3 0.2858727     0.2209521  315.154284\n",
       "5      5 2       x1 x2 0.9786784     0.9744140    2.678242\n",
       "7      6 2       x1 x4 0.9724710     0.9669653    5.495851\n",
       "10     7 2       x3 x4 0.9352896     0.9223476   22.373112\n",
       "8      8 2       x2 x3 0.8470254     0.8164305   62.437716\n",
       "9      9 2       x2 x4 0.6800604     0.6160725  138.225920\n",
       "6     10 2       x1 x3 0.5481667     0.4578001  198.094653\n",
       "12    11 3    x1 x2 x4 0.9823355     0.9764473    3.018233\n",
       "11    12 3    x1 x2 x3 0.9822847     0.9763796    3.041280\n",
       "13    13 3    x1 x3 x4 0.9812811     0.9750415    3.496824\n",
       "14    14 3    x2 x3 x4 0.9728200     0.9637599    7.337474\n",
       "15    15 4 x1 x2 x3 x4 0.9823756     0.9735634    5.000000"
      ]
     },
     "metadata": {},
     "output_type": "display_data"
    }
   ],
   "source": [
    "results_2"
   ]
  },
  {
   "cell_type": "markdown",
   "id": "a56cadd4",
   "metadata": {},
   "source": [
    "## Selección Paso a Paso"
   ]
  },
  {
   "cell_type": "code",
   "execution_count": 46,
   "id": "817ca947",
   "metadata": {
    "vscode": {
     "languageId": "r"
    }
   },
   "outputs": [
    {
     "data": {
      "text/html": [
       "<table class=\"dataframe\">\n",
       "<caption>A data.frame: 47 × 6</caption>\n",
       "<thead>\n",
       "\t<tr><th></th><th scope=col>Fertility</th><th scope=col>Agriculture</th><th scope=col>Examination</th><th scope=col>Education</th><th scope=col>Catholic</th><th scope=col>Infant.Mortality</th></tr>\n",
       "\t<tr><th></th><th scope=col>&lt;dbl&gt;</th><th scope=col>&lt;dbl&gt;</th><th scope=col>&lt;int&gt;</th><th scope=col>&lt;int&gt;</th><th scope=col>&lt;dbl&gt;</th><th scope=col>&lt;dbl&gt;</th></tr>\n",
       "</thead>\n",
       "<tbody>\n",
       "\t<tr><th scope=row>Courtelary</th><td>80.2</td><td>17.0</td><td>15</td><td>12</td><td>  9.96</td><td>22.2</td></tr>\n",
       "\t<tr><th scope=row>Delemont</th><td>83.1</td><td>45.1</td><td> 6</td><td> 9</td><td> 84.84</td><td>22.2</td></tr>\n",
       "\t<tr><th scope=row>Franches-Mnt</th><td>92.5</td><td>39.7</td><td> 5</td><td> 5</td><td> 93.40</td><td>20.2</td></tr>\n",
       "\t<tr><th scope=row>Moutier</th><td>85.8</td><td>36.5</td><td>12</td><td> 7</td><td> 33.77</td><td>20.3</td></tr>\n",
       "\t<tr><th scope=row>Neuveville</th><td>76.9</td><td>43.5</td><td>17</td><td>15</td><td>  5.16</td><td>20.6</td></tr>\n",
       "\t<tr><th scope=row>Porrentruy</th><td>76.1</td><td>35.3</td><td> 9</td><td> 7</td><td> 90.57</td><td>26.6</td></tr>\n",
       "\t<tr><th scope=row>Broye</th><td>83.8</td><td>70.2</td><td>16</td><td> 7</td><td> 92.85</td><td>23.6</td></tr>\n",
       "\t<tr><th scope=row>Glane</th><td>92.4</td><td>67.8</td><td>14</td><td> 8</td><td> 97.16</td><td>24.9</td></tr>\n",
       "\t<tr><th scope=row>Gruyere</th><td>82.4</td><td>53.3</td><td>12</td><td> 7</td><td> 97.67</td><td>21.0</td></tr>\n",
       "\t<tr><th scope=row>Sarine</th><td>82.9</td><td>45.2</td><td>16</td><td>13</td><td> 91.38</td><td>24.4</td></tr>\n",
       "\t<tr><th scope=row>Veveyse</th><td>87.1</td><td>64.5</td><td>14</td><td> 6</td><td> 98.61</td><td>24.5</td></tr>\n",
       "\t<tr><th scope=row>Aigle</th><td>64.1</td><td>62.0</td><td>21</td><td>12</td><td>  8.52</td><td>16.5</td></tr>\n",
       "\t<tr><th scope=row>Aubonne</th><td>66.9</td><td>67.5</td><td>14</td><td> 7</td><td>  2.27</td><td>19.1</td></tr>\n",
       "\t<tr><th scope=row>Avenches</th><td>68.9</td><td>60.7</td><td>19</td><td>12</td><td>  4.43</td><td>22.7</td></tr>\n",
       "\t<tr><th scope=row>Cossonay</th><td>61.7</td><td>69.3</td><td>22</td><td> 5</td><td>  2.82</td><td>18.7</td></tr>\n",
       "\t<tr><th scope=row>Echallens</th><td>68.3</td><td>72.6</td><td>18</td><td> 2</td><td> 24.20</td><td>21.2</td></tr>\n",
       "\t<tr><th scope=row>Grandson</th><td>71.7</td><td>34.0</td><td>17</td><td> 8</td><td>  3.30</td><td>20.0</td></tr>\n",
       "\t<tr><th scope=row>Lausanne</th><td>55.7</td><td>19.4</td><td>26</td><td>28</td><td> 12.11</td><td>20.2</td></tr>\n",
       "\t<tr><th scope=row>La Vallee</th><td>54.3</td><td>15.2</td><td>31</td><td>20</td><td>  2.15</td><td>10.8</td></tr>\n",
       "\t<tr><th scope=row>Lavaux</th><td>65.1</td><td>73.0</td><td>19</td><td> 9</td><td>  2.84</td><td>20.0</td></tr>\n",
       "\t<tr><th scope=row>Morges</th><td>65.5</td><td>59.8</td><td>22</td><td>10</td><td>  5.23</td><td>18.0</td></tr>\n",
       "\t<tr><th scope=row>Moudon</th><td>65.0</td><td>55.1</td><td>14</td><td> 3</td><td>  4.52</td><td>22.4</td></tr>\n",
       "\t<tr><th scope=row>Nyone</th><td>56.6</td><td>50.9</td><td>22</td><td>12</td><td> 15.14</td><td>16.7</td></tr>\n",
       "\t<tr><th scope=row>Orbe</th><td>57.4</td><td>54.1</td><td>20</td><td> 6</td><td>  4.20</td><td>15.3</td></tr>\n",
       "\t<tr><th scope=row>Oron</th><td>72.5</td><td>71.2</td><td>12</td><td> 1</td><td>  2.40</td><td>21.0</td></tr>\n",
       "\t<tr><th scope=row>Payerne</th><td>74.2</td><td>58.1</td><td>14</td><td> 8</td><td>  5.23</td><td>23.8</td></tr>\n",
       "\t<tr><th scope=row>Paysd'enhaut</th><td>72.0</td><td>63.5</td><td> 6</td><td> 3</td><td>  2.56</td><td>18.0</td></tr>\n",
       "\t<tr><th scope=row>Rolle</th><td>60.5</td><td>60.8</td><td>16</td><td>10</td><td>  7.72</td><td>16.3</td></tr>\n",
       "\t<tr><th scope=row>Vevey</th><td>58.3</td><td>26.8</td><td>25</td><td>19</td><td> 18.46</td><td>20.9</td></tr>\n",
       "\t<tr><th scope=row>Yverdon</th><td>65.4</td><td>49.5</td><td>15</td><td> 8</td><td>  6.10</td><td>22.5</td></tr>\n",
       "\t<tr><th scope=row>Conthey</th><td>75.5</td><td>85.9</td><td> 3</td><td> 2</td><td> 99.71</td><td>15.1</td></tr>\n",
       "\t<tr><th scope=row>Entremont</th><td>69.3</td><td>84.9</td><td> 7</td><td> 6</td><td> 99.68</td><td>19.8</td></tr>\n",
       "\t<tr><th scope=row>Herens</th><td>77.3</td><td>89.7</td><td> 5</td><td> 2</td><td>100.00</td><td>18.3</td></tr>\n",
       "\t<tr><th scope=row>Martigwy</th><td>70.5</td><td>78.2</td><td>12</td><td> 6</td><td> 98.96</td><td>19.4</td></tr>\n",
       "\t<tr><th scope=row>Monthey</th><td>79.4</td><td>64.9</td><td> 7</td><td> 3</td><td> 98.22</td><td>20.2</td></tr>\n",
       "\t<tr><th scope=row>St Maurice</th><td>65.0</td><td>75.9</td><td> 9</td><td> 9</td><td> 99.06</td><td>17.8</td></tr>\n",
       "\t<tr><th scope=row>Sierre</th><td>92.2</td><td>84.6</td><td> 3</td><td> 3</td><td> 99.46</td><td>16.3</td></tr>\n",
       "\t<tr><th scope=row>Sion</th><td>79.3</td><td>63.1</td><td>13</td><td>13</td><td> 96.83</td><td>18.1</td></tr>\n",
       "\t<tr><th scope=row>Boudry</th><td>70.4</td><td>38.4</td><td>26</td><td>12</td><td>  5.62</td><td>20.3</td></tr>\n",
       "\t<tr><th scope=row>La Chauxdfnd</th><td>65.7</td><td> 7.7</td><td>29</td><td>11</td><td> 13.79</td><td>20.5</td></tr>\n",
       "\t<tr><th scope=row>Le Locle</th><td>72.7</td><td>16.7</td><td>22</td><td>13</td><td> 11.22</td><td>18.9</td></tr>\n",
       "\t<tr><th scope=row>Neuchatel</th><td>64.4</td><td>17.6</td><td>35</td><td>32</td><td> 16.92</td><td>23.0</td></tr>\n",
       "\t<tr><th scope=row>Val de Ruz</th><td>77.6</td><td>37.6</td><td>15</td><td> 7</td><td>  4.97</td><td>20.0</td></tr>\n",
       "\t<tr><th scope=row>ValdeTravers</th><td>67.6</td><td>18.7</td><td>25</td><td> 7</td><td>  8.65</td><td>19.5</td></tr>\n",
       "\t<tr><th scope=row>V. De Geneve</th><td>35.0</td><td> 1.2</td><td>37</td><td>53</td><td> 42.34</td><td>18.0</td></tr>\n",
       "\t<tr><th scope=row>Rive Droite</th><td>44.7</td><td>46.6</td><td>16</td><td>29</td><td> 50.43</td><td>18.2</td></tr>\n",
       "\t<tr><th scope=row>Rive Gauche</th><td>42.8</td><td>27.7</td><td>22</td><td>29</td><td> 58.33</td><td>19.3</td></tr>\n",
       "</tbody>\n",
       "</table>\n"
      ],
      "text/latex": [
       "A data.frame: 47 × 6\n",
       "\\begin{tabular}{r|llllll}\n",
       "  & Fertility & Agriculture & Examination & Education & Catholic & Infant.Mortality\\\\\n",
       "  & <dbl> & <dbl> & <int> & <int> & <dbl> & <dbl>\\\\\n",
       "\\hline\n",
       "\tCourtelary & 80.2 & 17.0 & 15 & 12 &   9.96 & 22.2\\\\\n",
       "\tDelemont & 83.1 & 45.1 &  6 &  9 &  84.84 & 22.2\\\\\n",
       "\tFranches-Mnt & 92.5 & 39.7 &  5 &  5 &  93.40 & 20.2\\\\\n",
       "\tMoutier & 85.8 & 36.5 & 12 &  7 &  33.77 & 20.3\\\\\n",
       "\tNeuveville & 76.9 & 43.5 & 17 & 15 &   5.16 & 20.6\\\\\n",
       "\tPorrentruy & 76.1 & 35.3 &  9 &  7 &  90.57 & 26.6\\\\\n",
       "\tBroye & 83.8 & 70.2 & 16 &  7 &  92.85 & 23.6\\\\\n",
       "\tGlane & 92.4 & 67.8 & 14 &  8 &  97.16 & 24.9\\\\\n",
       "\tGruyere & 82.4 & 53.3 & 12 &  7 &  97.67 & 21.0\\\\\n",
       "\tSarine & 82.9 & 45.2 & 16 & 13 &  91.38 & 24.4\\\\\n",
       "\tVeveyse & 87.1 & 64.5 & 14 &  6 &  98.61 & 24.5\\\\\n",
       "\tAigle & 64.1 & 62.0 & 21 & 12 &   8.52 & 16.5\\\\\n",
       "\tAubonne & 66.9 & 67.5 & 14 &  7 &   2.27 & 19.1\\\\\n",
       "\tAvenches & 68.9 & 60.7 & 19 & 12 &   4.43 & 22.7\\\\\n",
       "\tCossonay & 61.7 & 69.3 & 22 &  5 &   2.82 & 18.7\\\\\n",
       "\tEchallens & 68.3 & 72.6 & 18 &  2 &  24.20 & 21.2\\\\\n",
       "\tGrandson & 71.7 & 34.0 & 17 &  8 &   3.30 & 20.0\\\\\n",
       "\tLausanne & 55.7 & 19.4 & 26 & 28 &  12.11 & 20.2\\\\\n",
       "\tLa Vallee & 54.3 & 15.2 & 31 & 20 &   2.15 & 10.8\\\\\n",
       "\tLavaux & 65.1 & 73.0 & 19 &  9 &   2.84 & 20.0\\\\\n",
       "\tMorges & 65.5 & 59.8 & 22 & 10 &   5.23 & 18.0\\\\\n",
       "\tMoudon & 65.0 & 55.1 & 14 &  3 &   4.52 & 22.4\\\\\n",
       "\tNyone & 56.6 & 50.9 & 22 & 12 &  15.14 & 16.7\\\\\n",
       "\tOrbe & 57.4 & 54.1 & 20 &  6 &   4.20 & 15.3\\\\\n",
       "\tOron & 72.5 & 71.2 & 12 &  1 &   2.40 & 21.0\\\\\n",
       "\tPayerne & 74.2 & 58.1 & 14 &  8 &   5.23 & 23.8\\\\\n",
       "\tPaysd'enhaut & 72.0 & 63.5 &  6 &  3 &   2.56 & 18.0\\\\\n",
       "\tRolle & 60.5 & 60.8 & 16 & 10 &   7.72 & 16.3\\\\\n",
       "\tVevey & 58.3 & 26.8 & 25 & 19 &  18.46 & 20.9\\\\\n",
       "\tYverdon & 65.4 & 49.5 & 15 &  8 &   6.10 & 22.5\\\\\n",
       "\tConthey & 75.5 & 85.9 &  3 &  2 &  99.71 & 15.1\\\\\n",
       "\tEntremont & 69.3 & 84.9 &  7 &  6 &  99.68 & 19.8\\\\\n",
       "\tHerens & 77.3 & 89.7 &  5 &  2 & 100.00 & 18.3\\\\\n",
       "\tMartigwy & 70.5 & 78.2 & 12 &  6 &  98.96 & 19.4\\\\\n",
       "\tMonthey & 79.4 & 64.9 &  7 &  3 &  98.22 & 20.2\\\\\n",
       "\tSt Maurice & 65.0 & 75.9 &  9 &  9 &  99.06 & 17.8\\\\\n",
       "\tSierre & 92.2 & 84.6 &  3 &  3 &  99.46 & 16.3\\\\\n",
       "\tSion & 79.3 & 63.1 & 13 & 13 &  96.83 & 18.1\\\\\n",
       "\tBoudry & 70.4 & 38.4 & 26 & 12 &   5.62 & 20.3\\\\\n",
       "\tLa Chauxdfnd & 65.7 &  7.7 & 29 & 11 &  13.79 & 20.5\\\\\n",
       "\tLe Locle & 72.7 & 16.7 & 22 & 13 &  11.22 & 18.9\\\\\n",
       "\tNeuchatel & 64.4 & 17.6 & 35 & 32 &  16.92 & 23.0\\\\\n",
       "\tVal de Ruz & 77.6 & 37.6 & 15 &  7 &   4.97 & 20.0\\\\\n",
       "\tValdeTravers & 67.6 & 18.7 & 25 &  7 &   8.65 & 19.5\\\\\n",
       "\tV. De Geneve & 35.0 &  1.2 & 37 & 53 &  42.34 & 18.0\\\\\n",
       "\tRive Droite & 44.7 & 46.6 & 16 & 29 &  50.43 & 18.2\\\\\n",
       "\tRive Gauche & 42.8 & 27.7 & 22 & 29 &  58.33 & 19.3\\\\\n",
       "\\end{tabular}\n"
      ],
      "text/markdown": [
       "\n",
       "A data.frame: 47 × 6\n",
       "\n",
       "| <!--/--> | Fertility &lt;dbl&gt; | Agriculture &lt;dbl&gt; | Examination &lt;int&gt; | Education &lt;int&gt; | Catholic &lt;dbl&gt; | Infant.Mortality &lt;dbl&gt; |\n",
       "|---|---|---|---|---|---|---|\n",
       "| Courtelary | 80.2 | 17.0 | 15 | 12 |   9.96 | 22.2 |\n",
       "| Delemont | 83.1 | 45.1 |  6 |  9 |  84.84 | 22.2 |\n",
       "| Franches-Mnt | 92.5 | 39.7 |  5 |  5 |  93.40 | 20.2 |\n",
       "| Moutier | 85.8 | 36.5 | 12 |  7 |  33.77 | 20.3 |\n",
       "| Neuveville | 76.9 | 43.5 | 17 | 15 |   5.16 | 20.6 |\n",
       "| Porrentruy | 76.1 | 35.3 |  9 |  7 |  90.57 | 26.6 |\n",
       "| Broye | 83.8 | 70.2 | 16 |  7 |  92.85 | 23.6 |\n",
       "| Glane | 92.4 | 67.8 | 14 |  8 |  97.16 | 24.9 |\n",
       "| Gruyere | 82.4 | 53.3 | 12 |  7 |  97.67 | 21.0 |\n",
       "| Sarine | 82.9 | 45.2 | 16 | 13 |  91.38 | 24.4 |\n",
       "| Veveyse | 87.1 | 64.5 | 14 |  6 |  98.61 | 24.5 |\n",
       "| Aigle | 64.1 | 62.0 | 21 | 12 |   8.52 | 16.5 |\n",
       "| Aubonne | 66.9 | 67.5 | 14 |  7 |   2.27 | 19.1 |\n",
       "| Avenches | 68.9 | 60.7 | 19 | 12 |   4.43 | 22.7 |\n",
       "| Cossonay | 61.7 | 69.3 | 22 |  5 |   2.82 | 18.7 |\n",
       "| Echallens | 68.3 | 72.6 | 18 |  2 |  24.20 | 21.2 |\n",
       "| Grandson | 71.7 | 34.0 | 17 |  8 |   3.30 | 20.0 |\n",
       "| Lausanne | 55.7 | 19.4 | 26 | 28 |  12.11 | 20.2 |\n",
       "| La Vallee | 54.3 | 15.2 | 31 | 20 |   2.15 | 10.8 |\n",
       "| Lavaux | 65.1 | 73.0 | 19 |  9 |   2.84 | 20.0 |\n",
       "| Morges | 65.5 | 59.8 | 22 | 10 |   5.23 | 18.0 |\n",
       "| Moudon | 65.0 | 55.1 | 14 |  3 |   4.52 | 22.4 |\n",
       "| Nyone | 56.6 | 50.9 | 22 | 12 |  15.14 | 16.7 |\n",
       "| Orbe | 57.4 | 54.1 | 20 |  6 |   4.20 | 15.3 |\n",
       "| Oron | 72.5 | 71.2 | 12 |  1 |   2.40 | 21.0 |\n",
       "| Payerne | 74.2 | 58.1 | 14 |  8 |   5.23 | 23.8 |\n",
       "| Paysd'enhaut | 72.0 | 63.5 |  6 |  3 |   2.56 | 18.0 |\n",
       "| Rolle | 60.5 | 60.8 | 16 | 10 |   7.72 | 16.3 |\n",
       "| Vevey | 58.3 | 26.8 | 25 | 19 |  18.46 | 20.9 |\n",
       "| Yverdon | 65.4 | 49.5 | 15 |  8 |   6.10 | 22.5 |\n",
       "| Conthey | 75.5 | 85.9 |  3 |  2 |  99.71 | 15.1 |\n",
       "| Entremont | 69.3 | 84.9 |  7 |  6 |  99.68 | 19.8 |\n",
       "| Herens | 77.3 | 89.7 |  5 |  2 | 100.00 | 18.3 |\n",
       "| Martigwy | 70.5 | 78.2 | 12 |  6 |  98.96 | 19.4 |\n",
       "| Monthey | 79.4 | 64.9 |  7 |  3 |  98.22 | 20.2 |\n",
       "| St Maurice | 65.0 | 75.9 |  9 |  9 |  99.06 | 17.8 |\n",
       "| Sierre | 92.2 | 84.6 |  3 |  3 |  99.46 | 16.3 |\n",
       "| Sion | 79.3 | 63.1 | 13 | 13 |  96.83 | 18.1 |\n",
       "| Boudry | 70.4 | 38.4 | 26 | 12 |   5.62 | 20.3 |\n",
       "| La Chauxdfnd | 65.7 |  7.7 | 29 | 11 |  13.79 | 20.5 |\n",
       "| Le Locle | 72.7 | 16.7 | 22 | 13 |  11.22 | 18.9 |\n",
       "| Neuchatel | 64.4 | 17.6 | 35 | 32 |  16.92 | 23.0 |\n",
       "| Val de Ruz | 77.6 | 37.6 | 15 |  7 |   4.97 | 20.0 |\n",
       "| ValdeTravers | 67.6 | 18.7 | 25 |  7 |   8.65 | 19.5 |\n",
       "| V. De Geneve | 35.0 |  1.2 | 37 | 53 |  42.34 | 18.0 |\n",
       "| Rive Droite | 44.7 | 46.6 | 16 | 29 |  50.43 | 18.2 |\n",
       "| Rive Gauche | 42.8 | 27.7 | 22 | 29 |  58.33 | 19.3 |\n",
       "\n"
      ],
      "text/plain": [
       "             Fertility Agriculture Examination Education Catholic\n",
       "Courtelary   80.2      17.0        15          12          9.96  \n",
       "Delemont     83.1      45.1         6           9         84.84  \n",
       "Franches-Mnt 92.5      39.7         5           5         93.40  \n",
       "Moutier      85.8      36.5        12           7         33.77  \n",
       "Neuveville   76.9      43.5        17          15          5.16  \n",
       "Porrentruy   76.1      35.3         9           7         90.57  \n",
       "Broye        83.8      70.2        16           7         92.85  \n",
       "Glane        92.4      67.8        14           8         97.16  \n",
       "Gruyere      82.4      53.3        12           7         97.67  \n",
       "Sarine       82.9      45.2        16          13         91.38  \n",
       "Veveyse      87.1      64.5        14           6         98.61  \n",
       "Aigle        64.1      62.0        21          12          8.52  \n",
       "Aubonne      66.9      67.5        14           7          2.27  \n",
       "Avenches     68.9      60.7        19          12          4.43  \n",
       "Cossonay     61.7      69.3        22           5          2.82  \n",
       "Echallens    68.3      72.6        18           2         24.20  \n",
       "Grandson     71.7      34.0        17           8          3.30  \n",
       "Lausanne     55.7      19.4        26          28         12.11  \n",
       "La Vallee    54.3      15.2        31          20          2.15  \n",
       "Lavaux       65.1      73.0        19           9          2.84  \n",
       "Morges       65.5      59.8        22          10          5.23  \n",
       "Moudon       65.0      55.1        14           3          4.52  \n",
       "Nyone        56.6      50.9        22          12         15.14  \n",
       "Orbe         57.4      54.1        20           6          4.20  \n",
       "Oron         72.5      71.2        12           1          2.40  \n",
       "Payerne      74.2      58.1        14           8          5.23  \n",
       "Paysd'enhaut 72.0      63.5         6           3          2.56  \n",
       "Rolle        60.5      60.8        16          10          7.72  \n",
       "Vevey        58.3      26.8        25          19         18.46  \n",
       "Yverdon      65.4      49.5        15           8          6.10  \n",
       "Conthey      75.5      85.9         3           2         99.71  \n",
       "Entremont    69.3      84.9         7           6         99.68  \n",
       "Herens       77.3      89.7         5           2        100.00  \n",
       "Martigwy     70.5      78.2        12           6         98.96  \n",
       "Monthey      79.4      64.9         7           3         98.22  \n",
       "St Maurice   65.0      75.9         9           9         99.06  \n",
       "Sierre       92.2      84.6         3           3         99.46  \n",
       "Sion         79.3      63.1        13          13         96.83  \n",
       "Boudry       70.4      38.4        26          12          5.62  \n",
       "La Chauxdfnd 65.7       7.7        29          11         13.79  \n",
       "Le Locle     72.7      16.7        22          13         11.22  \n",
       "Neuchatel    64.4      17.6        35          32         16.92  \n",
       "Val de Ruz   77.6      37.6        15           7          4.97  \n",
       "ValdeTravers 67.6      18.7        25           7          8.65  \n",
       "V. De Geneve 35.0       1.2        37          53         42.34  \n",
       "Rive Droite  44.7      46.6        16          29         50.43  \n",
       "Rive Gauche  42.8      27.7        22          29         58.33  \n",
       "             Infant.Mortality\n",
       "Courtelary   22.2            \n",
       "Delemont     22.2            \n",
       "Franches-Mnt 20.2            \n",
       "Moutier      20.3            \n",
       "Neuveville   20.6            \n",
       "Porrentruy   26.6            \n",
       "Broye        23.6            \n",
       "Glane        24.9            \n",
       "Gruyere      21.0            \n",
       "Sarine       24.4            \n",
       "Veveyse      24.5            \n",
       "Aigle        16.5            \n",
       "Aubonne      19.1            \n",
       "Avenches     22.7            \n",
       "Cossonay     18.7            \n",
       "Echallens    21.2            \n",
       "Grandson     20.0            \n",
       "Lausanne     20.2            \n",
       "La Vallee    10.8            \n",
       "Lavaux       20.0            \n",
       "Morges       18.0            \n",
       "Moudon       22.4            \n",
       "Nyone        16.7            \n",
       "Orbe         15.3            \n",
       "Oron         21.0            \n",
       "Payerne      23.8            \n",
       "Paysd'enhaut 18.0            \n",
       "Rolle        16.3            \n",
       "Vevey        20.9            \n",
       "Yverdon      22.5            \n",
       "Conthey      15.1            \n",
       "Entremont    19.8            \n",
       "Herens       18.3            \n",
       "Martigwy     19.4            \n",
       "Monthey      20.2            \n",
       "St Maurice   17.8            \n",
       "Sierre       16.3            \n",
       "Sion         18.1            \n",
       "Boudry       20.3            \n",
       "La Chauxdfnd 20.5            \n",
       "Le Locle     18.9            \n",
       "Neuchatel    23.0            \n",
       "Val de Ruz   20.0            \n",
       "ValdeTravers 19.5            \n",
       "V. De Geneve 18.0            \n",
       "Rive Droite  18.2            \n",
       "Rive Gauche  19.3            "
      ]
     },
     "metadata": {},
     "output_type": "display_data"
    }
   ],
   "source": [
    "library(MASS)\n",
    "datasets::swiss"
   ]
  },
  {
   "cell_type": "code",
   "execution_count": 45,
   "id": "582a534e",
   "metadata": {
    "vscode": {
     "languageId": "r"
    }
   },
   "outputs": [
    {
     "data": {
      "text/plain": [
       "\n",
       "Call:\n",
       "lm(formula = Fertility ~ ., data = swiss)\n",
       "\n",
       "Residuals:\n",
       "     Min       1Q   Median       3Q      Max \n",
       "-15.2743  -5.2617   0.5032   4.1198  15.3213 \n",
       "\n",
       "Coefficients:\n",
       "                 Estimate Std. Error t value Pr(>|t|)    \n",
       "(Intercept)      66.91518   10.70604   6.250 1.91e-07 ***\n",
       "Agriculture      -0.17211    0.07030  -2.448  0.01873 *  \n",
       "Examination      -0.25801    0.25388  -1.016  0.31546    \n",
       "Education        -0.87094    0.18303  -4.758 2.43e-05 ***\n",
       "Catholic          0.10412    0.03526   2.953  0.00519 ** \n",
       "Infant.Mortality  1.07705    0.38172   2.822  0.00734 ** \n",
       "---\n",
       "Signif. codes:  0 '***' 0.001 '**' 0.01 '*' 0.05 '.' 0.1 ' ' 1\n",
       "\n",
       "Residual standard error: 7.165 on 41 degrees of freedom\n",
       "Multiple R-squared:  0.7067,\tAdjusted R-squared:  0.671 \n",
       "F-statistic: 19.76 on 5 and 41 DF,  p-value: 5.594e-10\n"
      ]
     },
     "metadata": {},
     "output_type": "display_data"
    }
   ],
   "source": [
    "ModeloCompleto <- lm(Fertility ~ . , swiss)\n",
    "\n",
    "summary(ModeloCompleto)"
   ]
  },
  {
   "cell_type": "code",
   "execution_count": null,
   "id": "dd6d3ddf",
   "metadata": {
    "vscode": {
     "languageId": "r"
    }
   },
   "outputs": [
    {
     "name": "stdout",
     "output_type": "stream",
     "text": [
      "Start:  AIC=190.69\n",
      "Fertility ~ Agriculture + Examination + Education + Catholic + \n",
      "    Infant.Mortality\n",
      "\n",
      "                   Df Sum of Sq    RSS    AIC\n",
      "- Examination       1     53.03 2158.1 189.86\n",
      "<none>                          2105.0 190.69\n",
      "- Agriculture       1    307.72 2412.8 195.10\n",
      "- Infant.Mortality  1    408.75 2513.8 197.03\n",
      "- Catholic          1    447.71 2552.8 197.75\n",
      "- Education         1   1162.56 3267.6 209.36\n",
      "\n",
      "Step:  AIC=189.86\n",
      "Fertility ~ Agriculture + Education + Catholic + Infant.Mortality\n",
      "\n",
      "                   Df Sum of Sq    RSS    AIC\n",
      "<none>                          2158.1 189.86\n",
      "+ Examination       1     53.03 2105.0 190.69\n",
      "- Agriculture       1    264.18 2422.2 193.29\n",
      "- Infant.Mortality  1    409.81 2567.9 196.03\n",
      "- Catholic          1    956.57 3114.6 205.10\n",
      "- Education         1   2249.97 4408.0 221.43\n"
     ]
    }
   ],
   "source": [
    "modelo_stepwise <- stepAIC(ModeloCompleto,direction = 'both',trace = TRUE)"
   ]
  },
  {
   "cell_type": "code",
   "execution_count": null,
   "id": "3a6b4b8c",
   "metadata": {
    "vscode": {
     "languageId": "r"
    }
   },
   "outputs": [
    {
     "data": {
      "text/plain": [
       "\n",
       "Call:\n",
       "lm(formula = Fertility ~ Agriculture + Education + Catholic + \n",
       "    Infant.Mortality, data = swiss)\n",
       "\n",
       "Residuals:\n",
       "     Min       1Q   Median       3Q      Max \n",
       "-14.6765  -6.0522   0.7514   3.1664  16.1422 \n",
       "\n",
       "Coefficients:\n",
       "                 Estimate Std. Error t value Pr(>|t|)    \n",
       "(Intercept)      62.10131    9.60489   6.466 8.49e-08 ***\n",
       "Agriculture      -0.15462    0.06819  -2.267  0.02857 *  \n",
       "Education        -0.98026    0.14814  -6.617 5.14e-08 ***\n",
       "Catholic          0.12467    0.02889   4.315 9.50e-05 ***\n",
       "Infant.Mortality  1.07844    0.38187   2.824  0.00722 ** \n",
       "---\n",
       "Signif. codes:  0 '***' 0.001 '**' 0.01 '*' 0.05 '.' 0.1 ' ' 1\n",
       "\n",
       "Residual standard error: 7.168 on 42 degrees of freedom\n",
       "Multiple R-squared:  0.6993,\tAdjusted R-squared:  0.6707 \n",
       "F-statistic: 24.42 on 4 and 42 DF,  p-value: 1.717e-10\n"
      ]
     },
     "metadata": {},
     "output_type": "display_data"
    }
   ],
   "source": [
    "summary(modelo_stepwise)"
   ]
  }
 ],
 "metadata": {
  "kernelspec": {
   "display_name": "R",
   "language": "R",
   "name": "ir"
  },
  "language_info": {
   "codemirror_mode": "r",
   "file_extension": ".r",
   "mimetype": "text/x-r-source",
   "name": "R",
   "pygments_lexer": "r",
   "version": "4.4.2"
  }
 },
 "nbformat": 4,
 "nbformat_minor": 5
}

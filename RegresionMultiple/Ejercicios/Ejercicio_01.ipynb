{
 "cells": [
  {
   "cell_type": "markdown",
   "id": "07d868bd",
   "metadata": {},
   "source": [
    "# Ejercicio 01\n",
    "\n",
    "Un analista hace un estudio químico y espera que el rendimiento de cierta sustancia se vea afectado por dos factores. Se realizan 17 experimentos cuyos datos se registran en el cuadro siguiente. Por experimentos similares, se sabe que los factores $x_1$ y $x_2$ no están relacionados; por ello, el analista decide utilizar un modelo de regresión lineal múltiple. Calcule el modelo de regresión y grafíquelo sobre las observaciones."
   ]
  },
  {
   "cell_type": "markdown",
   "id": "1b3e3e9c",
   "metadata": {},
   "source": [
    "## 0. Import Librerías"
   ]
  },
  {
   "cell_type": "code",
   "execution_count": 1,
   "id": "33dea635",
   "metadata": {},
   "outputs": [],
   "source": [
    "import pandas as pd\n",
    "import numpy as np\n",
    "\n",
    "import matplotlib.pyplot as plt\n",
    "import seaborn as sns\n",
    "\n",
    "from sklearn.pipeline import Pipeline\n",
    "from sklearn.linear_model import LinearRegression\n",
    "from sklearn.metrics import root_mean_squared_error , r2_score"
   ]
  },
  {
   "cell_type": "markdown",
   "id": "07cd8e4a",
   "metadata": {},
   "source": [
    "## 1. Import datos y División de Datos"
   ]
  },
  {
   "cell_type": "code",
   "execution_count": 2,
   "id": "fce13f1d",
   "metadata": {},
   "outputs": [
    {
     "data": {
      "text/html": [
       "<div>\n",
       "<style scoped>\n",
       "    .dataframe tbody tr th:only-of-type {\n",
       "        vertical-align: middle;\n",
       "    }\n",
       "\n",
       "    .dataframe tbody tr th {\n",
       "        vertical-align: top;\n",
       "    }\n",
       "\n",
       "    .dataframe thead th {\n",
       "        text-align: right;\n",
       "    }\n",
       "</style>\n",
       "<table border=\"1\" class=\"dataframe\">\n",
       "  <thead>\n",
       "    <tr style=\"text-align: right;\">\n",
       "      <th></th>\n",
       "      <th>x1</th>\n",
       "      <th>x2</th>\n",
       "      <th>y</th>\n",
       "    </tr>\n",
       "    <tr>\n",
       "      <th>Experimento</th>\n",
       "      <th></th>\n",
       "      <th></th>\n",
       "      <th></th>\n",
       "    </tr>\n",
       "  </thead>\n",
       "  <tbody>\n",
       "    <tr>\n",
       "      <th>1</th>\n",
       "      <td>41.9</td>\n",
       "      <td>29.1</td>\n",
       "      <td>251.3</td>\n",
       "    </tr>\n",
       "    <tr>\n",
       "      <th>2</th>\n",
       "      <td>43.4</td>\n",
       "      <td>29.3</td>\n",
       "      <td>251.3</td>\n",
       "    </tr>\n",
       "    <tr>\n",
       "      <th>3</th>\n",
       "      <td>43.9</td>\n",
       "      <td>29.5</td>\n",
       "      <td>248.3</td>\n",
       "    </tr>\n",
       "    <tr>\n",
       "      <th>4</th>\n",
       "      <td>44.5</td>\n",
       "      <td>29.7</td>\n",
       "      <td>267.5</td>\n",
       "    </tr>\n",
       "    <tr>\n",
       "      <th>5</th>\n",
       "      <td>47.3</td>\n",
       "      <td>29.9</td>\n",
       "      <td>273.0</td>\n",
       "    </tr>\n",
       "    <tr>\n",
       "      <th>6</th>\n",
       "      <td>47.5</td>\n",
       "      <td>30.3</td>\n",
       "      <td>276.5</td>\n",
       "    </tr>\n",
       "    <tr>\n",
       "      <th>7</th>\n",
       "      <td>47.9</td>\n",
       "      <td>30.5</td>\n",
       "      <td>270.3</td>\n",
       "    </tr>\n",
       "    <tr>\n",
       "      <th>8</th>\n",
       "      <td>50.2</td>\n",
       "      <td>30.7</td>\n",
       "      <td>274.9</td>\n",
       "    </tr>\n",
       "    <tr>\n",
       "      <th>9</th>\n",
       "      <td>52.8</td>\n",
       "      <td>30.8</td>\n",
       "      <td>285.0</td>\n",
       "    </tr>\n",
       "    <tr>\n",
       "      <th>10</th>\n",
       "      <td>53.2</td>\n",
       "      <td>30.9</td>\n",
       "      <td>290.0</td>\n",
       "    </tr>\n",
       "    <tr>\n",
       "      <th>11</th>\n",
       "      <td>56.7</td>\n",
       "      <td>31.5</td>\n",
       "      <td>297.0</td>\n",
       "    </tr>\n",
       "    <tr>\n",
       "      <th>12</th>\n",
       "      <td>57.0</td>\n",
       "      <td>31.7</td>\n",
       "      <td>302.5</td>\n",
       "    </tr>\n",
       "    <tr>\n",
       "      <th>13</th>\n",
       "      <td>63.5</td>\n",
       "      <td>31.9</td>\n",
       "      <td>304.5</td>\n",
       "    </tr>\n",
       "    <tr>\n",
       "      <th>14</th>\n",
       "      <td>64.3</td>\n",
       "      <td>32.0</td>\n",
       "      <td>309.3</td>\n",
       "    </tr>\n",
       "    <tr>\n",
       "      <th>15</th>\n",
       "      <td>71.1</td>\n",
       "      <td>32.1</td>\n",
       "      <td>321.7</td>\n",
       "    </tr>\n",
       "    <tr>\n",
       "      <th>16</th>\n",
       "      <td>77.0</td>\n",
       "      <td>32.5</td>\n",
       "      <td>330.7</td>\n",
       "    </tr>\n",
       "    <tr>\n",
       "      <th>17</th>\n",
       "      <td>77.8</td>\n",
       "      <td>32.9</td>\n",
       "      <td>349.0</td>\n",
       "    </tr>\n",
       "  </tbody>\n",
       "</table>\n",
       "</div>"
      ],
      "text/plain": [
       "               x1    x2      y\n",
       "Experimento                   \n",
       "1            41.9  29.1  251.3\n",
       "2            43.4  29.3  251.3\n",
       "3            43.9  29.5  248.3\n",
       "4            44.5  29.7  267.5\n",
       "5            47.3  29.9  273.0\n",
       "6            47.5  30.3  276.5\n",
       "7            47.9  30.5  270.3\n",
       "8            50.2  30.7  274.9\n",
       "9            52.8  30.8  285.0\n",
       "10           53.2  30.9  290.0\n",
       "11           56.7  31.5  297.0\n",
       "12           57.0  31.7  302.5\n",
       "13           63.5  31.9  304.5\n",
       "14           64.3  32.0  309.3\n",
       "15           71.1  32.1  321.7\n",
       "16           77.0  32.5  330.7\n",
       "17           77.8  32.9  349.0"
      ]
     },
     "execution_count": 2,
     "metadata": {},
     "output_type": "execute_result"
    }
   ],
   "source": [
    "# Carga de datos \n",
    "\n",
    "Experimentos = pd.read_csv('./est_quimico.csv',index_col=0)\n",
    "\n",
    "Experimentos"
   ]
  },
  {
   "cell_type": "code",
   "execution_count": 3,
   "id": "ec0cdaad",
   "metadata": {},
   "outputs": [],
   "source": [
    "# División de los Datos en X y Y\n",
    "\n",
    "size_n = Experimentos.shape[0]\n",
    "\n",
    "DataX = Experimentos[['x1','x2']].to_numpy()\n",
    "MatrizX = np.concat([np.ones((size_n,1)),DataX],axis=1)\n",
    "\n",
    "RealValuesY = Experimentos[['y']].to_numpy()"
   ]
  },
  {
   "cell_type": "code",
   "execution_count": 4,
   "id": "a6825fff",
   "metadata": {},
   "outputs": [
    {
     "data": {
      "text/plain": [
       "<seaborn.axisgrid.PairGrid at 0x2412d21ea50>"
      ]
     },
     "execution_count": 4,
     "metadata": {},
     "output_type": "execute_result"
    },
    {
     "data": {
      "image/png": "[encoded data removed]",
      "text/plain": [
       "<Figure size 750x750 with 12 Axes>"
      ]
     },
     "metadata": {},
     "output_type": "display_data"
    }
   ],
   "source": [
    "sns.pairplot(Experimentos)"
   ]
  },
  {
   "cell_type": "markdown",
   "id": "b6a4a594",
   "metadata": {},
   "source": [
    "## 2. Modelo de Regresión Lineal"
   ]
  },
  {
   "cell_type": "markdown",
   "id": "62645099",
   "metadata": {},
   "source": [
    "### 2.1. Manual"
   ]
  },
  {
   "cell_type": "markdown",
   "id": "88f8a1a6",
   "metadata": {},
   "source": [
    "Se realiza el procedimiento vistó en clase ([Actividad 2](../Clases/Actividad_02.ipynb)) para estimar los parámetros del modelo $\\beta$."
   ]
  },
  {
   "cell_type": "code",
   "execution_count": 5,
   "id": "a668f678",
   "metadata": {},
   "outputs": [
    {
     "data": {
      "text/plain": [
       "array([[-151.75799982],\n",
       "       [   1.25389314],\n",
       "       [  12.00081181]])"
      ]
     },
     "execution_count": 5,
     "metadata": {},
     "output_type": "execute_result"
    }
   ],
   "source": [
    "EstimatorBeta = np.linalg.inv(MatrizX.T@MatrizX) @ MatrizX.T @ RealValuesY\n",
    "\n",
    "EstimatorBeta"
   ]
  },
  {
   "cell_type": "code",
   "execution_count": 6,
   "id": "1b633cbc",
   "metadata": {},
   "outputs": [],
   "source": [
    "EstimateY_Manual = MatrizX@EstimatorBeta"
   ]
  },
  {
   "cell_type": "markdown",
   "id": "6e442645",
   "metadata": {},
   "source": [
    "### 2.2. Modelo"
   ]
  },
  {
   "cell_type": "markdown",
   "id": "ebf1315f",
   "metadata": {},
   "source": [
    "Se hace uso del modelo implementado en Scikit-Learn para Regresión Lineal ([`LinearRegression`](https://scikit-learn.org/stable/modules/generated/sklearn.linear_model.LinearRegression.html))"
   ]
  },
  {
   "cell_type": "code",
   "execution_count": 7,
   "id": "4dd71983",
   "metadata": {},
   "outputs": [],
   "source": [
    "Model = LinearRegression()\n",
    "Model.fit(MatrizX,RealValuesY)\n",
    "\n",
    "EstimateY_Model = Model.predict(MatrizX)"
   ]
  },
  {
   "cell_type": "markdown",
   "id": "0eca74b5",
   "metadata": {},
   "source": [
    "# 3. Observaciones contra Estimaciones"
   ]
  },
  {
   "cell_type": "markdown",
   "id": "3f570ac9",
   "metadata": {},
   "source": [
    "Al momento de que se grafican los valores observados y estimados (predichos) permite evaluar de forma gráfica (visual) qué tan bien se ajusta el modelo para predecir el rendimientoo de la reacción (experimento).\n",
    "\n",
    "El valor de SSE (`413.0143`) y el $R^2$ score (`0.9688`) permiten medir qué tan bien se ajusta el modelo para predicir los valores y la robustes (confianza de los resultados) de las proppias predicciones; los valores obtenidos sugieren que el modelo se ajusta de manera adecuada para realizar las predicciones."
   ]
  },
  {
   "cell_type": "code",
   "execution_count": 8,
   "id": "c56ddf10",
   "metadata": {},
   "outputs": [
    {
     "data": {
      "image/png": "[encoded data removed]",
      "text/plain": [
       "<Figure size 640x480 with 1 Axes>"
      ]
     },
     "metadata": {},
     "output_type": "display_data"
    }
   ],
   "source": [
    "# Plotting de los valores esperados (obsevados) y estimados\n",
    "\n",
    "fig , axes = plt.subplots()\n",
    "\n",
    "sns.scatterplot(\n",
    "    x=RealValuesY[:,0],\n",
    "    y=EstimateY_Manual[:,0],\n",
    "    ax=axes,\n",
    ")\n",
    "\n",
    "IdentityValues = np.linspace(min(RealValuesY),max(RealValuesY))\n",
    "sns.lineplot(\n",
    "    x=IdentityValues[:,0],\n",
    "    y=IdentityValues[:,0],\n",
    "    color='gray',\n",
    "    linestyle=':',\n",
    ")\n",
    "\n",
    "axes.set_xlabel('Valores Observados')\n",
    "axes.set_ylabel('Valores Estimados');"
   ]
  },
  {
   "cell_type": "code",
   "execution_count": 9,
   "id": "16739f8f",
   "metadata": {},
   "outputs": [
    {
     "data": {
      "text/plain": [
       "np.float64(413.0143294376321)"
      ]
     },
     "execution_count": 9,
     "metadata": {},
     "output_type": "execute_result"
    }
   ],
   "source": [
    "# Calculo de SSE\n",
    "\n",
    "SSE = (RealValuesY.T@RealValuesY - 2*EstimateY_Manual.T@RealValuesY + EstimateY_Manual.T@EstimateY_Manual)[0,0]\n",
    "\n",
    "SSE"
   ]
  },
  {
   "cell_type": "code",
   "execution_count": 10,
   "id": "12af87a2",
   "metadata": {},
   "outputs": [
    {
     "data": {
      "text/plain": [
       "np.float64(29.501023531259438)"
      ]
     },
     "execution_count": 10,
     "metadata": {},
     "output_type": "execute_result"
    }
   ],
   "source": [
    "# Estimación de varianza\n",
    "\n",
    "EstimateSquareSigma = SSE / (size_n - EstimatorBeta.shape[0])\n",
    "\n",
    "EstimateSquareSigma"
   ]
  },
  {
   "cell_type": "code",
   "execution_count": 11,
   "id": "58505e55",
   "metadata": {},
   "outputs": [
    {
     "data": {
      "text/plain": [
       "0.9688049045268312"
      ]
     },
     "execution_count": 11,
     "metadata": {},
     "output_type": "execute_result"
    }
   ],
   "source": [
    "# R^2 Score de los datos\n",
    "\n",
    "Model.score(MatrizX,RealValuesY)"
   ]
  }
 ],
 "metadata": {
  "kernelspec": {
   "display_name": "data_science",
   "language": "python",
   "name": "python3"
  },
  "language_info": {
   "codemirror_mode": {
    "name": "ipython",
    "version": 3
   },
   "file_extension": ".py",
   "mimetype": "text/x-python",
   "name": "python",
   "nbconvert_exporter": "python",
   "pygments_lexer": "ipython3",
   "version": "3.13.3"
  }
 },
 "nbformat": 4,
 "nbformat_minor": 5
}

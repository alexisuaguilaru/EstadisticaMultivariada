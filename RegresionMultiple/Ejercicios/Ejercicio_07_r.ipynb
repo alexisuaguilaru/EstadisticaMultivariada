{
 "cells": [
  {
   "cell_type": "markdown",
   "id": "d129f1fa",
   "metadata": {},
   "source": [
    "# 2.8.1 Ejercicios\n",
    "**Ejercicio 1** Para el datasets datasets::trees, realice las pruebas de hipótesis para determinar si: \n",
    "1) El modelo solo con la variable Girth es mejor que el modelo completo. \n",
    "2) El modelo sin Girth y Height es mejor que el completo. Usar la tabla de ANOVA para calcular el estadístico $F_0$ y encontrar el p-valor asociado usando pf(F_0, df1, df2, lower.tail = FALSE). \n",
    "\n",
    "Justifique su respuesta y suba su código en R a github."
   ]
  },
  {
   "cell_type": "markdown",
   "id": "5da83fb6",
   "metadata": {},
   "source": [
    "## 1. Comparativa entre Modelo Completo y `Girth`"
   ]
  },
  {
   "cell_type": "markdown",
   "id": "dfec551f",
   "metadata": {},
   "source": [
    "Se tiene que ambos considerados son significativos, con respectivos estadísticos F significativos para la regresión. Al momento que se comparan los modelos por medio de una ANOVA, se tiene que la variable `Height` tiene un efecto significativo, esto se muestra al considerar el valor p de la prueba junto con el valor de la suma de cuadrados; por lo tanto, el modelo completo es mejor que el modelo solo con la variable `Girth`, debido a que `Height` aporta información relevante para la predicción"
   ]
  },
  {
   "cell_type": "code",
   "execution_count": 11,
   "id": "cd7d0331",
   "metadata": {
    "vscode": {
     "languageId": "r"
    }
   },
   "outputs": [
    {
     "data": {
      "text/html": [
       "<table class=\"dataframe\">\n",
       "<caption>A data.frame: 6 × 3</caption>\n",
       "<thead>\n",
       "\t<tr><th></th><th scope=col>Girth</th><th scope=col>Height</th><th scope=col>Volume</th></tr>\n",
       "\t<tr><th></th><th scope=col>&lt;dbl&gt;</th><th scope=col>&lt;dbl&gt;</th><th scope=col>&lt;dbl&gt;</th></tr>\n",
       "</thead>\n",
       "<tbody>\n",
       "\t<tr><th scope=row>1</th><td> 8.3</td><td>70</td><td>10.3</td></tr>\n",
       "\t<tr><th scope=row>2</th><td> 8.6</td><td>65</td><td>10.3</td></tr>\n",
       "\t<tr><th scope=row>3</th><td> 8.8</td><td>63</td><td>10.2</td></tr>\n",
       "\t<tr><th scope=row>4</th><td>10.5</td><td>72</td><td>16.4</td></tr>\n",
       "\t<tr><th scope=row>5</th><td>10.7</td><td>81</td><td>18.8</td></tr>\n",
       "\t<tr><th scope=row>6</th><td>10.8</td><td>83</td><td>19.7</td></tr>\n",
       "</tbody>\n",
       "</table>\n"
      ],
      "text/latex": [
       "A data.frame: 6 × 3\n",
       "\\begin{tabular}{r|lll}\n",
       "  & Girth & Height & Volume\\\\\n",
       "  & <dbl> & <dbl> & <dbl>\\\\\n",
       "\\hline\n",
       "\t1 &  8.3 & 70 & 10.3\\\\\n",
       "\t2 &  8.6 & 65 & 10.3\\\\\n",
       "\t3 &  8.8 & 63 & 10.2\\\\\n",
       "\t4 & 10.5 & 72 & 16.4\\\\\n",
       "\t5 & 10.7 & 81 & 18.8\\\\\n",
       "\t6 & 10.8 & 83 & 19.7\\\\\n",
       "\\end{tabular}\n"
      ],
      "text/markdown": [
       "\n",
       "A data.frame: 6 × 3\n",
       "\n",
       "| <!--/--> | Girth &lt;dbl&gt; | Height &lt;dbl&gt; | Volume &lt;dbl&gt; |\n",
       "|---|---|---|---|\n",
       "| 1 |  8.3 | 70 | 10.3 |\n",
       "| 2 |  8.6 | 65 | 10.3 |\n",
       "| 3 |  8.8 | 63 | 10.2 |\n",
       "| 4 | 10.5 | 72 | 16.4 |\n",
       "| 5 | 10.7 | 81 | 18.8 |\n",
       "| 6 | 10.8 | 83 | 19.7 |\n",
       "\n"
      ],
      "text/plain": [
       "  Girth Height Volume\n",
       "1  8.3  70     10.3  \n",
       "2  8.6  65     10.3  \n",
       "3  8.8  63     10.2  \n",
       "4 10.5  72     16.4  \n",
       "5 10.7  81     18.8  \n",
       "6 10.8  83     19.7  "
      ]
     },
     "metadata": {},
     "output_type": "display_data"
    }
   ],
   "source": [
    "data('trees')\n",
    "head(trees)"
   ]
  },
  {
   "cell_type": "code",
   "execution_count": 12,
   "id": "402086c7",
   "metadata": {
    "vscode": {
     "languageId": "r"
    }
   },
   "outputs": [
    {
     "data": {
      "text/plain": [
       "\n",
       "Call:\n",
       "lm(formula = Volume ~ ., data = trees)\n",
       "\n",
       "Residuals:\n",
       "    Min      1Q  Median      3Q     Max \n",
       "-6.4065 -2.6493 -0.2876  2.2003  8.4847 \n",
       "\n",
       "Coefficients:\n",
       "            Estimate Std. Error t value Pr(>|t|)    \n",
       "(Intercept) -57.9877     8.6382  -6.713 2.75e-07 ***\n",
       "Girth         4.7082     0.2643  17.816  < 2e-16 ***\n",
       "Height        0.3393     0.1302   2.607   0.0145 *  \n",
       "---\n",
       "Signif. codes:  0 '***' 0.001 '**' 0.01 '*' 0.05 '.' 0.1 ' ' 1\n",
       "\n",
       "Residual standard error: 3.882 on 28 degrees of freedom\n",
       "Multiple R-squared:  0.948,\tAdjusted R-squared:  0.9442 \n",
       "F-statistic:   255 on 2 and 28 DF,  p-value: < 2.2e-16\n"
      ]
     },
     "metadata": {},
     "output_type": "display_data"
    }
   ],
   "source": [
    "LinearModel_Completo <- lm(Volume ~ .,trees)\n",
    "summary(LinearModel_Completo)"
   ]
  },
  {
   "cell_type": "code",
   "execution_count": 13,
   "id": "17fa2676",
   "metadata": {
    "vscode": {
     "languageId": "r"
    }
   },
   "outputs": [
    {
     "data": {
      "text/plain": [
       "\n",
       "Call:\n",
       "lm(formula = Volume ~ Girth, data = trees)\n",
       "\n",
       "Residuals:\n",
       "   Min     1Q Median     3Q    Max \n",
       "-8.065 -3.107  0.152  3.495  9.587 \n",
       "\n",
       "Coefficients:\n",
       "            Estimate Std. Error t value Pr(>|t|)    \n",
       "(Intercept) -36.9435     3.3651  -10.98 7.62e-12 ***\n",
       "Girth         5.0659     0.2474   20.48  < 2e-16 ***\n",
       "---\n",
       "Signif. codes:  0 '***' 0.001 '**' 0.01 '*' 0.05 '.' 0.1 ' ' 1\n",
       "\n",
       "Residual standard error: 4.252 on 29 degrees of freedom\n",
       "Multiple R-squared:  0.9353,\tAdjusted R-squared:  0.9331 \n",
       "F-statistic: 419.4 on 1 and 29 DF,  p-value: < 2.2e-16\n"
      ]
     },
     "metadata": {},
     "output_type": "display_data"
    }
   ],
   "source": [
    "LinearModel_Girth <- lm(Volume ~ Girth,trees)\n",
    "summary(LinearModel_Girth)"
   ]
  },
  {
   "cell_type": "code",
   "execution_count": 14,
   "id": "d395f3ab",
   "metadata": {
    "vscode": {
     "languageId": "r"
    }
   },
   "outputs": [
    {
     "data": {
      "text/html": [
       "<table class=\"dataframe\">\n",
       "<caption>A anova: 3 × 5</caption>\n",
       "<thead>\n",
       "\t<tr><th></th><th scope=col>Df</th><th scope=col>Sum Sq</th><th scope=col>Mean Sq</th><th scope=col>F value</th><th scope=col>Pr(&gt;F)</th></tr>\n",
       "\t<tr><th></th><th scope=col>&lt;int&gt;</th><th scope=col>&lt;dbl&gt;</th><th scope=col>&lt;dbl&gt;</th><th scope=col>&lt;dbl&gt;</th><th scope=col>&lt;dbl&gt;</th></tr>\n",
       "</thead>\n",
       "<tbody>\n",
       "\t<tr><th scope=row>Girth</th><td> 1</td><td>7581.7813</td><td>7581.78133</td><td>503.15034</td><td>1.961597e-19</td></tr>\n",
       "\t<tr><th scope=row>Height</th><td> 1</td><td> 102.3812</td><td> 102.38118</td><td>  6.79433</td><td>1.449097e-02</td></tr>\n",
       "\t<tr><th scope=row>Residuals</th><td>28</td><td> 421.9214</td><td>  15.06862</td><td>       NA</td><td>          NA</td></tr>\n",
       "</tbody>\n",
       "</table>\n"
      ],
      "text/latex": [
       "A anova: 3 × 5\n",
       "\\begin{tabular}{r|lllll}\n",
       "  & Df & Sum Sq & Mean Sq & F value & Pr(>F)\\\\\n",
       "  & <int> & <dbl> & <dbl> & <dbl> & <dbl>\\\\\n",
       "\\hline\n",
       "\tGirth &  1 & 7581.7813 & 7581.78133 & 503.15034 & 1.961597e-19\\\\\n",
       "\tHeight &  1 &  102.3812 &  102.38118 &   6.79433 & 1.449097e-02\\\\\n",
       "\tResiduals & 28 &  421.9214 &   15.06862 &        NA &           NA\\\\\n",
       "\\end{tabular}\n"
      ],
      "text/markdown": [
       "\n",
       "A anova: 3 × 5\n",
       "\n",
       "| <!--/--> | Df &lt;int&gt; | Sum Sq &lt;dbl&gt; | Mean Sq &lt;dbl&gt; | F value &lt;dbl&gt; | Pr(&gt;F) &lt;dbl&gt; |\n",
       "|---|---|---|---|---|---|\n",
       "| Girth |  1 | 7581.7813 | 7581.78133 | 503.15034 | 1.961597e-19 |\n",
       "| Height |  1 |  102.3812 |  102.38118 |   6.79433 | 1.449097e-02 |\n",
       "| Residuals | 28 |  421.9214 |   15.06862 |        NA |           NA |\n",
       "\n"
      ],
      "text/plain": [
       "          Df Sum Sq    Mean Sq    F value   Pr(>F)      \n",
       "Girth      1 7581.7813 7581.78133 503.15034 1.961597e-19\n",
       "Height     1  102.3812  102.38118   6.79433 1.449097e-02\n",
       "Residuals 28  421.9214   15.06862        NA           NA"
      ]
     },
     "metadata": {},
     "output_type": "display_data"
    }
   ],
   "source": [
    "TableAnova_Completo <- anova(LinearModel_Completo)\n",
    "TableAnova_Completo"
   ]
  },
  {
   "cell_type": "code",
   "execution_count": 15,
   "id": "0fc88d48",
   "metadata": {
    "vscode": {
     "languageId": "r"
    }
   },
   "outputs": [
    {
     "data": {
      "text/html": [
       "<table class=\"dataframe\">\n",
       "<caption>A anova: 2 × 5</caption>\n",
       "<thead>\n",
       "\t<tr><th></th><th scope=col>Df</th><th scope=col>Sum Sq</th><th scope=col>Mean Sq</th><th scope=col>F value</th><th scope=col>Pr(&gt;F)</th></tr>\n",
       "\t<tr><th></th><th scope=col>&lt;int&gt;</th><th scope=col>&lt;dbl&gt;</th><th scope=col>&lt;dbl&gt;</th><th scope=col>&lt;dbl&gt;</th><th scope=col>&lt;dbl&gt;</th></tr>\n",
       "</thead>\n",
       "<tbody>\n",
       "\t<tr><th scope=row>Girth</th><td> 1</td><td>7581.7813</td><td>7581.7813</td><td>419.3603</td><td>8.644334e-19</td></tr>\n",
       "\t<tr><th scope=row>Residuals</th><td>29</td><td> 524.3025</td><td>  18.0794</td><td>      NA</td><td>          NA</td></tr>\n",
       "</tbody>\n",
       "</table>\n"
      ],
      "text/latex": [
       "A anova: 2 × 5\n",
       "\\begin{tabular}{r|lllll}\n",
       "  & Df & Sum Sq & Mean Sq & F value & Pr(>F)\\\\\n",
       "  & <int> & <dbl> & <dbl> & <dbl> & <dbl>\\\\\n",
       "\\hline\n",
       "\tGirth &  1 & 7581.7813 & 7581.7813 & 419.3603 & 8.644334e-19\\\\\n",
       "\tResiduals & 29 &  524.3025 &   18.0794 &       NA &           NA\\\\\n",
       "\\end{tabular}\n"
      ],
      "text/markdown": [
       "\n",
       "A anova: 2 × 5\n",
       "\n",
       "| <!--/--> | Df &lt;int&gt; | Sum Sq &lt;dbl&gt; | Mean Sq &lt;dbl&gt; | F value &lt;dbl&gt; | Pr(&gt;F) &lt;dbl&gt; |\n",
       "|---|---|---|---|---|---|\n",
       "| Girth |  1 | 7581.7813 | 7581.7813 | 419.3603 | 8.644334e-19 |\n",
       "| Residuals | 29 |  524.3025 |   18.0794 |       NA |           NA |\n",
       "\n"
      ],
      "text/plain": [
       "          Df Sum Sq    Mean Sq   F value  Pr(>F)      \n",
       "Girth      1 7581.7813 7581.7813 419.3603 8.644334e-19\n",
       "Residuals 29  524.3025   18.0794       NA           NA"
      ]
     },
     "metadata": {},
     "output_type": "display_data"
    }
   ],
   "source": [
    "TableAnova_Girth <- anova(LinearModel_Girth)\n",
    "TableAnova_Girth"
   ]
  },
  {
   "cell_type": "code",
   "execution_count": 16,
   "id": "e354a80f",
   "metadata": {
    "vscode": {
     "languageId": "r"
    }
   },
   "outputs": [
    {
     "data": {
      "text/html": [
       "<table class=\"dataframe\">\n",
       "<caption>A anova: 2 × 6</caption>\n",
       "<thead>\n",
       "\t<tr><th></th><th scope=col>Res.Df</th><th scope=col>RSS</th><th scope=col>Df</th><th scope=col>Sum of Sq</th><th scope=col>F</th><th scope=col>Pr(&gt;F)</th></tr>\n",
       "\t<tr><th></th><th scope=col>&lt;dbl&gt;</th><th scope=col>&lt;dbl&gt;</th><th scope=col>&lt;dbl&gt;</th><th scope=col>&lt;dbl&gt;</th><th scope=col>&lt;dbl&gt;</th><th scope=col>&lt;dbl&gt;</th></tr>\n",
       "</thead>\n",
       "<tbody>\n",
       "\t<tr><th scope=row>1</th><td>28</td><td>421.9214</td><td>NA</td><td>       NA</td><td>     NA</td><td>        NA</td></tr>\n",
       "\t<tr><th scope=row>2</th><td>29</td><td>524.3025</td><td>-1</td><td>-102.3812</td><td>6.79433</td><td>0.01449097</td></tr>\n",
       "</tbody>\n",
       "</table>\n"
      ],
      "text/latex": [
       "A anova: 2 × 6\n",
       "\\begin{tabular}{r|llllll}\n",
       "  & Res.Df & RSS & Df & Sum of Sq & F & Pr(>F)\\\\\n",
       "  & <dbl> & <dbl> & <dbl> & <dbl> & <dbl> & <dbl>\\\\\n",
       "\\hline\n",
       "\t1 & 28 & 421.9214 & NA &        NA &      NA &         NA\\\\\n",
       "\t2 & 29 & 524.3025 & -1 & -102.3812 & 6.79433 & 0.01449097\\\\\n",
       "\\end{tabular}\n"
      ],
      "text/markdown": [
       "\n",
       "A anova: 2 × 6\n",
       "\n",
       "| <!--/--> | Res.Df &lt;dbl&gt; | RSS &lt;dbl&gt; | Df &lt;dbl&gt; | Sum of Sq &lt;dbl&gt; | F &lt;dbl&gt; | Pr(&gt;F) &lt;dbl&gt; |\n",
       "|---|---|---|---|---|---|---|\n",
       "| 1 | 28 | 421.9214 | NA |        NA |      NA |         NA |\n",
       "| 2 | 29 | 524.3025 | -1 | -102.3812 | 6.79433 | 0.01449097 |\n",
       "\n"
      ],
      "text/plain": [
       "  Res.Df RSS      Df Sum of Sq F       Pr(>F)    \n",
       "1 28     421.9214 NA        NA      NA         NA\n",
       "2 29     524.3025 -1 -102.3812 6.79433 0.01449097"
      ]
     },
     "metadata": {},
     "output_type": "display_data"
    }
   ],
   "source": [
    "anova(LinearModel_Completo,LinearModel_Girth)"
   ]
  },
  {
   "cell_type": "markdown",
   "id": "5016ff0f",
   "metadata": {
    "vscode": {
     "languageId": "r"
    }
   },
   "source": [
    "## 2. Comparativa entre Modelo Completo y Nulo "
   ]
  },
  {
   "cell_type": "markdown",
   "id": "ad5fbde0",
   "metadata": {},
   "source": [
    "Realizando la prueba F para comparar dos modelos lineales, se tiene que existe una diferencia significativa entre ambos; es decir, el modelo completo aporta más información para predecir los valores de `Volumen` debido a que las variables en el modelo completo son relevantes para determinar el volumen de un árbol. Por lo tanto, el modelo nulo es peor que el completo."
   ]
  },
  {
   "cell_type": "code",
   "execution_count": 17,
   "id": "0d2e2042",
   "metadata": {
    "vscode": {
     "languageId": "r"
    }
   },
   "outputs": [
    {
     "data": {
      "text/plain": [
       "\n",
       "Call:\n",
       "lm(formula = Volume ~ 1, data = trees)\n",
       "\n",
       "Residuals:\n",
       "    Min      1Q  Median      3Q     Max \n",
       "-19.971 -10.771  -5.971   7.129  46.829 \n",
       "\n",
       "Coefficients:\n",
       "            Estimate Std. Error t value Pr(>|t|)    \n",
       "(Intercept)   30.171      2.952   10.22 2.75e-11 ***\n",
       "---\n",
       "Signif. codes:  0 '***' 0.001 '**' 0.01 '*' 0.05 '.' 0.1 ' ' 1\n",
       "\n",
       "Residual standard error: 16.44 on 30 degrees of freedom\n"
      ]
     },
     "metadata": {},
     "output_type": "display_data"
    }
   ],
   "source": [
    "LinearModel_Nulo <- lm(Volume ~ 1,trees)\n",
    "summary(LinearModel_Nulo)"
   ]
  },
  {
   "cell_type": "code",
   "execution_count": 28,
   "id": "caed4e9c",
   "metadata": {
    "vscode": {
     "languageId": "r"
    }
   },
   "outputs": [
    {
     "data": {
      "text/html": [
       "<table class=\"dataframe\">\n",
       "<caption>A anova: 1 × 5</caption>\n",
       "<thead>\n",
       "\t<tr><th></th><th scope=col>Df</th><th scope=col>Sum Sq</th><th scope=col>Mean Sq</th><th scope=col>F value</th><th scope=col>Pr(&gt;F)</th></tr>\n",
       "\t<tr><th></th><th scope=col>&lt;int&gt;</th><th scope=col>&lt;dbl&gt;</th><th scope=col>&lt;dbl&gt;</th><th scope=col>&lt;dbl&gt;</th><th scope=col>&lt;dbl&gt;</th></tr>\n",
       "</thead>\n",
       "<tbody>\n",
       "\t<tr><th scope=row>Residuals</th><td>30</td><td>8106.084</td><td>270.2028</td><td>NA</td><td>NA</td></tr>\n",
       "</tbody>\n",
       "</table>\n"
      ],
      "text/latex": [
       "A anova: 1 × 5\n",
       "\\begin{tabular}{r|lllll}\n",
       "  & Df & Sum Sq & Mean Sq & F value & Pr(>F)\\\\\n",
       "  & <int> & <dbl> & <dbl> & <dbl> & <dbl>\\\\\n",
       "\\hline\n",
       "\tResiduals & 30 & 8106.084 & 270.2028 & NA & NA\\\\\n",
       "\\end{tabular}\n"
      ],
      "text/markdown": [
       "\n",
       "A anova: 1 × 5\n",
       "\n",
       "| <!--/--> | Df &lt;int&gt; | Sum Sq &lt;dbl&gt; | Mean Sq &lt;dbl&gt; | F value &lt;dbl&gt; | Pr(&gt;F) &lt;dbl&gt; |\n",
       "|---|---|---|---|---|---|\n",
       "| Residuals | 30 | 8106.084 | 270.2028 | NA | NA |\n",
       "\n"
      ],
      "text/plain": [
       "          Df Sum Sq   Mean Sq  F value Pr(>F)\n",
       "Residuals 30 8106.084 270.2028 NA      NA    "
      ]
     },
     "metadata": {},
     "output_type": "display_data"
    }
   ],
   "source": [
    "TableAnova_Nulo <- anova(LinearModel_Nulo)\n",
    "TableAnova_Nulo"
   ]
  },
  {
   "cell_type": "code",
   "execution_count": 27,
   "id": "0b6656c5",
   "metadata": {
    "vscode": {
     "languageId": "r"
    }
   },
   "outputs": [
    {
     "data": {
      "text/html": [
       "<table class=\"dataframe\">\n",
       "<caption>A anova: 2 × 6</caption>\n",
       "<thead>\n",
       "\t<tr><th></th><th scope=col>Res.Df</th><th scope=col>RSS</th><th scope=col>Df</th><th scope=col>Sum of Sq</th><th scope=col>F</th><th scope=col>Pr(&gt;F)</th></tr>\n",
       "\t<tr><th></th><th scope=col>&lt;dbl&gt;</th><th scope=col>&lt;dbl&gt;</th><th scope=col>&lt;dbl&gt;</th><th scope=col>&lt;dbl&gt;</th><th scope=col>&lt;dbl&gt;</th><th scope=col>&lt;dbl&gt;</th></tr>\n",
       "</thead>\n",
       "<tbody>\n",
       "\t<tr><th scope=row>1</th><td>28</td><td> 421.9214</td><td>NA</td><td>       NA</td><td>      NA</td><td>          NA</td></tr>\n",
       "\t<tr><th scope=row>2</th><td>30</td><td>8106.0839</td><td>-2</td><td>-7684.163</td><td>254.9723</td><td>1.071238e-18</td></tr>\n",
       "</tbody>\n",
       "</table>\n"
      ],
      "text/latex": [
       "A anova: 2 × 6\n",
       "\\begin{tabular}{r|llllll}\n",
       "  & Res.Df & RSS & Df & Sum of Sq & F & Pr(>F)\\\\\n",
       "  & <dbl> & <dbl> & <dbl> & <dbl> & <dbl> & <dbl>\\\\\n",
       "\\hline\n",
       "\t1 & 28 &  421.9214 & NA &        NA &       NA &           NA\\\\\n",
       "\t2 & 30 & 8106.0839 & -2 & -7684.163 & 254.9723 & 1.071238e-18\\\\\n",
       "\\end{tabular}\n"
      ],
      "text/markdown": [
       "\n",
       "A anova: 2 × 6\n",
       "\n",
       "| <!--/--> | Res.Df &lt;dbl&gt; | RSS &lt;dbl&gt; | Df &lt;dbl&gt; | Sum of Sq &lt;dbl&gt; | F &lt;dbl&gt; | Pr(&gt;F) &lt;dbl&gt; |\n",
       "|---|---|---|---|---|---|---|\n",
       "| 1 | 28 |  421.9214 | NA |        NA |       NA |           NA |\n",
       "| 2 | 30 | 8106.0839 | -2 | -7684.163 | 254.9723 | 1.071238e-18 |\n",
       "\n"
      ],
      "text/plain": [
       "  Res.Df RSS       Df Sum of Sq F        Pr(>F)      \n",
       "1 28      421.9214 NA        NA       NA           NA\n",
       "2 30     8106.0839 -2 -7684.163 254.9723 1.071238e-18"
      ]
     },
     "metadata": {},
     "output_type": "display_data"
    }
   ],
   "source": [
    "anova(LinearModel_Completo,LinearModel_Nulo)"
   ]
  },
  {
   "cell_type": "code",
   "execution_count": 47,
   "id": "8034b4da",
   "metadata": {
    "vscode": {
     "languageId": "r"
    }
   },
   "outputs": [
    {
     "name": "stdout",
     "output_type": "stream",
     "text": [
      "F_0 :: 254.9723 \n",
      "F_1 :: 0.0000"
     ]
    }
   ],
   "source": [
    "SCE_C <- TableAnova_Completo$`Sum Sq`[3]\n",
    "DF_C <- TableAnova_Completo$Df[3]\n",
    "SCE_R <- TableAnova_Nulo$`Sum Sq`[1]\n",
    "DF_R <- TableAnova_Nulo$Df[1]\n",
    "\n",
    "F_0 = ((SCE_R-SCE_C)/(DF_R-DF_C))/(SCE_C/DF_C)\n",
    "F_1 = pf(F_0,DF_R-DF_C,DF_C,lower.tail=FALSE)\n",
    "\n",
    "cat(sprintf('F_0 :: %.4f \\nF_1 :: %.4f',F_0,F_1))"
   ]
  }
 ],
 "metadata": {
  "kernelspec": {
   "display_name": "R",
   "language": "R",
   "name": "ir"
  },
  "language_info": {
   "codemirror_mode": "r",
   "file_extension": ".r",
   "mimetype": "text/x-r-source",
   "name": "R",
   "pygments_lexer": "r",
   "version": "4.4.2"
  }
 },
 "nbformat": 4,
 "nbformat_minor": 5
}

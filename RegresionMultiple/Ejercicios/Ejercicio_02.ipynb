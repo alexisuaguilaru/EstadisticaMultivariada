{
 "cells": [
  {
   "cell_type": "markdown",
   "id": "07d868bd",
   "metadata": {},
   "source": [
    "# Ejercicio 02\n",
    "\n",
    "Repetir el ejemplo con los datos `datasets::trees` de R que proporciona mediciones del diámetro, altura y volumen de madera en 31 cerezos negros talados."
   ]
  },
  {
   "cell_type": "markdown",
   "id": "1b3e3e9c",
   "metadata": {},
   "source": [
    "## 0. Import Librerías"
   ]
  },
  {
   "cell_type": "code",
   "execution_count": 1,
   "id": "33dea635",
   "metadata": {},
   "outputs": [],
   "source": [
    "import pandas as pd\n",
    "import numpy as np\n",
    "\n",
    "import matplotlib.pyplot as plt\n",
    "import seaborn as sns\n",
    "\n",
    "from sklearn.linear_model import LinearRegression"
   ]
  },
  {
   "cell_type": "markdown",
   "id": "07cd8e4a",
   "metadata": {},
   "source": [
    "## 1. Import datos y División de Datos"
   ]
  },
  {
   "cell_type": "code",
   "execution_count": 3,
   "id": "fce13f1d",
   "metadata": {},
   "outputs": [
    {
     "data": {
      "text/html": [
       "<div>\n",
       "<style scoped>\n",
       "    .dataframe tbody tr th:only-of-type {\n",
       "        vertical-align: middle;\n",
       "    }\n",
       "\n",
       "    .dataframe tbody tr th {\n",
       "        vertical-align: top;\n",
       "    }\n",
       "\n",
       "    .dataframe thead th {\n",
       "        text-align: right;\n",
       "    }\n",
       "</style>\n",
       "<table border=\"1\" class=\"dataframe\">\n",
       "  <thead>\n",
       "    <tr style=\"text-align: right;\">\n",
       "      <th></th>\n",
       "      <th>Girth</th>\n",
       "      <th>Height</th>\n",
       "      <th>Volume</th>\n",
       "    </tr>\n",
       "  </thead>\n",
       "  <tbody>\n",
       "    <tr>\n",
       "      <th>0</th>\n",
       "      <td>8.3</td>\n",
       "      <td>70</td>\n",
       "      <td>10.3</td>\n",
       "    </tr>\n",
       "    <tr>\n",
       "      <th>1</th>\n",
       "      <td>8.6</td>\n",
       "      <td>65</td>\n",
       "      <td>10.3</td>\n",
       "    </tr>\n",
       "    <tr>\n",
       "      <th>2</th>\n",
       "      <td>8.8</td>\n",
       "      <td>63</td>\n",
       "      <td>10.2</td>\n",
       "    </tr>\n",
       "    <tr>\n",
       "      <th>3</th>\n",
       "      <td>10.5</td>\n",
       "      <td>72</td>\n",
       "      <td>16.4</td>\n",
       "    </tr>\n",
       "    <tr>\n",
       "      <th>4</th>\n",
       "      <td>10.7</td>\n",
       "      <td>81</td>\n",
       "      <td>18.8</td>\n",
       "    </tr>\n",
       "    <tr>\n",
       "      <th>5</th>\n",
       "      <td>10.8</td>\n",
       "      <td>83</td>\n",
       "      <td>19.7</td>\n",
       "    </tr>\n",
       "    <tr>\n",
       "      <th>6</th>\n",
       "      <td>11.0</td>\n",
       "      <td>66</td>\n",
       "      <td>15.6</td>\n",
       "    </tr>\n",
       "    <tr>\n",
       "      <th>7</th>\n",
       "      <td>11.0</td>\n",
       "      <td>75</td>\n",
       "      <td>18.2</td>\n",
       "    </tr>\n",
       "    <tr>\n",
       "      <th>8</th>\n",
       "      <td>11.1</td>\n",
       "      <td>80</td>\n",
       "      <td>22.6</td>\n",
       "    </tr>\n",
       "    <tr>\n",
       "      <th>9</th>\n",
       "      <td>11.2</td>\n",
       "      <td>75</td>\n",
       "      <td>19.9</td>\n",
       "    </tr>\n",
       "    <tr>\n",
       "      <th>10</th>\n",
       "      <td>11.3</td>\n",
       "      <td>79</td>\n",
       "      <td>24.2</td>\n",
       "    </tr>\n",
       "    <tr>\n",
       "      <th>11</th>\n",
       "      <td>11.4</td>\n",
       "      <td>76</td>\n",
       "      <td>21.0</td>\n",
       "    </tr>\n",
       "    <tr>\n",
       "      <th>12</th>\n",
       "      <td>11.4</td>\n",
       "      <td>76</td>\n",
       "      <td>21.4</td>\n",
       "    </tr>\n",
       "    <tr>\n",
       "      <th>13</th>\n",
       "      <td>11.7</td>\n",
       "      <td>69</td>\n",
       "      <td>21.3</td>\n",
       "    </tr>\n",
       "    <tr>\n",
       "      <th>14</th>\n",
       "      <td>12.0</td>\n",
       "      <td>75</td>\n",
       "      <td>19.1</td>\n",
       "    </tr>\n",
       "    <tr>\n",
       "      <th>15</th>\n",
       "      <td>12.9</td>\n",
       "      <td>74</td>\n",
       "      <td>22.2</td>\n",
       "    </tr>\n",
       "    <tr>\n",
       "      <th>16</th>\n",
       "      <td>12.9</td>\n",
       "      <td>85</td>\n",
       "      <td>33.8</td>\n",
       "    </tr>\n",
       "    <tr>\n",
       "      <th>17</th>\n",
       "      <td>13.3</td>\n",
       "      <td>86</td>\n",
       "      <td>27.4</td>\n",
       "    </tr>\n",
       "    <tr>\n",
       "      <th>18</th>\n",
       "      <td>13.7</td>\n",
       "      <td>71</td>\n",
       "      <td>25.7</td>\n",
       "    </tr>\n",
       "    <tr>\n",
       "      <th>19</th>\n",
       "      <td>13.8</td>\n",
       "      <td>64</td>\n",
       "      <td>24.9</td>\n",
       "    </tr>\n",
       "    <tr>\n",
       "      <th>20</th>\n",
       "      <td>14.0</td>\n",
       "      <td>78</td>\n",
       "      <td>34.5</td>\n",
       "    </tr>\n",
       "    <tr>\n",
       "      <th>21</th>\n",
       "      <td>14.2</td>\n",
       "      <td>80</td>\n",
       "      <td>31.7</td>\n",
       "    </tr>\n",
       "    <tr>\n",
       "      <th>22</th>\n",
       "      <td>14.5</td>\n",
       "      <td>74</td>\n",
       "      <td>36.3</td>\n",
       "    </tr>\n",
       "    <tr>\n",
       "      <th>23</th>\n",
       "      <td>16.0</td>\n",
       "      <td>72</td>\n",
       "      <td>38.3</td>\n",
       "    </tr>\n",
       "    <tr>\n",
       "      <th>24</th>\n",
       "      <td>16.3</td>\n",
       "      <td>77</td>\n",
       "      <td>42.6</td>\n",
       "    </tr>\n",
       "    <tr>\n",
       "      <th>25</th>\n",
       "      <td>17.3</td>\n",
       "      <td>81</td>\n",
       "      <td>55.4</td>\n",
       "    </tr>\n",
       "    <tr>\n",
       "      <th>26</th>\n",
       "      <td>17.5</td>\n",
       "      <td>82</td>\n",
       "      <td>55.7</td>\n",
       "    </tr>\n",
       "    <tr>\n",
       "      <th>27</th>\n",
       "      <td>17.9</td>\n",
       "      <td>80</td>\n",
       "      <td>58.3</td>\n",
       "    </tr>\n",
       "    <tr>\n",
       "      <th>28</th>\n",
       "      <td>18.0</td>\n",
       "      <td>80</td>\n",
       "      <td>51.5</td>\n",
       "    </tr>\n",
       "    <tr>\n",
       "      <th>29</th>\n",
       "      <td>18.0</td>\n",
       "      <td>80</td>\n",
       "      <td>51.0</td>\n",
       "    </tr>\n",
       "    <tr>\n",
       "      <th>30</th>\n",
       "      <td>20.6</td>\n",
       "      <td>87</td>\n",
       "      <td>77.0</td>\n",
       "    </tr>\n",
       "  </tbody>\n",
       "</table>\n",
       "</div>"
      ],
      "text/plain": [
       "    Girth  Height  Volume\n",
       "0     8.3      70    10.3\n",
       "1     8.6      65    10.3\n",
       "2     8.8      63    10.2\n",
       "3    10.5      72    16.4\n",
       "4    10.7      81    18.8\n",
       "5    10.8      83    19.7\n",
       "6    11.0      66    15.6\n",
       "7    11.0      75    18.2\n",
       "8    11.1      80    22.6\n",
       "9    11.2      75    19.9\n",
       "10   11.3      79    24.2\n",
       "11   11.4      76    21.0\n",
       "12   11.4      76    21.4\n",
       "13   11.7      69    21.3\n",
       "14   12.0      75    19.1\n",
       "15   12.9      74    22.2\n",
       "16   12.9      85    33.8\n",
       "17   13.3      86    27.4\n",
       "18   13.7      71    25.7\n",
       "19   13.8      64    24.9\n",
       "20   14.0      78    34.5\n",
       "21   14.2      80    31.7\n",
       "22   14.5      74    36.3\n",
       "23   16.0      72    38.3\n",
       "24   16.3      77    42.6\n",
       "25   17.3      81    55.4\n",
       "26   17.5      82    55.7\n",
       "27   17.9      80    58.3\n",
       "28   18.0      80    51.5\n",
       "29   18.0      80    51.0\n",
       "30   20.6      87    77.0"
      ]
     },
     "execution_count": 3,
     "metadata": {},
     "output_type": "execute_result"
    }
   ],
   "source": [
    "# Carga de datos \n",
    "\n",
    "Arboles = pd.read_csv('./trees_dataset.csv')\n",
    "\n",
    "Arboles"
   ]
  },
  {
   "cell_type": "code",
   "execution_count": 4,
   "id": "ec0cdaad",
   "metadata": {},
   "outputs": [],
   "source": [
    "# División de los Datos en X y Y\n",
    "\n",
    "size_n = Arboles.shape[0]\n",
    "\n",
    "DataX = Arboles[['Girth','Height']].to_numpy()\n",
    "MatrizX = np.concat([np.ones((size_n,1)),DataX],axis=1)\n",
    "\n",
    "RealValuesY = Arboles[['Volume']].to_numpy()"
   ]
  },
  {
   "cell_type": "code",
   "execution_count": 5,
   "id": "a6825fff",
   "metadata": {},
   "outputs": [
    {
     "data": {
      "text/plain": [
       "<seaborn.axisgrid.PairGrid at 0x1d1a078e900>"
      ]
     },
     "execution_count": 5,
     "metadata": {},
     "output_type": "execute_result"
    },
    {
     "data": {
      "image/png": "[encoded data removed]",
      "text/plain": [
       "<Figure size 750x750 with 12 Axes>"
      ]
     },
     "metadata": {},
     "output_type": "display_data"
    }
   ],
   "source": [
    "sns.pairplot(Arboles)"
   ]
  },
  {
   "cell_type": "markdown",
   "id": "b6a4a594",
   "metadata": {},
   "source": [
    "## 2. Modelo de Regresión Lineal"
   ]
  },
  {
   "cell_type": "markdown",
   "id": "62645099",
   "metadata": {},
   "source": [
    "### 2.1. Manual"
   ]
  },
  {
   "cell_type": "markdown",
   "id": "88f8a1a6",
   "metadata": {},
   "source": [
    "Se realiza el procedimiento vistó en clase ([Actividad 2](../Clases/Actividad_02.ipynb)) para estimar los parámetros del modelo $\\beta$."
   ]
  },
  {
   "cell_type": "code",
   "execution_count": 6,
   "id": "a668f678",
   "metadata": {},
   "outputs": [
    {
     "data": {
      "text/plain": [
       "array([[-57.98765892],\n",
       "       [  4.7081605 ],\n",
       "       [  0.33925123]])"
      ]
     },
     "execution_count": 6,
     "metadata": {},
     "output_type": "execute_result"
    }
   ],
   "source": [
    "EstimatorBeta = np.linalg.inv(MatrizX.T@MatrizX) @ MatrizX.T @ RealValuesY\n",
    "\n",
    "EstimatorBeta"
   ]
  },
  {
   "cell_type": "code",
   "execution_count": 7,
   "id": "1b633cbc",
   "metadata": {},
   "outputs": [],
   "source": [
    "EstimateY_Manual = MatrizX@EstimatorBeta"
   ]
  },
  {
   "cell_type": "markdown",
   "id": "6e442645",
   "metadata": {},
   "source": [
    "### 2.2. Modelo"
   ]
  },
  {
   "cell_type": "markdown",
   "id": "ebf1315f",
   "metadata": {},
   "source": [
    "Se hace uso del modelo implementado en Scikit-Learn para Regresión Lineal ([`LinearRegression`](https://scikit-learn.org/stable/modules/generated/sklearn.linear_model.LinearRegression.html))"
   ]
  },
  {
   "cell_type": "code",
   "execution_count": 8,
   "id": "4dd71983",
   "metadata": {},
   "outputs": [],
   "source": [
    "Model = LinearRegression()\n",
    "Model.fit(MatrizX,RealValuesY)\n",
    "\n",
    "EstimateY_Model = Model.predict(MatrizX)"
   ]
  },
  {
   "cell_type": "markdown",
   "id": "0eca74b5",
   "metadata": {},
   "source": [
    "# 3. Observaciones contra Estimaciones"
   ]
  },
  {
   "cell_type": "markdown",
   "id": "3f570ac9",
   "metadata": {},
   "source": [
    "Al momento de que se grafican los valores observados y estimados (predichos) permite evaluar de forma gráfica (visual) qué tan bien se ajusta el modelo para predecir el volumen de los cerezos negros talados.\n",
    "\n",
    "El valor de SSE (`421.9213`) y el $R^2$ score (`0.9479`) permiten medir qué tan bien se ajusta el modelo para predicir los valores y la robustes (confianza de los resultados) de las propias predicciones; aunque los valores indican que la regresión captura la tendencia, se tiene que el SSE es alto debido a que hay árboles, muestras, que se comportan como outliers después de evaluarlos con el modelo."
   ]
  },
  {
   "cell_type": "code",
   "execution_count": 9,
   "id": "c56ddf10",
   "metadata": {},
   "outputs": [
    {
     "data": {
      "image/png": "[encoded data removed]",
      "text/plain": [
       "<Figure size 640x480 with 1 Axes>"
      ]
     },
     "metadata": {},
     "output_type": "display_data"
    }
   ],
   "source": [
    "# Plotting de los valores esperados (obsevados) y estimados\n",
    "\n",
    "fig , axes = plt.subplots()\n",
    "\n",
    "sns.scatterplot(\n",
    "    x=RealValuesY[:,0],\n",
    "    y=EstimateY_Manual[:,0],\n",
    "    ax=axes,\n",
    ")\n",
    "\n",
    "IdentityValues = np.linspace(min(RealValuesY),max(RealValuesY))\n",
    "sns.lineplot(\n",
    "    x=IdentityValues[:,0],\n",
    "    y=IdentityValues[:,0],\n",
    "    color='gray',\n",
    "    linestyle=':',\n",
    ")\n",
    "\n",
    "axes.set_xlabel('Valores Observados')\n",
    "axes.set_ylabel('Valores Estimados');"
   ]
  },
  {
   "cell_type": "code",
   "execution_count": 10,
   "id": "16739f8f",
   "metadata": {},
   "outputs": [
    {
     "data": {
      "text/plain": [
       "np.float64(421.9213592224696)"
      ]
     },
     "execution_count": 10,
     "metadata": {},
     "output_type": "execute_result"
    }
   ],
   "source": [
    "# Calculo de SSE\n",
    "\n",
    "SSE = (RealValuesY.T@RealValuesY - 2*EstimateY_Manual.T@RealValuesY + EstimateY_Manual.T@EstimateY_Manual)[0,0]\n",
    "\n",
    "SSE"
   ]
  },
  {
   "cell_type": "code",
   "execution_count": 11,
   "id": "12af87a2",
   "metadata": {},
   "outputs": [
    {
     "data": {
      "text/plain": [
       "np.float64(15.068619972231058)"
      ]
     },
     "execution_count": 11,
     "metadata": {},
     "output_type": "execute_result"
    }
   ],
   "source": [
    "# Estimación de varianza\n",
    "\n",
    "EstimateSquareSigma = SSE / (size_n - EstimatorBeta.shape[0])\n",
    "\n",
    "EstimateSquareSigma"
   ]
  },
  {
   "cell_type": "code",
   "execution_count": 12,
   "id": "58505e55",
   "metadata": {},
   "outputs": [
    {
     "data": {
      "text/plain": [
       "0.9479500377816745"
      ]
     },
     "execution_count": 12,
     "metadata": {},
     "output_type": "execute_result"
    }
   ],
   "source": [
    "# R^2 Score de los datos\n",
    "\n",
    "Model.score(MatrizX,RealValuesY)"
   ]
  }
 ],
 "metadata": {
  "kernelspec": {
   "display_name": "data_science",
   "language": "python",
   "name": "python3"
  },
  "language_info": {
   "codemirror_mode": {
    "name": "ipython",
    "version": 3
   },
   "file_extension": ".py",
   "mimetype": "text/x-python",
   "name": "python",
   "nbconvert_exporter": "python",
   "pygments_lexer": "ipython3",
   "version": "3.13.3"
  }
 },
 "nbformat": 4,
 "nbformat_minor": 5
}

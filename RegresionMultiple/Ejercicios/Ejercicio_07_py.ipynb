{
 "cells": [
  {
   "cell_type": "markdown",
   "id": "72d73f8d",
   "metadata": {
    "vscode": {
     "languageId": "r"
    }
   },
   "source": [
    "## 2.8.1 Ejercicios\n",
    "**Ejercicio 2**  Para el dataset de marketing, realice las pruebas de hipótesis utilizando la tabla de ANOVA sobre: \n",
    "1) Uno de los parámetros, justificar cual. \n",
    "2) Todos los parámetros. \n",
    "3) Un subconjunto de parámetros, justificar cual. Usar la tabla de ANOVA para calcular el estadístico  $F_0$ y encontrar el p-valor asociado usando pf(F_0, df1, df2, lower.tail = FALSE). \n",
    " \n",
    "Justifique su respuesta y suba su código en Python a github."
   ]
  },
  {
   "cell_type": "markdown",
   "id": "ff763e98",
   "metadata": {},
   "source": [
    "## 0. Importar"
   ]
  },
  {
   "cell_type": "code",
   "execution_count": 90,
   "id": "5f3c2bd3",
   "metadata": {},
   "outputs": [],
   "source": [
    "import pandas as pd\n",
    "\n",
    "import numpy as np\n",
    "from scipy import stats\n",
    "\n",
    "import statsmodels.api as sm\n",
    "import statsmodels.formula.api as smf\n",
    "from statsmodels.stats.anova import anova_lm\n",
    "\n",
    "from itertools import combinations"
   ]
  },
  {
   "cell_type": "code",
   "execution_count": 2,
   "id": "31420d9d",
   "metadata": {},
   "outputs": [
    {
     "data": {
      "text/html": [
       "<div>\n",
       "<style scoped>\n",
       "    .dataframe tbody tr th:only-of-type {\n",
       "        vertical-align: middle;\n",
       "    }\n",
       "\n",
       "    .dataframe tbody tr th {\n",
       "        vertical-align: top;\n",
       "    }\n",
       "\n",
       "    .dataframe thead th {\n",
       "        text-align: right;\n",
       "    }\n",
       "</style>\n",
       "<table border=\"1\" class=\"dataframe\">\n",
       "  <thead>\n",
       "    <tr style=\"text-align: right;\">\n",
       "      <th></th>\n",
       "      <th>youtube</th>\n",
       "      <th>facebook</th>\n",
       "      <th>newspaper</th>\n",
       "      <th>sales</th>\n",
       "    </tr>\n",
       "  </thead>\n",
       "  <tbody>\n",
       "    <tr>\n",
       "      <th>0</th>\n",
       "      <td>276.12</td>\n",
       "      <td>45.36</td>\n",
       "      <td>83.04</td>\n",
       "      <td>26.52</td>\n",
       "    </tr>\n",
       "    <tr>\n",
       "      <th>1</th>\n",
       "      <td>53.40</td>\n",
       "      <td>47.16</td>\n",
       "      <td>54.12</td>\n",
       "      <td>12.48</td>\n",
       "    </tr>\n",
       "    <tr>\n",
       "      <th>2</th>\n",
       "      <td>20.64</td>\n",
       "      <td>55.08</td>\n",
       "      <td>83.16</td>\n",
       "      <td>11.16</td>\n",
       "    </tr>\n",
       "    <tr>\n",
       "      <th>3</th>\n",
       "      <td>181.80</td>\n",
       "      <td>49.56</td>\n",
       "      <td>70.20</td>\n",
       "      <td>22.20</td>\n",
       "    </tr>\n",
       "    <tr>\n",
       "      <th>4</th>\n",
       "      <td>216.96</td>\n",
       "      <td>12.96</td>\n",
       "      <td>70.08</td>\n",
       "      <td>15.48</td>\n",
       "    </tr>\n",
       "  </tbody>\n",
       "</table>\n",
       "</div>"
      ],
      "text/plain": [
       "   youtube  facebook  newspaper  sales\n",
       "0   276.12     45.36      83.04  26.52\n",
       "1    53.40     47.16      54.12  12.48\n",
       "2    20.64     55.08      83.16  11.16\n",
       "3   181.80     49.56      70.20  22.20\n",
       "4   216.96     12.96      70.08  15.48"
      ]
     },
     "execution_count": 2,
     "metadata": {},
     "output_type": "execute_result"
    }
   ],
   "source": [
    "DatasetMarketing = pd.read_csv('./marketing_dataset.csv')\n",
    "\n",
    "DatasetMarketing.head()"
   ]
  },
  {
   "cell_type": "markdown",
   "id": "d869e9e0",
   "metadata": {},
   "source": [
    "## 1. Modelo Simple"
   ]
  },
  {
   "cell_type": "markdown",
   "id": "c3f4521e",
   "metadata": {},
   "source": [
    "Al realizar un comparativa (prueba F) entre el modelo nulo (solamente con la intercepción) respecto a cada uno de los posibles modelos simples, se tiene que el mejor modelo simple es el que emplea `youtube`. Además, del propio summary, tiene coeficientes significativos y relevantes para el modelo,"
   ]
  },
  {
   "cell_type": "code",
   "execution_count": 79,
   "id": "da2a1405",
   "metadata": {},
   "outputs": [],
   "source": [
    "def CompareLinearModels(\n",
    "        TableAnova_1,\n",
    "        TableAnova_2,\n",
    "    ):\n",
    "    SCE_1 = TableAnova_1.iloc[-1,1]\n",
    "    Df_1 = TableAnova_1.iloc[-1,0]\n",
    "\n",
    "    SCE_2 = TableAnova_2.iloc[-1,1]\n",
    "    Df_2 = TableAnova_2.iloc[-1,0]\n",
    "\n",
    "    F0 = ((SCE_1-SCE_2)/(Df_1-Df_2))/(SCE_2/Df_2)\n",
    "    return F0 , stats.f.sf(F0,Df_1-Df_2,Df_2)"
   ]
  },
  {
   "cell_type": "code",
   "execution_count": 3,
   "id": "3be65e16",
   "metadata": {},
   "outputs": [],
   "source": [
    "*FeaturesLabels , TargetLabel = DatasetMarketing.columns"
   ]
  },
  {
   "cell_type": "code",
   "execution_count": 14,
   "id": "3baad57e",
   "metadata": {},
   "outputs": [],
   "source": [
    "LinearModel_Nulo = smf.ols(f\"{TargetLabel} ~ 1\",DatasetMarketing).fit()\n",
    "TableAnova_Nulo = anova_lm(LinearModel_Nulo)"
   ]
  },
  {
   "cell_type": "code",
   "execution_count": 89,
   "id": "3136cb20",
   "metadata": {},
   "outputs": [
    {
     "name": "stdout",
     "output_type": "stream",
     "text": [
      "youtube F_0 :: 312.14499437 p-valor :: 1.4673897001945903e-42\n",
      "facebook F_0 :: 98.42158757 p-valor :: 4.354966001766402e-19\n",
      "newspaper F_0 :: 10.88729908 p-valor :: 0.0011481958688881629\n"
     ]
    }
   ],
   "source": [
    "for _feature in FeaturesLabels:\n",
    "    _linear_model = smf.ols(f\"{TargetLabel} ~ {_feature}\",DatasetMarketing).fit()\n",
    "    _table_anova = anova_lm(_linear_model)\n",
    "\n",
    "    _F0_feature , _p_F_feature = CompareLinearModels(TableAnova_Nulo,_table_anova)\n",
    "    print(f\"{_feature} F_0 :: {_F0_feature:.8f} p-valor :: {_p_F_feature}\")"
   ]
  },
  {
   "cell_type": "code",
   "execution_count": 56,
   "id": "cbba5e86",
   "metadata": {},
   "outputs": [
    {
     "data": {
      "text/html": [
       "<table class=\"simpletable\">\n",
       "<caption>OLS Regression Results</caption>\n",
       "<tr>\n",
       "  <th>Dep. Variable:</th>          <td>sales</td>      <th>  R-squared:         </th> <td>   0.612</td>\n",
       "</tr>\n",
       "<tr>\n",
       "  <th>Model:</th>                   <td>OLS</td>       <th>  Adj. R-squared:    </th> <td>   0.610</td>\n",
       "</tr>\n",
       "<tr>\n",
       "  <th>Method:</th>             <td>Least Squares</td>  <th>  F-statistic:       </th> <td>   312.1</td>\n",
       "</tr>\n",
       "<tr>\n",
       "  <th>Date:</th>             <td>Mon, 01 Sep 2025</td> <th>  Prob (F-statistic):</th> <td>1.47e-42</td>\n",
       "</tr>\n",
       "<tr>\n",
       "  <th>Time:</th>                 <td>17:13:16</td>     <th>  Log-Likelihood:    </th> <td> -555.51</td>\n",
       "</tr>\n",
       "<tr>\n",
       "  <th>No. Observations:</th>      <td>   200</td>      <th>  AIC:               </th> <td>   1115.</td>\n",
       "</tr>\n",
       "<tr>\n",
       "  <th>Df Residuals:</th>          <td>   198</td>      <th>  BIC:               </th> <td>   1122.</td>\n",
       "</tr>\n",
       "<tr>\n",
       "  <th>Df Model:</th>              <td>     1</td>      <th>                     </th>     <td> </td>   \n",
       "</tr>\n",
       "<tr>\n",
       "  <th>Covariance Type:</th>      <td>nonrobust</td>    <th>                     </th>     <td> </td>   \n",
       "</tr>\n",
       "</table>\n",
       "<table class=\"simpletable\">\n",
       "<tr>\n",
       "      <td></td>         <th>coef</th>     <th>std err</th>      <th>t</th>      <th>P>|t|</th>  <th>[0.025</th>    <th>0.975]</th>  \n",
       "</tr>\n",
       "<tr>\n",
       "  <th>Intercept</th> <td>    8.4391</td> <td>    0.549</td> <td>   15.360</td> <td> 0.000</td> <td>    7.356</td> <td>    9.523</td>\n",
       "</tr>\n",
       "<tr>\n",
       "  <th>youtube</th>   <td>    0.0475</td> <td>    0.003</td> <td>   17.668</td> <td> 0.000</td> <td>    0.042</td> <td>    0.053</td>\n",
       "</tr>\n",
       "</table>\n",
       "<table class=\"simpletable\">\n",
       "<tr>\n",
       "  <th>Omnibus:</th>       <td> 0.531</td> <th>  Durbin-Watson:     </th> <td>   1.935</td>\n",
       "</tr>\n",
       "<tr>\n",
       "  <th>Prob(Omnibus):</th> <td> 0.767</td> <th>  Jarque-Bera (JB):  </th> <td>   0.669</td>\n",
       "</tr>\n",
       "<tr>\n",
       "  <th>Skew:</th>          <td>-0.089</td> <th>  Prob(JB):          </th> <td>   0.716</td>\n",
       "</tr>\n",
       "<tr>\n",
       "  <th>Kurtosis:</th>      <td> 2.779</td> <th>  Cond. No.          </th> <td>    406.</td>\n",
       "</tr>\n",
       "</table><br/><br/>Notes:<br/>[1] Standard Errors assume that the covariance matrix of the errors is correctly specified."
      ],
      "text/latex": [
       "\\begin{center}\n",
       "\\begin{tabular}{lclc}\n",
       "\\toprule\n",
       "\\textbf{Dep. Variable:}    &      sales       & \\textbf{  R-squared:         } &     0.612   \\\\\n",
       "\\textbf{Model:}            &       OLS        & \\textbf{  Adj. R-squared:    } &     0.610   \\\\\n",
       "\\textbf{Method:}           &  Least Squares   & \\textbf{  F-statistic:       } &     312.1   \\\\\n",
       "\\textbf{Date:}             & Mon, 01 Sep 2025 & \\textbf{  Prob (F-statistic):} &  1.47e-42   \\\\\n",
       "\\textbf{Time:}             &     17:13:16     & \\textbf{  Log-Likelihood:    } &   -555.51   \\\\\n",
       "\\textbf{No. Observations:} &         200      & \\textbf{  AIC:               } &     1115.   \\\\\n",
       "\\textbf{Df Residuals:}     &         198      & \\textbf{  BIC:               } &     1122.   \\\\\n",
       "\\textbf{Df Model:}         &           1      & \\textbf{                     } &             \\\\\n",
       "\\textbf{Covariance Type:}  &    nonrobust     & \\textbf{                     } &             \\\\\n",
       "\\bottomrule\n",
       "\\end{tabular}\n",
       "\\begin{tabular}{lcccccc}\n",
       "                   & \\textbf{coef} & \\textbf{std err} & \\textbf{t} & \\textbf{P$> |$t$|$} & \\textbf{[0.025} & \\textbf{0.975]}  \\\\\n",
       "\\midrule\n",
       "\\textbf{Intercept} &       8.4391  &        0.549     &    15.360  &         0.000        &        7.356    &        9.523     \\\\\n",
       "\\textbf{youtube}   &       0.0475  &        0.003     &    17.668  &         0.000        &        0.042    &        0.053     \\\\\n",
       "\\bottomrule\n",
       "\\end{tabular}\n",
       "\\begin{tabular}{lclc}\n",
       "\\textbf{Omnibus:}       &  0.531 & \\textbf{  Durbin-Watson:     } &    1.935  \\\\\n",
       "\\textbf{Prob(Omnibus):} &  0.767 & \\textbf{  Jarque-Bera (JB):  } &    0.669  \\\\\n",
       "\\textbf{Skew:}          & -0.089 & \\textbf{  Prob(JB):          } &    0.716  \\\\\n",
       "\\textbf{Kurtosis:}      &  2.779 & \\textbf{  Cond. No.          } &     406.  \\\\\n",
       "\\bottomrule\n",
       "\\end{tabular}\n",
       "%\\caption{OLS Regression Results}\n",
       "\\end{center}\n",
       "\n",
       "Notes: \\newline\n",
       " [1] Standard Errors assume that the covariance matrix of the errors is correctly specified."
      ],
      "text/plain": [
       "<class 'statsmodels.iolib.summary.Summary'>\n",
       "\"\"\"\n",
       "                            OLS Regression Results                            \n",
       "==============================================================================\n",
       "Dep. Variable:                  sales   R-squared:                       0.612\n",
       "Model:                            OLS   Adj. R-squared:                  0.610\n",
       "Method:                 Least Squares   F-statistic:                     312.1\n",
       "Date:                Mon, 01 Sep 2025   Prob (F-statistic):           1.47e-42\n",
       "Time:                        17:13:16   Log-Likelihood:                -555.51\n",
       "No. Observations:                 200   AIC:                             1115.\n",
       "Df Residuals:                     198   BIC:                             1122.\n",
       "Df Model:                           1                                         \n",
       "Covariance Type:            nonrobust                                         \n",
       "==============================================================================\n",
       "                 coef    std err          t      P>|t|      [0.025      0.975]\n",
       "------------------------------------------------------------------------------\n",
       "Intercept      8.4391      0.549     15.360      0.000       7.356       9.523\n",
       "youtube        0.0475      0.003     17.668      0.000       0.042       0.053\n",
       "==============================================================================\n",
       "Omnibus:                        0.531   Durbin-Watson:                   1.935\n",
       "Prob(Omnibus):                  0.767   Jarque-Bera (JB):                0.669\n",
       "Skew:                          -0.089   Prob(JB):                        0.716\n",
       "Kurtosis:                       2.779   Cond. No.                         406.\n",
       "==============================================================================\n",
       "\n",
       "Notes:\n",
       "[1] Standard Errors assume that the covariance matrix of the errors is correctly specified.\n",
       "\"\"\""
      ]
     },
     "execution_count": 56,
     "metadata": {},
     "output_type": "execute_result"
    }
   ],
   "source": [
    "LinearModel_Simple = smf.ols(f\"{TargetLabel} ~ youtube \",DatasetMarketing).fit()\n",
    "LinearModel_Simple.summary()"
   ]
  },
  {
   "cell_type": "code",
   "execution_count": 58,
   "id": "a76195ef",
   "metadata": {},
   "outputs": [
    {
     "data": {
      "text/html": [
       "<div>\n",
       "<style scoped>\n",
       "    .dataframe tbody tr th:only-of-type {\n",
       "        vertical-align: middle;\n",
       "    }\n",
       "\n",
       "    .dataframe tbody tr th {\n",
       "        vertical-align: top;\n",
       "    }\n",
       "\n",
       "    .dataframe thead th {\n",
       "        text-align: right;\n",
       "    }\n",
       "</style>\n",
       "<table border=\"1\" class=\"dataframe\">\n",
       "  <thead>\n",
       "    <tr style=\"text-align: right;\">\n",
       "      <th></th>\n",
       "      <th>df</th>\n",
       "      <th>sum_sq</th>\n",
       "      <th>mean_sq</th>\n",
       "      <th>F</th>\n",
       "      <th>PR(&gt;F)</th>\n",
       "    </tr>\n",
       "  </thead>\n",
       "  <tbody>\n",
       "    <tr>\n",
       "      <th>youtube</th>\n",
       "      <td>1.0</td>\n",
       "      <td>4773.05016</td>\n",
       "      <td>4773.050160</td>\n",
       "      <td>312.144994</td>\n",
       "      <td>1.467390e-42</td>\n",
       "    </tr>\n",
       "    <tr>\n",
       "      <th>Residual</th>\n",
       "      <td>198.0</td>\n",
       "      <td>3027.64404</td>\n",
       "      <td>15.291132</td>\n",
       "      <td>NaN</td>\n",
       "      <td>NaN</td>\n",
       "    </tr>\n",
       "  </tbody>\n",
       "</table>\n",
       "</div>"
      ],
      "text/plain": [
       "             df      sum_sq      mean_sq           F        PR(>F)\n",
       "youtube     1.0  4773.05016  4773.050160  312.144994  1.467390e-42\n",
       "Residual  198.0  3027.64404    15.291132         NaN           NaN"
      ]
     },
     "execution_count": 58,
     "metadata": {},
     "output_type": "execute_result"
    }
   ],
   "source": [
    "TableAnova_Simple = anova_lm(LinearModel_Simple)\n",
    "TableAnova_Simple"
   ]
  },
  {
   "cell_type": "markdown",
   "id": "844d9673",
   "metadata": {},
   "source": [
    "## 2. Modelo Completo"
   ]
  },
  {
   "cell_type": "markdown",
   "id": "327bf715",
   "metadata": {},
   "source": [
    "Al comparar el mejor modelo simple respecto al modelo completo, se tiene que existe una mejora significativa (valor alto en el estadístico F) al considerar todas las variables al momento de predecir `sales` además de un incremento en la métrica $R^2_{adj}$, solo teniendo a la variable `newspaper` como una variable que no aporta de manera significativa al modelo, es decir, se podría eliminar y no se perdería información para mejorar las predicciones del modelo."
   ]
  },
  {
   "cell_type": "code",
   "execution_count": 59,
   "id": "95c13282",
   "metadata": {},
   "outputs": [
    {
     "data": {
      "text/html": [
       "<table class=\"simpletable\">\n",
       "<caption>OLS Regression Results</caption>\n",
       "<tr>\n",
       "  <th>Dep. Variable:</th>          <td>sales</td>      <th>  R-squared:         </th> <td>   0.897</td>\n",
       "</tr>\n",
       "<tr>\n",
       "  <th>Model:</th>                   <td>OLS</td>       <th>  Adj. R-squared:    </th> <td>   0.896</td>\n",
       "</tr>\n",
       "<tr>\n",
       "  <th>Method:</th>             <td>Least Squares</td>  <th>  F-statistic:       </th> <td>   570.3</td>\n",
       "</tr>\n",
       "<tr>\n",
       "  <th>Date:</th>             <td>Mon, 01 Sep 2025</td> <th>  Prob (F-statistic):</th> <td>1.58e-96</td>\n",
       "</tr>\n",
       "<tr>\n",
       "  <th>Time:</th>                 <td>17:19:03</td>     <th>  Log-Likelihood:    </th> <td> -422.65</td>\n",
       "</tr>\n",
       "<tr>\n",
       "  <th>No. Observations:</th>      <td>   200</td>      <th>  AIC:               </th> <td>   853.3</td>\n",
       "</tr>\n",
       "<tr>\n",
       "  <th>Df Residuals:</th>          <td>   196</td>      <th>  BIC:               </th> <td>   866.5</td>\n",
       "</tr>\n",
       "<tr>\n",
       "  <th>Df Model:</th>              <td>     3</td>      <th>                     </th>     <td> </td>   \n",
       "</tr>\n",
       "<tr>\n",
       "  <th>Covariance Type:</th>      <td>nonrobust</td>    <th>                     </th>     <td> </td>   \n",
       "</tr>\n",
       "</table>\n",
       "<table class=\"simpletable\">\n",
       "<tr>\n",
       "      <td></td>         <th>coef</th>     <th>std err</th>      <th>t</th>      <th>P>|t|</th>  <th>[0.025</th>    <th>0.975]</th>  \n",
       "</tr>\n",
       "<tr>\n",
       "  <th>Intercept</th> <td>    3.5267</td> <td>    0.374</td> <td>    9.422</td> <td> 0.000</td> <td>    2.789</td> <td>    4.265</td>\n",
       "</tr>\n",
       "<tr>\n",
       "  <th>youtube</th>   <td>    0.0458</td> <td>    0.001</td> <td>   32.809</td> <td> 0.000</td> <td>    0.043</td> <td>    0.049</td>\n",
       "</tr>\n",
       "<tr>\n",
       "  <th>facebook</th>  <td>    0.1885</td> <td>    0.009</td> <td>   21.893</td> <td> 0.000</td> <td>    0.172</td> <td>    0.206</td>\n",
       "</tr>\n",
       "<tr>\n",
       "  <th>newspaper</th> <td>   -0.0010</td> <td>    0.006</td> <td>   -0.177</td> <td> 0.860</td> <td>   -0.013</td> <td>    0.011</td>\n",
       "</tr>\n",
       "</table>\n",
       "<table class=\"simpletable\">\n",
       "<tr>\n",
       "  <th>Omnibus:</th>       <td>60.414</td> <th>  Durbin-Watson:     </th> <td>   2.084</td>\n",
       "</tr>\n",
       "<tr>\n",
       "  <th>Prob(Omnibus):</th> <td> 0.000</td> <th>  Jarque-Bera (JB):  </th> <td> 151.241</td>\n",
       "</tr>\n",
       "<tr>\n",
       "  <th>Skew:</th>          <td>-1.327</td> <th>  Prob(JB):          </th> <td>1.44e-33</td>\n",
       "</tr>\n",
       "<tr>\n",
       "  <th>Kurtosis:</th>      <td> 6.332</td> <th>  Cond. No.          </th> <td>    545.</td>\n",
       "</tr>\n",
       "</table><br/><br/>Notes:<br/>[1] Standard Errors assume that the covariance matrix of the errors is correctly specified."
      ],
      "text/latex": [
       "\\begin{center}\n",
       "\\begin{tabular}{lclc}\n",
       "\\toprule\n",
       "\\textbf{Dep. Variable:}    &      sales       & \\textbf{  R-squared:         } &     0.897   \\\\\n",
       "\\textbf{Model:}            &       OLS        & \\textbf{  Adj. R-squared:    } &     0.896   \\\\\n",
       "\\textbf{Method:}           &  Least Squares   & \\textbf{  F-statistic:       } &     570.3   \\\\\n",
       "\\textbf{Date:}             & Mon, 01 Sep 2025 & \\textbf{  Prob (F-statistic):} &  1.58e-96   \\\\\n",
       "\\textbf{Time:}             &     17:19:03     & \\textbf{  Log-Likelihood:    } &   -422.65   \\\\\n",
       "\\textbf{No. Observations:} &         200      & \\textbf{  AIC:               } &     853.3   \\\\\n",
       "\\textbf{Df Residuals:}     &         196      & \\textbf{  BIC:               } &     866.5   \\\\\n",
       "\\textbf{Df Model:}         &           3      & \\textbf{                     } &             \\\\\n",
       "\\textbf{Covariance Type:}  &    nonrobust     & \\textbf{                     } &             \\\\\n",
       "\\bottomrule\n",
       "\\end{tabular}\n",
       "\\begin{tabular}{lcccccc}\n",
       "                   & \\textbf{coef} & \\textbf{std err} & \\textbf{t} & \\textbf{P$> |$t$|$} & \\textbf{[0.025} & \\textbf{0.975]}  \\\\\n",
       "\\midrule\n",
       "\\textbf{Intercept} &       3.5267  &        0.374     &     9.422  &         0.000        &        2.789    &        4.265     \\\\\n",
       "\\textbf{youtube}   &       0.0458  &        0.001     &    32.809  &         0.000        &        0.043    &        0.049     \\\\\n",
       "\\textbf{facebook}  &       0.1885  &        0.009     &    21.893  &         0.000        &        0.172    &        0.206     \\\\\n",
       "\\textbf{newspaper} &      -0.0010  &        0.006     &    -0.177  &         0.860        &       -0.013    &        0.011     \\\\\n",
       "\\bottomrule\n",
       "\\end{tabular}\n",
       "\\begin{tabular}{lclc}\n",
       "\\textbf{Omnibus:}       & 60.414 & \\textbf{  Durbin-Watson:     } &    2.084  \\\\\n",
       "\\textbf{Prob(Omnibus):} &  0.000 & \\textbf{  Jarque-Bera (JB):  } &  151.241  \\\\\n",
       "\\textbf{Skew:}          & -1.327 & \\textbf{  Prob(JB):          } & 1.44e-33  \\\\\n",
       "\\textbf{Kurtosis:}      &  6.332 & \\textbf{  Cond. No.          } &     545.  \\\\\n",
       "\\bottomrule\n",
       "\\end{tabular}\n",
       "%\\caption{OLS Regression Results}\n",
       "\\end{center}\n",
       "\n",
       "Notes: \\newline\n",
       " [1] Standard Errors assume that the covariance matrix of the errors is correctly specified."
      ],
      "text/plain": [
       "<class 'statsmodels.iolib.summary.Summary'>\n",
       "\"\"\"\n",
       "                            OLS Regression Results                            \n",
       "==============================================================================\n",
       "Dep. Variable:                  sales   R-squared:                       0.897\n",
       "Model:                            OLS   Adj. R-squared:                  0.896\n",
       "Method:                 Least Squares   F-statistic:                     570.3\n",
       "Date:                Mon, 01 Sep 2025   Prob (F-statistic):           1.58e-96\n",
       "Time:                        17:19:03   Log-Likelihood:                -422.65\n",
       "No. Observations:                 200   AIC:                             853.3\n",
       "Df Residuals:                     196   BIC:                             866.5\n",
       "Df Model:                           3                                         \n",
       "Covariance Type:            nonrobust                                         \n",
       "==============================================================================\n",
       "                 coef    std err          t      P>|t|      [0.025      0.975]\n",
       "------------------------------------------------------------------------------\n",
       "Intercept      3.5267      0.374      9.422      0.000       2.789       4.265\n",
       "youtube        0.0458      0.001     32.809      0.000       0.043       0.049\n",
       "facebook       0.1885      0.009     21.893      0.000       0.172       0.206\n",
       "newspaper     -0.0010      0.006     -0.177      0.860      -0.013       0.011\n",
       "==============================================================================\n",
       "Omnibus:                       60.414   Durbin-Watson:                   2.084\n",
       "Prob(Omnibus):                  0.000   Jarque-Bera (JB):              151.241\n",
       "Skew:                          -1.327   Prob(JB):                     1.44e-33\n",
       "Kurtosis:                       6.332   Cond. No.                         545.\n",
       "==============================================================================\n",
       "\n",
       "Notes:\n",
       "[1] Standard Errors assume that the covariance matrix of the errors is correctly specified.\n",
       "\"\"\""
      ]
     },
     "execution_count": 59,
     "metadata": {},
     "output_type": "execute_result"
    }
   ],
   "source": [
    "LinearModel_Completo = smf.ols(\n",
    "    f\"{TargetLabel} ~ \" + ' + '.join(FeaturesLabels),\n",
    "    data = DatasetMarketing,\n",
    ").fit()\n",
    "\n",
    "LinearModel_Completo.summary()"
   ]
  },
  {
   "cell_type": "code",
   "execution_count": 65,
   "id": "49eda032",
   "metadata": {},
   "outputs": [
    {
     "data": {
      "text/html": [
       "<div>\n",
       "<style scoped>\n",
       "    .dataframe tbody tr th:only-of-type {\n",
       "        vertical-align: middle;\n",
       "    }\n",
       "\n",
       "    .dataframe tbody tr th {\n",
       "        vertical-align: top;\n",
       "    }\n",
       "\n",
       "    .dataframe thead th {\n",
       "        text-align: right;\n",
       "    }\n",
       "</style>\n",
       "<table border=\"1\" class=\"dataframe\">\n",
       "  <thead>\n",
       "    <tr style=\"text-align: right;\">\n",
       "      <th></th>\n",
       "      <th>df</th>\n",
       "      <th>sum_sq</th>\n",
       "      <th>mean_sq</th>\n",
       "      <th>F</th>\n",
       "      <th>PR(&gt;F)</th>\n",
       "    </tr>\n",
       "  </thead>\n",
       "  <tbody>\n",
       "    <tr>\n",
       "      <th>youtube</th>\n",
       "      <td>1.0</td>\n",
       "      <td>4773.050160</td>\n",
       "      <td>4773.050160</td>\n",
       "      <td>1166.730757</td>\n",
       "      <td>1.809337e-84</td>\n",
       "    </tr>\n",
       "    <tr>\n",
       "      <th>facebook</th>\n",
       "      <td>1.0</td>\n",
       "      <td>2225.687908</td>\n",
       "      <td>2225.687908</td>\n",
       "      <td>544.050126</td>\n",
       "      <td>1.882722e-58</td>\n",
       "    </tr>\n",
       "    <tr>\n",
       "      <th>newspaper</th>\n",
       "      <td>1.0</td>\n",
       "      <td>0.127753</td>\n",
       "      <td>0.127753</td>\n",
       "      <td>0.031228</td>\n",
       "      <td>8.599151e-01</td>\n",
       "    </tr>\n",
       "    <tr>\n",
       "      <th>Residual</th>\n",
       "      <td>196.0</td>\n",
       "      <td>801.828379</td>\n",
       "      <td>4.090961</td>\n",
       "      <td>NaN</td>\n",
       "      <td>NaN</td>\n",
       "    </tr>\n",
       "  </tbody>\n",
       "</table>\n",
       "</div>"
      ],
      "text/plain": [
       "              df       sum_sq      mean_sq            F        PR(>F)\n",
       "youtube      1.0  4773.050160  4773.050160  1166.730757  1.809337e-84\n",
       "facebook     1.0  2225.687908  2225.687908   544.050126  1.882722e-58\n",
       "newspaper    1.0     0.127753     0.127753     0.031228  8.599151e-01\n",
       "Residual   196.0   801.828379     4.090961          NaN           NaN"
      ]
     },
     "execution_count": 65,
     "metadata": {},
     "output_type": "execute_result"
    }
   ],
   "source": [
    "TableANova_Completo = anova_lm(LinearModel_Completo)\n",
    "TableANova_Completo"
   ]
  },
  {
   "cell_type": "code",
   "execution_count": 88,
   "id": "47349045",
   "metadata": {},
   "outputs": [
    {
     "name": "stdout",
     "output_type": "stream",
     "text": [
      "newspaper F_0 :: 570.27070366 p-valor :: 1.5752272560924532e-96\n"
     ]
    }
   ],
   "source": [
    "_F0_Completo , _p_F_Completo = CompareLinearModels(TableAnova_Nulo,TableANova_Completo)\n",
    "print(f\"{_feature} F_0 :: {_F0_Completo:.8f} p-valor :: {_p_F_Completo}\")"
   ]
  },
  {
   "cell_type": "code",
   "execution_count": null,
   "id": "6a694821",
   "metadata": {},
   "outputs": [
    {
     "name": "stdout",
     "output_type": "stream",
     "text": [
      "Newspaper en Completo F_0 :: 1.0049680613071632 p-valor :: 0.4861500091399172\n"
     ]
    }
   ],
   "source": [
    "SCE_Completo = TableANova_Completo.iloc[-1,1]\n",
    "Df_Completo = TableANova_Completo.iloc[-1,0]\n",
    "SCE_newspaper = TableANova_Completo.iloc[2,1]\n",
    "Df_newspaper = TableANova_Completo.iloc[2,0]\n",
    "\n",
    "_F0_Completo_Newspaper = ((SCE_Completo-SCE_newspaper)/(Df_Completo-Df_newspaper))/(SCE_Completo/Df_Completo)\n",
    "_p_F_Completo_Newspaper = stats.f.sf(_F0_Completo_Newspaper,Df_Completo-Df_newspaper,Df_Completo)\n",
    "print(f\"Newspaper en Completo F_0 :: {_F0_Completo_Newspaper} p-valor :: {_p_F_Completo_Newspaper}\")"
   ]
  },
  {
   "cell_type": "markdown",
   "id": "dfcbce6c",
   "metadata": {},
   "source": [
    "## 3. Modelo Mejor Subconjunto"
   ]
  },
  {
   "cell_type": "markdown",
   "id": "5354ab9e",
   "metadata": {},
   "source": [
    "El mejor subconjunto para un modelo es el originado por usar las variables `youtube` y `facebook` en el que no existe perdida de información significativa respecto al anterior mejor modelo (modelo completo) y además sus métricas $R^2_{adj}$ tienen valores iguales, y todas los coeficientes (variables) son significativas para el modelo junto con que su regresión es significativa."
   ]
  },
  {
   "cell_type": "code",
   "execution_count": 95,
   "id": "a32fc6aa",
   "metadata": {},
   "outputs": [
    {
     "name": "stdout",
     "output_type": "stream",
     "text": [
      "('youtube', 'facebook') F_0 :: 0.03122805 p-valor :: 0.8599150500805359 r^2 score 0.8961505479974428\n",
      "('youtube', 'newspaper') F_0 :: 479.32516964 p-valor :: 1.5053389205756397e-54 r^2 score 0.6422399150864775\n",
      "('facebook', 'newspaper') F_0 :: 1076.40583684 p-valor :: 1.5099599548144894e-81 r^2 score 0.32593061728991957\n"
     ]
    }
   ],
   "source": [
    "for _features_set in combinations(FeaturesLabels,2):\n",
    "    _linear_model = smf.ols(\n",
    "        f\"{TargetLabel} ~ \" + ' + '.join(_features_set),\n",
    "        DatasetMarketing,).fit()\n",
    "    _table_anova = anova_lm(_linear_model)\n",
    "    \n",
    "\n",
    "    _F0_feature , _p_F_feature = CompareLinearModels(_table_anova,TableANova_Completo)\n",
    "    print(f\"{_features_set} F_0 :: {_F0_feature:.8f} p-valor :: {_p_F_feature} r^2 score {_linear_model.rsquared_adj}\")"
   ]
  },
  {
   "cell_type": "code",
   "execution_count": 96,
   "id": "39eb46b2",
   "metadata": {},
   "outputs": [
    {
     "data": {
      "text/html": [
       "<table class=\"simpletable\">\n",
       "<caption>OLS Regression Results</caption>\n",
       "<tr>\n",
       "  <th>Dep. Variable:</th>          <td>sales</td>      <th>  R-squared:         </th> <td>   0.897</td>\n",
       "</tr>\n",
       "<tr>\n",
       "  <th>Model:</th>                   <td>OLS</td>       <th>  Adj. R-squared:    </th> <td>   0.896</td>\n",
       "</tr>\n",
       "<tr>\n",
       "  <th>Method:</th>             <td>Least Squares</td>  <th>  F-statistic:       </th> <td>   859.6</td>\n",
       "</tr>\n",
       "<tr>\n",
       "  <th>Date:</th>             <td>Mon, 01 Sep 2025</td> <th>  Prob (F-statistic):</th> <td>4.83e-98</td>\n",
       "</tr>\n",
       "<tr>\n",
       "  <th>Time:</th>                 <td>17:49:37</td>     <th>  Log-Likelihood:    </th> <td> -422.66</td>\n",
       "</tr>\n",
       "<tr>\n",
       "  <th>No. Observations:</th>      <td>   200</td>      <th>  AIC:               </th> <td>   851.3</td>\n",
       "</tr>\n",
       "<tr>\n",
       "  <th>Df Residuals:</th>          <td>   197</td>      <th>  BIC:               </th> <td>   861.2</td>\n",
       "</tr>\n",
       "<tr>\n",
       "  <th>Df Model:</th>              <td>     2</td>      <th>                     </th>     <td> </td>   \n",
       "</tr>\n",
       "<tr>\n",
       "  <th>Covariance Type:</th>      <td>nonrobust</td>    <th>                     </th>     <td> </td>   \n",
       "</tr>\n",
       "</table>\n",
       "<table class=\"simpletable\">\n",
       "<tr>\n",
       "      <td></td>         <th>coef</th>     <th>std err</th>      <th>t</th>      <th>P>|t|</th>  <th>[0.025</th>    <th>0.975]</th>  \n",
       "</tr>\n",
       "<tr>\n",
       "  <th>Intercept</th> <td>    3.5053</td> <td>    0.353</td> <td>    9.919</td> <td> 0.000</td> <td>    2.808</td> <td>    4.202</td>\n",
       "</tr>\n",
       "<tr>\n",
       "  <th>youtube</th>   <td>    0.0458</td> <td>    0.001</td> <td>   32.909</td> <td> 0.000</td> <td>    0.043</td> <td>    0.048</td>\n",
       "</tr>\n",
       "<tr>\n",
       "  <th>facebook</th>  <td>    0.1880</td> <td>    0.008</td> <td>   23.382</td> <td> 0.000</td> <td>    0.172</td> <td>    0.204</td>\n",
       "</tr>\n",
       "</table>\n",
       "<table class=\"simpletable\">\n",
       "<tr>\n",
       "  <th>Omnibus:</th>       <td>60.022</td> <th>  Durbin-Watson:     </th> <td>   2.081</td>\n",
       "</tr>\n",
       "<tr>\n",
       "  <th>Prob(Omnibus):</th> <td> 0.000</td> <th>  Jarque-Bera (JB):  </th> <td> 148.679</td>\n",
       "</tr>\n",
       "<tr>\n",
       "  <th>Skew:</th>          <td>-1.323</td> <th>  Prob(JB):          </th> <td>5.19e-33</td>\n",
       "</tr>\n",
       "<tr>\n",
       "  <th>Kurtosis:</th>      <td> 6.292</td> <th>  Cond. No.          </th> <td>    510.</td>\n",
       "</tr>\n",
       "</table><br/><br/>Notes:<br/>[1] Standard Errors assume that the covariance matrix of the errors is correctly specified."
      ],
      "text/latex": [
       "\\begin{center}\n",
       "\\begin{tabular}{lclc}\n",
       "\\toprule\n",
       "\\textbf{Dep. Variable:}    &      sales       & \\textbf{  R-squared:         } &     0.897   \\\\\n",
       "\\textbf{Model:}            &       OLS        & \\textbf{  Adj. R-squared:    } &     0.896   \\\\\n",
       "\\textbf{Method:}           &  Least Squares   & \\textbf{  F-statistic:       } &     859.6   \\\\\n",
       "\\textbf{Date:}             & Mon, 01 Sep 2025 & \\textbf{  Prob (F-statistic):} &  4.83e-98   \\\\\n",
       "\\textbf{Time:}             &     17:49:37     & \\textbf{  Log-Likelihood:    } &   -422.66   \\\\\n",
       "\\textbf{No. Observations:} &         200      & \\textbf{  AIC:               } &     851.3   \\\\\n",
       "\\textbf{Df Residuals:}     &         197      & \\textbf{  BIC:               } &     861.2   \\\\\n",
       "\\textbf{Df Model:}         &           2      & \\textbf{                     } &             \\\\\n",
       "\\textbf{Covariance Type:}  &    nonrobust     & \\textbf{                     } &             \\\\\n",
       "\\bottomrule\n",
       "\\end{tabular}\n",
       "\\begin{tabular}{lcccccc}\n",
       "                   & \\textbf{coef} & \\textbf{std err} & \\textbf{t} & \\textbf{P$> |$t$|$} & \\textbf{[0.025} & \\textbf{0.975]}  \\\\\n",
       "\\midrule\n",
       "\\textbf{Intercept} &       3.5053  &        0.353     &     9.919  &         0.000        &        2.808    &        4.202     \\\\\n",
       "\\textbf{youtube}   &       0.0458  &        0.001     &    32.909  &         0.000        &        0.043    &        0.048     \\\\\n",
       "\\textbf{facebook}  &       0.1880  &        0.008     &    23.382  &         0.000        &        0.172    &        0.204     \\\\\n",
       "\\bottomrule\n",
       "\\end{tabular}\n",
       "\\begin{tabular}{lclc}\n",
       "\\textbf{Omnibus:}       & 60.022 & \\textbf{  Durbin-Watson:     } &    2.081  \\\\\n",
       "\\textbf{Prob(Omnibus):} &  0.000 & \\textbf{  Jarque-Bera (JB):  } &  148.679  \\\\\n",
       "\\textbf{Skew:}          & -1.323 & \\textbf{  Prob(JB):          } & 5.19e-33  \\\\\n",
       "\\textbf{Kurtosis:}      &  6.292 & \\textbf{  Cond. No.          } &     510.  \\\\\n",
       "\\bottomrule\n",
       "\\end{tabular}\n",
       "%\\caption{OLS Regression Results}\n",
       "\\end{center}\n",
       "\n",
       "Notes: \\newline\n",
       " [1] Standard Errors assume that the covariance matrix of the errors is correctly specified."
      ],
      "text/plain": [
       "<class 'statsmodels.iolib.summary.Summary'>\n",
       "\"\"\"\n",
       "                            OLS Regression Results                            \n",
       "==============================================================================\n",
       "Dep. Variable:                  sales   R-squared:                       0.897\n",
       "Model:                            OLS   Adj. R-squared:                  0.896\n",
       "Method:                 Least Squares   F-statistic:                     859.6\n",
       "Date:                Mon, 01 Sep 2025   Prob (F-statistic):           4.83e-98\n",
       "Time:                        17:49:37   Log-Likelihood:                -422.66\n",
       "No. Observations:                 200   AIC:                             851.3\n",
       "Df Residuals:                     197   BIC:                             861.2\n",
       "Df Model:                           2                                         \n",
       "Covariance Type:            nonrobust                                         \n",
       "==============================================================================\n",
       "                 coef    std err          t      P>|t|      [0.025      0.975]\n",
       "------------------------------------------------------------------------------\n",
       "Intercept      3.5053      0.353      9.919      0.000       2.808       4.202\n",
       "youtube        0.0458      0.001     32.909      0.000       0.043       0.048\n",
       "facebook       0.1880      0.008     23.382      0.000       0.172       0.204\n",
       "==============================================================================\n",
       "Omnibus:                       60.022   Durbin-Watson:                   2.081\n",
       "Prob(Omnibus):                  0.000   Jarque-Bera (JB):              148.679\n",
       "Skew:                          -1.323   Prob(JB):                     5.19e-33\n",
       "Kurtosis:                       6.292   Cond. No.                         510.\n",
       "==============================================================================\n",
       "\n",
       "Notes:\n",
       "[1] Standard Errors assume that the covariance matrix of the errors is correctly specified.\n",
       "\"\"\""
      ]
     },
     "execution_count": 96,
     "metadata": {},
     "output_type": "execute_result"
    }
   ],
   "source": [
    "LinearModel_Subset = smf.ols(f\"{TargetLabel} ~ youtube + facebook\",DatasetMarketing).fit()\n",
    "LinearModel_Subset.summary()"
   ]
  }
 ],
 "metadata": {
  "kernelspec": {
   "display_name": "data_science",
   "language": "python",
   "name": "python3"
  },
  "language_info": {
   "codemirror_mode": {
    "name": "ipython",
    "version": 3
   },
   "file_extension": ".py",
   "mimetype": "text/x-python",
   "name": "python",
   "nbconvert_exporter": "python",
   "pygments_lexer": "ipython3",
   "version": "3.13.3"
  }
 },
 "nbformat": 4,
 "nbformat_minor": 5
}

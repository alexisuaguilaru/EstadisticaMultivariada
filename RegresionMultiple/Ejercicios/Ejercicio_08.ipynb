{
 "cells": [
  {
   "cell_type": "markdown",
   "id": "72033b59",
   "metadata": {},
   "source": [
    "# 2.9.4.1 Ejercicios\n",
    "\n",
    "**Ejercicio 1**: Para los datos de rendimiento de gasolina. Aplica los tres métodos vistos de selección de modelos. Compara los resultados y especifica cual sería el mejor modelo con cuales estadísticas."
   ]
  },
  {
   "cell_type": "markdown",
   "id": "b9fedcd4",
   "metadata": {},
   "source": [
    "## 0. Importar "
   ]
  },
  {
   "cell_type": "code",
   "execution_count": 8,
   "id": "f6097483",
   "metadata": {
    "vscode": {
     "languageId": "r"
    }
   },
   "outputs": [],
   "source": [
    "library(olsrr)"
   ]
  },
  {
   "cell_type": "code",
   "execution_count": null,
   "id": "d9fe217f",
   "metadata": {
    "vscode": {
     "languageId": "r"
    }
   },
   "outputs": [
    {
     "data": {
      "text/html": [
       "<table class=\"dataframe\">\n",
       "<caption>A data.frame: 6 × 12</caption>\n",
       "<thead>\n",
       "\t<tr><th></th><th scope=col>y</th><th scope=col>x1</th><th scope=col>x2</th><th scope=col>x3</th><th scope=col>x4</th><th scope=col>x5</th><th scope=col>x6</th><th scope=col>x7</th><th scope=col>x8</th><th scope=col>x9</th><th scope=col>x10</th><th scope=col>x11</th></tr>\n",
       "\t<tr><th></th><th scope=col>&lt;dbl&gt;</th><th scope=col>&lt;dbl&gt;</th><th scope=col>&lt;int&gt;</th><th scope=col>&lt;int&gt;</th><th scope=col>&lt;dbl&gt;</th><th scope=col>&lt;dbl&gt;</th><th scope=col>&lt;int&gt;</th><th scope=col>&lt;int&gt;</th><th scope=col>&lt;dbl&gt;</th><th scope=col>&lt;dbl&gt;</th><th scope=col>&lt;int&gt;</th><th scope=col>&lt;int&gt;</th></tr>\n",
       "</thead>\n",
       "<tbody>\n",
       "\t<tr><th scope=row>1</th><td>18.90</td><td>350</td><td>165</td><td>260</td><td>8.00</td><td>2.56</td><td>4</td><td>3</td><td>200.3</td><td>69.9</td><td>3910</td><td>1</td></tr>\n",
       "\t<tr><th scope=row>2</th><td>17.00</td><td>350</td><td>170</td><td>275</td><td>8.50</td><td>2.56</td><td>4</td><td>3</td><td>199.6</td><td>72.9</td><td>3860</td><td>1</td></tr>\n",
       "\t<tr><th scope=row>3</th><td>20.00</td><td>250</td><td>105</td><td>185</td><td>8.25</td><td>2.73</td><td>1</td><td>3</td><td>196.7</td><td>72.2</td><td>3510</td><td>1</td></tr>\n",
       "\t<tr><th scope=row>4</th><td>18.25</td><td>351</td><td>143</td><td>255</td><td>8.00</td><td>3.00</td><td>2</td><td>3</td><td>199.9</td><td>74.0</td><td>3890</td><td>1</td></tr>\n",
       "\t<tr><th scope=row>5</th><td>20.07</td><td>225</td><td> 95</td><td>170</td><td>8.40</td><td>2.76</td><td>1</td><td>3</td><td>194.1</td><td>71.8</td><td>3365</td><td>0</td></tr>\n",
       "\t<tr><th scope=row>6</th><td>11.20</td><td>440</td><td>215</td><td>330</td><td>8.20</td><td>2.88</td><td>4</td><td>3</td><td>184.5</td><td>69.0</td><td>4215</td><td>1</td></tr>\n",
       "</tbody>\n",
       "</table>\n"
      ],
      "text/latex": [
       "A data.frame: 6 × 12\n",
       "\\begin{tabular}{r|llllllllllll}\n",
       "  & y & x1 & x2 & x3 & x4 & x5 & x6 & x7 & x8 & x9 & x10 & x11\\\\\n",
       "  & <dbl> & <dbl> & <int> & <int> & <dbl> & <dbl> & <int> & <int> & <dbl> & <dbl> & <int> & <int>\\\\\n",
       "\\hline\n",
       "\t1 & 18.90 & 350 & 165 & 260 & 8.00 & 2.56 & 4 & 3 & 200.3 & 69.9 & 3910 & 1\\\\\n",
       "\t2 & 17.00 & 350 & 170 & 275 & 8.50 & 2.56 & 4 & 3 & 199.6 & 72.9 & 3860 & 1\\\\\n",
       "\t3 & 20.00 & 250 & 105 & 185 & 8.25 & 2.73 & 1 & 3 & 196.7 & 72.2 & 3510 & 1\\\\\n",
       "\t4 & 18.25 & 351 & 143 & 255 & 8.00 & 3.00 & 2 & 3 & 199.9 & 74.0 & 3890 & 1\\\\\n",
       "\t5 & 20.07 & 225 &  95 & 170 & 8.40 & 2.76 & 1 & 3 & 194.1 & 71.8 & 3365 & 0\\\\\n",
       "\t6 & 11.20 & 440 & 215 & 330 & 8.20 & 2.88 & 4 & 3 & 184.5 & 69.0 & 4215 & 1\\\\\n",
       "\\end{tabular}\n"
      ],
      "text/markdown": [
       "\n",
       "A data.frame: 6 × 12\n",
       "\n",
       "| <!--/--> | y &lt;dbl&gt; | x1 &lt;dbl&gt; | x2 &lt;int&gt; | x3 &lt;int&gt; | x4 &lt;dbl&gt; | x5 &lt;dbl&gt; | x6 &lt;int&gt; | x7 &lt;int&gt; | x8 &lt;dbl&gt; | x9 &lt;dbl&gt; | x10 &lt;int&gt; | x11 &lt;int&gt; |\n",
       "|---|---|---|---|---|---|---|---|---|---|---|---|---|\n",
       "| 1 | 18.90 | 350 | 165 | 260 | 8.00 | 2.56 | 4 | 3 | 200.3 | 69.9 | 3910 | 1 |\n",
       "| 2 | 17.00 | 350 | 170 | 275 | 8.50 | 2.56 | 4 | 3 | 199.6 | 72.9 | 3860 | 1 |\n",
       "| 3 | 20.00 | 250 | 105 | 185 | 8.25 | 2.73 | 1 | 3 | 196.7 | 72.2 | 3510 | 1 |\n",
       "| 4 | 18.25 | 351 | 143 | 255 | 8.00 | 3.00 | 2 | 3 | 199.9 | 74.0 | 3890 | 1 |\n",
       "| 5 | 20.07 | 225 |  95 | 170 | 8.40 | 2.76 | 1 | 3 | 194.1 | 71.8 | 3365 | 0 |\n",
       "| 6 | 11.20 | 440 | 215 | 330 | 8.20 | 2.88 | 4 | 3 | 184.5 | 69.0 | 4215 | 1 |\n",
       "\n"
      ],
      "text/plain": [
       "  y     x1  x2  x3  x4   x5   x6 x7 x8    x9   x10  x11\n",
       "1 18.90 350 165 260 8.00 2.56 4  3  200.3 69.9 3910 1  \n",
       "2 17.00 350 170 275 8.50 2.56 4  3  199.6 72.9 3860 1  \n",
       "3 20.00 250 105 185 8.25 2.73 1  3  196.7 72.2 3510 1  \n",
       "4 18.25 351 143 255 8.00 3.00 2  3  199.9 74.0 3890 1  \n",
       "5 20.07 225  95 170 8.40 2.76 1  3  194.1 71.8 3365 0  \n",
       "6 11.20 440 215 330 8.20 2.88 4  3  184.5 69.0 4215 1  "
      ]
     },
     "metadata": {},
     "output_type": "display_data"
    }
   ],
   "source": [
    "DatasetGasolina <- read.csv('./Rendimiento_de_gasolina.csv')\n",
    "head(DatasetGasolina)"
   ]
  },
  {
   "cell_type": "code",
   "execution_count": 6,
   "id": "a5f1ad30",
   "metadata": {
    "vscode": {
     "languageId": "r"
    }
   },
   "outputs": [],
   "source": [
    "LinearModel_Completo <- lm(y ~ ., DatasetGasolina)"
   ]
  },
  {
   "cell_type": "markdown",
   "id": "2674e145",
   "metadata": {},
   "source": [
    "## 1. Modelo por Selección hacia Adelante"
   ]
  },
  {
   "cell_type": "code",
   "execution_count": null,
   "id": "653e51fe",
   "metadata": {
    "vscode": {
     "languageId": "r"
    }
   },
   "outputs": [
    {
     "name": "stdout",
     "output_type": "stream",
     "text": [
      "Forward Selection Method \n",
      "------------------------\n",
      "\n",
      "Candidate Terms: \n",
      "\n",
      "1. x1 \n",
      "2. x2 \n",
      "3. x3 \n",
      "4. x4 \n",
      "5. x5 \n",
      "6. x6 \n",
      "7. x7 \n",
      "8. x8 \n",
      "9. x9 \n",
      "10. x10 \n",
      "11. x11 \n",
      "\n",
      "\n",
      "Variables Entered: \n",
      "\n",
      "=> x1 \n",
      "=> x4 \n",
      "\n",
      "No more variables to be added.\n"
     ]
    }
   ],
   "source": [
    "LinearModel_Forward <- ols_step_forward_aic(\n",
    "    LinearModel_Completo,\n",
    "    progress = TRUE,\n",
    ")"
   ]
  },
  {
   "cell_type": "code",
   "execution_count": 15,
   "id": "fa0791c3",
   "metadata": {
    "vscode": {
     "languageId": "r"
    }
   },
   "outputs": [
    {
     "data": {
      "text/plain": [
       "\n",
       "\n",
       "                             Stepwise Summary                              \n",
       "-------------------------------------------------------------------------\n",
       "Step    Variable        AIC        SBC       SBIC        R2       Adj. R2 \n",
       "-------------------------------------------------------------------------\n",
       " 0      Base Model    198.240    201.043    110.599    0.00000    0.00000 \n",
       " 1      x1            157.342    161.545     72.746    0.76068    0.75213 \n",
       " 2      x4            157.225    162.830     73.360    0.77698    0.76046 \n",
       "-------------------------------------------------------------------------\n",
       "\n",
       "Final Model Output \n",
       "------------------\n",
       "\n",
       "                         Model Summary                          \n",
       "---------------------------------------------------------------\n",
       "R                       0.881       RMSE                 2.910 \n",
       "R-Squared               0.777       MSE                  8.468 \n",
       "Adj. R-Squared          0.760       Coef. Var           15.308 \n",
       "Pred R-Squared          0.715       AIC                157.225 \n",
       "MAE                     2.281       SBC                162.830 \n",
       "---------------------------------------------------------------\n",
       " RMSE: Root Mean Square Error \n",
       " MSE: Mean Square Error \n",
       " MAE: Mean Absolute Error \n",
       " AIC: Akaike Information Criteria \n",
       " SBC: Schwarz Bayesian Criteria \n",
       "\n",
       "                               ANOVA                                 \n",
       "--------------------------------------------------------------------\n",
       "                Sum of                                              \n",
       "               Squares        DF    Mean Square      F         Sig. \n",
       "--------------------------------------------------------------------\n",
       "Regression     885.067         2        442.533    47.034    0.0000 \n",
       "Residual       254.038        27          9.409                     \n",
       "Total         1139.105        29                                    \n",
       "--------------------------------------------------------------------\n",
       "\n",
       "                                   Parameter Estimates                                    \n",
       "-----------------------------------------------------------------------------------------\n",
       "      model      Beta    Std. Error    Std. Beta      t        Sig       lower     upper \n",
       "-----------------------------------------------------------------------------------------\n",
       "(Intercept)     7.179        18.788                  0.382    0.705    -31.370    45.729 \n",
       "         x1    -0.044         0.005       -0.825    -8.513    0.000     -0.055    -0.034 \n",
       "         x4     3.077         2.190        0.136     1.405    0.171     -1.417     7.571 \n",
       "-----------------------------------------------------------------------------------------\n"
      ]
     },
     "metadata": {},
     "output_type": "display_data"
    }
   ],
   "source": [
    "LinearModel_Forward"
   ]
  },
  {
   "cell_type": "markdown",
   "id": "5da82603",
   "metadata": {},
   "source": [
    "## 2. Modelo por Selección hacia Atrás"
   ]
  },
  {
   "cell_type": "code",
   "execution_count": 30,
   "id": "79c0bcb7",
   "metadata": {
    "vscode": {
     "languageId": "r"
    }
   },
   "outputs": [
    {
     "name": "stdout",
     "output_type": "stream",
     "text": [
      "Backward Elimination Method \n",
      "---------------------------\n",
      "\n",
      "Candidate Terms: \n",
      "\n",
      "1. x1 \n",
      "2. x2 \n",
      "3. x3 \n",
      "4. x4 \n",
      "5. x5 \n",
      "6. x6 \n",
      "7. x7 \n",
      "8. x8 \n",
      "9. x9 \n",
      "10. x10 \n",
      "11. x11 \n",
      "\n",
      "\n",
      "Variables Removed: \n",
      "\n",
      "=> x11 \n",
      "=> x6 \n",
      "=> x4 \n",
      "=> x2 \n",
      "=> x7 \n",
      "=> x3 \n",
      "=> x1 \n",
      "=> x9 \n",
      "\n",
      "No more variables to be removed.\n"
     ]
    }
   ],
   "source": [
    "LinearModel_Backward <- ols_step_backward_aic(\n",
    "    LinearModel_Completo,\n",
    "    progress = TRUE,\n",
    ")"
   ]
  },
  {
   "cell_type": "code",
   "execution_count": 31,
   "id": "8838a321",
   "metadata": {
    "vscode": {
     "languageId": "r"
    }
   },
   "outputs": [
    {
     "data": {
      "text/plain": [
       "\n",
       "\n",
       "                             Stepwise Summary                             \n",
       "------------------------------------------------------------------------\n",
       "Step    Variable        AIC        SBC       SBIC       R2       Adj. R2 \n",
       "------------------------------------------------------------------------\n",
       " 0      Full Model    166.098    184.313    96.073    0.83548    0.73495 \n",
       " 1      x11           164.172    180.987    91.102    0.83508    0.74827 \n",
       " 2      x6            162.258    177.671    86.621    0.83461    0.76018 \n",
       " 3      x4            160.802    174.814    83.013    0.83158    0.76741 \n",
       " 4      x2            160.442    173.053    80.860    0.82211    0.76551 \n",
       " 5      x7            159.952    171.161    78.891    0.81293    0.76413 \n",
       " 6      x3            158.630    168.438    76.369    0.80866    0.76879 \n",
       " 7      x1            156.735    165.142    73.519    0.80798    0.77726 \n",
       " 8      x9            155.426    162.432    71.473    0.80351    0.78084 \n",
       "------------------------------------------------------------------------\n",
       "\n",
       "Final Model Output \n",
       "------------------\n",
       "\n",
       "                         Model Summary                          \n",
       "---------------------------------------------------------------\n",
       "R                       0.896       RMSE                 2.731 \n",
       "R-Squared               0.804       MSE                  7.461 \n",
       "Adj. R-Squared          0.781       Coef. Var           14.642 \n",
       "Pred R-Squared          0.736       AIC                155.426 \n",
       "MAE                     2.337       SBC                162.432 \n",
       "---------------------------------------------------------------\n",
       " RMSE: Root Mean Square Error \n",
       " MSE: Mean Square Error \n",
       " MAE: Mean Absolute Error \n",
       " AIC: Akaike Information Criteria \n",
       " SBC: Schwarz Bayesian Criteria \n",
       "\n",
       "                               ANOVA                                 \n",
       "--------------------------------------------------------------------\n",
       "                Sum of                                              \n",
       "               Squares        DF    Mean Square      F         Sig. \n",
       "--------------------------------------------------------------------\n",
       "Regression     915.281         3        305.094     35.44    0.0000 \n",
       "Residual       223.824        26          8.609                     \n",
       "Total         1139.105        29                                    \n",
       "--------------------------------------------------------------------\n",
       "\n",
       "                                   Parameter Estimates                                    \n",
       "-----------------------------------------------------------------------------------------\n",
       "      model      Beta    Std. Error    Std. Beta      t        Sig       lower     upper \n",
       "-----------------------------------------------------------------------------------------\n",
       "(Intercept)     4.590        11.772                  0.390    0.700    -19.607    28.788 \n",
       "         x5     2.597         1.265        0.219     2.054    0.050     -0.002     5.197 \n",
       "         x8     0.218         0.088        0.731     2.480    0.020      0.037     0.398 \n",
       "        x10    -0.009         0.002       -1.424    -4.757    0.000     -0.014    -0.005 \n",
       "-----------------------------------------------------------------------------------------\n"
      ]
     },
     "metadata": {},
     "output_type": "display_data"
    }
   ],
   "source": [
    "LinearModel_Backward"
   ]
  },
  {
   "cell_type": "markdown",
   "id": "6e1e9a43",
   "metadata": {},
   "source": [
    "## 3. Modelo por Selección por Pasos"
   ]
  },
  {
   "cell_type": "code",
   "execution_count": 21,
   "id": "8a3208ae",
   "metadata": {
    "vscode": {
     "languageId": "r"
    }
   },
   "outputs": [
    {
     "name": "stdout",
     "output_type": "stream",
     "text": [
      "Stepwise Selection Method \n",
      "-------------------------\n",
      "\n",
      "Candidate Terms: \n",
      "\n",
      "1. x1 \n",
      "2. x2 \n",
      "3. x3 \n",
      "4. x4 \n",
      "5. x5 \n",
      "6. x6 \n",
      "7. x7 \n",
      "8. x8 \n",
      "9. x9 \n",
      "10. x10 \n",
      "11. x11 \n",
      "\n",
      "\n",
      "Variables Added/Removed: \n",
      "\n",
      "=> x1 added \n",
      "=> x4 added \n",
      "\n",
      "No more variables to be added or removed.\n"
     ]
    }
   ],
   "source": [
    "LinearModel_Stepwise <- ols_step_both_aic(\n",
    "    LinearModel_Completo,\n",
    "    progress = TRUE,\n",
    ")"
   ]
  },
  {
   "cell_type": "code",
   "execution_count": 22,
   "id": "d90f3809",
   "metadata": {
    "vscode": {
     "languageId": "r"
    }
   },
   "outputs": [
    {
     "data": {
      "text/plain": [
       "\n",
       "\n",
       "                             Stepwise Summary                              \n",
       "-------------------------------------------------------------------------\n",
       "Step    Variable        AIC        SBC       SBIC        R2       Adj. R2 \n",
       "-------------------------------------------------------------------------\n",
       " 0      Base Model    198.240    201.043    110.599    0.00000    0.00000 \n",
       " 1      x1 (+)        157.342    161.545     72.746    0.76068    0.75213 \n",
       " 2      x4 (+)        157.225    162.830     73.360    0.77698    0.76046 \n",
       "-------------------------------------------------------------------------\n",
       "\n",
       "Final Model Output \n",
       "------------------\n",
       "\n",
       "                         Model Summary                          \n",
       "---------------------------------------------------------------\n",
       "R                       0.881       RMSE                 2.910 \n",
       "R-Squared               0.777       MSE                  8.468 \n",
       "Adj. R-Squared          0.760       Coef. Var           15.308 \n",
       "Pred R-Squared          0.715       AIC                157.225 \n",
       "MAE                     2.281       SBC                162.830 \n",
       "---------------------------------------------------------------\n",
       " RMSE: Root Mean Square Error \n",
       " MSE: Mean Square Error \n",
       " MAE: Mean Absolute Error \n",
       " AIC: Akaike Information Criteria \n",
       " SBC: Schwarz Bayesian Criteria \n",
       "\n",
       "                               ANOVA                                 \n",
       "--------------------------------------------------------------------\n",
       "                Sum of                                              \n",
       "               Squares        DF    Mean Square      F         Sig. \n",
       "--------------------------------------------------------------------\n",
       "Regression     885.067         2        442.533    47.034    0.0000 \n",
       "Residual       254.038        27          9.409                     \n",
       "Total         1139.105        29                                    \n",
       "--------------------------------------------------------------------\n",
       "\n",
       "                                   Parameter Estimates                                    \n",
       "-----------------------------------------------------------------------------------------\n",
       "      model      Beta    Std. Error    Std. Beta      t        Sig       lower     upper \n",
       "-----------------------------------------------------------------------------------------\n",
       "(Intercept)     7.179        18.788                  0.382    0.705    -31.370    45.729 \n",
       "         x1    -0.044         0.005       -0.825    -8.513    0.000     -0.055    -0.034 \n",
       "         x4     3.077         2.190        0.136     1.405    0.171     -1.417     7.571 \n",
       "-----------------------------------------------------------------------------------------\n"
      ]
     },
     "metadata": {},
     "output_type": "display_data"
    }
   ],
   "source": [
    "LinearModel_Stepwise"
   ]
  },
  {
   "cell_type": "markdown",
   "id": "dcb13d92",
   "metadata": {},
   "source": [
    "## 4. Conclusiones"
   ]
  },
  {
   "cell_type": "markdown",
   "id": "cd7968d8",
   "metadata": {
    "vscode": {
     "languageId": "r"
    }
   },
   "source": [
    "Se hace uso de la métrica Criterio de información de Akaike (AIC) para escoger los mejores modelos dentro de cada método o proceso. De la selección hacia adelante y por pasos se generan el mismo modelo, mientras que la selección hacia atrás se deriva otro; ambos modelos usan diferentes variables por lo que se obtuvieron resultados totalmente diferentes. Por lo que ambos modelos emplean diferentes aspectos de un vehículo para determinar cómo impactan en el rendimiento de la gasolina.\n",
    "\n",
    "Al aplicar una ANOVA sobre los modelos resultantes se tiene que no existe una diferencia significativa en los mismos. Pero al considerar sus métricas $R^2_{adj}$ se tiene que el modelo derivado de la selección hacia atrás tiene un mejor comportamiento aunque sea más complejo (una variable más); y a esto se le puede sumar que todos los coeficientes del modelo son significativos y que aportan para predecir los valores.\n",
    "\n",
    "Con ello, la selección última se encuentra en emplear el modelo derivado de la selección hacia atrás, el cual emplea las variables `Relación de eje trasero`(x5), `Longitud total (pulgadas)`(x8) y `Tipo de transmisión`(x10)"
   ]
  },
  {
   "cell_type": "code",
   "execution_count": 40,
   "id": "cc9ccc70",
   "metadata": {
    "vscode": {
     "languageId": "r"
    }
   },
   "outputs": [
    {
     "data": {
      "text/plain": [
       "\n",
       "Call:\n",
       "lm(formula = paste(response, \"~\", paste(preds, collapse = \" + \")), \n",
       "    data = l)\n",
       "\n",
       "Coefficients:\n",
       "(Intercept)           x5           x8          x10  \n",
       "   4.590404     2.597240     0.217814    -0.009485  \n"
      ]
     },
     "metadata": {},
     "output_type": "display_data"
    }
   ],
   "source": [
    "LinearModel_Backward$model"
   ]
  },
  {
   "cell_type": "code",
   "execution_count": 33,
   "id": "3d521564",
   "metadata": {
    "vscode": {
     "languageId": "r"
    }
   },
   "outputs": [
    {
     "data": {
      "text/html": [
       "<table class=\"dataframe\">\n",
       "<caption>A anova: 2 × 6</caption>\n",
       "<thead>\n",
       "\t<tr><th></th><th scope=col>Res.Df</th><th scope=col>RSS</th><th scope=col>Df</th><th scope=col>Sum of Sq</th><th scope=col>F</th><th scope=col>Pr(&gt;F)</th></tr>\n",
       "\t<tr><th></th><th scope=col>&lt;dbl&gt;</th><th scope=col>&lt;dbl&gt;</th><th scope=col>&lt;dbl&gt;</th><th scope=col>&lt;dbl&gt;</th><th scope=col>&lt;dbl&gt;</th><th scope=col>&lt;dbl&gt;</th></tr>\n",
       "</thead>\n",
       "<tbody>\n",
       "\t<tr><th scope=row>1</th><td>27</td><td>254.0381</td><td>NA</td><td>      NA</td><td>      NA</td><td>        NA</td></tr>\n",
       "\t<tr><th scope=row>2</th><td>26</td><td>223.8241</td><td> 1</td><td>30.21406</td><td>3.509746</td><td>0.07229184</td></tr>\n",
       "</tbody>\n",
       "</table>\n"
      ],
      "text/latex": [
       "A anova: 2 × 6\n",
       "\\begin{tabular}{r|llllll}\n",
       "  & Res.Df & RSS & Df & Sum of Sq & F & Pr(>F)\\\\\n",
       "  & <dbl> & <dbl> & <dbl> & <dbl> & <dbl> & <dbl>\\\\\n",
       "\\hline\n",
       "\t1 & 27 & 254.0381 & NA &       NA &       NA &         NA\\\\\n",
       "\t2 & 26 & 223.8241 &  1 & 30.21406 & 3.509746 & 0.07229184\\\\\n",
       "\\end{tabular}\n"
      ],
      "text/markdown": [
       "\n",
       "A anova: 2 × 6\n",
       "\n",
       "| <!--/--> | Res.Df &lt;dbl&gt; | RSS &lt;dbl&gt; | Df &lt;dbl&gt; | Sum of Sq &lt;dbl&gt; | F &lt;dbl&gt; | Pr(&gt;F) &lt;dbl&gt; |\n",
       "|---|---|---|---|---|---|---|\n",
       "| 1 | 27 | 254.0381 | NA |       NA |       NA |         NA |\n",
       "| 2 | 26 | 223.8241 |  1 | 30.21406 | 3.509746 | 0.07229184 |\n",
       "\n"
      ],
      "text/plain": [
       "  Res.Df RSS      Df Sum of Sq F        Pr(>F)    \n",
       "1 27     254.0381 NA       NA        NA         NA\n",
       "2 26     223.8241  1 30.21406  3.509746 0.07229184"
      ]
     },
     "metadata": {},
     "output_type": "display_data"
    }
   ],
   "source": [
    "anova(LinearModel_Forward$model,LinearModel_Backward$model)"
   ]
  },
  {
   "cell_type": "code",
   "execution_count": 34,
   "id": "a94308d2",
   "metadata": {
    "vscode": {
     "languageId": "r"
    }
   },
   "outputs": [
    {
     "data": {
      "text/plain": [
       "\n",
       "Call:\n",
       "lm(formula = paste(response, \"~\", paste(preds, collapse = \" + \")), \n",
       "    data = l)\n",
       "\n",
       "Residuals:\n",
       "    Min      1Q  Median      3Q     Max \n",
       "-6.5011 -2.1243 -0.3884  1.9964  6.9582 \n",
       "\n",
       "Coefficients:\n",
       "             Estimate Std. Error t value Pr(>|t|)    \n",
       "(Intercept)  7.179421  18.787955   0.382    0.705    \n",
       "x1          -0.044479   0.005225  -8.513 3.98e-09 ***\n",
       "x4           3.077228   2.190294   1.405    0.171    \n",
       "---\n",
       "Signif. codes:  0 '***' 0.001 '**' 0.01 '*' 0.05 '.' 0.1 ' ' 1\n",
       "\n",
       "Residual standard error: 3.067 on 27 degrees of freedom\n",
       "Multiple R-squared:  0.777,\tAdjusted R-squared:  0.7605 \n",
       "F-statistic: 47.03 on 2 and 27 DF,  p-value: 1.594e-09\n"
      ]
     },
     "metadata": {},
     "output_type": "display_data"
    }
   ],
   "source": [
    "summary(LinearModel_Forward$model)"
   ]
  },
  {
   "cell_type": "code",
   "execution_count": 36,
   "id": "b86f194a",
   "metadata": {
    "vscode": {
     "languageId": "r"
    }
   },
   "outputs": [
    {
     "data": {
      "text/html": [
       "<table class=\"dataframe\">\n",
       "<caption>A anova: 3 × 5</caption>\n",
       "<thead>\n",
       "\t<tr><th></th><th scope=col>Df</th><th scope=col>Sum Sq</th><th scope=col>Mean Sq</th><th scope=col>F value</th><th scope=col>Pr(&gt;F)</th></tr>\n",
       "\t<tr><th></th><th scope=col>&lt;int&gt;</th><th scope=col>&lt;dbl&gt;</th><th scope=col>&lt;dbl&gt;</th><th scope=col>&lt;dbl&gt;</th><th scope=col>&lt;dbl&gt;</th></tr>\n",
       "</thead>\n",
       "<tbody>\n",
       "\t<tr><th scope=row>x1</th><td> 1</td><td>866.49528</td><td>866.495280</td><td>92.093943</td><td>3.409377e-10</td></tr>\n",
       "\t<tr><th scope=row>x4</th><td> 1</td><td> 18.57161</td><td> 18.571612</td><td> 1.973851</td><td>1.714410e-01</td></tr>\n",
       "\t<tr><th scope=row>Residuals</th><td>27</td><td>254.03812</td><td>  9.408819</td><td>       NA</td><td>          NA</td></tr>\n",
       "</tbody>\n",
       "</table>\n"
      ],
      "text/latex": [
       "A anova: 3 × 5\n",
       "\\begin{tabular}{r|lllll}\n",
       "  & Df & Sum Sq & Mean Sq & F value & Pr(>F)\\\\\n",
       "  & <int> & <dbl> & <dbl> & <dbl> & <dbl>\\\\\n",
       "\\hline\n",
       "\tx1 &  1 & 866.49528 & 866.495280 & 92.093943 & 3.409377e-10\\\\\n",
       "\tx4 &  1 &  18.57161 &  18.571612 &  1.973851 & 1.714410e-01\\\\\n",
       "\tResiduals & 27 & 254.03812 &   9.408819 &        NA &           NA\\\\\n",
       "\\end{tabular}\n"
      ],
      "text/markdown": [
       "\n",
       "A anova: 3 × 5\n",
       "\n",
       "| <!--/--> | Df &lt;int&gt; | Sum Sq &lt;dbl&gt; | Mean Sq &lt;dbl&gt; | F value &lt;dbl&gt; | Pr(&gt;F) &lt;dbl&gt; |\n",
       "|---|---|---|---|---|---|\n",
       "| x1 |  1 | 866.49528 | 866.495280 | 92.093943 | 3.409377e-10 |\n",
       "| x4 |  1 |  18.57161 |  18.571612 |  1.973851 | 1.714410e-01 |\n",
       "| Residuals | 27 | 254.03812 |   9.408819 |        NA |           NA |\n",
       "\n"
      ],
      "text/plain": [
       "          Df Sum Sq    Mean Sq    F value   Pr(>F)      \n",
       "x1         1 866.49528 866.495280 92.093943 3.409377e-10\n",
       "x4         1  18.57161  18.571612  1.973851 1.714410e-01\n",
       "Residuals 27 254.03812   9.408819        NA           NA"
      ]
     },
     "metadata": {},
     "output_type": "display_data"
    }
   ],
   "source": [
    "anova(LinearModel_Forward$model)"
   ]
  },
  {
   "cell_type": "code",
   "execution_count": 35,
   "id": "a18a695f",
   "metadata": {
    "vscode": {
     "languageId": "r"
    }
   },
   "outputs": [
    {
     "data": {
      "text/plain": [
       "\n",
       "Call:\n",
       "lm(formula = paste(response, \"~\", paste(preds, collapse = \" + \")), \n",
       "    data = l)\n",
       "\n",
       "Residuals:\n",
       "    Min      1Q  Median      3Q     Max \n",
       "-4.6101 -1.9868 -0.6613  2.0369  5.8811 \n",
       "\n",
       "Coefficients:\n",
       "             Estimate Std. Error t value Pr(>|t|)    \n",
       "(Intercept)  4.590404  11.771925   0.390   0.6998    \n",
       "x5           2.597240   1.264562   2.054   0.0502 .  \n",
       "x8           0.217814   0.087817   2.480   0.0199 *  \n",
       "x10         -0.009485   0.001994  -4.757 6.38e-05 ***\n",
       "---\n",
       "Signif. codes:  0 '***' 0.001 '**' 0.01 '*' 0.05 '.' 0.1 ' ' 1\n",
       "\n",
       "Residual standard error: 2.934 on 26 degrees of freedom\n",
       "Multiple R-squared:  0.8035,\tAdjusted R-squared:  0.7808 \n",
       "F-statistic: 35.44 on 3 and 26 DF,  p-value: 2.462e-09\n"
      ]
     },
     "metadata": {},
     "output_type": "display_data"
    }
   ],
   "source": [
    "summary(LinearModel_Backward$model)"
   ]
  },
  {
   "cell_type": "code",
   "execution_count": 37,
   "id": "fd51e5d5",
   "metadata": {
    "vscode": {
     "languageId": "r"
    }
   },
   "outputs": [
    {
     "data": {
      "text/html": [
       "<table class=\"dataframe\">\n",
       "<caption>A anova: 4 × 5</caption>\n",
       "<thead>\n",
       "\t<tr><th></th><th scope=col>Df</th><th scope=col>Sum Sq</th><th scope=col>Mean Sq</th><th scope=col>F value</th><th scope=col>Pr(&gt;F)</th></tr>\n",
       "\t<tr><th></th><th scope=col>&lt;int&gt;</th><th scope=col>&lt;dbl&gt;</th><th scope=col>&lt;dbl&gt;</th><th scope=col>&lt;dbl&gt;</th><th scope=col>&lt;dbl&gt;</th></tr>\n",
       "</thead>\n",
       "<tbody>\n",
       "\t<tr><th scope=row>x5</th><td> 1</td><td>458.9540</td><td>458.954012</td><td>53.31332</td><td>9.384385e-08</td></tr>\n",
       "\t<tr><th scope=row>x8</th><td> 1</td><td>261.4887</td><td>261.488679</td><td>30.37522</td><td>8.762389e-06</td></tr>\n",
       "\t<tr><th scope=row>x10</th><td> 1</td><td>194.8383</td><td>194.838262</td><td>22.63293</td><td>6.376107e-05</td></tr>\n",
       "\t<tr><th scope=row>Residuals</th><td>26</td><td>223.8241</td><td>  8.608618</td><td>      NA</td><td>          NA</td></tr>\n",
       "</tbody>\n",
       "</table>\n"
      ],
      "text/latex": [
       "A anova: 4 × 5\n",
       "\\begin{tabular}{r|lllll}\n",
       "  & Df & Sum Sq & Mean Sq & F value & Pr(>F)\\\\\n",
       "  & <int> & <dbl> & <dbl> & <dbl> & <dbl>\\\\\n",
       "\\hline\n",
       "\tx5 &  1 & 458.9540 & 458.954012 & 53.31332 & 9.384385e-08\\\\\n",
       "\tx8 &  1 & 261.4887 & 261.488679 & 30.37522 & 8.762389e-06\\\\\n",
       "\tx10 &  1 & 194.8383 & 194.838262 & 22.63293 & 6.376107e-05\\\\\n",
       "\tResiduals & 26 & 223.8241 &   8.608618 &       NA &           NA\\\\\n",
       "\\end{tabular}\n"
      ],
      "text/markdown": [
       "\n",
       "A anova: 4 × 5\n",
       "\n",
       "| <!--/--> | Df &lt;int&gt; | Sum Sq &lt;dbl&gt; | Mean Sq &lt;dbl&gt; | F value &lt;dbl&gt; | Pr(&gt;F) &lt;dbl&gt; |\n",
       "|---|---|---|---|---|---|\n",
       "| x5 |  1 | 458.9540 | 458.954012 | 53.31332 | 9.384385e-08 |\n",
       "| x8 |  1 | 261.4887 | 261.488679 | 30.37522 | 8.762389e-06 |\n",
       "| x10 |  1 | 194.8383 | 194.838262 | 22.63293 | 6.376107e-05 |\n",
       "| Residuals | 26 | 223.8241 |   8.608618 |       NA |           NA |\n",
       "\n"
      ],
      "text/plain": [
       "          Df Sum Sq   Mean Sq    F value  Pr(>F)      \n",
       "x5         1 458.9540 458.954012 53.31332 9.384385e-08\n",
       "x8         1 261.4887 261.488679 30.37522 8.762389e-06\n",
       "x10        1 194.8383 194.838262 22.63293 6.376107e-05\n",
       "Residuals 26 223.8241   8.608618       NA           NA"
      ]
     },
     "metadata": {},
     "output_type": "display_data"
    }
   ],
   "source": [
    "anova(LinearModel_Backward$model)"
   ]
  }
 ],
 "metadata": {
  "kernelspec": {
   "display_name": "R",
   "language": "R",
   "name": "ir"
  },
  "language_info": {
   "codemirror_mode": "r",
   "file_extension": ".r",
   "mimetype": "text/x-r-source",
   "name": "R",
   "pygments_lexer": "r",
   "version": "4.4.2"
  }
 },
 "nbformat": 4,
 "nbformat_minor": 5
}
